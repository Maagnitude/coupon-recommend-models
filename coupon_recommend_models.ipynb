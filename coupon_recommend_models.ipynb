{
  "nbformat": 4,
  "nbformat_minor": 0,
  "metadata": {
    "colab": {
      "provenance": [],
      "include_colab_link": true
    },
    "kernelspec": {
      "name": "python3",
      "display_name": "Python 3"
    },
    "language_info": {
      "name": "python"
    }
  },
  "cells": [
    {
      "cell_type": "markdown",
      "metadata": {
        "id": "view-in-github",
        "colab_type": "text"
      },
      "source": [
        "<a href=\"https://colab.research.google.com/github/Maagnitude/coupon-recommend-models/blob/main/coupon_recommend_models.ipynb\" target=\"_parent\"><img src=\"https://colab.research.google.com/assets/colab-badge.svg\" alt=\"Open In Colab\"/></a>"
      ]
    },
    {
      "cell_type": "markdown",
      "source": [
        "# **Βασική Εργασία** στο μάθημα **Εξόρυξη Δεδομένων**\n",
        "\n",
        "# **Τμήμα Πληροφορικής και Τηλεματικής - Χαροκόπειο Πανεπιστήμιο**\n",
        "\n",
        "## **Χαρίτος Δημήτριος -------------------- it21395**\n",
        "## **Καζάζης Γεώργιος --------------------- it214124**\n",
        "## **Ζαρρή Σωτηρία Νικολίτσα ------------ it219141**\n",
        "\n",
        "Στην παρούσα εργασία θα αναπτύξουμε **μοντέλα κατηγοριοποίησης**, για να εξετάσουμε το πρόβλημα του συστήματος **κουπονιών**. Δηλαδή το σε ποιους πιθανούς πελάτες, πρέπει να προσφέρουμε κάποιο κουπόνι, το οποίο πάντα ήταν ένα μεγάλο πρόβλημα, και με τεχνικές **Μηχανικής Μάθησης** θα προσπαθήσουμε να δημιουργήσουμε ένα καλύτερο σύστημα συστάσεων κουπονιών.\n",
        "\n",
        "Ύστερα θα αναπτύξουμε **μοντέλα συσταδοποίησης**, για να εξετάσουμε και την πλευρά των μοντέλων χωρίς επίβλεψη (**unsupervised**), στην αντιμετώπιση του παρόντος προβλήματος.\n",
        "\n",
        "**Αρχίζοντας...**"
      ],
      "metadata": {
        "id": "MWbLXA6Ir6aS"
      }
    },
    {
      "cell_type": "markdown",
      "source": [
        "# **Βιβλιοθήκες**\n",
        "Κάνουμε import τα απαραίτητα **modules**. \n",
        "*  Την **pandas** και την **numpy** για την διαχείριση των δεδομένων μας.\n",
        "\n",
        "*  Την **matplotlib.pyplot** και την **seaborn** για την οπτικοποίηση των δεδομένων μας. **Ιστογράμματα**, **heatmaps** κλπ.\n",
        "\n",
        "*  Την **missingno** για να οπτικοποιήσουμε την πληρότητα των εγγραφών (τυχόν **ελλιπείς τιμές**).\n",
        "\n",
        "*  Από την **sklearn** κάνουμε import:\n",
        "      *   Την **linear_model** για ανάπτυξη και εκπαίδευση ενός **Logistic Regression model**.\n",
        "      *   Την **model_selection**  για την μέθοδο **train_test_split**.\n",
        "      *   Την **SimpleImputer** για την συμπλήρωση **ελλιπών τιμών**.\n",
        "      *   Την **KNeighborsClassifier** για ανάπτυξη **KNN** μοντέλου.\n",
        "      *   Την **SVC** για ανάπτυξη **SVM** μοντέλου.\n",
        "      *   Την **DecisionTreeClassifier** για ανάπτυξη **Decision Tree** μοντέλου.\n",
        "      *   Την **RandomForestClassifier** για ανάπτυξη **Random Forest** μοντέλου.\n",
        "      *   Την **GaussianNB** για ανάπτυξη **Naive Bayes** μοντέλου.\n",
        "      *   Το **accuracy_score** από τα metrics, για την μετρική του **accuracy**.\n",
        "*  Την **tensorflow**, και από αυτήν το keras, και τα layers, για ανάπτυξη Νευρωνικού Δικτύου.\n",
        "*  Τα **warnings** για να τα φιλτράρουμε, ώστε να μην εμφανίζονται.\n"
      ],
      "metadata": {
        "id": "cmmB3RPcD19l"
      }
    },
    {
      "cell_type": "code",
      "source": [
        "import numpy as np\n",
        "import pandas as pd\n",
        "import matplotlib.pyplot as plt\n",
        "import seaborn as sns\n",
        "import missingno as msno\n",
        "\n",
        "from sklearn.impute import SimpleImputer\n",
        "from sklearn import model_selection\n",
        "from sklearn.model_selection import train_test_split\n",
        "from sklearn import linear_model\n",
        "from sklearn.neighbors import KNeighborsClassifier\n",
        "from sklearn.svm import SVC\n",
        "from sklearn.tree import DecisionTreeClassifier\n",
        "from sklearn.ensemble import RandomForestClassifier\n",
        "from sklearn.naive_bayes import GaussianNB\n",
        "from sklearn.metrics import accuracy_score\n",
        "import tensorflow as tf\n",
        "from tensorflow import keras\n",
        "from keras import layers\n",
        "\n",
        "import warnings\n",
        "warnings.filterwarnings(action='ignore')"
      ],
      "metadata": {
        "id": "YCVeUiXa15ei"
      },
      "execution_count": 1,
      "outputs": []
    },
    {
      "cell_type": "markdown",
      "source": [
        "# **A) EDA - Preprocessing / Προετοιμασία**\n",
        "Το **πρώτο μέρος** αφορά την **προετοιμασία** των δεδομένων, από την **φόρτωση** τους, μέχρι τον **καθαρισμό** τους (το **πέταμα** όσων δεν χρειάζονται, την **συμπλήρωση** των τιμών **null** κτλ.), και το **χώρισμα** τους σε **train-test sets**. Επίσης θα υπάρξουν επεξηγηματικά **plots**, όπου χρειάζεται."
      ],
      "metadata": {
        "id": "UPSx2VrWg3f4"
      }
    },
    {
      "cell_type": "markdown",
      "source": [
        "## **Φόρτωση του dataset από το csv αρχείο**\n",
        "Περνάμε το **url** του dataset στην μεταβλητή df με την χρήση της μεθόδου **read_csv**, και εκτυπώνουμε τις 5 πρώτες γραμμές για να δούμε ότι έγιναν όλα σωστά.\n",
        "\n",
        "Το **url** είναι του **raw dataset** απ το repository μου στο **github**."
      ],
      "metadata": {
        "id": "I7fJrlGvyLH9"
      }
    },
    {
      "cell_type": "code",
      "source": [
        "url = \"https://raw.githubusercontent.com/Maagnitude/coupon_recommend_models/main/in-vehicle-coupon-recommendation.csv\"\n",
        "df = pd.read_csv(url)\n",
        "df.head()"
      ],
      "metadata": {
        "colab": {
          "base_uri": "https://localhost:8080/",
          "height": 0
        },
        "id": "bRtCP29VFZDj",
        "outputId": "3a612041-6cd7-4d21-8d4c-8c0650f19291"
      },
      "execution_count": 2,
      "outputs": [
        {
          "output_type": "execute_result",
          "data": {
            "text/plain": [
              "       destination  passanger weather  temperature  time  \\\n",
              "0  No Urgent Place      Alone   Sunny           55   2PM   \n",
              "1  No Urgent Place  Friend(s)   Sunny           80  10AM   \n",
              "2  No Urgent Place  Friend(s)   Sunny           80  10AM   \n",
              "3  No Urgent Place  Friend(s)   Sunny           80   2PM   \n",
              "4  No Urgent Place  Friend(s)   Sunny           80   2PM   \n",
              "\n",
              "                  coupon expiration  gender age      maritalStatus  ...  \\\n",
              "0        Restaurant(<20)         1d  Female  21  Unmarried partner  ...   \n",
              "1           Coffee House         2h  Female  21  Unmarried partner  ...   \n",
              "2  Carry out & Take away         2h  Female  21  Unmarried partner  ...   \n",
              "3           Coffee House         2h  Female  21  Unmarried partner  ...   \n",
              "4           Coffee House         1d  Female  21  Unmarried partner  ...   \n",
              "\n",
              "   CoffeeHouse CarryAway RestaurantLessThan20 Restaurant20To50  \\\n",
              "0        never       NaN                  4~8              1~3   \n",
              "1        never       NaN                  4~8              1~3   \n",
              "2        never       NaN                  4~8              1~3   \n",
              "3        never       NaN                  4~8              1~3   \n",
              "4        never       NaN                  4~8              1~3   \n",
              "\n",
              "  toCoupon_GEQ5min toCoupon_GEQ15min toCoupon_GEQ25min direction_same  \\\n",
              "0                1                 0                 0              0   \n",
              "1                1                 0                 0              0   \n",
              "2                1                 1                 0              0   \n",
              "3                1                 1                 0              0   \n",
              "4                1                 1                 0              0   \n",
              "\n",
              "  direction_opp  Y  \n",
              "0             1  1  \n",
              "1             1  0  \n",
              "2             1  1  \n",
              "3             1  0  \n",
              "4             1  0  \n",
              "\n",
              "[5 rows x 26 columns]"
            ],
            "text/html": [
              "\n",
              "  <div id=\"df-62de8aa6-05e5-4ab4-a535-ed4a32c35502\">\n",
              "    <div class=\"colab-df-container\">\n",
              "      <div>\n",
              "<style scoped>\n",
              "    .dataframe tbody tr th:only-of-type {\n",
              "        vertical-align: middle;\n",
              "    }\n",
              "\n",
              "    .dataframe tbody tr th {\n",
              "        vertical-align: top;\n",
              "    }\n",
              "\n",
              "    .dataframe thead th {\n",
              "        text-align: right;\n",
              "    }\n",
              "</style>\n",
              "<table border=\"1\" class=\"dataframe\">\n",
              "  <thead>\n",
              "    <tr style=\"text-align: right;\">\n",
              "      <th></th>\n",
              "      <th>destination</th>\n",
              "      <th>passanger</th>\n",
              "      <th>weather</th>\n",
              "      <th>temperature</th>\n",
              "      <th>time</th>\n",
              "      <th>coupon</th>\n",
              "      <th>expiration</th>\n",
              "      <th>gender</th>\n",
              "      <th>age</th>\n",
              "      <th>maritalStatus</th>\n",
              "      <th>...</th>\n",
              "      <th>CoffeeHouse</th>\n",
              "      <th>CarryAway</th>\n",
              "      <th>RestaurantLessThan20</th>\n",
              "      <th>Restaurant20To50</th>\n",
              "      <th>toCoupon_GEQ5min</th>\n",
              "      <th>toCoupon_GEQ15min</th>\n",
              "      <th>toCoupon_GEQ25min</th>\n",
              "      <th>direction_same</th>\n",
              "      <th>direction_opp</th>\n",
              "      <th>Y</th>\n",
              "    </tr>\n",
              "  </thead>\n",
              "  <tbody>\n",
              "    <tr>\n",
              "      <th>0</th>\n",
              "      <td>No Urgent Place</td>\n",
              "      <td>Alone</td>\n",
              "      <td>Sunny</td>\n",
              "      <td>55</td>\n",
              "      <td>2PM</td>\n",
              "      <td>Restaurant(&lt;20)</td>\n",
              "      <td>1d</td>\n",
              "      <td>Female</td>\n",
              "      <td>21</td>\n",
              "      <td>Unmarried partner</td>\n",
              "      <td>...</td>\n",
              "      <td>never</td>\n",
              "      <td>NaN</td>\n",
              "      <td>4~8</td>\n",
              "      <td>1~3</td>\n",
              "      <td>1</td>\n",
              "      <td>0</td>\n",
              "      <td>0</td>\n",
              "      <td>0</td>\n",
              "      <td>1</td>\n",
              "      <td>1</td>\n",
              "    </tr>\n",
              "    <tr>\n",
              "      <th>1</th>\n",
              "      <td>No Urgent Place</td>\n",
              "      <td>Friend(s)</td>\n",
              "      <td>Sunny</td>\n",
              "      <td>80</td>\n",
              "      <td>10AM</td>\n",
              "      <td>Coffee House</td>\n",
              "      <td>2h</td>\n",
              "      <td>Female</td>\n",
              "      <td>21</td>\n",
              "      <td>Unmarried partner</td>\n",
              "      <td>...</td>\n",
              "      <td>never</td>\n",
              "      <td>NaN</td>\n",
              "      <td>4~8</td>\n",
              "      <td>1~3</td>\n",
              "      <td>1</td>\n",
              "      <td>0</td>\n",
              "      <td>0</td>\n",
              "      <td>0</td>\n",
              "      <td>1</td>\n",
              "      <td>0</td>\n",
              "    </tr>\n",
              "    <tr>\n",
              "      <th>2</th>\n",
              "      <td>No Urgent Place</td>\n",
              "      <td>Friend(s)</td>\n",
              "      <td>Sunny</td>\n",
              "      <td>80</td>\n",
              "      <td>10AM</td>\n",
              "      <td>Carry out &amp; Take away</td>\n",
              "      <td>2h</td>\n",
              "      <td>Female</td>\n",
              "      <td>21</td>\n",
              "      <td>Unmarried partner</td>\n",
              "      <td>...</td>\n",
              "      <td>never</td>\n",
              "      <td>NaN</td>\n",
              "      <td>4~8</td>\n",
              "      <td>1~3</td>\n",
              "      <td>1</td>\n",
              "      <td>1</td>\n",
              "      <td>0</td>\n",
              "      <td>0</td>\n",
              "      <td>1</td>\n",
              "      <td>1</td>\n",
              "    </tr>\n",
              "    <tr>\n",
              "      <th>3</th>\n",
              "      <td>No Urgent Place</td>\n",
              "      <td>Friend(s)</td>\n",
              "      <td>Sunny</td>\n",
              "      <td>80</td>\n",
              "      <td>2PM</td>\n",
              "      <td>Coffee House</td>\n",
              "      <td>2h</td>\n",
              "      <td>Female</td>\n",
              "      <td>21</td>\n",
              "      <td>Unmarried partner</td>\n",
              "      <td>...</td>\n",
              "      <td>never</td>\n",
              "      <td>NaN</td>\n",
              "      <td>4~8</td>\n",
              "      <td>1~3</td>\n",
              "      <td>1</td>\n",
              "      <td>1</td>\n",
              "      <td>0</td>\n",
              "      <td>0</td>\n",
              "      <td>1</td>\n",
              "      <td>0</td>\n",
              "    </tr>\n",
              "    <tr>\n",
              "      <th>4</th>\n",
              "      <td>No Urgent Place</td>\n",
              "      <td>Friend(s)</td>\n",
              "      <td>Sunny</td>\n",
              "      <td>80</td>\n",
              "      <td>2PM</td>\n",
              "      <td>Coffee House</td>\n",
              "      <td>1d</td>\n",
              "      <td>Female</td>\n",
              "      <td>21</td>\n",
              "      <td>Unmarried partner</td>\n",
              "      <td>...</td>\n",
              "      <td>never</td>\n",
              "      <td>NaN</td>\n",
              "      <td>4~8</td>\n",
              "      <td>1~3</td>\n",
              "      <td>1</td>\n",
              "      <td>1</td>\n",
              "      <td>0</td>\n",
              "      <td>0</td>\n",
              "      <td>1</td>\n",
              "      <td>0</td>\n",
              "    </tr>\n",
              "  </tbody>\n",
              "</table>\n",
              "<p>5 rows × 26 columns</p>\n",
              "</div>\n",
              "      <button class=\"colab-df-convert\" onclick=\"convertToInteractive('df-62de8aa6-05e5-4ab4-a535-ed4a32c35502')\"\n",
              "              title=\"Convert this dataframe to an interactive table.\"\n",
              "              style=\"display:none;\">\n",
              "        \n",
              "  <svg xmlns=\"http://www.w3.org/2000/svg\" height=\"24px\"viewBox=\"0 0 24 24\"\n",
              "       width=\"24px\">\n",
              "    <path d=\"M0 0h24v24H0V0z\" fill=\"none\"/>\n",
              "    <path d=\"M18.56 5.44l.94 2.06.94-2.06 2.06-.94-2.06-.94-.94-2.06-.94 2.06-2.06.94zm-11 1L8.5 8.5l.94-2.06 2.06-.94-2.06-.94L8.5 2.5l-.94 2.06-2.06.94zm10 10l.94 2.06.94-2.06 2.06-.94-2.06-.94-.94-2.06-.94 2.06-2.06.94z\"/><path d=\"M17.41 7.96l-1.37-1.37c-.4-.4-.92-.59-1.43-.59-.52 0-1.04.2-1.43.59L10.3 9.45l-7.72 7.72c-.78.78-.78 2.05 0 2.83L4 21.41c.39.39.9.59 1.41.59.51 0 1.02-.2 1.41-.59l7.78-7.78 2.81-2.81c.8-.78.8-2.07 0-2.86zM5.41 20L4 18.59l7.72-7.72 1.47 1.35L5.41 20z\"/>\n",
              "  </svg>\n",
              "      </button>\n",
              "      \n",
              "  <style>\n",
              "    .colab-df-container {\n",
              "      display:flex;\n",
              "      flex-wrap:wrap;\n",
              "      gap: 12px;\n",
              "    }\n",
              "\n",
              "    .colab-df-convert {\n",
              "      background-color: #E8F0FE;\n",
              "      border: none;\n",
              "      border-radius: 50%;\n",
              "      cursor: pointer;\n",
              "      display: none;\n",
              "      fill: #1967D2;\n",
              "      height: 32px;\n",
              "      padding: 0 0 0 0;\n",
              "      width: 32px;\n",
              "    }\n",
              "\n",
              "    .colab-df-convert:hover {\n",
              "      background-color: #E2EBFA;\n",
              "      box-shadow: 0px 1px 2px rgba(60, 64, 67, 0.3), 0px 1px 3px 1px rgba(60, 64, 67, 0.15);\n",
              "      fill: #174EA6;\n",
              "    }\n",
              "\n",
              "    [theme=dark] .colab-df-convert {\n",
              "      background-color: #3B4455;\n",
              "      fill: #D2E3FC;\n",
              "    }\n",
              "\n",
              "    [theme=dark] .colab-df-convert:hover {\n",
              "      background-color: #434B5C;\n",
              "      box-shadow: 0px 1px 3px 1px rgba(0, 0, 0, 0.15);\n",
              "      filter: drop-shadow(0px 1px 2px rgba(0, 0, 0, 0.3));\n",
              "      fill: #FFFFFF;\n",
              "    }\n",
              "  </style>\n",
              "\n",
              "      <script>\n",
              "        const buttonEl =\n",
              "          document.querySelector('#df-62de8aa6-05e5-4ab4-a535-ed4a32c35502 button.colab-df-convert');\n",
              "        buttonEl.style.display =\n",
              "          google.colab.kernel.accessAllowed ? 'block' : 'none';\n",
              "\n",
              "        async function convertToInteractive(key) {\n",
              "          const element = document.querySelector('#df-62de8aa6-05e5-4ab4-a535-ed4a32c35502');\n",
              "          const dataTable =\n",
              "            await google.colab.kernel.invokeFunction('convertToInteractive',\n",
              "                                                     [key], {});\n",
              "          if (!dataTable) return;\n",
              "\n",
              "          const docLinkHtml = 'Like what you see? Visit the ' +\n",
              "            '<a target=\"_blank\" href=https://colab.research.google.com/notebooks/data_table.ipynb>data table notebook</a>'\n",
              "            + ' to learn more about interactive tables.';\n",
              "          element.innerHTML = '';\n",
              "          dataTable['output_type'] = 'display_data';\n",
              "          await google.colab.output.renderOutput(dataTable, element);\n",
              "          const docLink = document.createElement('div');\n",
              "          docLink.innerHTML = docLinkHtml;\n",
              "          element.appendChild(docLink);\n",
              "        }\n",
              "      </script>\n",
              "    </div>\n",
              "  </div>\n",
              "  "
            ]
          },
          "metadata": {},
          "execution_count": 2
        }
      ]
    },
    {
      "cell_type": "markdown",
      "source": [
        "## **Άλλος τρόπος φόρτωσης (Drive mount)**"
      ],
      "metadata": {
        "id": "XeL4bNKNObCH"
      }
    },
    {
      "cell_type": "code",
      "execution_count": 3,
      "metadata": {
        "id": "jJVvOQcSxYl-"
      },
      "outputs": [],
      "source": [
        "# from google.colab import files\n",
        "# uploaded = files.upload()\n",
        "# from google.colab import drive\n",
        "# drive.mount('/content/drive/')\n",
        "# df = pd.read_csv('/content/drive/MyDrive/Colab Notebooks/in-vehicle-coupon-recommendation.csv')"
      ]
    },
    {
      "cell_type": "markdown",
      "source": [
        "## **Σχήμα του Dataframe**. \n",
        "\n",
        "Έχουμε ένα **dataframe** σχήματος **12684 x 26**.\n",
        "\n",
        "**12684 εγγραφές** (δείγματα) και **25 χαρακτηριστικά** (features) συν **1 label** (Y)"
      ],
      "metadata": {
        "id": "w6TMUFBFsU49"
      }
    },
    {
      "cell_type": "code",
      "source": [
        "df.shape"
      ],
      "metadata": {
        "id": "FgBQilenmDEh",
        "outputId": "e554c480-d546-4372-aa2b-598f819f6abf",
        "colab": {
          "base_uri": "https://localhost:8080/"
        }
      },
      "execution_count": 4,
      "outputs": [
        {
          "output_type": "execute_result",
          "data": {
            "text/plain": [
              "(12684, 26)"
            ]
          },
          "metadata": {},
          "execution_count": 4
        }
      ]
    },
    {
      "cell_type": "markdown",
      "source": [
        "## **Ελλιπείς εγγραφές**\n",
        "Με την χρήση του **df.info()**, παρατηρούμε ότι υπάρχουν **ελλιπείς εγγραφές**. Το χαρακτηριστικό **car** έχει μόνο **108 τιμές** που **δεν είναι null**, από τις **12684**. Το καλύτερο εδώ είναι να **πετάξουμε** αυτό το χαρακτηριστικό μιας και δεν μας προσφέρει κάτι. Ύστερα με την χρήση του **df.isnull().sum()**, θα δούμε ακριβώς πόσες τιμές είναι **null** σε κάθε χαρακτηριστικό. Επίσης οπτικοποιούμε τις ελλιπείς εγγραφές με την χρήση της βιβλιοθήκης **missingno**."
      ],
      "metadata": {
        "id": "S8Htoh9st_H6"
      }
    },
    {
      "cell_type": "code",
      "source": [
        "df.info()"
      ],
      "metadata": {
        "colab": {
          "base_uri": "https://localhost:8080/"
        },
        "id": "iSr_KgPcm3Y6",
        "outputId": "96ff715c-ebb4-4cc2-d756-1e0231488c34"
      },
      "execution_count": 5,
      "outputs": [
        {
          "output_type": "stream",
          "name": "stdout",
          "text": [
            "<class 'pandas.core.frame.DataFrame'>\n",
            "RangeIndex: 12684 entries, 0 to 12683\n",
            "Data columns (total 26 columns):\n",
            " #   Column                Non-Null Count  Dtype \n",
            "---  ------                --------------  ----- \n",
            " 0   destination           12684 non-null  object\n",
            " 1   passanger             12684 non-null  object\n",
            " 2   weather               12684 non-null  object\n",
            " 3   temperature           12684 non-null  int64 \n",
            " 4   time                  12684 non-null  object\n",
            " 5   coupon                12684 non-null  object\n",
            " 6   expiration            12684 non-null  object\n",
            " 7   gender                12684 non-null  object\n",
            " 8   age                   12684 non-null  object\n",
            " 9   maritalStatus         12684 non-null  object\n",
            " 10  has_children          12684 non-null  int64 \n",
            " 11  education             12684 non-null  object\n",
            " 12  occupation            12684 non-null  object\n",
            " 13  income                12684 non-null  object\n",
            " 14  car                   108 non-null    object\n",
            " 15  Bar                   12577 non-null  object\n",
            " 16  CoffeeHouse           12467 non-null  object\n",
            " 17  CarryAway             12533 non-null  object\n",
            " 18  RestaurantLessThan20  12554 non-null  object\n",
            " 19  Restaurant20To50      12495 non-null  object\n",
            " 20  toCoupon_GEQ5min      12684 non-null  int64 \n",
            " 21  toCoupon_GEQ15min     12684 non-null  int64 \n",
            " 22  toCoupon_GEQ25min     12684 non-null  int64 \n",
            " 23  direction_same        12684 non-null  int64 \n",
            " 24  direction_opp         12684 non-null  int64 \n",
            " 25  Y                     12684 non-null  int64 \n",
            "dtypes: int64(8), object(18)\n",
            "memory usage: 2.5+ MB\n"
          ]
        }
      ]
    },
    {
      "cell_type": "code",
      "source": [
        "df.isnull().sum()"
      ],
      "metadata": {
        "colab": {
          "base_uri": "https://localhost:8080/"
        },
        "id": "7b_ulWK714zD",
        "outputId": "93a0b594-972c-4482-dc58-bc93a4e3c1cb"
      },
      "execution_count": 6,
      "outputs": [
        {
          "output_type": "execute_result",
          "data": {
            "text/plain": [
              "destination                 0\n",
              "passanger                   0\n",
              "weather                     0\n",
              "temperature                 0\n",
              "time                        0\n",
              "coupon                      0\n",
              "expiration                  0\n",
              "gender                      0\n",
              "age                         0\n",
              "maritalStatus               0\n",
              "has_children                0\n",
              "education                   0\n",
              "occupation                  0\n",
              "income                      0\n",
              "car                     12576\n",
              "Bar                       107\n",
              "CoffeeHouse               217\n",
              "CarryAway                 151\n",
              "RestaurantLessThan20      130\n",
              "Restaurant20To50          189\n",
              "toCoupon_GEQ5min            0\n",
              "toCoupon_GEQ15min           0\n",
              "toCoupon_GEQ25min           0\n",
              "direction_same              0\n",
              "direction_opp               0\n",
              "Y                           0\n",
              "dtype: int64"
            ]
          },
          "metadata": {},
          "execution_count": 6
        }
      ]
    },
    {
      "cell_type": "code",
      "source": [
        "null_plot = msno.bar(df, color=\"#7600BC\")"
      ],
      "metadata": {
        "colab": {
          "base_uri": "https://localhost:8080/",
          "height": 0
        },
        "id": "w06oqMMmNf6B",
        "outputId": "bb8fc1e4-b341-4301-990b-27325cd18715"
      },
      "execution_count": 7,
      "outputs": [
        {
          "output_type": "display_data",
          "data": {
            "text/plain": [
              "<Figure size 1800x720 with 3 Axes>"
            ],
            "image/png": "[encoded data removed]"
          },
          "metadata": {
            "needs_background": "light"
          }
        }
      ]
    },
    {
      "cell_type": "code",
      "source": [
        "df= df.drop(\"car\", axis='columns')"
      ],
      "metadata": {
        "id": "gqEv23oY53qe"
      },
      "execution_count": 8,
      "outputs": []
    },
    {
      "cell_type": "markdown",
      "source": [
        "## **Imputing**\n",
        "Εδώ ελέγχουμε τον αριθμό των τιμών για κάθε κατηγορική τιμή. Φαίνεται σαν μια καλή στρατηγική για κάθε τιμή null, να την γεμίζουμε με την τιμή που εμφανίστηκε **πιο συχνά** στις υπόλοιπες εγγραφές (**impute**). \n",
        "\n",
        "Ύστερα ελέγχουμε να δούμε ότι δεν υπάρχουν καθόλου null τιμές στις εγγραφές μας με την χρήση της **df.isnull().sum()**."
      ],
      "metadata": {
        "id": "4HtrECX1wkCE"
      }
    },
    {
      "cell_type": "code",
      "source": [
        "imputer = SimpleImputer(missing_values=np.nan, strategy='most_frequent')\n",
        "df['Bar'] = imputer.fit_transform(df['Bar'].values.reshape(-1,1))[:,0]"
      ],
      "metadata": {
        "id": "roR8ldIt5_Xc"
      },
      "execution_count": 9,
      "outputs": []
    },
    {
      "cell_type": "code",
      "source": [
        "imputer = SimpleImputer(missing_values=np.nan, strategy='most_frequent')\n",
        "df['CoffeeHouse'] = imputer.fit_transform(df['CoffeeHouse'].values.reshape(-1,1))[:,0]"
      ],
      "metadata": {
        "id": "6tw2H4xV9fRF"
      },
      "execution_count": 10,
      "outputs": []
    },
    {
      "cell_type": "code",
      "source": [
        "imputer = SimpleImputer(missing_values=np.nan, strategy='most_frequent')\n",
        "df['CarryAway'] = imputer.fit_transform(df['CarryAway'].values.reshape(-1,1))[:,0]"
      ],
      "metadata": {
        "id": "BfGMlBu-9fOV"
      },
      "execution_count": 11,
      "outputs": []
    },
    {
      "cell_type": "code",
      "source": [
        "imputer = SimpleImputer(missing_values=np.nan, strategy='most_frequent')\n",
        "df['RestaurantLessThan20'] = imputer.fit_transform(df['RestaurantLessThan20'].values.reshape(-1,1))[:,0]"
      ],
      "metadata": {
        "id": "ZNUb-qL09fIX"
      },
      "execution_count": 12,
      "outputs": []
    },
    {
      "cell_type": "code",
      "source": [
        "imputer = SimpleImputer(missing_values=np.nan, strategy='most_frequent')\n",
        "df['Restaurant20To50'] = imputer.fit_transform(df['Restaurant20To50'].values.reshape(-1,1))[:,0]"
      ],
      "metadata": {
        "id": "fk9YzT0u-OZU"
      },
      "execution_count": 13,
      "outputs": []
    },
    {
      "cell_type": "code",
      "source": [
        "df.isnull().sum()"
      ],
      "metadata": {
        "colab": {
          "base_uri": "https://localhost:8080/"
        },
        "id": "-NtxcE0zxiSn",
        "outputId": "0c21edf0-4c2f-4ca3-dd2c-9457c6d194ff"
      },
      "execution_count": 14,
      "outputs": [
        {
          "output_type": "execute_result",
          "data": {
            "text/plain": [
              "destination             0\n",
              "passanger               0\n",
              "weather                 0\n",
              "temperature             0\n",
              "time                    0\n",
              "coupon                  0\n",
              "expiration              0\n",
              "gender                  0\n",
              "age                     0\n",
              "maritalStatus           0\n",
              "has_children            0\n",
              "education               0\n",
              "occupation              0\n",
              "income                  0\n",
              "Bar                     0\n",
              "CoffeeHouse             0\n",
              "CarryAway               0\n",
              "RestaurantLessThan20    0\n",
              "Restaurant20To50        0\n",
              "toCoupon_GEQ5min        0\n",
              "toCoupon_GEQ15min       0\n",
              "toCoupon_GEQ25min       0\n",
              "direction_same          0\n",
              "direction_opp           0\n",
              "Y                       0\n",
              "dtype: int64"
            ]
          },
          "metadata": {},
          "execution_count": 14
        }
      ]
    },
    {
      "cell_type": "code",
      "source": [
        "new_null_plot = msno.bar(df, color=\"#7600BC\")"
      ],
      "metadata": {
        "colab": {
          "base_uri": "https://localhost:8080/",
          "height": 0
        },
        "id": "6jfksEaJOE5D",
        "outputId": "5e90ca75-c1d5-44b4-9bbd-e6707a24c796"
      },
      "execution_count": 15,
      "outputs": [
        {
          "output_type": "display_data",
          "data": {
            "text/plain": [
              "<Figure size 1800x720 with 3 Axes>"
            ],
            "image/png": "[encoded data removed]"
          },
          "metadata": {
            "needs_background": "light"
          }
        }
      ]
    },
    {
      "cell_type": "markdown",
      "source": [
        "## **Μοναδικές τιμές**\n",
        "Ελέγχουμε τις μοναδικές (**διαφορετικές**) τιμές που μπορούν να λάβουν τα ποσοτικά χαρακτηριστικά μας, με την χρήση της **nunique()**, και παρατηρούμε ότι το χαρακτηριστικό \"**toCoupon_GEQ5min**\" παίρνει μόνο μία τιμή, οπότε δεν το χρειαζόμαστε, και θα το πετάξουμε."
      ],
      "metadata": {
        "id": "yMj75FPMKjYn"
      }
    },
    {
      "cell_type": "code",
      "source": [
        "df.select_dtypes('int64').nunique()"
      ],
      "metadata": {
        "id": "Rcbvh09i_du2",
        "colab": {
          "base_uri": "https://localhost:8080/"
        },
        "outputId": "af9a13d8-361b-4d27-e923-f3b5845bbc14"
      },
      "execution_count": 16,
      "outputs": [
        {
          "output_type": "execute_result",
          "data": {
            "text/plain": [
              "temperature          3\n",
              "has_children         2\n",
              "toCoupon_GEQ5min     1\n",
              "toCoupon_GEQ15min    2\n",
              "toCoupon_GEQ25min    2\n",
              "direction_same       2\n",
              "direction_opp        2\n",
              "Y                    2\n",
              "dtype: int64"
            ]
          },
          "metadata": {},
          "execution_count": 16
        }
      ]
    },
    {
      "cell_type": "code",
      "source": [
        "df.drop(columns=['toCoupon_GEQ5min'], inplace=True)"
      ],
      "metadata": {
        "id": "hrcGIDuPALFw"
      },
      "execution_count": 17,
      "outputs": []
    },
    {
      "cell_type": "markdown",
      "source": [
        "Επίσης τυπώνοντας τον αριθμό της κάθε τιμής που λαμβάνει το \"**direction_opp**\" και το \"**direction_same**\", παρατηρούμε ότι στον αριθμό εγγραφών που το ένα έχει **0**, το άλλο έχει **1**, και το αντίστροφο (όπως άλλωστε καταλαβαίνουμε και από την ονομασία του χαρακτηριστικού). Οπότε μας φτάνει να κρατήσουμε το ένα (**direction_same**), γιατί το άλλο είναι **άχρηστη πληροφορία**."
      ],
      "metadata": {
        "id": "v9ruAQjrLJou"
      }
    },
    {
      "cell_type": "code",
      "source": [
        "df['direction_same'].value_counts()"
      ],
      "metadata": {
        "colab": {
          "base_uri": "https://localhost:8080/"
        },
        "id": "V0IVEGG6LxpC",
        "outputId": "78fd8946-36f0-4978-bc49-4196d4259f95"
      },
      "execution_count": 18,
      "outputs": [
        {
          "output_type": "execute_result",
          "data": {
            "text/plain": [
              "0    9960\n",
              "1    2724\n",
              "Name: direction_same, dtype: int64"
            ]
          },
          "metadata": {},
          "execution_count": 18
        }
      ]
    },
    {
      "cell_type": "code",
      "source": [
        "df['direction_opp'].value_counts()"
      ],
      "metadata": {
        "colab": {
          "base_uri": "https://localhost:8080/"
        },
        "id": "CxJAI8y2Lxiy",
        "outputId": "9496230a-6920-49ac-9c42-3349c93ea381"
      },
      "execution_count": 19,
      "outputs": [
        {
          "output_type": "execute_result",
          "data": {
            "text/plain": [
              "1    9960\n",
              "0    2724\n",
              "Name: direction_opp, dtype: int64"
            ]
          },
          "metadata": {},
          "execution_count": 19
        }
      ]
    },
    {
      "cell_type": "code",
      "source": [
        "df.drop(columns=['direction_opp'], inplace=True)"
      ],
      "metadata": {
        "id": "yRbUswUda0l-"
      },
      "execution_count": 20,
      "outputs": []
    },
    {
      "cell_type": "markdown",
      "source": [
        "## **Διπλότυπες Εγγραφές**\n",
        "Έχοντας πλεον μείνει με **22 γνωρίσματα**, επόμενο βήμα είναι να πετάξουμε τις **διπλότυπες εγγραφές** (**drop duplicates**) γιατί και δεν μας προσφέρουν κάτι, και μπορεί να **υπερεκπαιδευτούν** (**overfitting**) τα μοντέλα μας. Έτσι σβήνονται **74 εγγραφές**."
      ],
      "metadata": {
        "id": "w_kuX-k_MVht"
      }
    },
    {
      "cell_type": "code",
      "source": [
        "df.shape"
      ],
      "metadata": {
        "colab": {
          "base_uri": "https://localhost:8080/"
        },
        "id": "SUhEPfU_MI2O",
        "outputId": "c26aab73-9d82-4031-99d1-289ed5a733dc"
      },
      "execution_count": 21,
      "outputs": [
        {
          "output_type": "execute_result",
          "data": {
            "text/plain": [
              "(12684, 23)"
            ]
          },
          "metadata": {},
          "execution_count": 21
        }
      ]
    },
    {
      "cell_type": "code",
      "source": [
        "df.drop_duplicates(inplace=True)\n",
        "df.shape"
      ],
      "metadata": {
        "colab": {
          "base_uri": "https://localhost:8080/"
        },
        "id": "f3Awz4By_ZB6",
        "outputId": "2b565646-a759-4859-803b-c8430b91c99c"
      },
      "execution_count": 22,
      "outputs": [
        {
          "output_type": "execute_result",
          "data": {
            "text/plain": [
              "(12610, 23)"
            ]
          },
          "metadata": {},
          "execution_count": 22
        }
      ]
    },
    {
      "cell_type": "markdown",
      "source": [
        "## **Ιστόγραμμα**\n",
        "Κάνουμε plot το ιστόγραμμα κάθε **ποσοτικού** χαρακτηριστικού ξεχωριστά (και του **label - Y**). Δεν μας βοηθάει ιδιαίτερα μιας και τα **5 από τα 6** ιστογράμματα έχουν ως τιμές τα **0 και 1**, οπότε δεν μπορεί να παρατηρηθεί κάποια ουσιαστική **κατανομή**. Μόνο το ότι το \"toCoupon_GEQ25min\" έχει πάνω από 10000 εγγραφές με την τιμή 0, και ότι στο \"temperature\" παρατηρείται **αρνητική ασυμμετρία** (περισσότερες εγγραφές να έχουν την τιμή **80**, λιγότερες την **55** και ακόμα πιο λίγες την **30**) "
      ],
      "metadata": {
        "id": "nRs5mdDZOQpk"
      }
    },
    {
      "cell_type": "code",
      "source": [
        "df_histplot = df.hist(grid=False, figsize=(10,10), color='#7600BC', zorder=2, rwidth=0.95)"
      ],
      "metadata": {
        "colab": {
          "base_uri": "https://localhost:8080/",
          "height": 0
        },
        "id": "PKwFZ2OLOZeE",
        "outputId": "b0f2000c-c556-4d80-e3ac-2e99e45abe47"
      },
      "execution_count": 23,
      "outputs": [
        {
          "output_type": "display_data",
          "data": {
            "text/plain": [
              "<Figure size 720x720 with 6 Axes>"
            ],
            "image/png": "[encoded data removed]"
          },
          "metadata": {
            "needs_background": "light"
          }
        }
      ]
    },
    {
      "cell_type": "markdown",
      "source": [
        "## **Describe**\n",
        "Παρακάτω εμφανίζουμε την στατιστική ανάλυση των ποσοτικών δεδομένων μας, με την χρήση της μεθόδου **describe()**. Το μόνο συμπέρασμα που μπορούμε να βγάλουμε εδώ είναι ότι το ~56.7% του Y είναι 1, με αποτέλεσμα να υπάρχει μία **ανισορροπία** στις κλάσεις μας (0/1), όχι ιδιαίτερα μεγάλη.\n",
        "\n",
        "Σημ: Με **Transpose (.T)** ο πίνακας είναι πιο ευκρινής."
      ],
      "metadata": {
        "id": "vVSWHUXmP4N5"
      }
    },
    {
      "cell_type": "code",
      "source": [
        "df.describe().T"
      ],
      "metadata": {
        "colab": {
          "base_uri": "https://localhost:8080/",
          "height": 0
        },
        "id": "0s6aMNINP3m2",
        "outputId": "54519c51-e285-4453-ed04-102fc2e4fa5f"
      },
      "execution_count": 24,
      "outputs": [
        {
          "output_type": "execute_result",
          "data": {
            "text/plain": [
              "                     count       mean        std   min   25%   50%   75%   max\n",
              "temperature        12610.0  63.267248  19.153386  30.0  55.0  80.0  80.0  80.0\n",
              "has_children       12610.0   0.414512   0.492657   0.0   0.0   0.0   1.0   1.0\n",
              "toCoupon_GEQ15min  12610.0   0.559794   0.496432   0.0   0.0   1.0   1.0   1.0\n",
              "toCoupon_GEQ25min  12610.0   0.116019   0.320260   0.0   0.0   0.0   0.0   1.0\n",
              "direction_same     12610.0   0.215543   0.411215   0.0   0.0   0.0   0.0   1.0\n",
              "Y                  12610.0   0.567565   0.495434   0.0   0.0   1.0   1.0   1.0"
            ],
            "text/html": [
              "\n",
              "  <div id=\"df-8c762ca6-3ec8-4e90-9575-846428d4a4dd\">\n",
              "    <div class=\"colab-df-container\">\n",
              "      <div>\n",
              "<style scoped>\n",
              "    .dataframe tbody tr th:only-of-type {\n",
              "        vertical-align: middle;\n",
              "    }\n",
              "\n",
              "    .dataframe tbody tr th {\n",
              "        vertical-align: top;\n",
              "    }\n",
              "\n",
              "    .dataframe thead th {\n",
              "        text-align: right;\n",
              "    }\n",
              "</style>\n",
              "<table border=\"1\" class=\"dataframe\">\n",
              "  <thead>\n",
              "    <tr style=\"text-align: right;\">\n",
              "      <th></th>\n",
              "      <th>count</th>\n",
              "      <th>mean</th>\n",
              "      <th>std</th>\n",
              "      <th>min</th>\n",
              "      <th>25%</th>\n",
              "      <th>50%</th>\n",
              "      <th>75%</th>\n",
              "      <th>max</th>\n",
              "    </tr>\n",
              "  </thead>\n",
              "  <tbody>\n",
              "    <tr>\n",
              "      <th>temperature</th>\n",
              "      <td>12610.0</td>\n",
              "      <td>63.267248</td>\n",
              "      <td>19.153386</td>\n",
              "      <td>30.0</td>\n",
              "      <td>55.0</td>\n",
              "      <td>80.0</td>\n",
              "      <td>80.0</td>\n",
              "      <td>80.0</td>\n",
              "    </tr>\n",
              "    <tr>\n",
              "      <th>has_children</th>\n",
              "      <td>12610.0</td>\n",
              "      <td>0.414512</td>\n",
              "      <td>0.492657</td>\n",
              "      <td>0.0</td>\n",
              "      <td>0.0</td>\n",
              "      <td>0.0</td>\n",
              "      <td>1.0</td>\n",
              "      <td>1.0</td>\n",
              "    </tr>\n",
              "    <tr>\n",
              "      <th>toCoupon_GEQ15min</th>\n",
              "      <td>12610.0</td>\n",
              "      <td>0.559794</td>\n",
              "      <td>0.496432</td>\n",
              "      <td>0.0</td>\n",
              "      <td>0.0</td>\n",
              "      <td>1.0</td>\n",
              "      <td>1.0</td>\n",
              "      <td>1.0</td>\n",
              "    </tr>\n",
              "    <tr>\n",
              "      <th>toCoupon_GEQ25min</th>\n",
              "      <td>12610.0</td>\n",
              "      <td>0.116019</td>\n",
              "      <td>0.320260</td>\n",
              "      <td>0.0</td>\n",
              "      <td>0.0</td>\n",
              "      <td>0.0</td>\n",
              "      <td>0.0</td>\n",
              "      <td>1.0</td>\n",
              "    </tr>\n",
              "    <tr>\n",
              "      <th>direction_same</th>\n",
              "      <td>12610.0</td>\n",
              "      <td>0.215543</td>\n",
              "      <td>0.411215</td>\n",
              "      <td>0.0</td>\n",
              "      <td>0.0</td>\n",
              "      <td>0.0</td>\n",
              "      <td>0.0</td>\n",
              "      <td>1.0</td>\n",
              "    </tr>\n",
              "    <tr>\n",
              "      <th>Y</th>\n",
              "      <td>12610.0</td>\n",
              "      <td>0.567565</td>\n",
              "      <td>0.495434</td>\n",
              "      <td>0.0</td>\n",
              "      <td>0.0</td>\n",
              "      <td>1.0</td>\n",
              "      <td>1.0</td>\n",
              "      <td>1.0</td>\n",
              "    </tr>\n",
              "  </tbody>\n",
              "</table>\n",
              "</div>\n",
              "      <button class=\"colab-df-convert\" onclick=\"convertToInteractive('df-8c762ca6-3ec8-4e90-9575-846428d4a4dd')\"\n",
              "              title=\"Convert this dataframe to an interactive table.\"\n",
              "              style=\"display:none;\">\n",
              "        \n",
              "  <svg xmlns=\"http://www.w3.org/2000/svg\" height=\"24px\"viewBox=\"0 0 24 24\"\n",
              "       width=\"24px\">\n",
              "    <path d=\"M0 0h24v24H0V0z\" fill=\"none\"/>\n",
              "    <path d=\"M18.56 5.44l.94 2.06.94-2.06 2.06-.94-2.06-.94-.94-2.06-.94 2.06-2.06.94zm-11 1L8.5 8.5l.94-2.06 2.06-.94-2.06-.94L8.5 2.5l-.94 2.06-2.06.94zm10 10l.94 2.06.94-2.06 2.06-.94-2.06-.94-.94-2.06-.94 2.06-2.06.94z\"/><path d=\"M17.41 7.96l-1.37-1.37c-.4-.4-.92-.59-1.43-.59-.52 0-1.04.2-1.43.59L10.3 9.45l-7.72 7.72c-.78.78-.78 2.05 0 2.83L4 21.41c.39.39.9.59 1.41.59.51 0 1.02-.2 1.41-.59l7.78-7.78 2.81-2.81c.8-.78.8-2.07 0-2.86zM5.41 20L4 18.59l7.72-7.72 1.47 1.35L5.41 20z\"/>\n",
              "  </svg>\n",
              "      </button>\n",
              "      \n",
              "  <style>\n",
              "    .colab-df-container {\n",
              "      display:flex;\n",
              "      flex-wrap:wrap;\n",
              "      gap: 12px;\n",
              "    }\n",
              "\n",
              "    .colab-df-convert {\n",
              "      background-color: #E8F0FE;\n",
              "      border: none;\n",
              "      border-radius: 50%;\n",
              "      cursor: pointer;\n",
              "      display: none;\n",
              "      fill: #1967D2;\n",
              "      height: 32px;\n",
              "      padding: 0 0 0 0;\n",
              "      width: 32px;\n",
              "    }\n",
              "\n",
              "    .colab-df-convert:hover {\n",
              "      background-color: #E2EBFA;\n",
              "      box-shadow: 0px 1px 2px rgba(60, 64, 67, 0.3), 0px 1px 3px 1px rgba(60, 64, 67, 0.15);\n",
              "      fill: #174EA6;\n",
              "    }\n",
              "\n",
              "    [theme=dark] .colab-df-convert {\n",
              "      background-color: #3B4455;\n",
              "      fill: #D2E3FC;\n",
              "    }\n",
              "\n",
              "    [theme=dark] .colab-df-convert:hover {\n",
              "      background-color: #434B5C;\n",
              "      box-shadow: 0px 1px 3px 1px rgba(0, 0, 0, 0.15);\n",
              "      filter: drop-shadow(0px 1px 2px rgba(0, 0, 0, 0.3));\n",
              "      fill: #FFFFFF;\n",
              "    }\n",
              "  </style>\n",
              "\n",
              "      <script>\n",
              "        const buttonEl =\n",
              "          document.querySelector('#df-8c762ca6-3ec8-4e90-9575-846428d4a4dd button.colab-df-convert');\n",
              "        buttonEl.style.display =\n",
              "          google.colab.kernel.accessAllowed ? 'block' : 'none';\n",
              "\n",
              "        async function convertToInteractive(key) {\n",
              "          const element = document.querySelector('#df-8c762ca6-3ec8-4e90-9575-846428d4a4dd');\n",
              "          const dataTable =\n",
              "            await google.colab.kernel.invokeFunction('convertToInteractive',\n",
              "                                                     [key], {});\n",
              "          if (!dataTable) return;\n",
              "\n",
              "          const docLinkHtml = 'Like what you see? Visit the ' +\n",
              "            '<a target=\"_blank\" href=https://colab.research.google.com/notebooks/data_table.ipynb>data table notebook</a>'\n",
              "            + ' to learn more about interactive tables.';\n",
              "          element.innerHTML = '';\n",
              "          dataTable['output_type'] = 'display_data';\n",
              "          await google.colab.output.renderOutput(dataTable, element);\n",
              "          const docLink = document.createElement('div');\n",
              "          docLink.innerHTML = docLinkHtml;\n",
              "          element.appendChild(docLink);\n",
              "        }\n",
              "      </script>\n",
              "    </div>\n",
              "  </div>\n",
              "  "
            ]
          },
          "metadata": {},
          "execution_count": 24
        }
      ]
    },
    {
      "cell_type": "markdown",
      "source": [
        "## **Ετεροσυσχέτιση**\n",
        "Με την χρήση της συνάρτησης **corr()** της βιβλιοθήκης **pandas**, ελέγχουμε την **ετεροσυσχέτιση** μεταξύ των χαρακτηριστικών. Συγκεκριμένα τυπώνουμε την συσχέτιση όλων των χαρακτηριστικών με το **label** μας - '**Y**', και παρακάτω θα οπτικοποιήσουμε τις συσχετίσεις όλων."
      ],
      "metadata": {
        "id": "_Nx77CSKRYT5"
      }
    },
    {
      "cell_type": "code",
      "source": [
        "corr = df.corr()\n",
        "corr['Y']"
      ],
      "metadata": {
        "colab": {
          "base_uri": "https://localhost:8080/"
        },
        "id": "xY1pUoW5RRj5",
        "outputId": "f2fd9395-8496-4def-9c77-52f3f57a7993"
      },
      "execution_count": 25,
      "outputs": [
        {
          "output_type": "execute_result",
          "data": {
            "text/plain": [
              "temperature          0.059393\n",
              "has_children        -0.045056\n",
              "toCoupon_GEQ15min   -0.082693\n",
              "toCoupon_GEQ25min   -0.108139\n",
              "direction_same       0.014932\n",
              "Y                    1.000000\n",
              "Name: Y, dtype: float64"
            ]
          },
          "metadata": {},
          "execution_count": 25
        }
      ]
    },
    {
      "cell_type": "markdown",
      "source": [
        "## **Heatmap**\n",
        "Εδώ οπτικοποιούμε την **ετεροσυσχέτιση** των χαρακτηριστικών. Αυτή η δισδιάστατη αναπαράσταση μας βοηθάει να καταλάβουμε πολύ πιο εύκολα την ετεροσυσχέτιση, μέσω των χρωμάτων, αλλά και των τιμών. Παρατηρούμε όπως και πιο πάνω, ότι μεγαλύτερη συσχέτιση με το **Y** έχει το **toCoupon_GEQ25min** και πιο συγκεκριμένα αρνητική συσχέτιση. (**-0.1**)\n",
        "\n",
        "Σημ: Είχαμε δει και στο ιστόγραμμα ότι αυτό το χαρακτηριστικό έχει την **τιμή 0** σε **πάνω από 10000 εγγραφές**."
      ],
      "metadata": {
        "id": "-fVcvAxYRwKN"
      }
    },
    {
      "cell_type": "code",
      "source": [
        "plt.figure(figsize=(8,6))\n",
        "heat = sns.heatmap(corr, annot=True, vmin=-1.0, cmap='PuBu')\n",
        "plt.title(\"Correlation Matrix\\n\")\n",
        "plt.show()"
      ],
      "metadata": {
        "colab": {
          "base_uri": "https://localhost:8080/",
          "height": 0
        },
        "id": "aG3H1TxoRiuB",
        "outputId": "a20f7350-a0d8-4bd0-d0bb-dd1d28d5fa63"
      },
      "execution_count": 26,
      "outputs": [
        {
          "output_type": "display_data",
          "data": {
            "text/plain": [
              "<Figure size 576x432 with 2 Axes>"
            ],
            "image/png": "[encoded data removed]"
          },
          "metadata": {
            "needs_background": "light"
          }
        }
      ]
    },
    {
      "cell_type": "markdown",
      "source": [
        "## **ONE-HOT ENCODING**"
      ],
      "metadata": {
        "id": "0vsOrhIZ-w2J"
      }
    },
    {
      "cell_type": "markdown",
      "source": [
        "Εν συνεχεία, θα μετατρέψουμε κάθε **κατηγορικό** χαρακτηριστικό σε \"**αριθμητικό**\" με την χρήση του **one-hot encoding**, δημιουργώντας τόσες στήλες όσες είναι οι διαφορετικές τιμές του χαρακτηριστικού, και δίνοντας του **1** στην στήλη της τιμής που είχε η κάθε εγγραφή, και **0** σε όλες τις υπόλοιπες. (αυτοματοποιημένη διαδικασία)\n",
        "\n",
        "**object -> uint8**"
      ],
      "metadata": {
        "id": "e53ezd9l0C6Z"
      }
    },
    {
      "cell_type": "code",
      "source": [
        "df.dtypes"
      ],
      "metadata": {
        "colab": {
          "base_uri": "https://localhost:8080/"
        },
        "id": "VbGfCMn0x0rQ",
        "outputId": "d9aedff5-7791-4104-aa4f-c9f9d03f8016"
      },
      "execution_count": 27,
      "outputs": [
        {
          "output_type": "execute_result",
          "data": {
            "text/plain": [
              "destination             object\n",
              "passanger               object\n",
              "weather                 object\n",
              "temperature              int64\n",
              "time                    object\n",
              "coupon                  object\n",
              "expiration              object\n",
              "gender                  object\n",
              "age                     object\n",
              "maritalStatus           object\n",
              "has_children             int64\n",
              "education               object\n",
              "occupation              object\n",
              "income                  object\n",
              "Bar                     object\n",
              "CoffeeHouse             object\n",
              "CarryAway               object\n",
              "RestaurantLessThan20    object\n",
              "Restaurant20To50        object\n",
              "toCoupon_GEQ15min        int64\n",
              "toCoupon_GEQ25min        int64\n",
              "direction_same           int64\n",
              "Y                        int64\n",
              "dtype: object"
            ]
          },
          "metadata": {},
          "execution_count": 27
        }
      ]
    },
    {
      "cell_type": "markdown",
      "source": [
        "Παίρνουμε όλα τα **κατηγορικά** (χωρίς τις ποσοτικά) και τα εισάγουμε στην μεταβλητή **df_categorical**. Ύστερα με την χρήση της **get_dummies** των **pandas**, εφαρμόζουμε το **one-hot encoding**. \n",
        "\n",
        "Μετά από αυτό τα χαρακτηριστικά μας, από **23**, έχουν γίνει **108** (δηλαδή 108 στήλες), και πλέον μπορούμε να εκπαιδεύσουμε τα μοντέλα μας πάνω σε αυτά."
      ],
      "metadata": {
        "id": "MkO6USYE2zsR"
      }
    },
    {
      "cell_type": "code",
      "source": [
        "df_categorical = df.select_dtypes(exclude='number')"
      ],
      "metadata": {
        "id": "iWaRXekMtn9P"
      },
      "execution_count": 28,
      "outputs": []
    },
    {
      "cell_type": "code",
      "source": [
        "df_categorical.head()"
      ],
      "metadata": {
        "colab": {
          "base_uri": "https://localhost:8080/",
          "height": 0
        },
        "id": "mtkkXiPT0K_O",
        "outputId": "d94a00c7-0d34-4bf8-8ff4-7551ca5be668"
      },
      "execution_count": 29,
      "outputs": [
        {
          "output_type": "execute_result",
          "data": {
            "text/plain": [
              "       destination  passanger weather  time                 coupon expiration  \\\n",
              "0  No Urgent Place      Alone   Sunny   2PM        Restaurant(<20)         1d   \n",
              "1  No Urgent Place  Friend(s)   Sunny  10AM           Coffee House         2h   \n",
              "2  No Urgent Place  Friend(s)   Sunny  10AM  Carry out & Take away         2h   \n",
              "3  No Urgent Place  Friend(s)   Sunny   2PM           Coffee House         2h   \n",
              "4  No Urgent Place  Friend(s)   Sunny   2PM           Coffee House         1d   \n",
              "\n",
              "   gender age      maritalStatus                 education  occupation  \\\n",
              "0  Female  21  Unmarried partner  Some college - no degree  Unemployed   \n",
              "1  Female  21  Unmarried partner  Some college - no degree  Unemployed   \n",
              "2  Female  21  Unmarried partner  Some college - no degree  Unemployed   \n",
              "3  Female  21  Unmarried partner  Some college - no degree  Unemployed   \n",
              "4  Female  21  Unmarried partner  Some college - no degree  Unemployed   \n",
              "\n",
              "            income    Bar CoffeeHouse CarryAway RestaurantLessThan20  \\\n",
              "0  $37500 - $49999  never       never       1~3                  4~8   \n",
              "1  $37500 - $49999  never       never       1~3                  4~8   \n",
              "2  $37500 - $49999  never       never       1~3                  4~8   \n",
              "3  $37500 - $49999  never       never       1~3                  4~8   \n",
              "4  $37500 - $49999  never       never       1~3                  4~8   \n",
              "\n",
              "  Restaurant20To50  \n",
              "0              1~3  \n",
              "1              1~3  \n",
              "2              1~3  \n",
              "3              1~3  \n",
              "4              1~3  "
            ],
            "text/html": [
              "\n",
              "  <div id=\"df-e952a83b-9d7c-4e28-aef9-f37e5ddaab0f\">\n",
              "    <div class=\"colab-df-container\">\n",
              "      <div>\n",
              "<style scoped>\n",
              "    .dataframe tbody tr th:only-of-type {\n",
              "        vertical-align: middle;\n",
              "    }\n",
              "\n",
              "    .dataframe tbody tr th {\n",
              "        vertical-align: top;\n",
              "    }\n",
              "\n",
              "    .dataframe thead th {\n",
              "        text-align: right;\n",
              "    }\n",
              "</style>\n",
              "<table border=\"1\" class=\"dataframe\">\n",
              "  <thead>\n",
              "    <tr style=\"text-align: right;\">\n",
              "      <th></th>\n",
              "      <th>destination</th>\n",
              "      <th>passanger</th>\n",
              "      <th>weather</th>\n",
              "      <th>time</th>\n",
              "      <th>coupon</th>\n",
              "      <th>expiration</th>\n",
              "      <th>gender</th>\n",
              "      <th>age</th>\n",
              "      <th>maritalStatus</th>\n",
              "      <th>education</th>\n",
              "      <th>occupation</th>\n",
              "      <th>income</th>\n",
              "      <th>Bar</th>\n",
              "      <th>CoffeeHouse</th>\n",
              "      <th>CarryAway</th>\n",
              "      <th>RestaurantLessThan20</th>\n",
              "      <th>Restaurant20To50</th>\n",
              "    </tr>\n",
              "  </thead>\n",
              "  <tbody>\n",
              "    <tr>\n",
              "      <th>0</th>\n",
              "      <td>No Urgent Place</td>\n",
              "      <td>Alone</td>\n",
              "      <td>Sunny</td>\n",
              "      <td>2PM</td>\n",
              "      <td>Restaurant(&lt;20)</td>\n",
              "      <td>1d</td>\n",
              "      <td>Female</td>\n",
              "      <td>21</td>\n",
              "      <td>Unmarried partner</td>\n",
              "      <td>Some college - no degree</td>\n",
              "      <td>Unemployed</td>\n",
              "      <td>$37500 - $49999</td>\n",
              "      <td>never</td>\n",
              "      <td>never</td>\n",
              "      <td>1~3</td>\n",
              "      <td>4~8</td>\n",
              "      <td>1~3</td>\n",
              "    </tr>\n",
              "    <tr>\n",
              "      <th>1</th>\n",
              "      <td>No Urgent Place</td>\n",
              "      <td>Friend(s)</td>\n",
              "      <td>Sunny</td>\n",
              "      <td>10AM</td>\n",
              "      <td>Coffee House</td>\n",
              "      <td>2h</td>\n",
              "      <td>Female</td>\n",
              "      <td>21</td>\n",
              "      <td>Unmarried partner</td>\n",
              "      <td>Some college - no degree</td>\n",
              "      <td>Unemployed</td>\n",
              "      <td>$37500 - $49999</td>\n",
              "      <td>never</td>\n",
              "      <td>never</td>\n",
              "      <td>1~3</td>\n",
              "      <td>4~8</td>\n",
              "      <td>1~3</td>\n",
              "    </tr>\n",
              "    <tr>\n",
              "      <th>2</th>\n",
              "      <td>No Urgent Place</td>\n",
              "      <td>Friend(s)</td>\n",
              "      <td>Sunny</td>\n",
              "      <td>10AM</td>\n",
              "      <td>Carry out &amp; Take away</td>\n",
              "      <td>2h</td>\n",
              "      <td>Female</td>\n",
              "      <td>21</td>\n",
              "      <td>Unmarried partner</td>\n",
              "      <td>Some college - no degree</td>\n",
              "      <td>Unemployed</td>\n",
              "      <td>$37500 - $49999</td>\n",
              "      <td>never</td>\n",
              "      <td>never</td>\n",
              "      <td>1~3</td>\n",
              "      <td>4~8</td>\n",
              "      <td>1~3</td>\n",
              "    </tr>\n",
              "    <tr>\n",
              "      <th>3</th>\n",
              "      <td>No Urgent Place</td>\n",
              "      <td>Friend(s)</td>\n",
              "      <td>Sunny</td>\n",
              "      <td>2PM</td>\n",
              "      <td>Coffee House</td>\n",
              "      <td>2h</td>\n",
              "      <td>Female</td>\n",
              "      <td>21</td>\n",
              "      <td>Unmarried partner</td>\n",
              "      <td>Some college - no degree</td>\n",
              "      <td>Unemployed</td>\n",
              "      <td>$37500 - $49999</td>\n",
              "      <td>never</td>\n",
              "      <td>never</td>\n",
              "      <td>1~3</td>\n",
              "      <td>4~8</td>\n",
              "      <td>1~3</td>\n",
              "    </tr>\n",
              "    <tr>\n",
              "      <th>4</th>\n",
              "      <td>No Urgent Place</td>\n",
              "      <td>Friend(s)</td>\n",
              "      <td>Sunny</td>\n",
              "      <td>2PM</td>\n",
              "      <td>Coffee House</td>\n",
              "      <td>1d</td>\n",
              "      <td>Female</td>\n",
              "      <td>21</td>\n",
              "      <td>Unmarried partner</td>\n",
              "      <td>Some college - no degree</td>\n",
              "      <td>Unemployed</td>\n",
              "      <td>$37500 - $49999</td>\n",
              "      <td>never</td>\n",
              "      <td>never</td>\n",
              "      <td>1~3</td>\n",
              "      <td>4~8</td>\n",
              "      <td>1~3</td>\n",
              "    </tr>\n",
              "  </tbody>\n",
              "</table>\n",
              "</div>\n",
              "      <button class=\"colab-df-convert\" onclick=\"convertToInteractive('df-e952a83b-9d7c-4e28-aef9-f37e5ddaab0f')\"\n",
              "              title=\"Convert this dataframe to an interactive table.\"\n",
              "              style=\"display:none;\">\n",
              "        \n",
              "  <svg xmlns=\"http://www.w3.org/2000/svg\" height=\"24px\"viewBox=\"0 0 24 24\"\n",
              "       width=\"24px\">\n",
              "    <path d=\"M0 0h24v24H0V0z\" fill=\"none\"/>\n",
              "    <path d=\"M18.56 5.44l.94 2.06.94-2.06 2.06-.94-2.06-.94-.94-2.06-.94 2.06-2.06.94zm-11 1L8.5 8.5l.94-2.06 2.06-.94-2.06-.94L8.5 2.5l-.94 2.06-2.06.94zm10 10l.94 2.06.94-2.06 2.06-.94-2.06-.94-.94-2.06-.94 2.06-2.06.94z\"/><path d=\"M17.41 7.96l-1.37-1.37c-.4-.4-.92-.59-1.43-.59-.52 0-1.04.2-1.43.59L10.3 9.45l-7.72 7.72c-.78.78-.78 2.05 0 2.83L4 21.41c.39.39.9.59 1.41.59.51 0 1.02-.2 1.41-.59l7.78-7.78 2.81-2.81c.8-.78.8-2.07 0-2.86zM5.41 20L4 18.59l7.72-7.72 1.47 1.35L5.41 20z\"/>\n",
              "  </svg>\n",
              "      </button>\n",
              "      \n",
              "  <style>\n",
              "    .colab-df-container {\n",
              "      display:flex;\n",
              "      flex-wrap:wrap;\n",
              "      gap: 12px;\n",
              "    }\n",
              "\n",
              "    .colab-df-convert {\n",
              "      background-color: #E8F0FE;\n",
              "      border: none;\n",
              "      border-radius: 50%;\n",
              "      cursor: pointer;\n",
              "      display: none;\n",
              "      fill: #1967D2;\n",
              "      height: 32px;\n",
              "      padding: 0 0 0 0;\n",
              "      width: 32px;\n",
              "    }\n",
              "\n",
              "    .colab-df-convert:hover {\n",
              "      background-color: #E2EBFA;\n",
              "      box-shadow: 0px 1px 2px rgba(60, 64, 67, 0.3), 0px 1px 3px 1px rgba(60, 64, 67, 0.15);\n",
              "      fill: #174EA6;\n",
              "    }\n",
              "\n",
              "    [theme=dark] .colab-df-convert {\n",
              "      background-color: #3B4455;\n",
              "      fill: #D2E3FC;\n",
              "    }\n",
              "\n",
              "    [theme=dark] .colab-df-convert:hover {\n",
              "      background-color: #434B5C;\n",
              "      box-shadow: 0px 1px 3px 1px rgba(0, 0, 0, 0.15);\n",
              "      filter: drop-shadow(0px 1px 2px rgba(0, 0, 0, 0.3));\n",
              "      fill: #FFFFFF;\n",
              "    }\n",
              "  </style>\n",
              "\n",
              "      <script>\n",
              "        const buttonEl =\n",
              "          document.querySelector('#df-e952a83b-9d7c-4e28-aef9-f37e5ddaab0f button.colab-df-convert');\n",
              "        buttonEl.style.display =\n",
              "          google.colab.kernel.accessAllowed ? 'block' : 'none';\n",
              "\n",
              "        async function convertToInteractive(key) {\n",
              "          const element = document.querySelector('#df-e952a83b-9d7c-4e28-aef9-f37e5ddaab0f');\n",
              "          const dataTable =\n",
              "            await google.colab.kernel.invokeFunction('convertToInteractive',\n",
              "                                                     [key], {});\n",
              "          if (!dataTable) return;\n",
              "\n",
              "          const docLinkHtml = 'Like what you see? Visit the ' +\n",
              "            '<a target=\"_blank\" href=https://colab.research.google.com/notebooks/data_table.ipynb>data table notebook</a>'\n",
              "            + ' to learn more about interactive tables.';\n",
              "          element.innerHTML = '';\n",
              "          dataTable['output_type'] = 'display_data';\n",
              "          await google.colab.output.renderOutput(dataTable, element);\n",
              "          const docLink = document.createElement('div');\n",
              "          docLink.innerHTML = docLinkHtml;\n",
              "          element.appendChild(docLink);\n",
              "        }\n",
              "      </script>\n",
              "    </div>\n",
              "  </div>\n",
              "  "
            ]
          },
          "metadata": {},
          "execution_count": 29
        }
      ]
    },
    {
      "cell_type": "code",
      "source": [
        "for value in df_categorical:\n",
        "  df = pd.get_dummies(df, columns=[value])"
      ],
      "metadata": {
        "id": "dG-XANaXu2V7"
      },
      "execution_count": 30,
      "outputs": []
    },
    {
      "cell_type": "code",
      "source": [
        "df.dtypes"
      ],
      "metadata": {
        "colab": {
          "base_uri": "https://localhost:8080/"
        },
        "id": "08YyS7Gt9oES",
        "outputId": "63063cc2-0fae-4d38-c1ce-4ff99bfd52b7"
      },
      "execution_count": 31,
      "outputs": [
        {
          "output_type": "execute_result",
          "data": {
            "text/plain": [
              "temperature               int64\n",
              "has_children              int64\n",
              "toCoupon_GEQ15min         int64\n",
              "toCoupon_GEQ25min         int64\n",
              "direction_same            int64\n",
              "                          ...  \n",
              "Restaurant20To50_1~3      uint8\n",
              "Restaurant20To50_4~8      uint8\n",
              "Restaurant20To50_gt8      uint8\n",
              "Restaurant20To50_less1    uint8\n",
              "Restaurant20To50_never    uint8\n",
              "Length: 108, dtype: object"
            ]
          },
          "metadata": {},
          "execution_count": 31
        }
      ]
    },
    {
      "cell_type": "markdown",
      "source": [
        "## **Clustering Dataframe**\n",
        "Τώρα που το **dataset** μας είναι έτοιμο προς χρήση για **εκπαίδευση**, θα πάρουμε ένα **αντίγραφο** του για να το χρησιμοποιήσουμε στο **Clustering** αργότερα."
      ],
      "metadata": {
        "id": "zqz4VWkzZOdv"
      }
    },
    {
      "cell_type": "code",
      "source": [
        "cluster_df = df.copy()"
      ],
      "metadata": {
        "id": "bbn9StlyZ7aq"
      },
      "execution_count": 32,
      "outputs": []
    },
    {
      "cell_type": "markdown",
      "source": [
        "## **Second Dataframe**\n",
        "Επίσης θα πάρουμε κι άλλο ένα **αντίγραφο**, για να το χρησιμοποιήσουμε για το **δεύτερο ερώτημα** που αφορά την εκπαίδευση μοντέλου σε ένα υποσύνολο **5 γνωρισμάτων**."
      ],
      "metadata": {
        "id": "EO4a4lSzk1pr"
      }
    },
    {
      "cell_type": "code",
      "source": [
        "sec_df = df.copy()"
      ],
      "metadata": {
        "id": "qICNWAb1lRsL"
      },
      "execution_count": 33,
      "outputs": []
    },
    {
      "cell_type": "markdown",
      "source": [
        "# **Β) Classification / Κατηγοριοποίηση** \n",
        "Στο **δεύτερο μέρος** ακολουθούν οι **εκπαιδεύσεις** και οι **προβλέψεις 6 μοντέλων κατηγοριοποίησης**\n",
        "* **Logistic Regression**\n",
        "* **KNN Algorithm**\n",
        "* **SVM Algorithm**\n",
        "* **Decision Tree**\n",
        "* **Random Forest**\n",
        "* **Naive Bayes**\n",
        "\n",
        "καθώς κι ενός **Νευρωνικού δικτύου**.\n",
        "\n",
        "Πρώτα χωρίζουμε το **dataset** σε **train** και **test sets**, με την χρήση της **συνάρτησης** που υλοποιούμε παρακάτω."
      ],
      "metadata": {
        "id": "nx7UgKpzAE69"
      }
    },
    {
      "cell_type": "markdown",
      "source": [
        "## **Συνάρτηση για train-test splitting**\n",
        "Ορίζουμε την εξής συνάρτηση για όσες φορές χρειαστεί στην εργασία να χωρίσουμε το dataset μας."
      ],
      "metadata": {
        "id": "k6e-RTQbTW-m"
      }
    },
    {
      "cell_type": "code",
      "source": [
        "def split_func(split_df):\n",
        "\n",
        "  # Χωρίζουμε το split_df σε X (features) και y (labels)\n",
        "  y = split_df['Y']\n",
        "  X = split_df.drop('Y', axis=1)\n",
        "\n",
        "  # Χωρίζουμε τα X και y σε train και test set (70%-30%) με random_state=42\n",
        "  X_train, X_test, y_train, y_test = \\\n",
        "  train_test_split(X, y, train_size=0.7, random_state=42)\n",
        "\n",
        "  return X_train, X_test, y_train, y_test"
      ],
      "metadata": {
        "id": "G97Whm2yTn0u"
      },
      "execution_count": 34,
      "outputs": []
    },
    {
      "cell_type": "markdown",
      "source": [
        "## **1. Με χρήση ολόκληρου του dataset**"
      ],
      "metadata": {
        "id": "jTxlA5opil5V"
      }
    },
    {
      "cell_type": "code",
      "source": [
        "X_train, X_test, y_train, y_test = split_func(df)"
      ],
      "metadata": {
        "id": "diC1mwQ12BlD"
      },
      "execution_count": 35,
      "outputs": []
    },
    {
      "cell_type": "markdown",
      "source": [
        "### **Logistic Regression**\n",
        "**Train Accuracy Score**: 0.689\n",
        "\n",
        "**Test Accuracy Score**: 0.693\n",
        "\n",
        "**AUC-ROC score**: 0.680\n",
        "\n",
        "**F1 Score**: 0.742"
      ],
      "metadata": {
        "id": "0whSb0FsZudF"
      }
    },
    {
      "cell_type": "code",
      "source": [
        "lr_mod = linear_model.LogisticRegression()\n",
        "lr_mod.fit(X_train, y_train)\n",
        "\n",
        "# Πρόβλεψη μοντέλου για το train set\n",
        "y_trainpred_lr = lr_mod.predict(X_train)\n",
        "lr_accuracy_train = accuracy_score(y_train, y_trainpred_lr)\n",
        "\n",
        "# Πρόβλεψη μοντέλου για το test set\n",
        "y_pred_lr = lr_mod.predict(X_test)\n",
        "lr_accuracy = accuracy_score(y_test, y_pred_lr)\n",
        "\n",
        "print(f'Train Accuracy: {lr_accuracy_train:.3f} \\\n",
        "      \\nTest Accuracy: {lr_accuracy:.3f}')"
      ],
      "metadata": {
        "id": "oeEzKRXJNSNW",
        "outputId": "0b328eb1-37d6-43d3-affb-e3f01fb79e55",
        "colab": {
          "base_uri": "https://localhost:8080/"
        }
      },
      "execution_count": 36,
      "outputs": [
        {
          "output_type": "stream",
          "name": "stdout",
          "text": [
            "Train Accuracy: 0.689       \n",
            "Test Accuracy: 0.693\n"
          ]
        }
      ]
    },
    {
      "cell_type": "code",
      "source": [
        "from sklearn.metrics import roc_auc_score, roc_curve\n",
        "\n",
        "lr_roc_score = roc_auc_score(y_test, y_pred_lr)\n",
        "print(f'AUC-ROC Score: {lr_roc_score:.3f}')"
      ],
      "metadata": {
        "colab": {
          "base_uri": "https://localhost:8080/"
        },
        "id": "m3qwZUYK7UYp",
        "outputId": "6f4499a7-8ec4-4292-ce26-a1b3ede3ebd8"
      },
      "execution_count": 38,
      "outputs": [
        {
          "output_type": "stream",
          "name": "stdout",
          "text": [
            "AUC-ROC Score: 0.680\n"
          ]
        }
      ]
    },
    {
      "cell_type": "code",
      "source": [
        "# Υπολογισμός των ποσοστών ψευδώς θετικών και αληθώς θετικών.\n",
        "fpr, tpr, thresholds = roc_curve(y_test, y_pred_lr)\n",
        "\n",
        "# Plot της καμπύλης ROC\n",
        "plt.plot(fpr, tpr, label='ROC Curve (AUC = %0.3f)' % lr_roc_score)\n",
        "plt.xlabel('False Positive Rate')\n",
        "plt.ylabel('True Positive Rate')\n",
        "plt.title('ROC Curve')\n",
        "plt.legend(loc=\"lower right\")\n",
        "plt.show()"
      ],
      "metadata": {
        "colab": {
          "base_uri": "https://localhost:8080/",
          "height": 0
        },
        "id": "ws4hJ11H7_Sc",
        "outputId": "192f6a0a-335c-4ae2-b18a-60e2ece873bf"
      },
      "execution_count": 39,
      "outputs": [
        {
          "output_type": "display_data",
          "data": {
            "text/plain": [
              "<Figure size 432x288 with 1 Axes>"
            ],
            "image/png": "[encoded data removed]"
          },
          "metadata": {
            "needs_background": "light"
          }
        }
      ]
    },
    {
      "cell_type": "code",
      "source": [
        "from sklearn.metrics import f1_score\n",
        "\n",
        "lr_f1 = f1_score(y_test, y_pred_lr)\n",
        "print(f'F1 Score: {lr_f1:.3f}')"
      ],
      "metadata": {
        "colab": {
          "base_uri": "https://localhost:8080/"
        },
        "id": "MxgrUjJcAk4O",
        "outputId": "bbefc22c-43f8-44df-a70f-12b653c1c5ab"
      },
      "execution_count": 40,
      "outputs": [
        {
          "output_type": "stream",
          "name": "stdout",
          "text": [
            "F1 Score: 0.742\n"
          ]
        }
      ]
    },
    {
      "cell_type": "markdown",
      "source": [
        "### **KNN Algorithm**\n",
        "**Train Accuracy Score**: 0.727\n",
        "\n",
        "**Test Accuracy Score**: 0.698\n",
        "\n",
        "**F1 Score**: 0.754"
      ],
      "metadata": {
        "id": "y0VoqxW6AO5o"
      }
    },
    {
      "cell_type": "code",
      "source": [
        "knn_mod = KNeighborsClassifier(n_neighbors = 31, metric = 'minkowski', p = 2)\n",
        "knn_mod.fit(X_train, y_train)\n",
        "\n",
        "# Πρόβλεψη μοντέλου για το train set\n",
        "y_trainpred_knn = knn_mod.predict(X_train)\n",
        "knn_accuracy_train = accuracy_score(y_train, y_trainpred_knn)\n",
        "\n",
        "# Πρόβλεψη μοντέλου για το test set\n",
        "y_pred_knn = knn_mod.predict(X_test)\n",
        "knn_accuracy = accuracy_score(y_test, y_pred_knn)\n",
        "\n",
        "print(f'Train Accuracy: {knn_accuracy_train:.3f} \\\n",
        "      \\nTest Accuracy: {knn_accuracy:.3f}')"
      ],
      "metadata": {
        "colab": {
          "base_uri": "https://localhost:8080/"
        },
        "id": "_u8NxxG4cAhJ",
        "outputId": "850647a5-6d7c-42b0-a5c8-2eba81b7b0f7"
      },
      "execution_count": 41,
      "outputs": [
        {
          "output_type": "stream",
          "name": "stdout",
          "text": [
            "Train Accuracy: 0.727       \n",
            "Test Accuracy: 0.698\n"
          ]
        }
      ]
    },
    {
      "cell_type": "code",
      "source": [
        "knn_f1 = f1_score(y_test, y_pred_knn)\n",
        "print(f'F1 Score: {knn_f1:.3f}')"
      ],
      "metadata": {
        "colab": {
          "base_uri": "https://localhost:8080/"
        },
        "id": "_vLmEWxfPlJe",
        "outputId": "3dcb45ed-5883-47f7-9e96-64c7cb77aed7"
      },
      "execution_count": 42,
      "outputs": [
        {
          "output_type": "stream",
          "name": "stdout",
          "text": [
            "F1 Score: 0.754\n"
          ]
        }
      ]
    },
    {
      "cell_type": "markdown",
      "source": [
        "### **SVM Algorithm**\n",
        "**Train Accuracy Score**: 0.756\n",
        "\n",
        "**Test Accuracy Score**: 0.722\n",
        "\n",
        "**F1 Score**: 0.768\n",
        "\n",
        "Σημ: **Αργεί** πάρα πολύ η εκπαίδευση του, σε σχέση με τα υπόλοιπα μοντέλα."
      ],
      "metadata": {
        "id": "DHJaAz7jY38x"
      }
    },
    {
      "cell_type": "code",
      "source": [
        "svm_mod = SVC(kernel=\"rbf\", cache_size=200, gamma=0.03) \n",
        "svm_mod.fit(X_train, y_train)\n",
        "\n",
        "# Πρόβλεψη μοντέλου για το train set\n",
        "y_trainpred_svm = svm_mod.predict(X_train)\n",
        "svm_accuracy_train = accuracy_score(y_train, y_trainpred_svm)\n",
        "\n",
        "# Πρόβλεψη μοντέλου για το test set\n",
        "y_pred_svm = svm_mod.predict(X_test)\n",
        "svm_accuracy = accuracy_score(y_test, y_pred_svm)\n",
        "\n",
        "print(f'Train Accuracy: {svm_accuracy_train:.3f} \\\n",
        "      \\nTest Accuracy: {svm_accuracy:.3f}')"
      ],
      "metadata": {
        "colab": {
          "base_uri": "https://localhost:8080/"
        },
        "id": "xEvTR8YRaApd",
        "outputId": "88df7fb2-ec54-4a49-d23b-1d371dc3ea3f"
      },
      "execution_count": 63,
      "outputs": [
        {
          "output_type": "stream",
          "name": "stdout",
          "text": [
            "Train Accuracy: 0.759       \n",
            "Test Accuracy: 0.722\n"
          ]
        }
      ]
    },
    {
      "cell_type": "code",
      "source": [
        "svm_f1 = f1_score(y_test, y_pred_svm)\n",
        "print(f'F1 Score: {svm_f1:.3f}')"
      ],
      "metadata": {
        "colab": {
          "base_uri": "https://localhost:8080/"
        },
        "id": "UoGn11vhRubq",
        "outputId": "e8ccd0a4-7556-4045-f7a4-b55be2789953"
      },
      "execution_count": 64,
      "outputs": [
        {
          "output_type": "stream",
          "name": "stdout",
          "text": [
            "F1 Score: 0.768\n"
          ]
        }
      ]
    },
    {
      "cell_type": "markdown",
      "source": [
        "### **Decision Tree**\n",
        "**Train Accuracy Score**: 0.726\n",
        "\n",
        "**Test Accuracy Score**: 0.702\n",
        "\n",
        "(με **max_depth=7**)\n",
        "\n",
        "**F1 Score**: 0.741"
      ],
      "metadata": {
        "id": "_8y12fGGoLSK"
      }
    },
    {
      "cell_type": "code",
      "source": [
        "dct_mod = DecisionTreeClassifier(max_depth=7)\n",
        "dct_mod.fit(X_train, y_train)\n",
        "\n",
        "# Πρόβλεψη μοντέλου για το train set\n",
        "y_trainpred_dct = dct_mod.predict(X_train)\n",
        "dct_accuracy_train = accuracy_score(y_train, y_trainpred_dct)\n",
        "\n",
        "# Πρόβλεψη μοντέλου για το test set\n",
        "y_pred_dct = dct_mod.predict(X_test)\n",
        "dct_accuracy = accuracy_score(y_test, y_pred_dct)\n",
        "\n",
        "print(f'Train Accuracy: {dct_accuracy_train:.3f} \\\n",
        "      \\nTest Accuracy: {dct_accuracy:.3f}')"
      ],
      "metadata": {
        "id": "yd6MYQcraAgu",
        "colab": {
          "base_uri": "https://localhost:8080/"
        },
        "outputId": "b84938f6-aba6-495b-e8fa-09122a4ed5a5"
      },
      "execution_count": 65,
      "outputs": [
        {
          "output_type": "stream",
          "name": "stdout",
          "text": [
            "Train Accuracy: 0.726       \n",
            "Test Accuracy: 0.702\n"
          ]
        }
      ]
    },
    {
      "cell_type": "code",
      "source": [
        "dct_f1 = f1_score(y_test, y_pred_dct)\n",
        "print(f'F1 Score: {dct_f1:.3f}')"
      ],
      "metadata": {
        "colab": {
          "base_uri": "https://localhost:8080/"
        },
        "id": "iZuNvoRYVPPI",
        "outputId": "a96a4541-b604-4373-86f0-158907e8e693"
      },
      "execution_count": 66,
      "outputs": [
        {
          "output_type": "stream",
          "name": "stdout",
          "text": [
            "F1 Score: 0.742\n"
          ]
        }
      ]
    },
    {
      "cell_type": "markdown",
      "source": [
        "### **Random Forest**\n",
        "**Train Accuracy Score**: 0.999\n",
        "\n",
        "**Test Accuracy Score**: 0.755\n",
        "\n",
        "**F1 Score**: 0.791\n",
        "\n",
        "Το **καλύτερο** μας μοντέλο, με αρκετά μεγάλη διαφορά σε **accuracy**, καθώς και **πολύ γρήγορο** στην **εκπαίδευση** του."
      ],
      "metadata": {
        "id": "1gdETDjatc-E"
      }
    },
    {
      "cell_type": "code",
      "source": [
        "rnf_mod =  RandomForestClassifier()\n",
        "rnf_mod.fit(X_train, y_train)\n",
        "\n",
        "# Πρόβλεψη μοντέλου για το train set\n",
        "y_trainpred_rnf = rnf_mod.predict(X_train)\n",
        "rnf_accuracy_train = accuracy_score(y_train, y_trainpred_rnf)\n",
        "\n",
        "# Πρόβλεψη μοντέλου για το test set\n",
        "y_pred_rnf = rnf_mod.predict(X_test)\n",
        "rnf_accuracy = accuracy_score(y_test, y_pred_rnf)\n",
        "\n",
        "print(f'Train Accuracy: {rnf_accuracy_train:.3f} \\\n",
        "      \\nTest Accuracy: {rnf_accuracy:.3f}')"
      ],
      "metadata": {
        "colab": {
          "base_uri": "https://localhost:8080/"
        },
        "id": "uCxSia_fdDbA",
        "outputId": "7b942cd8-6ad5-4837-fdeb-b46708823f38"
      },
      "execution_count": 185,
      "outputs": [
        {
          "output_type": "stream",
          "name": "stdout",
          "text": [
            "Train Accuracy: 0.999       \n",
            "Test Accuracy: 0.755\n"
          ]
        }
      ]
    },
    {
      "cell_type": "code",
      "source": [
        "rnf_f1 = f1_score(y_test, y_pred_rnf)\n",
        "print(f'F1 Score: {rnf_f1:.3f}')"
      ],
      "metadata": {
        "colab": {
          "base_uri": "https://localhost:8080/"
        },
        "id": "37thPzjcXiZr",
        "outputId": "262d4616-752c-46e7-988f-7513d691a6e7"
      },
      "execution_count": 194,
      "outputs": [
        {
          "output_type": "stream",
          "name": "stdout",
          "text": [
            "F1 Score: 0.791\n"
          ]
        }
      ]
    },
    {
      "cell_type": "markdown",
      "source": [
        "### **Naive Bayes**\n",
        "**Train Accuracy Score**: 0.636\n",
        "\n",
        "**Test Accuracy Score**: 0.638\n",
        "\n",
        "**F1 Score**: 0.671"
      ],
      "metadata": {
        "id": "wUwtMqUQtQ8l"
      }
    },
    {
      "cell_type": "code",
      "source": [
        "bayes_mod =  GaussianNB()\n",
        "bayes_mod.fit(X_train, y_train)\n",
        "\n",
        "# Πρόβλεψη μοντέλου για το train set\n",
        "y_trainpred_bayes = bayes_mod.predict(X_train)\n",
        "bayes_accuracy_train = accuracy_score(y_train, y_trainpred_bayes)\n",
        "\n",
        "# Πρόβλεψη μοντέλου για το test set\n",
        "y_pred_bayes = bayes_mod.predict(X_test)\n",
        "bayes_accuracy = accuracy_score(y_test, y_pred_bayes)\n",
        "\n",
        "print(f'Train Accuracy: {bayes_accuracy_train:.3f} \\\n",
        "      \\nTest Accuracy: {bayes_accuracy:.3f}')"
      ],
      "metadata": {
        "colab": {
          "base_uri": "https://localhost:8080/"
        },
        "id": "GqxddDDa-fad",
        "outputId": "6e833909-7dcc-49c3-fa49-f816c96a17e3"
      },
      "execution_count": 195,
      "outputs": [
        {
          "output_type": "stream",
          "name": "stdout",
          "text": [
            "Train Accuracy: 0.636       \n",
            "Test Accuracy: 0.638\n"
          ]
        }
      ]
    },
    {
      "cell_type": "code",
      "source": [
        "bayes_f1 = f1_score(y_test, y_pred_bayes)\n",
        "print(f'F1 Score: {bayes_f1:.3f}')"
      ],
      "metadata": {
        "colab": {
          "base_uri": "https://localhost:8080/"
        },
        "id": "qOSDZsGlYkZ7",
        "outputId": "c141bb68-07a3-4e98-daf5-2bd1a7d1909e"
      },
      "execution_count": 196,
      "outputs": [
        {
          "output_type": "stream",
          "name": "stdout",
          "text": [
            "F1 Score: 0.671\n"
          ]
        }
      ]
    },
    {
      "cell_type": "markdown",
      "source": [
        "### **Neural Network**\n",
        "**Train accuracy**: 0.875\n",
        "    \n",
        "**Test accuracy**: 0.716\n"
      ],
      "metadata": {
        "id": "RwdEN3Izeewc"
      }
    },
    {
      "cell_type": "code",
      "source": [
        "def NeuralN(X_train, X_test, y_train, y_test):\n",
        "\n",
        "  model = keras.Sequential([\n",
        "      layers.Input(shape=(X_train.shape[1],), name='input'),\n",
        "      layers.Dense(100, activation='relu'),\n",
        "      layers.Dense(100, activation='relu'),\n",
        "      layers.Dense(100, activation='relu'),\n",
        "      layers.Dense(100, activation='relu'),\n",
        "      layers.Dense(3, activation='softmax', name='output')      \n",
        "  ])\n",
        "\n",
        "  model.compile(\n",
        "    loss='sparse_categorical_crossentropy',\n",
        "    optimizer=keras.optimizers.Adam(learning_rate=0.001),\n",
        "    metrics=['accuracy']\n",
        "  )\n",
        "  model.summary()\n",
        "  history = model.fit(X_train, y_train, epochs=50, batch_size = 64)\n",
        "  train_accuracy = model.evaluate(X_train, y_train)\n",
        "  test_accuracy = model.evaluate(X_test, y_test)\n",
        "\n",
        "  y_test_c = tf.keras.utils.to_categorical(y_test)\n",
        "\n",
        "  y_pred = model.predict(X_test)\n",
        "  pred_idx = np.argmax(y_pred, axis=1)\n",
        "  true_idx = np.argmax(y_test_c, axis=1)\n",
        "  tf_confmatrix = tf.math.confusion_matrix(true_idx, pred_idx)\n",
        "\n",
        "  return train_accuracy, test_accuracy, tf_confmatrix"
      ],
      "metadata": {
        "id": "MyatAsANfCT6"
      },
      "execution_count": 106,
      "outputs": []
    },
    {
      "cell_type": "code",
      "source": [
        "nn_train_accuracy, nn_test_accuracy, tf_confmatrix = \\\n",
        "              NeuralN(X_train, X_test, y_train, y_test)"
      ],
      "metadata": {
        "id": "AMGQyl50hOdV",
        "outputId": "5b322a8f-8264-4a67-d0cc-262d5c968671",
        "colab": {
          "base_uri": "https://localhost:8080/"
        }
      },
      "execution_count": 107,
      "outputs": [
        {
          "output_type": "stream",
          "name": "stdout",
          "text": [
            "Model: \"sequential\"\n",
            "_________________________________________________________________\n",
            " Layer (type)                Output Shape              Param #   \n",
            "=================================================================\n",
            " dense (Dense)               (None, 100)               10800     \n",
            "                                                                 \n",
            " dense_1 (Dense)             (None, 100)               10100     \n",
            "                                                                 \n",
            " dense_2 (Dense)             (None, 100)               10100     \n",
            "                                                                 \n",
            " dense_3 (Dense)             (None, 100)               10100     \n",
            "                                                                 \n",
            " output (Dense)              (None, 3)                 303       \n",
            "                                                                 \n",
            "=================================================================\n",
            "Total params: 41,403\n",
            "Trainable params: 41,403\n",
            "Non-trainable params: 0\n",
            "_________________________________________________________________\n",
            "Epoch 1/50\n",
            "138/138 [==============================] - 1s 2ms/step - loss: 0.6828 - accuracy: 0.5858\n",
            "Epoch 2/50\n",
            "138/138 [==============================] - 0s 2ms/step - loss: 0.6358 - accuracy: 0.6515\n",
            "Epoch 3/50\n",
            "138/138 [==============================] - 0s 3ms/step - loss: 0.6081 - accuracy: 0.6736\n",
            "Epoch 4/50\n",
            "138/138 [==============================] - 0s 2ms/step - loss: 0.6040 - accuracy: 0.6759\n",
            "Epoch 5/50\n",
            "138/138 [==============================] - 0s 2ms/step - loss: 0.5983 - accuracy: 0.6849\n",
            "Epoch 6/50\n",
            "138/138 [==============================] - 0s 3ms/step - loss: 0.5848 - accuracy: 0.6962\n",
            "Epoch 7/50\n",
            "138/138 [==============================] - 0s 3ms/step - loss: 0.5788 - accuracy: 0.6941\n",
            "Epoch 8/50\n",
            "138/138 [==============================] - 0s 2ms/step - loss: 0.5670 - accuracy: 0.7073\n",
            "Epoch 9/50\n",
            "138/138 [==============================] - 0s 2ms/step - loss: 0.5597 - accuracy: 0.7153\n",
            "Epoch 10/50\n",
            "138/138 [==============================] - 0s 3ms/step - loss: 0.5465 - accuracy: 0.7250\n",
            "Epoch 11/50\n",
            "138/138 [==============================] - 0s 2ms/step - loss: 0.5355 - accuracy: 0.7360\n",
            "Epoch 12/50\n",
            "138/138 [==============================] - 0s 2ms/step - loss: 0.5237 - accuracy: 0.7437\n",
            "Epoch 13/50\n",
            "138/138 [==============================] - 0s 2ms/step - loss: 0.5117 - accuracy: 0.7482\n",
            "Epoch 14/50\n",
            "138/138 [==============================] - 0s 2ms/step - loss: 0.5006 - accuracy: 0.7547\n",
            "Epoch 15/50\n",
            "138/138 [==============================] - 0s 3ms/step - loss: 0.4949 - accuracy: 0.7584\n",
            "Epoch 16/50\n",
            "138/138 [==============================] - 0s 2ms/step - loss: 0.4901 - accuracy: 0.7648\n",
            "Epoch 17/50\n",
            "138/138 [==============================] - 0s 2ms/step - loss: 0.4882 - accuracy: 0.7647\n",
            "Epoch 18/50\n",
            "138/138 [==============================] - 0s 2ms/step - loss: 0.4743 - accuracy: 0.7703\n",
            "Epoch 19/50\n",
            "138/138 [==============================] - 0s 2ms/step - loss: 0.4685 - accuracy: 0.7763\n",
            "Epoch 20/50\n",
            "138/138 [==============================] - 0s 2ms/step - loss: 0.4698 - accuracy: 0.7730\n",
            "Epoch 21/50\n",
            "138/138 [==============================] - 0s 2ms/step - loss: 0.4556 - accuracy: 0.7821\n",
            "Epoch 22/50\n",
            "138/138 [==============================] - 0s 2ms/step - loss: 0.4600 - accuracy: 0.7818\n",
            "Epoch 23/50\n",
            "138/138 [==============================] - 0s 2ms/step - loss: 0.4426 - accuracy: 0.7911\n",
            "Epoch 24/50\n",
            "138/138 [==============================] - 0s 2ms/step - loss: 0.4355 - accuracy: 0.7987\n",
            "Epoch 25/50\n",
            "138/138 [==============================] - 0s 3ms/step - loss: 0.4265 - accuracy: 0.8028\n",
            "Epoch 26/50\n",
            "138/138 [==============================] - 0s 3ms/step - loss: 0.4246 - accuracy: 0.8013\n",
            "Epoch 27/50\n",
            "138/138 [==============================] - 0s 3ms/step - loss: 0.4192 - accuracy: 0.8039\n",
            "Epoch 28/50\n",
            "138/138 [==============================] - 0s 2ms/step - loss: 0.4137 - accuracy: 0.8072\n",
            "Epoch 29/50\n",
            "138/138 [==============================] - 0s 2ms/step - loss: 0.3987 - accuracy: 0.8183\n",
            "Epoch 30/50\n",
            "138/138 [==============================] - 0s 2ms/step - loss: 0.3924 - accuracy: 0.8176\n",
            "Epoch 31/50\n",
            "138/138 [==============================] - 0s 3ms/step - loss: 0.3922 - accuracy: 0.8181\n",
            "Epoch 32/50\n",
            "138/138 [==============================] - 0s 2ms/step - loss: 0.3843 - accuracy: 0.8235\n",
            "Epoch 33/50\n",
            "138/138 [==============================] - 0s 3ms/step - loss: 0.3789 - accuracy: 0.8245\n",
            "Epoch 34/50\n",
            "138/138 [==============================] - 0s 3ms/step - loss: 0.3680 - accuracy: 0.8304\n",
            "Epoch 35/50\n",
            "138/138 [==============================] - 0s 2ms/step - loss: 0.3595 - accuracy: 0.8345\n",
            "Epoch 36/50\n",
            "138/138 [==============================] - 0s 2ms/step - loss: 0.3640 - accuracy: 0.8303\n",
            "Epoch 37/50\n",
            "138/138 [==============================] - 0s 2ms/step - loss: 0.3460 - accuracy: 0.8431\n",
            "Epoch 38/50\n",
            "138/138 [==============================] - 0s 2ms/step - loss: 0.3407 - accuracy: 0.8441\n",
            "Epoch 39/50\n",
            "138/138 [==============================] - 0s 2ms/step - loss: 0.3429 - accuracy: 0.8423\n",
            "Epoch 40/50\n",
            "138/138 [==============================] - 0s 2ms/step - loss: 0.3379 - accuracy: 0.8446\n",
            "Epoch 41/50\n",
            "138/138 [==============================] - 0s 3ms/step - loss: 0.3247 - accuracy: 0.8510\n",
            "Epoch 42/50\n",
            "138/138 [==============================] - 0s 3ms/step - loss: 0.3210 - accuracy: 0.8531\n",
            "Epoch 43/50\n",
            "138/138 [==============================] - 0s 3ms/step - loss: 0.3113 - accuracy: 0.8570\n",
            "Epoch 44/50\n",
            "138/138 [==============================] - 0s 3ms/step - loss: 0.3094 - accuracy: 0.8601\n",
            "Epoch 45/50\n",
            "138/138 [==============================] - 0s 3ms/step - loss: 0.2999 - accuracy: 0.8626\n",
            "Epoch 46/50\n",
            "138/138 [==============================] - 0s 2ms/step - loss: 0.2887 - accuracy: 0.8672\n",
            "Epoch 47/50\n",
            "138/138 [==============================] - 0s 2ms/step - loss: 0.2843 - accuracy: 0.8703\n",
            "Epoch 48/50\n",
            "138/138 [==============================] - 0s 2ms/step - loss: 0.2948 - accuracy: 0.8694\n",
            "Epoch 49/50\n",
            "138/138 [==============================] - 0s 2ms/step - loss: 0.2718 - accuracy: 0.8790\n",
            "Epoch 50/50\n",
            "138/138 [==============================] - 0s 2ms/step - loss: 0.2682 - accuracy: 0.8800\n",
            "276/276 [==============================] - 0s 1ms/step - loss: 0.2667 - accuracy: 0.8750\n",
            "119/119 [==============================] - 0s 1ms/step - loss: 0.9101 - accuracy: 0.7164\n",
            "119/119 [==============================] - 0s 1ms/step\n"
          ]
        }
      ]
    },
    {
      "cell_type": "code",
      "source": [
        "print(f'Train accuracy: {nn_train_accuracy[1]:.3f}\\\n",
        "    \\nTest accuracy: {nn_test_accuracy[1]:.3f}')"
      ],
      "metadata": {
        "id": "DcOZ3w2OfjNJ",
        "outputId": "2d949fab-f053-469f-ed4b-22260ddd4e60",
        "colab": {
          "base_uri": "https://localhost:8080/"
        }
      },
      "execution_count": 108,
      "outputs": [
        {
          "output_type": "stream",
          "name": "stdout",
          "text": [
            "Train accuracy: 0.875    \n",
            "Test accuracy: 0.716\n"
          ]
        }
      ]
    },
    {
      "cell_type": "code",
      "source": [
        "tf_confmatrix"
      ],
      "metadata": {
        "id": "aBQoH3pbiWQe",
        "outputId": "1fa0c51a-e82a-49a6-8bf4-cc9922ea560d",
        "colab": {
          "base_uri": "https://localhost:8080/"
        }
      },
      "execution_count": 109,
      "outputs": [
        {
          "output_type": "execute_result",
          "data": {
            "text/plain": [
              "<tf.Tensor: shape=(2, 2), dtype=int32, numpy=\n",
              "array([[1206,  448],\n",
              "       [ 625, 1504]], dtype=int32)>"
            ]
          },
          "metadata": {},
          "execution_count": 109
        }
      ]
    },
    {
      "cell_type": "markdown",
      "source": [
        "### **Πίνακας με όλα τα accuracies**"
      ],
      "metadata": {
        "id": "CgK9ABaefJDN"
      }
    },
    {
      "cell_type": "code",
      "source": [
        "labels = ['Metrics', 'Logistic Regression', 'KNN', 'SVM', 'Decision Tree',\n",
        "          'Random Forest', 'Naive Bayes', 'Neural Network']\n",
        "\n",
        "data = [['Train Accuracy Score', lr_accuracy_train, knn_accuracy_train, svm_accuracy_train,\\\n",
        "         dct_accuracy_train, rnf_accuracy_train, bayes_accuracy_train, nn_train_accuracy[1]],\n",
        "        [ 'Test Accuracy Score', lr_accuracy, knn_accuracy, svm_accuracy, dct_accuracy, \\\n",
        "                                          rnf_accuracy, bayes_accuracy, nn_test_accuracy[1]],\n",
        "        [ 'F1 Score', lr_f1, knn_f1, svm_f1, dct_f1, rnf_f1, bayes_f1, '-']]\n",
        "\n",
        "for i in range(len(data)):\n",
        "    for j in range(len(data[i])):\n",
        "        if isinstance(data[i][j], float):\n",
        "            data[i][j] = round(data[i][j], 3)\n",
        "\n",
        "data = np.array(data)\n",
        "\n",
        "# data = np.round(data, 3)\n",
        "fig, ax = plt.subplots()\n",
        "table = ax.table(cellText=data, colLabels=labels, loc='center')\n",
        "table.set_fontsize(20)\n",
        "table.scale(3,4)\n",
        "ax.axis('off')\n",
        "ax.grid(False)\n",
        "\n",
        "plt.show()"
      ],
      "metadata": {
        "id": "MHLSGJo_gMrH",
        "outputId": "2fc25b48-07b0-4e05-a194-0bf34d6e7132",
        "colab": {
          "base_uri": "https://localhost:8080/",
          "height": 0
        }
      },
      "execution_count": 110,
      "outputs": [
        {
          "output_type": "display_data",
          "data": {
            "text/plain": [
              "<Figure size 432x288 with 1 Axes>"
            ],
            "image/png": "[encoded data removed]"
          },
          "metadata": {
            "needs_background": "light"
          }
        }
      ]
    },
    {
      "cell_type": "markdown",
      "source": [
        "## **2. Με χρήση υποσυνόλου 5 γνωρισμάτων**.\n",
        "Σε αυτό το μέρος θα πάρουμε το dataframe που είχαμε κρατήσει στην μεταβλητή **sec_df**, το οποίο είναι καθαρό από ελλιπείς εγγραφές, και γνωρίσματα που δεν προσφέρουν πληροφορία, και θα προσπαθήσουμε να επιλέξουμε **5 γνωρίσματα** από αυτό, πάνω στα οποία θα εκπαιδεύσουμε τον καλύτερο μας μοντέλο, δηλαδή το **Random Forest**, και θα σχολιάσουμε τα αποτελέσματα.\n",
        "\n",
        "Δύο τρόποι που διαλέξαμε για την επιλογή των 5 γνωρισμάτων είναι ο VarianceThreshold και ο SelectKBest, οι οποίοι για να δουλέψουν χρειάζονται ποσοτικά δεδομένα, οπότε θα χρησιμοποιήσουμε το αντίγραφο από το one-hot encoded dataframe, που είχαμε πάρει παραπάνω."
      ],
      "metadata": {
        "id": "O8G0r48Xvo6P"
      }
    },
    {
      "cell_type": "markdown",
      "source": [
        "### **SelectKBest**\n",
        "Σε αυτή τη μέθοδο επιλέγουμε τον **αριθμό των γνωρισμάτων** που θέλουμε να επιλεχθούν, βάζοντας το **k=5**."
      ],
      "metadata": {
        "id": "prPwT0k0F3-o"
      }
    },
    {
      "cell_type": "code",
      "source": [
        "from sklearn.feature_selection import SelectKBest\n",
        "from sklearn.feature_selection import f_classif\n",
        "\n",
        "X_1 = sec_df.drop(['Y'], axis=1)\n",
        "y = sec_df['Y']\n",
        "\n",
        "# Στο k βάζουμε τον αριθμό των γνωρισμάτων που θέλουμε να επιλεχθούν.\n",
        "selector = SelectKBest(f_classif, k=5)\n",
        "X_new_1 = selector.fit_transform(X_1, y)\n",
        "\n",
        "# Παίρνουμε τους δείκτες των γνωρισμάτων που επιλέχθηκαν.\n",
        "selected_feature_indices = selector.get_support(indices=True)\n",
        "\n",
        "selected_feature_indices"
      ],
      "metadata": {
        "colab": {
          "base_uri": "https://localhost:8080/"
        },
        "id": "vkBTeDsRySVF",
        "outputId": "6f306319-7d84-4684-a235-9c043425be98"
      },
      "execution_count": null,
      "outputs": [
        {
          "output_type": "execute_result",
          "data": {
            "text/plain": [
              "array([ 6, 20, 21, 24, 26])"
            ]
          },
          "metadata": {},
          "execution_count": 498
        }
      ]
    },
    {
      "cell_type": "code",
      "source": [
        "new_sec_df = sec_df.iloc[:, selected_feature_indices]\n",
        "new_sec_df.head()"
      ],
      "metadata": {
        "colab": {
          "base_uri": "https://localhost:8080/",
          "height": 206
        },
        "id": "W3jWxJQGy5ym",
        "outputId": "370b7e53-2fa1-4627-ae84-407ada32b491"
      },
      "execution_count": null,
      "outputs": [
        {
          "output_type": "execute_result",
          "data": {
            "text/plain": [
              "   destination_Home  time_7AM  coupon_Bar  coupon_Restaurant(20-50)  \\\n",
              "0                 0         0           0                         0   \n",
              "1                 0         0           0                         0   \n",
              "2                 0         0           0                         0   \n",
              "3                 0         0           0                         0   \n",
              "4                 0         0           0                         0   \n",
              "\n",
              "   expiration_1d  \n",
              "0              1  \n",
              "1              0  \n",
              "2              0  \n",
              "3              0  \n",
              "4              1  "
            ],
            "text/html": [
              "\n",
              "  <div id=\"df-61d6f056-9925-44b3-8138-abcc9f9d6616\">\n",
              "    <div class=\"colab-df-container\">\n",
              "      <div>\n",
              "<style scoped>\n",
              "    .dataframe tbody tr th:only-of-type {\n",
              "        vertical-align: middle;\n",
              "    }\n",
              "\n",
              "    .dataframe tbody tr th {\n",
              "        vertical-align: top;\n",
              "    }\n",
              "\n",
              "    .dataframe thead th {\n",
              "        text-align: right;\n",
              "    }\n",
              "</style>\n",
              "<table border=\"1\" class=\"dataframe\">\n",
              "  <thead>\n",
              "    <tr style=\"text-align: right;\">\n",
              "      <th></th>\n",
              "      <th>destination_Home</th>\n",
              "      <th>time_7AM</th>\n",
              "      <th>coupon_Bar</th>\n",
              "      <th>coupon_Restaurant(20-50)</th>\n",
              "      <th>expiration_1d</th>\n",
              "    </tr>\n",
              "  </thead>\n",
              "  <tbody>\n",
              "    <tr>\n",
              "      <th>0</th>\n",
              "      <td>0</td>\n",
              "      <td>0</td>\n",
              "      <td>0</td>\n",
              "      <td>0</td>\n",
              "      <td>1</td>\n",
              "    </tr>\n",
              "    <tr>\n",
              "      <th>1</th>\n",
              "      <td>0</td>\n",
              "      <td>0</td>\n",
              "      <td>0</td>\n",
              "      <td>0</td>\n",
              "      <td>0</td>\n",
              "    </tr>\n",
              "    <tr>\n",
              "      <th>2</th>\n",
              "      <td>0</td>\n",
              "      <td>0</td>\n",
              "      <td>0</td>\n",
              "      <td>0</td>\n",
              "      <td>0</td>\n",
              "    </tr>\n",
              "    <tr>\n",
              "      <th>3</th>\n",
              "      <td>0</td>\n",
              "      <td>0</td>\n",
              "      <td>0</td>\n",
              "      <td>0</td>\n",
              "      <td>0</td>\n",
              "    </tr>\n",
              "    <tr>\n",
              "      <th>4</th>\n",
              "      <td>0</td>\n",
              "      <td>0</td>\n",
              "      <td>0</td>\n",
              "      <td>0</td>\n",
              "      <td>1</td>\n",
              "    </tr>\n",
              "  </tbody>\n",
              "</table>\n",
              "</div>\n",
              "      <button class=\"colab-df-convert\" onclick=\"convertToInteractive('df-61d6f056-9925-44b3-8138-abcc9f9d6616')\"\n",
              "              title=\"Convert this dataframe to an interactive table.\"\n",
              "              style=\"display:none;\">\n",
              "        \n",
              "  <svg xmlns=\"http://www.w3.org/2000/svg\" height=\"24px\"viewBox=\"0 0 24 24\"\n",
              "       width=\"24px\">\n",
              "    <path d=\"M0 0h24v24H0V0z\" fill=\"none\"/>\n",
              "    <path d=\"M18.56 5.44l.94 2.06.94-2.06 2.06-.94-2.06-.94-.94-2.06-.94 2.06-2.06.94zm-11 1L8.5 8.5l.94-2.06 2.06-.94-2.06-.94L8.5 2.5l-.94 2.06-2.06.94zm10 10l.94 2.06.94-2.06 2.06-.94-2.06-.94-.94-2.06-.94 2.06-2.06.94z\"/><path d=\"M17.41 7.96l-1.37-1.37c-.4-.4-.92-.59-1.43-.59-.52 0-1.04.2-1.43.59L10.3 9.45l-7.72 7.72c-.78.78-.78 2.05 0 2.83L4 21.41c.39.39.9.59 1.41.59.51 0 1.02-.2 1.41-.59l7.78-7.78 2.81-2.81c.8-.78.8-2.07 0-2.86zM5.41 20L4 18.59l7.72-7.72 1.47 1.35L5.41 20z\"/>\n",
              "  </svg>\n",
              "      </button>\n",
              "      \n",
              "  <style>\n",
              "    .colab-df-container {\n",
              "      display:flex;\n",
              "      flex-wrap:wrap;\n",
              "      gap: 12px;\n",
              "    }\n",
              "\n",
              "    .colab-df-convert {\n",
              "      background-color: #E8F0FE;\n",
              "      border: none;\n",
              "      border-radius: 50%;\n",
              "      cursor: pointer;\n",
              "      display: none;\n",
              "      fill: #1967D2;\n",
              "      height: 32px;\n",
              "      padding: 0 0 0 0;\n",
              "      width: 32px;\n",
              "    }\n",
              "\n",
              "    .colab-df-convert:hover {\n",
              "      background-color: #E2EBFA;\n",
              "      box-shadow: 0px 1px 2px rgba(60, 64, 67, 0.3), 0px 1px 3px 1px rgba(60, 64, 67, 0.15);\n",
              "      fill: #174EA6;\n",
              "    }\n",
              "\n",
              "    [theme=dark] .colab-df-convert {\n",
              "      background-color: #3B4455;\n",
              "      fill: #D2E3FC;\n",
              "    }\n",
              "\n",
              "    [theme=dark] .colab-df-convert:hover {\n",
              "      background-color: #434B5C;\n",
              "      box-shadow: 0px 1px 3px 1px rgba(0, 0, 0, 0.15);\n",
              "      filter: drop-shadow(0px 1px 2px rgba(0, 0, 0, 0.3));\n",
              "      fill: #FFFFFF;\n",
              "    }\n",
              "  </style>\n",
              "\n",
              "      <script>\n",
              "        const buttonEl =\n",
              "          document.querySelector('#df-61d6f056-9925-44b3-8138-abcc9f9d6616 button.colab-df-convert');\n",
              "        buttonEl.style.display =\n",
              "          google.colab.kernel.accessAllowed ? 'block' : 'none';\n",
              "\n",
              "        async function convertToInteractive(key) {\n",
              "          const element = document.querySelector('#df-61d6f056-9925-44b3-8138-abcc9f9d6616');\n",
              "          const dataTable =\n",
              "            await google.colab.kernel.invokeFunction('convertToInteractive',\n",
              "                                                     [key], {});\n",
              "          if (!dataTable) return;\n",
              "\n",
              "          const docLinkHtml = 'Like what you see? Visit the ' +\n",
              "            '<a target=\"_blank\" href=https://colab.research.google.com/notebooks/data_table.ipynb>data table notebook</a>'\n",
              "            + ' to learn more about interactive tables.';\n",
              "          element.innerHTML = '';\n",
              "          dataTable['output_type'] = 'display_data';\n",
              "          await google.colab.output.renderOutput(dataTable, element);\n",
              "          const docLink = document.createElement('div');\n",
              "          docLink.innerHTML = docLinkHtml;\n",
              "          element.appendChild(docLink);\n",
              "        }\n",
              "      </script>\n",
              "    </div>\n",
              "  </div>\n",
              "  "
            ]
          },
          "metadata": {},
          "execution_count": 500
        }
      ]
    },
    {
      "cell_type": "code",
      "source": [
        "sec_X_train, sec_X_test, sec_y_train, sec_y_test = \\\n",
        "train_test_split(new_sec_df, y, train_size=0.7, random_state=42)"
      ],
      "metadata": {
        "id": "2-XDvkeHzCxs"
      },
      "execution_count": null,
      "outputs": []
    },
    {
      "cell_type": "code",
      "source": [
        "sec_rnf_mod =  RandomForestClassifier()\n",
        "sec_rnf_mod.fit(sec_X_train, sec_y_train)\n",
        "\n",
        "# Πρόβλεψη μοντέλου στο train set\n",
        "sec_y_predtrain_rnf = sec_rnf_mod.predict(sec_X_train)\n",
        "sec_rnf_accuracy_train = accuracy_score(sec_y_train, sec_y_predtrain_rnf)\n",
        "\n",
        "# Πρόβλεψη μοντέλου στο test set\n",
        "sec_y_pred_rnf = sec_rnf_mod.predict(sec_X_test)\n",
        "sec_rnf_accuracy = accuracy_score(sec_y_test, sec_y_pred_rnf)\n",
        "\n",
        "print(f'Train accuracy: {sec_rnf_accuracy_train:.3f}\\\n",
        "        \\nTest accuracy: {sec_rnf_accuracy:.3f}')"
      ],
      "metadata": {
        "colab": {
          "base_uri": "https://localhost:8080/"
        },
        "id": "phYfRkdlzdQK",
        "outputId": "bc74373a-a783-4b52-a524-b70ab240a168"
      },
      "execution_count": null,
      "outputs": [
        {
          "output_type": "stream",
          "name": "stdout",
          "text": [
            "Train accuracy: 0.641        \n",
            "Test accuracy: 0.640\n"
          ]
        }
      ]
    },
    {
      "cell_type": "markdown",
      "source": [
        "### **VarianceThreshold**\n",
        "Σε αυτή τη μέθοδο δεν επιλέγουμε εμείς τον αριθμό των γνωρισμάτων αλλά αυτή διώχνει τα γνωρίσματα των οποίων η απόκλιση είναι μεγαλύτερη από το **threshold** που έχουμε ορίσει. Παρατηρήσαμε ότι με **threshold=0.247** μένουν 5 γνωρίσματα, οπότε επιλέγουμε αυτό. "
      ],
      "metadata": {
        "id": "DiNx2Kn2F7s1"
      }
    },
    {
      "cell_type": "code",
      "source": [
        "from sklearn.feature_selection import VarianceThreshold\n",
        "\n",
        "X2 = sec_df.drop(['Y'], axis=1)\n",
        "\n",
        "# Βάζουμε το threshold στο 0.247, για να μείνουν τα 5 γνωρίσματα.\n",
        "selector = VarianceThreshold(threshold=0.247)\n",
        "X_new2 = selector.fit_transform(X2)\n",
        "\n",
        "# Παίρνουμε τους δείκτες των γνωρισμάτων που επιλέχθηκαν.\n",
        "selected_feature_indices2 = selector.get_support(indices=True)\n",
        "\n",
        "selected_feature_indices2"
      ],
      "metadata": {
        "colab": {
          "base_uri": "https://localhost:8080/"
        },
        "id": "ukQ2mrdZ0xzd",
        "outputId": "35685a38-0d75-4561-a2ab-60538da789e1"
      },
      "execution_count": null,
      "outputs": [
        {
          "output_type": "execute_result",
          "data": {
            "text/plain": [
              "array([  0,   6,  27,  28, 105])"
            ]
          },
          "metadata": {},
          "execution_count": 492
        }
      ]
    },
    {
      "cell_type": "code",
      "source": [
        "new_sec_df2 = sec_df.iloc[:, selected_feature_indices2]\n",
        "new_sec_df2.head()"
      ],
      "metadata": {
        "colab": {
          "base_uri": "https://localhost:8080/",
          "height": 206
        },
        "id": "JGm7FIL01zXw",
        "outputId": "45f7bf70-3a0c-42d9-9a9e-f32994b59d9b"
      },
      "execution_count": null,
      "outputs": [
        {
          "output_type": "execute_result",
          "data": {
            "text/plain": [
              "   temperature  destination_Home  expiration_2h  gender_Female  \\\n",
              "0           55                 0              0              1   \n",
              "1           80                 0              1              1   \n",
              "2           80                 0              1              1   \n",
              "3           80                 0              1              1   \n",
              "4           80                 0              0              1   \n",
              "\n",
              "   Restaurant20To50_gt8  \n",
              "0                     0  \n",
              "1                     0  \n",
              "2                     0  \n",
              "3                     0  \n",
              "4                     0  "
            ],
            "text/html": [
              "\n",
              "  <div id=\"df-77c91a5b-66f6-4d6e-9b8a-976112a408a1\">\n",
              "    <div class=\"colab-df-container\">\n",
              "      <div>\n",
              "<style scoped>\n",
              "    .dataframe tbody tr th:only-of-type {\n",
              "        vertical-align: middle;\n",
              "    }\n",
              "\n",
              "    .dataframe tbody tr th {\n",
              "        vertical-align: top;\n",
              "    }\n",
              "\n",
              "    .dataframe thead th {\n",
              "        text-align: right;\n",
              "    }\n",
              "</style>\n",
              "<table border=\"1\" class=\"dataframe\">\n",
              "  <thead>\n",
              "    <tr style=\"text-align: right;\">\n",
              "      <th></th>\n",
              "      <th>temperature</th>\n",
              "      <th>destination_Home</th>\n",
              "      <th>expiration_2h</th>\n",
              "      <th>gender_Female</th>\n",
              "      <th>Restaurant20To50_gt8</th>\n",
              "    </tr>\n",
              "  </thead>\n",
              "  <tbody>\n",
              "    <tr>\n",
              "      <th>0</th>\n",
              "      <td>55</td>\n",
              "      <td>0</td>\n",
              "      <td>0</td>\n",
              "      <td>1</td>\n",
              "      <td>0</td>\n",
              "    </tr>\n",
              "    <tr>\n",
              "      <th>1</th>\n",
              "      <td>80</td>\n",
              "      <td>0</td>\n",
              "      <td>1</td>\n",
              "      <td>1</td>\n",
              "      <td>0</td>\n",
              "    </tr>\n",
              "    <tr>\n",
              "      <th>2</th>\n",
              "      <td>80</td>\n",
              "      <td>0</td>\n",
              "      <td>1</td>\n",
              "      <td>1</td>\n",
              "      <td>0</td>\n",
              "    </tr>\n",
              "    <tr>\n",
              "      <th>3</th>\n",
              "      <td>80</td>\n",
              "      <td>0</td>\n",
              "      <td>1</td>\n",
              "      <td>1</td>\n",
              "      <td>0</td>\n",
              "    </tr>\n",
              "    <tr>\n",
              "      <th>4</th>\n",
              "      <td>80</td>\n",
              "      <td>0</td>\n",
              "      <td>0</td>\n",
              "      <td>1</td>\n",
              "      <td>0</td>\n",
              "    </tr>\n",
              "  </tbody>\n",
              "</table>\n",
              "</div>\n",
              "      <button class=\"colab-df-convert\" onclick=\"convertToInteractive('df-77c91a5b-66f6-4d6e-9b8a-976112a408a1')\"\n",
              "              title=\"Convert this dataframe to an interactive table.\"\n",
              "              style=\"display:none;\">\n",
              "        \n",
              "  <svg xmlns=\"http://www.w3.org/2000/svg\" height=\"24px\"viewBox=\"0 0 24 24\"\n",
              "       width=\"24px\">\n",
              "    <path d=\"M0 0h24v24H0V0z\" fill=\"none\"/>\n",
              "    <path d=\"M18.56 5.44l.94 2.06.94-2.06 2.06-.94-2.06-.94-.94-2.06-.94 2.06-2.06.94zm-11 1L8.5 8.5l.94-2.06 2.06-.94-2.06-.94L8.5 2.5l-.94 2.06-2.06.94zm10 10l.94 2.06.94-2.06 2.06-.94-2.06-.94-.94-2.06-.94 2.06-2.06.94z\"/><path d=\"M17.41 7.96l-1.37-1.37c-.4-.4-.92-.59-1.43-.59-.52 0-1.04.2-1.43.59L10.3 9.45l-7.72 7.72c-.78.78-.78 2.05 0 2.83L4 21.41c.39.39.9.59 1.41.59.51 0 1.02-.2 1.41-.59l7.78-7.78 2.81-2.81c.8-.78.8-2.07 0-2.86zM5.41 20L4 18.59l7.72-7.72 1.47 1.35L5.41 20z\"/>\n",
              "  </svg>\n",
              "      </button>\n",
              "      \n",
              "  <style>\n",
              "    .colab-df-container {\n",
              "      display:flex;\n",
              "      flex-wrap:wrap;\n",
              "      gap: 12px;\n",
              "    }\n",
              "\n",
              "    .colab-df-convert {\n",
              "      background-color: #E8F0FE;\n",
              "      border: none;\n",
              "      border-radius: 50%;\n",
              "      cursor: pointer;\n",
              "      display: none;\n",
              "      fill: #1967D2;\n",
              "      height: 32px;\n",
              "      padding: 0 0 0 0;\n",
              "      width: 32px;\n",
              "    }\n",
              "\n",
              "    .colab-df-convert:hover {\n",
              "      background-color: #E2EBFA;\n",
              "      box-shadow: 0px 1px 2px rgba(60, 64, 67, 0.3), 0px 1px 3px 1px rgba(60, 64, 67, 0.15);\n",
              "      fill: #174EA6;\n",
              "    }\n",
              "\n",
              "    [theme=dark] .colab-df-convert {\n",
              "      background-color: #3B4455;\n",
              "      fill: #D2E3FC;\n",
              "    }\n",
              "\n",
              "    [theme=dark] .colab-df-convert:hover {\n",
              "      background-color: #434B5C;\n",
              "      box-shadow: 0px 1px 3px 1px rgba(0, 0, 0, 0.15);\n",
              "      filter: drop-shadow(0px 1px 2px rgba(0, 0, 0, 0.3));\n",
              "      fill: #FFFFFF;\n",
              "    }\n",
              "  </style>\n",
              "\n",
              "      <script>\n",
              "        const buttonEl =\n",
              "          document.querySelector('#df-77c91a5b-66f6-4d6e-9b8a-976112a408a1 button.colab-df-convert');\n",
              "        buttonEl.style.display =\n",
              "          google.colab.kernel.accessAllowed ? 'block' : 'none';\n",
              "\n",
              "        async function convertToInteractive(key) {\n",
              "          const element = document.querySelector('#df-77c91a5b-66f6-4d6e-9b8a-976112a408a1');\n",
              "          const dataTable =\n",
              "            await google.colab.kernel.invokeFunction('convertToInteractive',\n",
              "                                                     [key], {});\n",
              "          if (!dataTable) return;\n",
              "\n",
              "          const docLinkHtml = 'Like what you see? Visit the ' +\n",
              "            '<a target=\"_blank\" href=https://colab.research.google.com/notebooks/data_table.ipynb>data table notebook</a>'\n",
              "            + ' to learn more about interactive tables.';\n",
              "          element.innerHTML = '';\n",
              "          dataTable['output_type'] = 'display_data';\n",
              "          await google.colab.output.renderOutput(dataTable, element);\n",
              "          const docLink = document.createElement('div');\n",
              "          docLink.innerHTML = docLinkHtml;\n",
              "          element.appendChild(docLink);\n",
              "        }\n",
              "      </script>\n",
              "    </div>\n",
              "  </div>\n",
              "  "
            ]
          },
          "metadata": {},
          "execution_count": 493
        }
      ]
    },
    {
      "cell_type": "code",
      "source": [
        "sec_X_train2, sec_X_test2, sec_y_train2, sec_y_test2 = \\\n",
        "train_test_split(new_sec_df2, y, train_size=0.7, random_state=42)"
      ],
      "metadata": {
        "id": "t8sAbFBh2CZW"
      },
      "execution_count": null,
      "outputs": []
    },
    {
      "cell_type": "code",
      "source": [
        "sec_rnf_mod2 =  RandomForestClassifier()\n",
        "sec_rnf_mod2.fit(sec_X_train2, sec_y_train2)\n",
        "\n",
        "# Πρόβλεψη μοντέλου στο train set\n",
        "sec_y_predtrain_rnf2 = sec_rnf_mod2.predict(sec_X_train2)\n",
        "sec_rnf_accuracy_train2 = accuracy_score(sec_y_train2, sec_y_predtrain_rnf2)\n",
        "\n",
        "# Πρόβλεψη μοντέλου στο test set\n",
        "sec_y_pred_rnf2 = sec_rnf_mod2.predict(sec_X_test2)\n",
        "sec_rnf_accuracy2 = accuracy_score(sec_y_test2, sec_y_pred_rnf2)\n",
        "\n",
        "print(f'Train accuracy: {sec_rnf_accuracy_train2:.3f}\\\n",
        "        \\nTest accuracy: {sec_rnf_accuracy2:.3f}')"
      ],
      "metadata": {
        "colab": {
          "base_uri": "https://localhost:8080/"
        },
        "id": "PnVNkU_R2I9C",
        "outputId": "c18c862f-f054-4d06-d34a-8a28141f825b"
      },
      "execution_count": null,
      "outputs": [
        {
          "output_type": "stream",
          "name": "stdout",
          "text": [
            "Train accuracy: 0.604        \n",
            "Test accuracy: 0.614\n"
          ]
        }
      ]
    },
    {
      "cell_type": "markdown",
      "source": [
        "# **Γ) Clustering / Συσταδοποίηση**\n",
        "Στο **τρίτο και τελευταίο μέρος** θα αναπτυχθούν μοντέλα **συσταδοποίησης** και θα **εκπαιδευτούν** στο ήδη **καθαρισμένο** (από το **A μέρος**) **dataset** μας."
      ],
      "metadata": {
        "id": "C_LkQUkOfl1Z"
      }
    },
    {
      "cell_type": "code",
      "source": [
        "cluster_df.head()"
      ],
      "metadata": {
        "id": "cCAPSrZwGW3b",
        "outputId": "9efff7d0-53f2-4d48-9d5c-60cbf0162f60",
        "colab": {
          "base_uri": "https://localhost:8080/",
          "height": 317
        }
      },
      "execution_count": 197,
      "outputs": [
        {
          "output_type": "execute_result",
          "data": {
            "text/plain": [
              "   temperature  has_children  toCoupon_GEQ15min  toCoupon_GEQ25min  \\\n",
              "0           55             1                  0                  0   \n",
              "1           80             1                  0                  0   \n",
              "2           80             1                  1                  0   \n",
              "3           80             1                  1                  0   \n",
              "4           80             1                  1                  0   \n",
              "\n",
              "   direction_same  Y  destination_Home  destination_No Urgent Place  \\\n",
              "0               0  1                 0                            1   \n",
              "1               0  0                 0                            1   \n",
              "2               0  1                 0                            1   \n",
              "3               0  0                 0                            1   \n",
              "4               0  0                 0                            1   \n",
              "\n",
              "   destination_Work  passanger_Alone  ...  RestaurantLessThan20_1~3  \\\n",
              "0                 0                1  ...                         0   \n",
              "1                 0                0  ...                         0   \n",
              "2                 0                0  ...                         0   \n",
              "3                 0                0  ...                         0   \n",
              "4                 0                0  ...                         0   \n",
              "\n",
              "   RestaurantLessThan20_4~8  RestaurantLessThan20_gt8  \\\n",
              "0                         1                         0   \n",
              "1                         1                         0   \n",
              "2                         1                         0   \n",
              "3                         1                         0   \n",
              "4                         1                         0   \n",
              "\n",
              "   RestaurantLessThan20_less1  RestaurantLessThan20_never  \\\n",
              "0                           0                           0   \n",
              "1                           0                           0   \n",
              "2                           0                           0   \n",
              "3                           0                           0   \n",
              "4                           0                           0   \n",
              "\n",
              "   Restaurant20To50_1~3  Restaurant20To50_4~8  Restaurant20To50_gt8  \\\n",
              "0                     1                     0                     0   \n",
              "1                     1                     0                     0   \n",
              "2                     1                     0                     0   \n",
              "3                     1                     0                     0   \n",
              "4                     1                     0                     0   \n",
              "\n",
              "   Restaurant20To50_less1  Restaurant20To50_never  \n",
              "0                       0                       0  \n",
              "1                       0                       0  \n",
              "2                       0                       0  \n",
              "3                       0                       0  \n",
              "4                       0                       0  \n",
              "\n",
              "[5 rows x 108 columns]"
            ],
            "text/html": [
              "\n",
              "  <div id=\"df-84d81c49-566b-479c-ba97-1e60251089d5\">\n",
              "    <div class=\"colab-df-container\">\n",
              "      <div>\n",
              "<style scoped>\n",
              "    .dataframe tbody tr th:only-of-type {\n",
              "        vertical-align: middle;\n",
              "    }\n",
              "\n",
              "    .dataframe tbody tr th {\n",
              "        vertical-align: top;\n",
              "    }\n",
              "\n",
              "    .dataframe thead th {\n",
              "        text-align: right;\n",
              "    }\n",
              "</style>\n",
              "<table border=\"1\" class=\"dataframe\">\n",
              "  <thead>\n",
              "    <tr style=\"text-align: right;\">\n",
              "      <th></th>\n",
              "      <th>temperature</th>\n",
              "      <th>has_children</th>\n",
              "      <th>toCoupon_GEQ15min</th>\n",
              "      <th>toCoupon_GEQ25min</th>\n",
              "      <th>direction_same</th>\n",
              "      <th>Y</th>\n",
              "      <th>destination_Home</th>\n",
              "      <th>destination_No Urgent Place</th>\n",
              "      <th>destination_Work</th>\n",
              "      <th>passanger_Alone</th>\n",
              "      <th>...</th>\n",
              "      <th>RestaurantLessThan20_1~3</th>\n",
              "      <th>RestaurantLessThan20_4~8</th>\n",
              "      <th>RestaurantLessThan20_gt8</th>\n",
              "      <th>RestaurantLessThan20_less1</th>\n",
              "      <th>RestaurantLessThan20_never</th>\n",
              "      <th>Restaurant20To50_1~3</th>\n",
              "      <th>Restaurant20To50_4~8</th>\n",
              "      <th>Restaurant20To50_gt8</th>\n",
              "      <th>Restaurant20To50_less1</th>\n",
              "      <th>Restaurant20To50_never</th>\n",
              "    </tr>\n",
              "  </thead>\n",
              "  <tbody>\n",
              "    <tr>\n",
              "      <th>0</th>\n",
              "      <td>55</td>\n",
              "      <td>1</td>\n",
              "      <td>0</td>\n",
              "      <td>0</td>\n",
              "      <td>0</td>\n",
              "      <td>1</td>\n",
              "      <td>0</td>\n",
              "      <td>1</td>\n",
              "      <td>0</td>\n",
              "      <td>1</td>\n",
              "      <td>...</td>\n",
              "      <td>0</td>\n",
              "      <td>1</td>\n",
              "      <td>0</td>\n",
              "      <td>0</td>\n",
              "      <td>0</td>\n",
              "      <td>1</td>\n",
              "      <td>0</td>\n",
              "      <td>0</td>\n",
              "      <td>0</td>\n",
              "      <td>0</td>\n",
              "    </tr>\n",
              "    <tr>\n",
              "      <th>1</th>\n",
              "      <td>80</td>\n",
              "      <td>1</td>\n",
              "      <td>0</td>\n",
              "      <td>0</td>\n",
              "      <td>0</td>\n",
              "      <td>0</td>\n",
              "      <td>0</td>\n",
              "      <td>1</td>\n",
              "      <td>0</td>\n",
              "      <td>0</td>\n",
              "      <td>...</td>\n",
              "      <td>0</td>\n",
              "      <td>1</td>\n",
              "      <td>0</td>\n",
              "      <td>0</td>\n",
              "      <td>0</td>\n",
              "      <td>1</td>\n",
              "      <td>0</td>\n",
              "      <td>0</td>\n",
              "      <td>0</td>\n",
              "      <td>0</td>\n",
              "    </tr>\n",
              "    <tr>\n",
              "      <th>2</th>\n",
              "      <td>80</td>\n",
              "      <td>1</td>\n",
              "      <td>1</td>\n",
              "      <td>0</td>\n",
              "      <td>0</td>\n",
              "      <td>1</td>\n",
              "      <td>0</td>\n",
              "      <td>1</td>\n",
              "      <td>0</td>\n",
              "      <td>0</td>\n",
              "      <td>...</td>\n",
              "      <td>0</td>\n",
              "      <td>1</td>\n",
              "      <td>0</td>\n",
              "      <td>0</td>\n",
              "      <td>0</td>\n",
              "      <td>1</td>\n",
              "      <td>0</td>\n",
              "      <td>0</td>\n",
              "      <td>0</td>\n",
              "      <td>0</td>\n",
              "    </tr>\n",
              "    <tr>\n",
              "      <th>3</th>\n",
              "      <td>80</td>\n",
              "      <td>1</td>\n",
              "      <td>1</td>\n",
              "      <td>0</td>\n",
              "      <td>0</td>\n",
              "      <td>0</td>\n",
              "      <td>0</td>\n",
              "      <td>1</td>\n",
              "      <td>0</td>\n",
              "      <td>0</td>\n",
              "      <td>...</td>\n",
              "      <td>0</td>\n",
              "      <td>1</td>\n",
              "      <td>0</td>\n",
              "      <td>0</td>\n",
              "      <td>0</td>\n",
              "      <td>1</td>\n",
              "      <td>0</td>\n",
              "      <td>0</td>\n",
              "      <td>0</td>\n",
              "      <td>0</td>\n",
              "    </tr>\n",
              "    <tr>\n",
              "      <th>4</th>\n",
              "      <td>80</td>\n",
              "      <td>1</td>\n",
              "      <td>1</td>\n",
              "      <td>0</td>\n",
              "      <td>0</td>\n",
              "      <td>0</td>\n",
              "      <td>0</td>\n",
              "      <td>1</td>\n",
              "      <td>0</td>\n",
              "      <td>0</td>\n",
              "      <td>...</td>\n",
              "      <td>0</td>\n",
              "      <td>1</td>\n",
              "      <td>0</td>\n",
              "      <td>0</td>\n",
              "      <td>0</td>\n",
              "      <td>1</td>\n",
              "      <td>0</td>\n",
              "      <td>0</td>\n",
              "      <td>0</td>\n",
              "      <td>0</td>\n",
              "    </tr>\n",
              "  </tbody>\n",
              "</table>\n",
              "<p>5 rows × 108 columns</p>\n",
              "</div>\n",
              "      <button class=\"colab-df-convert\" onclick=\"convertToInteractive('df-84d81c49-566b-479c-ba97-1e60251089d5')\"\n",
              "              title=\"Convert this dataframe to an interactive table.\"\n",
              "              style=\"display:none;\">\n",
              "        \n",
              "  <svg xmlns=\"http://www.w3.org/2000/svg\" height=\"24px\"viewBox=\"0 0 24 24\"\n",
              "       width=\"24px\">\n",
              "    <path d=\"M0 0h24v24H0V0z\" fill=\"none\"/>\n",
              "    <path d=\"M18.56 5.44l.94 2.06.94-2.06 2.06-.94-2.06-.94-.94-2.06-.94 2.06-2.06.94zm-11 1L8.5 8.5l.94-2.06 2.06-.94-2.06-.94L8.5 2.5l-.94 2.06-2.06.94zm10 10l.94 2.06.94-2.06 2.06-.94-2.06-.94-.94-2.06-.94 2.06-2.06.94z\"/><path d=\"M17.41 7.96l-1.37-1.37c-.4-.4-.92-.59-1.43-.59-.52 0-1.04.2-1.43.59L10.3 9.45l-7.72 7.72c-.78.78-.78 2.05 0 2.83L4 21.41c.39.39.9.59 1.41.59.51 0 1.02-.2 1.41-.59l7.78-7.78 2.81-2.81c.8-.78.8-2.07 0-2.86zM5.41 20L4 18.59l7.72-7.72 1.47 1.35L5.41 20z\"/>\n",
              "  </svg>\n",
              "      </button>\n",
              "      \n",
              "  <style>\n",
              "    .colab-df-container {\n",
              "      display:flex;\n",
              "      flex-wrap:wrap;\n",
              "      gap: 12px;\n",
              "    }\n",
              "\n",
              "    .colab-df-convert {\n",
              "      background-color: #E8F0FE;\n",
              "      border: none;\n",
              "      border-radius: 50%;\n",
              "      cursor: pointer;\n",
              "      display: none;\n",
              "      fill: #1967D2;\n",
              "      height: 32px;\n",
              "      padding: 0 0 0 0;\n",
              "      width: 32px;\n",
              "    }\n",
              "\n",
              "    .colab-df-convert:hover {\n",
              "      background-color: #E2EBFA;\n",
              "      box-shadow: 0px 1px 2px rgba(60, 64, 67, 0.3), 0px 1px 3px 1px rgba(60, 64, 67, 0.15);\n",
              "      fill: #174EA6;\n",
              "    }\n",
              "\n",
              "    [theme=dark] .colab-df-convert {\n",
              "      background-color: #3B4455;\n",
              "      fill: #D2E3FC;\n",
              "    }\n",
              "\n",
              "    [theme=dark] .colab-df-convert:hover {\n",
              "      background-color: #434B5C;\n",
              "      box-shadow: 0px 1px 3px 1px rgba(0, 0, 0, 0.15);\n",
              "      filter: drop-shadow(0px 1px 2px rgba(0, 0, 0, 0.3));\n",
              "      fill: #FFFFFF;\n",
              "    }\n",
              "  </style>\n",
              "\n",
              "      <script>\n",
              "        const buttonEl =\n",
              "          document.querySelector('#df-84d81c49-566b-479c-ba97-1e60251089d5 button.colab-df-convert');\n",
              "        buttonEl.style.display =\n",
              "          google.colab.kernel.accessAllowed ? 'block' : 'none';\n",
              "\n",
              "        async function convertToInteractive(key) {\n",
              "          const element = document.querySelector('#df-84d81c49-566b-479c-ba97-1e60251089d5');\n",
              "          const dataTable =\n",
              "            await google.colab.kernel.invokeFunction('convertToInteractive',\n",
              "                                                     [key], {});\n",
              "          if (!dataTable) return;\n",
              "\n",
              "          const docLinkHtml = 'Like what you see? Visit the ' +\n",
              "            '<a target=\"_blank\" href=https://colab.research.google.com/notebooks/data_table.ipynb>data table notebook</a>'\n",
              "            + ' to learn more about interactive tables.';\n",
              "          element.innerHTML = '';\n",
              "          dataTable['output_type'] = 'display_data';\n",
              "          await google.colab.output.renderOutput(dataTable, element);\n",
              "          const docLink = document.createElement('div');\n",
              "          docLink.innerHTML = docLinkHtml;\n",
              "          element.appendChild(docLink);\n",
              "        }\n",
              "      </script>\n",
              "    </div>\n",
              "  </div>\n",
              "  "
            ]
          },
          "metadata": {},
          "execution_count": 197
        }
      ]
    },
    {
      "cell_type": "code",
      "source": [
        "cluster_df.shape"
      ],
      "metadata": {
        "colab": {
          "base_uri": "https://localhost:8080/"
        },
        "id": "fBTRC5FEpFBu",
        "outputId": "7040f83b-3498-4cad-ad5c-0923bf378b06"
      },
      "execution_count": 198,
      "outputs": [
        {
          "output_type": "execute_result",
          "data": {
            "text/plain": [
              "(12610, 108)"
            ]
          },
          "metadata": {},
          "execution_count": 198
        }
      ]
    },
    {
      "cell_type": "code",
      "source": [
        "from sklearn.preprocessing import StandardScaler\n",
        "scaler = StandardScaler()\n",
        "scaled_cluster_df = scaler.fit_transform(cluster_df)"
      ],
      "metadata": {
        "id": "SBuiUflANnxq"
      },
      "execution_count": 199,
      "outputs": []
    },
    {
      "cell_type": "markdown",
      "source": [
        "## **PCA**\n",
        "Επειδή έχουμε πάρα πολλά γνωρίσματα (**108 γνωρίσματα = 108 διαστάσεις**) και δεν μπορούμε να τα κάνουμε **plot** στον δισδιάστατο χώρο, θα χρησιμοποιήσουμε την τεχνική **επιλογής χαρακτηριστικών PCA** (**Ανάλυση κύριων συνιστωσών**) για να **μειώσουμε τη διαστατικότητα** των δεδομένων. Η **PCA** είναι μία τεχνική **χωρίς επίβλεψη** και δεν θα λάβει υπόψη τις ετικέτες των δεδομένων (\"**Y**\"), αλλά μπορεί να χρησιμοποιηθεί για να κάνει τη διαδικασία της συσταδοποίησης **πιο αποδοτική από υπολογιστική άποψη**. Να σημειωθέι ότι έχουμε την δυνατότητα να καθορίσουμε τον **αριθμό των συνιστωσών** που θέλουμε να διατηρήσουμε.\n",
        "\n",
        "Επίσης η τεχνική αυτή συνίσταται με χρήση της **StandardScaler()** μιας και τα αποτελέσματα της είναι **πολύ ευαίσθητα** στην **κλιμάκωση των δεδομένων**. Βέβαια τα γνωρίσματα των δειγμάτων μας, πέραν του **temperature**, παίρνουν **τιμές 0 και 1**, οπότε **δεν θα χρειαστεί** η εφαρμογή του **StandardScaler()**."
      ],
      "metadata": {
        "id": "AwPeQ3wtrVmN"
      }
    },
    {
      "cell_type": "code",
      "source": [
        "from sklearn.decomposition import PCA\n",
        "\n",
        "# Δημιουργία αντικειμένου PCA με το επιθυμητό πλήθος συνιστωσών.\n",
        "pca = PCA(n_components=2)\n",
        "\n",
        "# Μετασχηματισμός δεδομένων με χρήση του αντικειμένου PCA.\n",
        "cluster_df_pca = pca.fit_transform(scaled_cluster_df)\n"
      ],
      "metadata": {
        "id": "uzcDtReHp8ms"
      },
      "execution_count": 200,
      "outputs": []
    },
    {
      "cell_type": "code",
      "source": [
        "from sklearn.cluster import KMeans\n",
        "wcss = []\n",
        "for i in range(1, 11):\n",
        "    kmeans = KMeans(n_clusters = i, init = 'k-means++', random_state = 42)\n",
        "    kmeans.fit(cluster_df_pca)\n",
        "    wcss.append(kmeans.inertia_)\n",
        "plt.plot(range(1, 11), wcss)\n",
        "plt.title('The Elbow Method')\n",
        "plt.xlabel('Number of clusters')\n",
        "plt.ylabel('WCSS')\n",
        "plt.show()"
      ],
      "metadata": {
        "id": "YIeOdCDMGu66",
        "outputId": "cb368485-feac-47e2-db2d-67226a12e6b5",
        "colab": {
          "base_uri": "https://localhost:8080/",
          "height": 295
        }
      },
      "execution_count": 201,
      "outputs": [
        {
          "output_type": "display_data",
          "data": {
            "text/plain": [
              "<Figure size 432x288 with 1 Axes>"
            ],
            "image/png": "[encoded data removed]"
          },
          "metadata": {
            "needs_background": "light"
          }
        }
      ]
    },
    {
      "cell_type": "code",
      "source": [
        "kmeans = KMeans(n_clusters = 4, init = 'k-means++', random_state = 42)\n",
        "y_kmeans = kmeans.fit_predict(cluster_df_pca)"
      ],
      "metadata": {
        "id": "URE0ceVoOFgD"
      },
      "execution_count": 202,
      "outputs": []
    },
    {
      "cell_type": "code",
      "source": [
        "plt.scatter(cluster_df_pca[y_kmeans == 0, 0], cluster_df_pca[y_kmeans == 0, 1], s = 1, c = 'red', label = 'Cluster 1')\n",
        "plt.scatter(cluster_df_pca[y_kmeans == 1, 0], cluster_df_pca[y_kmeans == 1, 1], s = 1, c = 'blue', label = 'Cluster 2')\n",
        "plt.scatter(cluster_df_pca[y_kmeans == 2, 0], cluster_df_pca[y_kmeans == 2, 1], s = 1, c = 'green', label = 'Cluster 3')\n",
        "plt.scatter(cluster_df_pca[y_kmeans == 3, 0], cluster_df_pca[y_kmeans == 3, 1], s = 1, c = 'cyan', label = 'Cluster 4')\n",
        "plt.scatter(kmeans.cluster_centers_[:, 0], kmeans.cluster_centers_[:, 1], s = 30, c = 'yellow', label = 'Centroids')\n",
        "plt.title('Clusters of potential customers')\n",
        "plt.xlabel('x-axis')\n",
        "plt.ylabel('y-axis')\n",
        "plt.legend()\n",
        "plt.show()"
      ],
      "metadata": {
        "id": "7fTaJRGjOk9Z",
        "outputId": "65527e18-08d0-485a-a54d-736b1cd6baec",
        "colab": {
          "base_uri": "https://localhost:8080/",
          "height": 295
        }
      },
      "execution_count": 203,
      "outputs": [
        {
          "output_type": "display_data",
          "data": {
            "text/plain": [
              "<Figure size 432x288 with 1 Axes>"
            ],
            "image/png": "[encoded data removed]"
          },
          "metadata": {
            "needs_background": "light"
          }
        }
      ]
    },
    {
      "cell_type": "code",
      "source": [
        "from sklearn.metrics import silhouette_score\n",
        "\n",
        "# Πρόβλεψη των labels συστάδων για κάθε data point\n",
        "cluster_pred = kmeans.predict(cluster_df_pca)\n",
        "\n",
        "# Υπολογισμός του silhouette score\n",
        "score = silhouette_score(cluster_df_pca, cluster_pred)\n",
        "\n",
        "print(\"Silhouette score: {:.3f}\".format(score))"
      ],
      "metadata": {
        "id": "xb7HjMi9uW9Q",
        "outputId": "a97f6700-fb6f-45f2-8832-eda91ec92bf1",
        "colab": {
          "base_uri": "https://localhost:8080/"
        }
      },
      "execution_count": 204,
      "outputs": [
        {
          "output_type": "stream",
          "name": "stdout",
          "text": [
            "Silhouette score: 0.454\n"
          ]
        }
      ]
    },
    {
      "cell_type": "code",
      "source": [
        "from sklearn.metrics import calinski_harabasz_score\n",
        "\n",
        "# Υπολογισμός του Calinski-Harabasz Index\n",
        "ch_index = calinski_harabasz_score(cluster_df_pca, cluster_pred)\n",
        "print(\"Calinski-Harabasz Index:\", ch_index)"
      ],
      "metadata": {
        "colab": {
          "base_uri": "https://localhost:8080/"
        },
        "id": "xNVOeTi1O0UA",
        "outputId": "2ec0b0cd-f134-4ad6-f978-a7f663b06d11"
      },
      "execution_count": 207,
      "outputs": [
        {
          "output_type": "stream",
          "name": "stdout",
          "text": [
            "Calinski-Harabasz Index: 14820.643358766409\n"
          ]
        }
      ]
    },
    {
      "cell_type": "markdown",
      "source": [
        "## **DBSCAN Clustering**"
      ],
      "metadata": {
        "id": "KTMV1TnhuSWs"
      }
    },
    {
      "cell_type": "markdown",
      "source": [
        "DBSCAN (Density-Based Spatial Clustering of Applications with Noise):\n",
        "Είναι ένας αλγόριθμος ομαδοποίησης με βάση την πυκνότητα, ο οποίος ομαδοποιεί τα σημεία δεδομένων που είναι πυκνά συγκεντρωμένα μεταξύ τους (σημεία με πολλούς κοντινούς γείτονες) και χαρακτηρίζει ως ακραία τα σημεία που βρίσκονται σε περιοχές χαμηλής πυκνότητας.\n",
        "- eps: είναι η μέγιστη απόσταση μεταξύ δύο δειγμάτων για να μπορούν να θεωρηθούν ότι ανήκουν στο ίδιο neighborhood.\n",
        "- min_points: είναι ο αριθμός των δειγμάτων σε ένα neighborhood για να θεωρηθεί ένα σημείο core point."
      ],
      "metadata": {
        "id": "s2gAEclauUPG"
      }
    },
    {
      "cell_type": "markdown",
      "source": [
        "Για να υπολογίσουμε την τιμή του Eps, θα υπολογίσουμε την απόσταση μεταξύ κάθε σημείου δεδομένων και του πλησιέστερου γείτονά του χρησιμοποιώντας το Nearest Neighbours. Στη συνέχεια, τα ταξινομούμε και τέλος τα σχεδιάζουμε. Από τη γραφική παράσταση, εντοπίζουμε τη μέγιστη τιμή στην καμπυλότητα της γραφικής παράστασης. Αυτή η τιμή είναι το Eps μας."
      ],
      "metadata": {
        "id": "HeBMMaUBuWFp"
      }
    },
    {
      "cell_type": "code",
      "source": [
        "scaled_cluster_df.shape"
      ],
      "metadata": {
        "id": "ueRwCdtOubh6",
        "outputId": "322d76a0-5a79-441f-9363-4f25e25a6d68",
        "colab": {
          "base_uri": "https://localhost:8080/"
        }
      },
      "execution_count": 226,
      "outputs": [
        {
          "output_type": "execute_result",
          "data": {
            "text/plain": [
              "(12610, 108)"
            ]
          },
          "metadata": {},
          "execution_count": 226
        }
      ]
    },
    {
      "cell_type": "code",
      "source": [
        "from sklearn.neighbors import NearestNeighbors\n",
        "\n",
        "# Δημιουργία αντικειμένου \n",
        "neighb = NearestNeighbors(n_neighbors=2)\n",
        "\n",
        "# Εκπαίδευση μοντέλου στο dataset\n",
        "nbrs=neighb.fit(cluster_df)\n",
        "\n",
        "# Υπολογισμός των πιο κοντινών γειτόνων\n",
        "distances,indices=nbrs.kneighbors(cluster_df)"
      ],
      "metadata": {
        "id": "WG-f9yADuc7z"
      },
      "execution_count": 227,
      "outputs": []
    },
    {
      "cell_type": "markdown",
      "source": [
        "Ταξινόμηση και σχεδίαση των αποστάσεων μεταξύ των σημείων"
      ],
      "metadata": {
        "id": "gC5uzUM5uiwX"
      }
    },
    {
      "cell_type": "code",
      "source": [
        "# Ταξινόμηση και σχεδίαση των αποστάσεων\n",
        "distances = np.sort(distances, axis = 0)\n",
        "\n",
        "# Παίρνουμε την δεύτερη στήλη των ταξ. αποστάστων\n",
        "distances = distances[:, 1]\n",
        "plt.rcParams['figure.figsize'] = (5,3)\n",
        "plt.plot(distances)\n",
        "plt.show()"
      ],
      "metadata": {
        "id": "8ZcqkGVpuj_q",
        "outputId": "614a270e-6864-4879-ca8b-eed66ec40bde",
        "colab": {
          "base_uri": "https://localhost:8080/",
          "height": 211
        }
      },
      "execution_count": 228,
      "outputs": [
        {
          "output_type": "display_data",
          "data": {
            "text/plain": [
              "<Figure size 360x216 with 1 Axes>"
            ],
            "image/png": "[encoded data removed]"
          },
          "metadata": {
            "needs_background": "light"
          }
        }
      ]
    },
    {
      "cell_type": "markdown",
      "source": [
        "Από το παραπάνω σχεδιάγραμμα παρατηρούμε ότι η μέγιστη καμπυλότητα βρίσκεται στο σημείο τρία, άρα έχουμε:\n",
        "* eps = 3.\n",
        "* επίσης min_points = n_neighbors * 2 = 4"
      ],
      "metadata": {
        "id": "OlRC1-jgul5a"
      }
    },
    {
      "cell_type": "code",
      "source": [
        "from sklearn.cluster import DBSCAN\n",
        "\n",
        "# Ορίζουμε τις παραμέτρους\n",
        "eps = 3\n",
        "min_points = 4\n",
        "\n",
        "# Εκπαιδεύουμε το μοντέλο\n",
        "dbscan = DBSCAN(eps=eps, min_samples=min_points).fit(cluster_df)\n",
        "\n",
        "# Παίρνουμε τα labels\n",
        "labels = dbscan.labels_ "
      ],
      "metadata": {
        "id": "E0NmtjAnuofj"
      },
      "execution_count": 229,
      "outputs": []
    },
    {
      "cell_type": "code",
      "source": [
        "# Plot the clusters\n",
        "plt.scatter(cluster_df_pca[:, 0], cluster_df_pca[:,1], c = labels, cmap= \"plasma\")\n",
        "plt.xlabel(\"\") # X-axis label\n",
        "plt.ylabel(\" \") # Y-axis label\n",
        "plt.show() # showing the plot"
      ],
      "metadata": {
        "id": "Fr1UIP6uuqUz",
        "outputId": "04fadc35-eeca-40e5-de8c-8899c27cf3ac",
        "colab": {
          "base_uri": "https://localhost:8080/",
          "height": 211
        }
      },
      "execution_count": 231,
      "outputs": [
        {
          "output_type": "display_data",
          "data": {
            "text/plain": [
              "<Figure size 360x216 with 1 Axes>"
            ],
            "image/png": "[encoded data removed]"
          },
          "metadata": {
            "needs_background": "light"
          }
        }
      ]
    },
    {
      "cell_type": "markdown",
      "source": [
        "Silhouette Score: Αυτή η μετρική μετράει την ομοιότητα του κάθε στοιχείου με τη δική του συστάδα σε σύγκριση με τις άλλες συστάδες. Κυμαίνεται απο -1 έως 1, με το 1 να υποδηλώνει τέλειο clustering και το -1 χαμηλού βαθμού clustering."
      ],
      "metadata": {
        "id": "Ztd_3lvNP9OH"
      }
    },
    {
      "cell_type": "code",
      "source": [
        "# Υπολογισμός silhouette score\n",
        "silhouette_score(cluster_df, labels)"
      ],
      "metadata": {
        "colab": {
          "base_uri": "https://localhost:8080/"
        },
        "id": "gQmZaXXsP8cc",
        "outputId": "ab915275-f186-49fb-a8ae-c09a671915ef"
      },
      "execution_count": 232,
      "outputs": [
        {
          "output_type": "execute_result",
          "data": {
            "text/plain": [
              "-0.019682199658799682"
            ]
          },
          "metadata": {},
          "execution_count": 232
        }
      ]
    },
    {
      "cell_type": "markdown",
      "source": [
        "Το Calinski-Harabasz Index, γνωστό και σαν Variance Ratio Criteria, χρησιμοποιείται συνήθως σαν μετρική εκτίμησης για την μέτρηση της ποιότητας του clustering. Χρησιμοποιεί την διακύμανση μεταξύ συστάδων με τη διακύμανση εντός συστάδας. Όσο πιο υψηλή τιμή τόσο καλύτερο το clustering."
      ],
      "metadata": {
        "id": "ZOn_AQh9QGFV"
      }
    },
    {
      "cell_type": "code",
      "source": [
        "# Υπολογισμός του Calinski-Harabasz Index\n",
        "ch_index = calinski_harabasz_score(cluster_df, labels)\n",
        "print(\"Calinski-Harabasz Index:\", ch_index)"
      ],
      "metadata": {
        "colab": {
          "base_uri": "https://localhost:8080/"
        },
        "id": "6PQhLLJWQDkV",
        "outputId": "48a38943-b931-4411-ae69-018dfdda7bb1"
      },
      "execution_count": 233,
      "outputs": [
        {
          "output_type": "stream",
          "name": "stdout",
          "text": [
            "Calinski-Harabasz Index: 994.8831688076831\n"
          ]
        }
      ]
    },
    {
      "cell_type": "code",
      "source": [
        "cluster_df_pca.shape"
      ],
      "metadata": {
        "id": "G08G6vaADAza",
        "outputId": "9f44079d-6278-4fa2-b5e6-a10d11d245a3",
        "colab": {
          "base_uri": "https://localhost:8080/"
        }
      },
      "execution_count": 234,
      "outputs": [
        {
          "output_type": "execute_result",
          "data": {
            "text/plain": [
              "(12610, 2)"
            ]
          },
          "metadata": {},
          "execution_count": 234
        }
      ]
    },
    {
      "cell_type": "code",
      "source": [
        "from sklearn.neighbors import NearestNeighbors\n",
        "\n",
        "# Δημιουργία αντικειμένου \n",
        "neighb = NearestNeighbors(n_neighbors=2)\n",
        "\n",
        "# Εκπαίδευση μοντέλου στο dataset\n",
        "nbrs=neighb.fit(cluster_df_pca)\n",
        "\n",
        "# Υπολογισμός των πιο κοντινών γειτόνων\n",
        "distances,indices=nbrs.kneighbors(cluster_df_pca)"
      ],
      "metadata": {
        "id": "MxDZbAm_DDmo"
      },
      "execution_count": 235,
      "outputs": []
    },
    {
      "cell_type": "code",
      "source": [
        "# Ταξινόμηση και σχεδίαση των αποστάσεων\n",
        "distances = np.sort(distances, axis = 0)\n",
        "\n",
        "# Παίρνουμε την δεύτερη στήλη των ταξ. αποστάστων\n",
        "distances = distances[:, 1]\n",
        "plt.rcParams['figure.figsize'] = (5,3)\n",
        "plt.plot(distances)\n",
        "plt.show()"
      ],
      "metadata": {
        "id": "grtbAm4MDFhK",
        "outputId": "ee30c493-9a04-4554-b418-31af713eaa6b",
        "colab": {
          "base_uri": "https://localhost:8080/",
          "height": 211
        }
      },
      "execution_count": 236,
      "outputs": [
        {
          "output_type": "display_data",
          "data": {
            "text/plain": [
              "<Figure size 360x216 with 1 Axes>"
            ],
            "image/png": "[encoded data removed]"
          },
          "metadata": {
            "needs_background": "light"
          }
        }
      ]
    },
    {
      "cell_type": "code",
      "source": [
        "from sklearn.cluster import DBSCAN\n",
        "\n",
        "# Ορίζουμε τις παραμέτρους\n",
        "eps = 0.15\n",
        "min_points = 4\n",
        "\n",
        "# Εκπαιδεύουμε το μοντέλο\n",
        "dbscan = DBSCAN(eps=eps, min_samples=min_points).fit(cluster_df_pca)\n",
        "\n",
        "# Παίρνουμε τα labels\n",
        "labels = dbscan.labels_ "
      ],
      "metadata": {
        "id": "XRzsMoB8DIuU"
      },
      "execution_count": 237,
      "outputs": []
    },
    {
      "cell_type": "code",
      "source": [
        "# Plot the clusters\n",
        "plt.scatter(cluster_df_pca[:, 0], cluster_df_pca[:,1], c = labels, cmap= \"plasma\")\n",
        "plt.xlabel(\"\") # X-axis label\n",
        "plt.ylabel(\" \") # Y-axis label\n",
        "plt.show() # showing the plot"
      ],
      "metadata": {
        "id": "O-4KTDP2DJ4W",
        "outputId": "1579ffce-7d52-4f81-83a0-7e58e1c37437",
        "colab": {
          "base_uri": "https://localhost:8080/",
          "height": 211
        }
      },
      "execution_count": 238,
      "outputs": [
        {
          "output_type": "display_data",
          "data": {
            "text/plain": [
              "<Figure size 360x216 with 1 Axes>"
            ],
            "image/png": "[encoded data removed]"
          },
          "metadata": {
            "needs_background": "light"
          }
        }
      ]
    },
    {
      "cell_type": "code",
      "source": [
        "# Υπολογισμός silhouette score\n",
        "silhouette_score(cluster_df_pca, labels)"
      ],
      "metadata": {
        "id": "-rFB4AjZDJzw",
        "outputId": "a8c2f66e-6496-4d6a-f202-bd88d44fca67",
        "colab": {
          "base_uri": "https://localhost:8080/"
        }
      },
      "execution_count": 239,
      "outputs": [
        {
          "output_type": "execute_result",
          "data": {
            "text/plain": [
              "-0.36695745773150945"
            ]
          },
          "metadata": {},
          "execution_count": 239
        }
      ]
    },
    {
      "cell_type": "code",
      "source": [
        "# Υπολογισμός του Calinski-Harabasz Index\n",
        "ch_index = calinski_harabasz_score(cluster_df_pca, labels)\n",
        "print(\"Calinski-Harabasz Index:\", ch_index)"
      ],
      "metadata": {
        "id": "l6kT_rNRDNzX",
        "outputId": "5edf639f-9a61-451a-e1c5-0359d0c10e16",
        "colab": {
          "base_uri": "https://localhost:8080/"
        }
      },
      "execution_count": 240,
      "outputs": [
        {
          "output_type": "stream",
          "name": "stdout",
          "text": [
            "Calinski-Harabasz Index: 30.61824951937152\n"
          ]
        }
      ]
    }
  ]
}