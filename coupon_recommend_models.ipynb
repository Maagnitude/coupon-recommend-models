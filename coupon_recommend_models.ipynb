{
  "nbformat": 4,
  "nbformat_minor": 0,
  "metadata": {
    "colab": {
      "provenance": [],
      "include_colab_link": true
    },
    "kernelspec": {
      "name": "python3",
      "display_name": "Python 3"
    },
    "language_info": {
      "name": "python"
    }
  },
  "cells": [
    {
      "cell_type": "markdown",
      "metadata": {
        "id": "view-in-github",
        "colab_type": "text"
      },
      "source": [
        "<a href=\"https://colab.research.google.com/github/Maagnitude/coupon-recommend-models/blob/main/coupon_recommend_models.ipynb\" target=\"_parent\"><img src=\"https://colab.research.google.com/assets/colab-badge.svg\" alt=\"Open In Colab\"/></a>"
      ]
    },
    {
      "cell_type": "markdown",
      "source": [
        "# **Βασική Εργασία** στο μάθημα **Εξόρυξη Δεδομένων**\n",
        "\n",
        "# **Τμήμα Πληροφορικής και Τηλεματικής - Χαροκόπειο Πανεπιστήμιο**\n",
        "\n",
        "# **Χαρίτος Δημήτριος ------------------- it21395**\n",
        "# **Καζάζης Γεώργιος --------------------- it214124**\n",
        "# **Ζαρρή Σωτηρία Νικολίτσα ------------ it219141**\n",
        "\n",
        "Στην παρούσα εργασία θα αναπτύξουμε **μοντέλα κατηγοριοποίησης**, για να εξετάσουμε το πρόβλημα του συστήματος **κουπονιών**. Δηλαδή το σε ποιους πιθανούς πελάτες, πρέπει να προσφέρουμε κάποιο κουπόνι, το οποίο πάντα ήταν ένα μεγάλο πρόβλημα, και με τεχνικές **Μηχανικής Μάθησης** θα προσπαθήσουμε να δημιουργήσουμε ένα καλύτερο σύστημα συστάσεων κουπονιών.\n",
        "\n",
        "Ύστερα θα αναπτύξουμε **μοντέλα συσταδοποίησης**, για να εξετάσουμε και την πλευρά των μοντέλων χωρίς επίβλεψη (**unsupervised**), στην αντιμετώπιση του παρόντος προβλήματος.\n",
        "\n",
        "**Αρχίζοντας...**"
      ],
      "metadata": {
        "id": "MWbLXA6Ir6aS"
      }
    },
    {
      "cell_type": "markdown",
      "source": [
        "# **Βιβλιοθήκες**\n",
        "Κάνουμε import τα απαραίτητα **modules**. \n",
        "*   Την **pandas** και την **numpy** για την διαχείρηση των δεδομένων μας.\n",
        "\n",
        "*  Την **matplotlib.pyplot** και την **seaborn** για την οπτικοποίηση των δεδομένων μας. **Ιστογράμματα**, **boxplots** κλπ.\n",
        "\n",
        "*  Την **missingno** ώστε να οπτικοποιήσουμε το αν υπάρχουν ελλιπείς εγγραφές.\n",
        "\n",
        "*   Από την **sklearn** κάνουμε import:\n",
        "      *   Την **linear_model** για να εκπαιδεύσουμε το **Logistic Regression model**.\n",
        "      *   Την **model selection** για την εισαγωγή του **train_test_split** για το χώρισμα του train και του test sets.\n",
        "      *  Από το **neighbors**, βάζω το **KNeighborsClassifier** για την ανάπτυξη ενός kNN μοντέλου.\n",
        "      *  Από το **metrics**, βάζω το **accuracy_score**.\n",
        "      *  Την **RandomForestClassifier** για να εκπαιδεύσουμε ένα Random Forest model.\n",
        "*  Το **tensorflow**, και από αυτό, τα **keras** και **layers** για την ανάπτυξη νευρωνικών δικτύων.\n",
        "\n",
        "*  Τέλος, κάνουμε import τα **warnings** και τα φιλτράρουμε, ώστε να μην εμφανίζονται."
      ],
      "metadata": {
        "id": "cmmB3RPcD19l"
      }
    },
    {
      "cell_type": "code",
      "source": [
        "import numpy as np\n",
        "import pandas as pd\n",
        "import matplotlib.pyplot as plt\n",
        "import seaborn as sns\n",
        "from scipy import stats\n",
        "import missingno as msno\n",
        "\n",
        "from sklearn.compose import ColumnTransformer\n",
        "from sklearn.preprocessing import OneHotEncoder\n",
        "from sklearn.impute import SimpleImputer\n",
        "from sklearn import model_selection\n",
        "from sklearn.model_selection import train_test_split\n",
        "from sklearn import linear_model\n",
        "from sklearn.neighbors import KNeighborsClassifier\n",
        "from sklearn.svm import SVC\n",
        "from sklearn.tree import DecisionTreeClassifier\n",
        "from sklearn.naive_bayes import GaussianNB\n",
        "from sklearn.ensemble import RandomForestClassifier\n",
        "from sklearn.metrics import accuracy_score\n",
        "from sklearn.discriminant_analysis import LinearDiscriminantAnalysis\n",
        "\n",
        "import tensorflow as tf\n",
        "from tensorflow import keras\n",
        "from keras import layers\n",
        "\n",
        "import warnings\n",
        "warnings.filterwarnings(action='ignore')"
      ],
      "metadata": {
        "id": "YCVeUiXa15ei"
      },
      "execution_count": 28,
      "outputs": []
    },
    {
      "cell_type": "markdown",
      "source": [
        "## **Φόρτωση του dataset από το csv αρχείο**\n",
        "Περνάμε το **url** του dataset στην μεταβλητή df με την χρήση της μεθόδου **read_csv**, και εκτυπώνουμε τις 5 πρώτες γραμμές για να δούμε ότι έγιναν όλα σωστά.\n",
        "\n",
        "Το **url** είναι του **raw dataset** απ το repository μου στο **github**."
      ],
      "metadata": {
        "id": "I7fJrlGvyLH9"
      }
    },
    {
      "cell_type": "code",
      "source": [
        "url = \"https://raw.githubusercontent.com/Maagnitude/coupon_recommend_models/main/in-vehicle-coupon-recommendation.csv\"\n",
        "df = pd.read_csv(url)\n",
        "df.head()"
      ],
      "metadata": {
        "colab": {
          "base_uri": "https://localhost:8080/",
          "height": 386
        },
        "id": "bRtCP29VFZDj",
        "outputId": "cbb0c13a-1323-4423-dbcb-941aa2cdcb10"
      },
      "execution_count": 29,
      "outputs": [
        {
          "output_type": "execute_result",
          "data": {
            "text/plain": [
              "       destination  passanger weather  temperature  time  \\\n",
              "0  No Urgent Place      Alone   Sunny           55   2PM   \n",
              "1  No Urgent Place  Friend(s)   Sunny           80  10AM   \n",
              "2  No Urgent Place  Friend(s)   Sunny           80  10AM   \n",
              "3  No Urgent Place  Friend(s)   Sunny           80   2PM   \n",
              "4  No Urgent Place  Friend(s)   Sunny           80   2PM   \n",
              "\n",
              "                  coupon expiration  gender age      maritalStatus  ...  \\\n",
              "0        Restaurant(<20)         1d  Female  21  Unmarried partner  ...   \n",
              "1           Coffee House         2h  Female  21  Unmarried partner  ...   \n",
              "2  Carry out & Take away         2h  Female  21  Unmarried partner  ...   \n",
              "3           Coffee House         2h  Female  21  Unmarried partner  ...   \n",
              "4           Coffee House         1d  Female  21  Unmarried partner  ...   \n",
              "\n",
              "   CoffeeHouse CarryAway RestaurantLessThan20 Restaurant20To50  \\\n",
              "0        never       NaN                  4~8              1~3   \n",
              "1        never       NaN                  4~8              1~3   \n",
              "2        never       NaN                  4~8              1~3   \n",
              "3        never       NaN                  4~8              1~3   \n",
              "4        never       NaN                  4~8              1~3   \n",
              "\n",
              "  toCoupon_GEQ5min toCoupon_GEQ15min toCoupon_GEQ25min direction_same  \\\n",
              "0                1                 0                 0              0   \n",
              "1                1                 0                 0              0   \n",
              "2                1                 1                 0              0   \n",
              "3                1                 1                 0              0   \n",
              "4                1                 1                 0              0   \n",
              "\n",
              "  direction_opp  Y  \n",
              "0             1  1  \n",
              "1             1  0  \n",
              "2             1  1  \n",
              "3             1  0  \n",
              "4             1  0  \n",
              "\n",
              "[5 rows x 26 columns]"
            ],
            "text/html": [
              "\n",
              "  <div id=\"df-b78048d5-d6bb-46c9-a864-f7f22b8bf37a\">\n",
              "    <div class=\"colab-df-container\">\n",
              "      <div>\n",
              "<style scoped>\n",
              "    .dataframe tbody tr th:only-of-type {\n",
              "        vertical-align: middle;\n",
              "    }\n",
              "\n",
              "    .dataframe tbody tr th {\n",
              "        vertical-align: top;\n",
              "    }\n",
              "\n",
              "    .dataframe thead th {\n",
              "        text-align: right;\n",
              "    }\n",
              "</style>\n",
              "<table border=\"1\" class=\"dataframe\">\n",
              "  <thead>\n",
              "    <tr style=\"text-align: right;\">\n",
              "      <th></th>\n",
              "      <th>destination</th>\n",
              "      <th>passanger</th>\n",
              "      <th>weather</th>\n",
              "      <th>temperature</th>\n",
              "      <th>time</th>\n",
              "      <th>coupon</th>\n",
              "      <th>expiration</th>\n",
              "      <th>gender</th>\n",
              "      <th>age</th>\n",
              "      <th>maritalStatus</th>\n",
              "      <th>...</th>\n",
              "      <th>CoffeeHouse</th>\n",
              "      <th>CarryAway</th>\n",
              "      <th>RestaurantLessThan20</th>\n",
              "      <th>Restaurant20To50</th>\n",
              "      <th>toCoupon_GEQ5min</th>\n",
              "      <th>toCoupon_GEQ15min</th>\n",
              "      <th>toCoupon_GEQ25min</th>\n",
              "      <th>direction_same</th>\n",
              "      <th>direction_opp</th>\n",
              "      <th>Y</th>\n",
              "    </tr>\n",
              "  </thead>\n",
              "  <tbody>\n",
              "    <tr>\n",
              "      <th>0</th>\n",
              "      <td>No Urgent Place</td>\n",
              "      <td>Alone</td>\n",
              "      <td>Sunny</td>\n",
              "      <td>55</td>\n",
              "      <td>2PM</td>\n",
              "      <td>Restaurant(&lt;20)</td>\n",
              "      <td>1d</td>\n",
              "      <td>Female</td>\n",
              "      <td>21</td>\n",
              "      <td>Unmarried partner</td>\n",
              "      <td>...</td>\n",
              "      <td>never</td>\n",
              "      <td>NaN</td>\n",
              "      <td>4~8</td>\n",
              "      <td>1~3</td>\n",
              "      <td>1</td>\n",
              "      <td>0</td>\n",
              "      <td>0</td>\n",
              "      <td>0</td>\n",
              "      <td>1</td>\n",
              "      <td>1</td>\n",
              "    </tr>\n",
              "    <tr>\n",
              "      <th>1</th>\n",
              "      <td>No Urgent Place</td>\n",
              "      <td>Friend(s)</td>\n",
              "      <td>Sunny</td>\n",
              "      <td>80</td>\n",
              "      <td>10AM</td>\n",
              "      <td>Coffee House</td>\n",
              "      <td>2h</td>\n",
              "      <td>Female</td>\n",
              "      <td>21</td>\n",
              "      <td>Unmarried partner</td>\n",
              "      <td>...</td>\n",
              "      <td>never</td>\n",
              "      <td>NaN</td>\n",
              "      <td>4~8</td>\n",
              "      <td>1~3</td>\n",
              "      <td>1</td>\n",
              "      <td>0</td>\n",
              "      <td>0</td>\n",
              "      <td>0</td>\n",
              "      <td>1</td>\n",
              "      <td>0</td>\n",
              "    </tr>\n",
              "    <tr>\n",
              "      <th>2</th>\n",
              "      <td>No Urgent Place</td>\n",
              "      <td>Friend(s)</td>\n",
              "      <td>Sunny</td>\n",
              "      <td>80</td>\n",
              "      <td>10AM</td>\n",
              "      <td>Carry out &amp; Take away</td>\n",
              "      <td>2h</td>\n",
              "      <td>Female</td>\n",
              "      <td>21</td>\n",
              "      <td>Unmarried partner</td>\n",
              "      <td>...</td>\n",
              "      <td>never</td>\n",
              "      <td>NaN</td>\n",
              "      <td>4~8</td>\n",
              "      <td>1~3</td>\n",
              "      <td>1</td>\n",
              "      <td>1</td>\n",
              "      <td>0</td>\n",
              "      <td>0</td>\n",
              "      <td>1</td>\n",
              "      <td>1</td>\n",
              "    </tr>\n",
              "    <tr>\n",
              "      <th>3</th>\n",
              "      <td>No Urgent Place</td>\n",
              "      <td>Friend(s)</td>\n",
              "      <td>Sunny</td>\n",
              "      <td>80</td>\n",
              "      <td>2PM</td>\n",
              "      <td>Coffee House</td>\n",
              "      <td>2h</td>\n",
              "      <td>Female</td>\n",
              "      <td>21</td>\n",
              "      <td>Unmarried partner</td>\n",
              "      <td>...</td>\n",
              "      <td>never</td>\n",
              "      <td>NaN</td>\n",
              "      <td>4~8</td>\n",
              "      <td>1~3</td>\n",
              "      <td>1</td>\n",
              "      <td>1</td>\n",
              "      <td>0</td>\n",
              "      <td>0</td>\n",
              "      <td>1</td>\n",
              "      <td>0</td>\n",
              "    </tr>\n",
              "    <tr>\n",
              "      <th>4</th>\n",
              "      <td>No Urgent Place</td>\n",
              "      <td>Friend(s)</td>\n",
              "      <td>Sunny</td>\n",
              "      <td>80</td>\n",
              "      <td>2PM</td>\n",
              "      <td>Coffee House</td>\n",
              "      <td>1d</td>\n",
              "      <td>Female</td>\n",
              "      <td>21</td>\n",
              "      <td>Unmarried partner</td>\n",
              "      <td>...</td>\n",
              "      <td>never</td>\n",
              "      <td>NaN</td>\n",
              "      <td>4~8</td>\n",
              "      <td>1~3</td>\n",
              "      <td>1</td>\n",
              "      <td>1</td>\n",
              "      <td>0</td>\n",
              "      <td>0</td>\n",
              "      <td>1</td>\n",
              "      <td>0</td>\n",
              "    </tr>\n",
              "  </tbody>\n",
              "</table>\n",
              "<p>5 rows × 26 columns</p>\n",
              "</div>\n",
              "      <button class=\"colab-df-convert\" onclick=\"convertToInteractive('df-b78048d5-d6bb-46c9-a864-f7f22b8bf37a')\"\n",
              "              title=\"Convert this dataframe to an interactive table.\"\n",
              "              style=\"display:none;\">\n",
              "        \n",
              "  <svg xmlns=\"http://www.w3.org/2000/svg\" height=\"24px\"viewBox=\"0 0 24 24\"\n",
              "       width=\"24px\">\n",
              "    <path d=\"M0 0h24v24H0V0z\" fill=\"none\"/>\n",
              "    <path d=\"M18.56 5.44l.94 2.06.94-2.06 2.06-.94-2.06-.94-.94-2.06-.94 2.06-2.06.94zm-11 1L8.5 8.5l.94-2.06 2.06-.94-2.06-.94L8.5 2.5l-.94 2.06-2.06.94zm10 10l.94 2.06.94-2.06 2.06-.94-2.06-.94-.94-2.06-.94 2.06-2.06.94z\"/><path d=\"M17.41 7.96l-1.37-1.37c-.4-.4-.92-.59-1.43-.59-.52 0-1.04.2-1.43.59L10.3 9.45l-7.72 7.72c-.78.78-.78 2.05 0 2.83L4 21.41c.39.39.9.59 1.41.59.51 0 1.02-.2 1.41-.59l7.78-7.78 2.81-2.81c.8-.78.8-2.07 0-2.86zM5.41 20L4 18.59l7.72-7.72 1.47 1.35L5.41 20z\"/>\n",
              "  </svg>\n",
              "      </button>\n",
              "      \n",
              "  <style>\n",
              "    .colab-df-container {\n",
              "      display:flex;\n",
              "      flex-wrap:wrap;\n",
              "      gap: 12px;\n",
              "    }\n",
              "\n",
              "    .colab-df-convert {\n",
              "      background-color: #E8F0FE;\n",
              "      border: none;\n",
              "      border-radius: 50%;\n",
              "      cursor: pointer;\n",
              "      display: none;\n",
              "      fill: #1967D2;\n",
              "      height: 32px;\n",
              "      padding: 0 0 0 0;\n",
              "      width: 32px;\n",
              "    }\n",
              "\n",
              "    .colab-df-convert:hover {\n",
              "      background-color: #E2EBFA;\n",
              "      box-shadow: 0px 1px 2px rgba(60, 64, 67, 0.3), 0px 1px 3px 1px rgba(60, 64, 67, 0.15);\n",
              "      fill: #174EA6;\n",
              "    }\n",
              "\n",
              "    [theme=dark] .colab-df-convert {\n",
              "      background-color: #3B4455;\n",
              "      fill: #D2E3FC;\n",
              "    }\n",
              "\n",
              "    [theme=dark] .colab-df-convert:hover {\n",
              "      background-color: #434B5C;\n",
              "      box-shadow: 0px 1px 3px 1px rgba(0, 0, 0, 0.15);\n",
              "      filter: drop-shadow(0px 1px 2px rgba(0, 0, 0, 0.3));\n",
              "      fill: #FFFFFF;\n",
              "    }\n",
              "  </style>\n",
              "\n",
              "      <script>\n",
              "        const buttonEl =\n",
              "          document.querySelector('#df-b78048d5-d6bb-46c9-a864-f7f22b8bf37a button.colab-df-convert');\n",
              "        buttonEl.style.display =\n",
              "          google.colab.kernel.accessAllowed ? 'block' : 'none';\n",
              "\n",
              "        async function convertToInteractive(key) {\n",
              "          const element = document.querySelector('#df-b78048d5-d6bb-46c9-a864-f7f22b8bf37a');\n",
              "          const dataTable =\n",
              "            await google.colab.kernel.invokeFunction('convertToInteractive',\n",
              "                                                     [key], {});\n",
              "          if (!dataTable) return;\n",
              "\n",
              "          const docLinkHtml = 'Like what you see? Visit the ' +\n",
              "            '<a target=\"_blank\" href=https://colab.research.google.com/notebooks/data_table.ipynb>data table notebook</a>'\n",
              "            + ' to learn more about interactive tables.';\n",
              "          element.innerHTML = '';\n",
              "          dataTable['output_type'] = 'display_data';\n",
              "          await google.colab.output.renderOutput(dataTable, element);\n",
              "          const docLink = document.createElement('div');\n",
              "          docLink.innerHTML = docLinkHtml;\n",
              "          element.appendChild(docLink);\n",
              "        }\n",
              "      </script>\n",
              "    </div>\n",
              "  </div>\n",
              "  "
            ]
          },
          "metadata": {},
          "execution_count": 29
        }
      ]
    },
    {
      "cell_type": "markdown",
      "source": [
        "## **Άλλος τρόπος φόρτωσης (Drive mount)**"
      ],
      "metadata": {
        "id": "XeL4bNKNObCH"
      }
    },
    {
      "cell_type": "code",
      "execution_count": null,
      "metadata": {
        "id": "jJVvOQcSxYl-"
      },
      "outputs": [],
      "source": [
        "# from google.colab import files\n",
        "# uploaded = files.upload()\n",
        "# from google.colab import drive\n",
        "# drive.mount('/content/drive/')\n",
        "# df = pd.read_csv('/content/drive/MyDrive/Colab Notebooks/in-vehicle-coupon-recommendation.csv')"
      ]
    },
    {
      "cell_type": "markdown",
      "source": [
        "## **Σχήμα του Dataframe**. \n",
        "\n",
        "Έχουμε ένα **dataframe** σχήματος **12684 x 26**.\n",
        "\n",
        "**12684 εγγραφές** (δείγματα) και **26 χαρακτηριστικά** (features)"
      ],
      "metadata": {
        "id": "w6TMUFBFsU49"
      }
    },
    {
      "cell_type": "code",
      "source": [
        "df.shape"
      ],
      "metadata": {
        "id": "FgBQilenmDEh",
        "outputId": "b2859634-99ea-4b84-acc0-79b4e010c327",
        "colab": {
          "base_uri": "https://localhost:8080/"
        }
      },
      "execution_count": 32,
      "outputs": [
        {
          "output_type": "execute_result",
          "data": {
            "text/plain": [
              "(12684, 26)"
            ]
          },
          "metadata": {},
          "execution_count": 32
        }
      ]
    },
    {
      "cell_type": "markdown",
      "source": [
        "# **Ελλιπείς εγγραφές**\n",
        "Με την χρήση του **df.info()**, παρατηρούμε ότι υπάρχουν **ελλιπείς εγγραφές**. Το χαρακτηριστικό **car** έχει μόνο **108 τιμές** που **δεν είναι null**, από τις **12684**. Το καλύτερο εδώ είναι να **πετάξουμε** αυτό το χαρακτηριστικό μιας και δεν μας προσφέρει κάτι. Ύστερα με την χρήση του **df.isnull().sum()**, θα δούμε ακριβώς πόσες τιμές είναι **null** σε κάθε χαρακτηριστικό. Επίσης οπτικοποιούμε τις ελλιπείς εγγραφές με την χρήση της βιβλιοθήκης **missingno**."
      ],
      "metadata": {
        "id": "S8Htoh9st_H6"
      }
    },
    {
      "cell_type": "code",
      "source": [
        "df.info()"
      ],
      "metadata": {
        "colab": {
          "base_uri": "https://localhost:8080/"
        },
        "id": "iSr_KgPcm3Y6",
        "outputId": "2c019d3f-6dcb-49cc-fd01-657aa31e3454"
      },
      "execution_count": 34,
      "outputs": [
        {
          "output_type": "stream",
          "name": "stdout",
          "text": [
            "<class 'pandas.core.frame.DataFrame'>\n",
            "RangeIndex: 12684 entries, 0 to 12683\n",
            "Data columns (total 26 columns):\n",
            " #   Column                Non-Null Count  Dtype \n",
            "---  ------                --------------  ----- \n",
            " 0   destination           12684 non-null  object\n",
            " 1   passanger             12684 non-null  object\n",
            " 2   weather               12684 non-null  object\n",
            " 3   temperature           12684 non-null  int64 \n",
            " 4   time                  12684 non-null  object\n",
            " 5   coupon                12684 non-null  object\n",
            " 6   expiration            12684 non-null  object\n",
            " 7   gender                12684 non-null  object\n",
            " 8   age                   12684 non-null  object\n",
            " 9   maritalStatus         12684 non-null  object\n",
            " 10  has_children          12684 non-null  int64 \n",
            " 11  education             12684 non-null  object\n",
            " 12  occupation            12684 non-null  object\n",
            " 13  income                12684 non-null  object\n",
            " 14  car                   108 non-null    object\n",
            " 15  Bar                   12577 non-null  object\n",
            " 16  CoffeeHouse           12467 non-null  object\n",
            " 17  CarryAway             12533 non-null  object\n",
            " 18  RestaurantLessThan20  12554 non-null  object\n",
            " 19  Restaurant20To50      12495 non-null  object\n",
            " 20  toCoupon_GEQ5min      12684 non-null  int64 \n",
            " 21  toCoupon_GEQ15min     12684 non-null  int64 \n",
            " 22  toCoupon_GEQ25min     12684 non-null  int64 \n",
            " 23  direction_same        12684 non-null  int64 \n",
            " 24  direction_opp         12684 non-null  int64 \n",
            " 25  Y                     12684 non-null  int64 \n",
            "dtypes: int64(8), object(18)\n",
            "memory usage: 2.5+ MB\n"
          ]
        }
      ]
    },
    {
      "cell_type": "code",
      "source": [
        "df.isnull().sum()"
      ],
      "metadata": {
        "colab": {
          "base_uri": "https://localhost:8080/"
        },
        "id": "7b_ulWK714zD",
        "outputId": "54263eea-1936-4061-b0ee-b1f7f5742a82"
      },
      "execution_count": 35,
      "outputs": [
        {
          "output_type": "execute_result",
          "data": {
            "text/plain": [
              "destination                 0\n",
              "passanger                   0\n",
              "weather                     0\n",
              "temperature                 0\n",
              "time                        0\n",
              "coupon                      0\n",
              "expiration                  0\n",
              "gender                      0\n",
              "age                         0\n",
              "maritalStatus               0\n",
              "has_children                0\n",
              "education                   0\n",
              "occupation                  0\n",
              "income                      0\n",
              "car                     12576\n",
              "Bar                       107\n",
              "CoffeeHouse               217\n",
              "CarryAway                 151\n",
              "RestaurantLessThan20      130\n",
              "Restaurant20To50          189\n",
              "toCoupon_GEQ5min            0\n",
              "toCoupon_GEQ15min           0\n",
              "toCoupon_GEQ25min           0\n",
              "direction_same              0\n",
              "direction_opp               0\n",
              "Y                           0\n",
              "dtype: int64"
            ]
          },
          "metadata": {},
          "execution_count": 35
        }
      ]
    },
    {
      "cell_type": "code",
      "source": [
        "null_plot = msno.bar(df, color=\"#7600BC\")"
      ],
      "metadata": {
        "id": "w06oqMMmNf6B",
        "outputId": "cb919105-b730-47bd-9f8b-5af57f6a30a6",
        "colab": {
          "base_uri": "https://localhost:8080/",
          "height": 775
        }
      },
      "execution_count": 36,
      "outputs": [
        {
          "output_type": "display_data",
          "data": {
            "text/plain": [
              "<Figure size 1800x720 with 3 Axes>"
            ],
            "image/png": "[encoded data removed]"
          },
          "metadata": {
            "needs_background": "light"
          }
        }
      ]
    },
    {
      "cell_type": "code",
      "source": [
        "df= df.drop(\"car\", axis='columns')"
      ],
      "metadata": {
        "id": "gqEv23oY53qe"
      },
      "execution_count": 37,
      "outputs": []
    },
    {
      "cell_type": "markdown",
      "source": [
        "# **Imputing**\n",
        "Εδώ ελέγχουμε τον αριθμό των τιμών για κάθε κατηγορική τιμή. Φαίνεται σαν μια καλή στρατηγική για κάθε τιμή null, να την γεμίζουμε με την τιμή που εμφανίστηκε **πιο συχνά** στις υπόλοιπες εγγραφές (**impute**). \n",
        "\n",
        "Ύστερα ελέγχουμε να δούμε ότι δεν υπάρχουν καθόλου null τιμές στις εγγραφές μας με την χρήση της **df.isnull().sum()**."
      ],
      "metadata": {
        "id": "4HtrECX1wkCE"
      }
    },
    {
      "cell_type": "code",
      "source": [
        "imputer = SimpleImputer(missing_values=np.nan, strategy='most_frequent')\n",
        "df['Bar'] = imputer.fit_transform(df['Bar'].values.reshape(-1,1))[:,0]"
      ],
      "metadata": {
        "id": "roR8ldIt5_Xc"
      },
      "execution_count": 38,
      "outputs": []
    },
    {
      "cell_type": "code",
      "source": [
        "imputer = SimpleImputer(missing_values=np.nan, strategy='most_frequent')\n",
        "df['CoffeeHouse'] = imputer.fit_transform(df['CoffeeHouse'].values.reshape(-1,1))[:,0]"
      ],
      "metadata": {
        "id": "6tw2H4xV9fRF"
      },
      "execution_count": 39,
      "outputs": []
    },
    {
      "cell_type": "code",
      "source": [
        "imputer = SimpleImputer(missing_values=np.nan, strategy='most_frequent')\n",
        "df['CarryAway'] = imputer.fit_transform(df['CarryAway'].values.reshape(-1,1))[:,0]"
      ],
      "metadata": {
        "id": "BfGMlBu-9fOV"
      },
      "execution_count": 40,
      "outputs": []
    },
    {
      "cell_type": "code",
      "source": [
        "imputer = SimpleImputer(missing_values=np.nan, strategy='most_frequent')\n",
        "df['RestaurantLessThan20'] = imputer.fit_transform(df['RestaurantLessThan20'].values.reshape(-1,1))[:,0]"
      ],
      "metadata": {
        "id": "ZNUb-qL09fIX"
      },
      "execution_count": 41,
      "outputs": []
    },
    {
      "cell_type": "code",
      "source": [
        "imputer = SimpleImputer(missing_values=np.nan, strategy='most_frequent')\n",
        "df['Restaurant20To50'] = imputer.fit_transform(df['Restaurant20To50'].values.reshape(-1,1))[:,0]"
      ],
      "metadata": {
        "id": "fk9YzT0u-OZU"
      },
      "execution_count": 42,
      "outputs": []
    },
    {
      "cell_type": "code",
      "source": [
        "df.isnull().sum()"
      ],
      "metadata": {
        "colab": {
          "base_uri": "https://localhost:8080/"
        },
        "id": "-NtxcE0zxiSn",
        "outputId": "4d4a908d-b906-4ef8-e524-084d8477f13d"
      },
      "execution_count": 43,
      "outputs": [
        {
          "output_type": "execute_result",
          "data": {
            "text/plain": [
              "destination             0\n",
              "passanger               0\n",
              "weather                 0\n",
              "temperature             0\n",
              "time                    0\n",
              "coupon                  0\n",
              "expiration              0\n",
              "gender                  0\n",
              "age                     0\n",
              "maritalStatus           0\n",
              "has_children            0\n",
              "education               0\n",
              "occupation              0\n",
              "income                  0\n",
              "Bar                     0\n",
              "CoffeeHouse             0\n",
              "CarryAway               0\n",
              "RestaurantLessThan20    0\n",
              "Restaurant20To50        0\n",
              "toCoupon_GEQ5min        0\n",
              "toCoupon_GEQ15min       0\n",
              "toCoupon_GEQ25min       0\n",
              "direction_same          0\n",
              "direction_opp           0\n",
              "Y                       0\n",
              "dtype: int64"
            ]
          },
          "metadata": {},
          "execution_count": 43
        }
      ]
    },
    {
      "cell_type": "code",
      "source": [
        "new_null_plot = msno.bar(df, color=\"#7600BC\")"
      ],
      "metadata": {
        "id": "6jfksEaJOE5D",
        "outputId": "fd691901-c837-4e2a-e82d-7dcfc4fa3a2f",
        "colab": {
          "base_uri": "https://localhost:8080/",
          "height": 775
        }
      },
      "execution_count": 44,
      "outputs": [
        {
          "output_type": "display_data",
          "data": {
            "text/plain": [
              "<Figure size 1800x720 with 3 Axes>"
            ],
            "image/png": "[encoded data removed]"
          },
          "metadata": {
            "needs_background": "light"
          }
        }
      ]
    },
    {
      "cell_type": "markdown",
      "source": [
        "# **Μοναδικές τιμές**\n",
        "Ελέγχουμε τις μοναδικές (**διαφορετικές**) τιμές που μπορούν να λάβουν τα ποσοτικά χαρακτηριστικά μας, με την χρήση της **nunique()**, και παρατηρούμε ότι το χαρακτηριστικό \"**toCoupon_GEQ5min**\" παίρνει μόνο μία τιμή, οπότε δεν το χρειαζόμαστε, και θα το πετάξουμε."
      ],
      "metadata": {
        "id": "yMj75FPMKjYn"
      }
    },
    {
      "cell_type": "code",
      "source": [
        "df.select_dtypes('int64').nunique()"
      ],
      "metadata": {
        "id": "Rcbvh09i_du2",
        "colab": {
          "base_uri": "https://localhost:8080/"
        },
        "outputId": "3e1badd2-4f71-4152-b243-332af941f1c1"
      },
      "execution_count": 45,
      "outputs": [
        {
          "output_type": "execute_result",
          "data": {
            "text/plain": [
              "temperature          3\n",
              "has_children         2\n",
              "toCoupon_GEQ5min     1\n",
              "toCoupon_GEQ15min    2\n",
              "toCoupon_GEQ25min    2\n",
              "direction_same       2\n",
              "direction_opp        2\n",
              "Y                    2\n",
              "dtype: int64"
            ]
          },
          "metadata": {},
          "execution_count": 45
        }
      ]
    },
    {
      "cell_type": "code",
      "source": [
        "df.drop(columns=['toCoupon_GEQ5min'], inplace=True)"
      ],
      "metadata": {
        "id": "hrcGIDuPALFw"
      },
      "execution_count": 46,
      "outputs": []
    },
    {
      "cell_type": "markdown",
      "source": [
        "Επίσης τυπώνοντας τον αριθμό της κάθε τιμής που λαμβάνει το \"**direction_opp**\" και το \"**direction_same**\", παρατηρούμε ότι εκεί που το ένα παίρνει **0**, το άλλο παίρνει **1**, και το αντίθετο (όπως άλλωστε καταλαβαίνουμε και από την ονομασία του χαρακτηριστικού). Οπότε μας φτάνει να κρατήσουμε το ένα (**direction_same**), γιατί το άλλο είναι **άχρηστη πληροφορία**."
      ],
      "metadata": {
        "id": "v9ruAQjrLJou"
      }
    },
    {
      "cell_type": "code",
      "source": [
        "df['direction_same'].value_counts()"
      ],
      "metadata": {
        "id": "V0IVEGG6LxpC",
        "outputId": "1335a284-7050-411f-db04-79dbe1140e9c",
        "colab": {
          "base_uri": "https://localhost:8080/"
        }
      },
      "execution_count": 47,
      "outputs": [
        {
          "output_type": "execute_result",
          "data": {
            "text/plain": [
              "0    9960\n",
              "1    2724\n",
              "Name: direction_same, dtype: int64"
            ]
          },
          "metadata": {},
          "execution_count": 47
        }
      ]
    },
    {
      "cell_type": "code",
      "source": [
        "df['direction_opp'].value_counts()"
      ],
      "metadata": {
        "id": "CxJAI8y2Lxiy",
        "outputId": "abde8bcc-daf7-4f20-9ba5-a6bd4651ac34",
        "colab": {
          "base_uri": "https://localhost:8080/"
        }
      },
      "execution_count": 48,
      "outputs": [
        {
          "output_type": "execute_result",
          "data": {
            "text/plain": [
              "1    9960\n",
              "0    2724\n",
              "Name: direction_opp, dtype: int64"
            ]
          },
          "metadata": {},
          "execution_count": 48
        }
      ]
    },
    {
      "cell_type": "code",
      "source": [
        "df.drop(columns=['direction_opp'], inplace=True)"
      ],
      "metadata": {
        "id": "yRbUswUda0l-"
      },
      "execution_count": 49,
      "outputs": []
    },
    {
      "cell_type": "markdown",
      "source": [
        "## **Διπλότυπες Εγγραφές**\n",
        "Ύστερα πετάμε τις **διπλότυπες εγγραφές** (**drop duplicates**) γιατί και δεν μας προσφέρουν κάτι, και μπορεί να **υπερεκπαιδευτούν** (**overfitting**) τα μοντέλα μας."
      ],
      "metadata": {
        "id": "w_kuX-k_MVht"
      }
    },
    {
      "cell_type": "code",
      "source": [
        "df.shape"
      ],
      "metadata": {
        "id": "SUhEPfU_MI2O",
        "outputId": "b215a7a1-28d6-4f46-fe09-cd7f1a48168c",
        "colab": {
          "base_uri": "https://localhost:8080/"
        }
      },
      "execution_count": 25,
      "outputs": [
        {
          "output_type": "execute_result",
          "data": {
            "text/plain": [
              "(12684, 23)"
            ]
          },
          "metadata": {},
          "execution_count": 25
        }
      ]
    },
    {
      "cell_type": "code",
      "source": [
        "df.drop_duplicates(inplace=True)\n",
        "df.shape"
      ],
      "metadata": {
        "colab": {
          "base_uri": "https://localhost:8080/"
        },
        "id": "f3Awz4By_ZB6",
        "outputId": "f8648ede-1009-4820-dc47-4fe28b6add4e"
      },
      "execution_count": 26,
      "outputs": [
        {
          "output_type": "execute_result",
          "data": {
            "text/plain": [
              "(12610, 23)"
            ]
          },
          "metadata": {},
          "execution_count": 26
        }
      ]
    },
    {
      "cell_type": "markdown",
      "source": [
        "# **Ιστόγραμμα**\n",
        "Κάνουμε plot το ιστόγραμμα κάθε χαρακτηριστικού ξεχωριστά."
      ],
      "metadata": {
        "id": "nRs5mdDZOQpk"
      }
    },
    {
      "cell_type": "code",
      "source": [
        "df_histplot = df.hist(grid=False, figsize=(25,25), color='#7600BC', zorder=2, rwidth=0.95)"
      ],
      "metadata": {
        "id": "PKwFZ2OLOZeE",
        "outputId": "b1e631f7-ab42-4299-8223-2158ae32e4f2",
        "colab": {
          "base_uri": "https://localhost:8080/",
          "height": 1000
        }
      },
      "execution_count": 50,
      "outputs": [
        {
          "output_type": "display_data",
          "data": {
            "text/plain": [
              "<Figure size 1800x1800 with 6 Axes>"
            ],
            "image/png": "[encoded data removed]"
          },
          "metadata": {
            "needs_background": "light"
          }
        }
      ]
    },
    {
      "cell_type": "markdown",
      "source": [
        "# **ONE-HOT ENCODING**"
      ],
      "metadata": {
        "id": "0vsOrhIZ-w2J"
      }
    },
    {
      "cell_type": "markdown",
      "source": [
        "Here we can see the data type of each attribute. Temperature has only **three** numerical values, so we will cast it as **categorical** in order to one-hot encode it later."
      ],
      "metadata": {
        "id": "e53ezd9l0C6Z"
      }
    },
    {
      "cell_type": "code",
      "source": [
        "df.dtypes"
      ],
      "metadata": {
        "colab": {
          "base_uri": "https://localhost:8080/"
        },
        "id": "VbGfCMn0x0rQ",
        "outputId": "60acf007-9693-46f2-ea45-ca571f509358"
      },
      "execution_count": 14,
      "outputs": [
        {
          "output_type": "execute_result",
          "data": {
            "text/plain": [
              "destination             object\n",
              "passanger               object\n",
              "weather                 object\n",
              "temperature              int64\n",
              "time                    object\n",
              "coupon                  object\n",
              "expiration              object\n",
              "gender                  object\n",
              "age                     object\n",
              "maritalStatus           object\n",
              "has_children             int64\n",
              "education               object\n",
              "occupation              object\n",
              "income                  object\n",
              "Bar                     object\n",
              "CoffeeHouse             object\n",
              "CarryAway               object\n",
              "RestaurantLessThan20    object\n",
              "Restaurant20To50        object\n",
              "toCoupon_GEQ5min         int64\n",
              "toCoupon_GEQ15min        int64\n",
              "toCoupon_GEQ25min        int64\n",
              "direction_same           int64\n",
              "direction_opp            int64\n",
              "Y                        int64\n",
              "dtype: object"
            ]
          },
          "metadata": {},
          "execution_count": 14
        }
      ]
    },
    {
      "cell_type": "code",
      "source": [
        "df['temperature'].value_counts()"
      ],
      "metadata": {
        "colab": {
          "base_uri": "https://localhost:8080/"
        },
        "id": "nzxKEeO00l8V",
        "outputId": "3ed1e739-1aaf-4608-f63e-76c18acf0d6a"
      },
      "execution_count": null,
      "outputs": [
        {
          "output_type": "execute_result",
          "data": {
            "text/plain": [
              "80    6528\n",
              "55    3840\n",
              "30    2316\n",
              "Name: temperature, dtype: int64"
            ]
          },
          "metadata": {},
          "execution_count": 19
        }
      ]
    },
    {
      "cell_type": "code",
      "source": [
        "df['temperature']=pd.Categorical(df.temperature)"
      ],
      "metadata": {
        "id": "CqSj1iyt03Tc"
      },
      "execution_count": null,
      "outputs": []
    },
    {
      "cell_type": "code",
      "source": [
        "df"
      ],
      "metadata": {
        "id": "UkkRm5GHaP8a"
      },
      "execution_count": null,
      "outputs": []
    },
    {
      "cell_type": "markdown",
      "source": [
        "Numerical-value attributes are already in one-hot encoded form (0s and 1s), so we won't mess with them. "
      ],
      "metadata": {
        "id": "MkO6USYE2zsR"
      }
    },
    {
      "cell_type": "code",
      "source": [
        "df.columns"
      ],
      "metadata": {
        "colab": {
          "base_uri": "https://localhost:8080/"
        },
        "id": "sIZCUGzB-1XY",
        "outputId": "468cc9d8-23f6-47d2-9ab2-0e972d59ddec"
      },
      "execution_count": null,
      "outputs": [
        {
          "output_type": "execute_result",
          "data": {
            "text/plain": [
              "Index(['destination', 'passanger', 'weather', 'temperature', 'time', 'coupon',\n",
              "       'expiration', 'gender', 'age', 'maritalStatus', 'has_children',\n",
              "       'education', 'occupation', 'income', 'Bar', 'CoffeeHouse', 'CarryAway',\n",
              "       'RestaurantLessThan20', 'Restaurant20To50', 'toCoupon_GEQ5min',\n",
              "       'toCoupon_GEQ15min', 'toCoupon_GEQ25min', 'direction_same',\n",
              "       'direction_opp', 'Y'],\n",
              "      dtype='object')"
            ]
          },
          "metadata": {},
          "execution_count": 22
        }
      ]
    },
    {
      "cell_type": "code",
      "source": [
        "df_categorical=df.select_dtypes(exclude='number')"
      ],
      "metadata": {
        "id": "iWaRXekMtn9P"
      },
      "execution_count": null,
      "outputs": []
    },
    {
      "cell_type": "code",
      "source": [
        "df_categorical"
      ],
      "metadata": {
        "colab": {
          "base_uri": "https://localhost:8080/",
          "height": 424
        },
        "id": "mtkkXiPT0K_O",
        "outputId": "54e3aa68-5bc5-47c9-db39-36489a1ef3c0"
      },
      "execution_count": null,
      "outputs": [
        {
          "output_type": "execute_result",
          "data": {
            "text/plain": [
              "           destination  passanger weather temperature  time  \\\n",
              "0      No Urgent Place      Alone   Sunny          55   2PM   \n",
              "1      No Urgent Place  Friend(s)   Sunny          80  10AM   \n",
              "2      No Urgent Place  Friend(s)   Sunny          80  10AM   \n",
              "3      No Urgent Place  Friend(s)   Sunny          80   2PM   \n",
              "4      No Urgent Place  Friend(s)   Sunny          80   2PM   \n",
              "...                ...        ...     ...         ...   ...   \n",
              "12679             Home    Partner   Rainy          55   6PM   \n",
              "12680             Work      Alone   Rainy          55   7AM   \n",
              "12681             Work      Alone   Snowy          30   7AM   \n",
              "12682             Work      Alone   Snowy          30   7AM   \n",
              "12683             Work      Alone   Sunny          80   7AM   \n",
              "\n",
              "                      coupon expiration  gender age      maritalStatus  \\\n",
              "0            Restaurant(<20)         1d  Female  21  Unmarried partner   \n",
              "1               Coffee House         2h  Female  21  Unmarried partner   \n",
              "2      Carry out & Take away         2h  Female  21  Unmarried partner   \n",
              "3               Coffee House         2h  Female  21  Unmarried partner   \n",
              "4               Coffee House         1d  Female  21  Unmarried partner   \n",
              "...                      ...        ...     ...  ..                ...   \n",
              "12679  Carry out & Take away         1d    Male  26             Single   \n",
              "12680  Carry out & Take away         1d    Male  26             Single   \n",
              "12681           Coffee House         1d    Male  26             Single   \n",
              "12682                    Bar         1d    Male  26             Single   \n",
              "12683      Restaurant(20-50)         2h    Male  26             Single   \n",
              "\n",
              "                      education       occupation           income    Bar  \\\n",
              "0      Some college - no degree       Unemployed  $37500 - $49999  never   \n",
              "1      Some college - no degree       Unemployed  $37500 - $49999  never   \n",
              "2      Some college - no degree       Unemployed  $37500 - $49999  never   \n",
              "3      Some college - no degree       Unemployed  $37500 - $49999  never   \n",
              "4      Some college - no degree       Unemployed  $37500 - $49999  never   \n",
              "...                         ...              ...              ...    ...   \n",
              "12679          Bachelors degree  Sales & Related  $75000 - $87499  never   \n",
              "12680          Bachelors degree  Sales & Related  $75000 - $87499  never   \n",
              "12681          Bachelors degree  Sales & Related  $75000 - $87499  never   \n",
              "12682          Bachelors degree  Sales & Related  $75000 - $87499  never   \n",
              "12683          Bachelors degree  Sales & Related  $75000 - $87499  never   \n",
              "\n",
              "      CoffeeHouse CarryAway RestaurantLessThan20 Restaurant20To50  \n",
              "0           never       1~3                  4~8              1~3  \n",
              "1           never       1~3                  4~8              1~3  \n",
              "2           never       1~3                  4~8              1~3  \n",
              "3           never       1~3                  4~8              1~3  \n",
              "4           never       1~3                  4~8              1~3  \n",
              "...           ...       ...                  ...              ...  \n",
              "12679       never       1~3                  4~8              1~3  \n",
              "12680       never       1~3                  4~8              1~3  \n",
              "12681       never       1~3                  4~8              1~3  \n",
              "12682       never       1~3                  4~8              1~3  \n",
              "12683       never       1~3                  4~8              1~3  \n",
              "\n",
              "[12684 rows x 18 columns]"
            ],
            "text/html": [
              "\n",
              "  <div id=\"df-bb1f01b1-ddc6-4e01-b6b2-c8f605062e67\">\n",
              "    <div class=\"colab-df-container\">\n",
              "      <div>\n",
              "<style scoped>\n",
              "    .dataframe tbody tr th:only-of-type {\n",
              "        vertical-align: middle;\n",
              "    }\n",
              "\n",
              "    .dataframe tbody tr th {\n",
              "        vertical-align: top;\n",
              "    }\n",
              "\n",
              "    .dataframe thead th {\n",
              "        text-align: right;\n",
              "    }\n",
              "</style>\n",
              "<table border=\"1\" class=\"dataframe\">\n",
              "  <thead>\n",
              "    <tr style=\"text-align: right;\">\n",
              "      <th></th>\n",
              "      <th>destination</th>\n",
              "      <th>passanger</th>\n",
              "      <th>weather</th>\n",
              "      <th>temperature</th>\n",
              "      <th>time</th>\n",
              "      <th>coupon</th>\n",
              "      <th>expiration</th>\n",
              "      <th>gender</th>\n",
              "      <th>age</th>\n",
              "      <th>maritalStatus</th>\n",
              "      <th>education</th>\n",
              "      <th>occupation</th>\n",
              "      <th>income</th>\n",
              "      <th>Bar</th>\n",
              "      <th>CoffeeHouse</th>\n",
              "      <th>CarryAway</th>\n",
              "      <th>RestaurantLessThan20</th>\n",
              "      <th>Restaurant20To50</th>\n",
              "    </tr>\n",
              "  </thead>\n",
              "  <tbody>\n",
              "    <tr>\n",
              "      <th>0</th>\n",
              "      <td>No Urgent Place</td>\n",
              "      <td>Alone</td>\n",
              "      <td>Sunny</td>\n",
              "      <td>55</td>\n",
              "      <td>2PM</td>\n",
              "      <td>Restaurant(&lt;20)</td>\n",
              "      <td>1d</td>\n",
              "      <td>Female</td>\n",
              "      <td>21</td>\n",
              "      <td>Unmarried partner</td>\n",
              "      <td>Some college - no degree</td>\n",
              "      <td>Unemployed</td>\n",
              "      <td>$37500 - $49999</td>\n",
              "      <td>never</td>\n",
              "      <td>never</td>\n",
              "      <td>1~3</td>\n",
              "      <td>4~8</td>\n",
              "      <td>1~3</td>\n",
              "    </tr>\n",
              "    <tr>\n",
              "      <th>1</th>\n",
              "      <td>No Urgent Place</td>\n",
              "      <td>Friend(s)</td>\n",
              "      <td>Sunny</td>\n",
              "      <td>80</td>\n",
              "      <td>10AM</td>\n",
              "      <td>Coffee House</td>\n",
              "      <td>2h</td>\n",
              "      <td>Female</td>\n",
              "      <td>21</td>\n",
              "      <td>Unmarried partner</td>\n",
              "      <td>Some college - no degree</td>\n",
              "      <td>Unemployed</td>\n",
              "      <td>$37500 - $49999</td>\n",
              "      <td>never</td>\n",
              "      <td>never</td>\n",
              "      <td>1~3</td>\n",
              "      <td>4~8</td>\n",
              "      <td>1~3</td>\n",
              "    </tr>\n",
              "    <tr>\n",
              "      <th>2</th>\n",
              "      <td>No Urgent Place</td>\n",
              "      <td>Friend(s)</td>\n",
              "      <td>Sunny</td>\n",
              "      <td>80</td>\n",
              "      <td>10AM</td>\n",
              "      <td>Carry out &amp; Take away</td>\n",
              "      <td>2h</td>\n",
              "      <td>Female</td>\n",
              "      <td>21</td>\n",
              "      <td>Unmarried partner</td>\n",
              "      <td>Some college - no degree</td>\n",
              "      <td>Unemployed</td>\n",
              "      <td>$37500 - $49999</td>\n",
              "      <td>never</td>\n",
              "      <td>never</td>\n",
              "      <td>1~3</td>\n",
              "      <td>4~8</td>\n",
              "      <td>1~3</td>\n",
              "    </tr>\n",
              "    <tr>\n",
              "      <th>3</th>\n",
              "      <td>No Urgent Place</td>\n",
              "      <td>Friend(s)</td>\n",
              "      <td>Sunny</td>\n",
              "      <td>80</td>\n",
              "      <td>2PM</td>\n",
              "      <td>Coffee House</td>\n",
              "      <td>2h</td>\n",
              "      <td>Female</td>\n",
              "      <td>21</td>\n",
              "      <td>Unmarried partner</td>\n",
              "      <td>Some college - no degree</td>\n",
              "      <td>Unemployed</td>\n",
              "      <td>$37500 - $49999</td>\n",
              "      <td>never</td>\n",
              "      <td>never</td>\n",
              "      <td>1~3</td>\n",
              "      <td>4~8</td>\n",
              "      <td>1~3</td>\n",
              "    </tr>\n",
              "    <tr>\n",
              "      <th>4</th>\n",
              "      <td>No Urgent Place</td>\n",
              "      <td>Friend(s)</td>\n",
              "      <td>Sunny</td>\n",
              "      <td>80</td>\n",
              "      <td>2PM</td>\n",
              "      <td>Coffee House</td>\n",
              "      <td>1d</td>\n",
              "      <td>Female</td>\n",
              "      <td>21</td>\n",
              "      <td>Unmarried partner</td>\n",
              "      <td>Some college - no degree</td>\n",
              "      <td>Unemployed</td>\n",
              "      <td>$37500 - $49999</td>\n",
              "      <td>never</td>\n",
              "      <td>never</td>\n",
              "      <td>1~3</td>\n",
              "      <td>4~8</td>\n",
              "      <td>1~3</td>\n",
              "    </tr>\n",
              "    <tr>\n",
              "      <th>...</th>\n",
              "      <td>...</td>\n",
              "      <td>...</td>\n",
              "      <td>...</td>\n",
              "      <td>...</td>\n",
              "      <td>...</td>\n",
              "      <td>...</td>\n",
              "      <td>...</td>\n",
              "      <td>...</td>\n",
              "      <td>...</td>\n",
              "      <td>...</td>\n",
              "      <td>...</td>\n",
              "      <td>...</td>\n",
              "      <td>...</td>\n",
              "      <td>...</td>\n",
              "      <td>...</td>\n",
              "      <td>...</td>\n",
              "      <td>...</td>\n",
              "      <td>...</td>\n",
              "    </tr>\n",
              "    <tr>\n",
              "      <th>12679</th>\n",
              "      <td>Home</td>\n",
              "      <td>Partner</td>\n",
              "      <td>Rainy</td>\n",
              "      <td>55</td>\n",
              "      <td>6PM</td>\n",
              "      <td>Carry out &amp; Take away</td>\n",
              "      <td>1d</td>\n",
              "      <td>Male</td>\n",
              "      <td>26</td>\n",
              "      <td>Single</td>\n",
              "      <td>Bachelors degree</td>\n",
              "      <td>Sales &amp; Related</td>\n",
              "      <td>$75000 - $87499</td>\n",
              "      <td>never</td>\n",
              "      <td>never</td>\n",
              "      <td>1~3</td>\n",
              "      <td>4~8</td>\n",
              "      <td>1~3</td>\n",
              "    </tr>\n",
              "    <tr>\n",
              "      <th>12680</th>\n",
              "      <td>Work</td>\n",
              "      <td>Alone</td>\n",
              "      <td>Rainy</td>\n",
              "      <td>55</td>\n",
              "      <td>7AM</td>\n",
              "      <td>Carry out &amp; Take away</td>\n",
              "      <td>1d</td>\n",
              "      <td>Male</td>\n",
              "      <td>26</td>\n",
              "      <td>Single</td>\n",
              "      <td>Bachelors degree</td>\n",
              "      <td>Sales &amp; Related</td>\n",
              "      <td>$75000 - $87499</td>\n",
              "      <td>never</td>\n",
              "      <td>never</td>\n",
              "      <td>1~3</td>\n",
              "      <td>4~8</td>\n",
              "      <td>1~3</td>\n",
              "    </tr>\n",
              "    <tr>\n",
              "      <th>12681</th>\n",
              "      <td>Work</td>\n",
              "      <td>Alone</td>\n",
              "      <td>Snowy</td>\n",
              "      <td>30</td>\n",
              "      <td>7AM</td>\n",
              "      <td>Coffee House</td>\n",
              "      <td>1d</td>\n",
              "      <td>Male</td>\n",
              "      <td>26</td>\n",
              "      <td>Single</td>\n",
              "      <td>Bachelors degree</td>\n",
              "      <td>Sales &amp; Related</td>\n",
              "      <td>$75000 - $87499</td>\n",
              "      <td>never</td>\n",
              "      <td>never</td>\n",
              "      <td>1~3</td>\n",
              "      <td>4~8</td>\n",
              "      <td>1~3</td>\n",
              "    </tr>\n",
              "    <tr>\n",
              "      <th>12682</th>\n",
              "      <td>Work</td>\n",
              "      <td>Alone</td>\n",
              "      <td>Snowy</td>\n",
              "      <td>30</td>\n",
              "      <td>7AM</td>\n",
              "      <td>Bar</td>\n",
              "      <td>1d</td>\n",
              "      <td>Male</td>\n",
              "      <td>26</td>\n",
              "      <td>Single</td>\n",
              "      <td>Bachelors degree</td>\n",
              "      <td>Sales &amp; Related</td>\n",
              "      <td>$75000 - $87499</td>\n",
              "      <td>never</td>\n",
              "      <td>never</td>\n",
              "      <td>1~3</td>\n",
              "      <td>4~8</td>\n",
              "      <td>1~3</td>\n",
              "    </tr>\n",
              "    <tr>\n",
              "      <th>12683</th>\n",
              "      <td>Work</td>\n",
              "      <td>Alone</td>\n",
              "      <td>Sunny</td>\n",
              "      <td>80</td>\n",
              "      <td>7AM</td>\n",
              "      <td>Restaurant(20-50)</td>\n",
              "      <td>2h</td>\n",
              "      <td>Male</td>\n",
              "      <td>26</td>\n",
              "      <td>Single</td>\n",
              "      <td>Bachelors degree</td>\n",
              "      <td>Sales &amp; Related</td>\n",
              "      <td>$75000 - $87499</td>\n",
              "      <td>never</td>\n",
              "      <td>never</td>\n",
              "      <td>1~3</td>\n",
              "      <td>4~8</td>\n",
              "      <td>1~3</td>\n",
              "    </tr>\n",
              "  </tbody>\n",
              "</table>\n",
              "<p>12684 rows × 18 columns</p>\n",
              "</div>\n",
              "      <button class=\"colab-df-convert\" onclick=\"convertToInteractive('df-bb1f01b1-ddc6-4e01-b6b2-c8f605062e67')\"\n",
              "              title=\"Convert this dataframe to an interactive table.\"\n",
              "              style=\"display:none;\">\n",
              "        \n",
              "  <svg xmlns=\"http://www.w3.org/2000/svg\" height=\"24px\"viewBox=\"0 0 24 24\"\n",
              "       width=\"24px\">\n",
              "    <path d=\"M0 0h24v24H0V0z\" fill=\"none\"/>\n",
              "    <path d=\"M18.56 5.44l.94 2.06.94-2.06 2.06-.94-2.06-.94-.94-2.06-.94 2.06-2.06.94zm-11 1L8.5 8.5l.94-2.06 2.06-.94-2.06-.94L8.5 2.5l-.94 2.06-2.06.94zm10 10l.94 2.06.94-2.06 2.06-.94-2.06-.94-.94-2.06-.94 2.06-2.06.94z\"/><path d=\"M17.41 7.96l-1.37-1.37c-.4-.4-.92-.59-1.43-.59-.52 0-1.04.2-1.43.59L10.3 9.45l-7.72 7.72c-.78.78-.78 2.05 0 2.83L4 21.41c.39.39.9.59 1.41.59.51 0 1.02-.2 1.41-.59l7.78-7.78 2.81-2.81c.8-.78.8-2.07 0-2.86zM5.41 20L4 18.59l7.72-7.72 1.47 1.35L5.41 20z\"/>\n",
              "  </svg>\n",
              "      </button>\n",
              "      \n",
              "  <style>\n",
              "    .colab-df-container {\n",
              "      display:flex;\n",
              "      flex-wrap:wrap;\n",
              "      gap: 12px;\n",
              "    }\n",
              "\n",
              "    .colab-df-convert {\n",
              "      background-color: #E8F0FE;\n",
              "      border: none;\n",
              "      border-radius: 50%;\n",
              "      cursor: pointer;\n",
              "      display: none;\n",
              "      fill: #1967D2;\n",
              "      height: 32px;\n",
              "      padding: 0 0 0 0;\n",
              "      width: 32px;\n",
              "    }\n",
              "\n",
              "    .colab-df-convert:hover {\n",
              "      background-color: #E2EBFA;\n",
              "      box-shadow: 0px 1px 2px rgba(60, 64, 67, 0.3), 0px 1px 3px 1px rgba(60, 64, 67, 0.15);\n",
              "      fill: #174EA6;\n",
              "    }\n",
              "\n",
              "    [theme=dark] .colab-df-convert {\n",
              "      background-color: #3B4455;\n",
              "      fill: #D2E3FC;\n",
              "    }\n",
              "\n",
              "    [theme=dark] .colab-df-convert:hover {\n",
              "      background-color: #434B5C;\n",
              "      box-shadow: 0px 1px 3px 1px rgba(0, 0, 0, 0.15);\n",
              "      filter: drop-shadow(0px 1px 2px rgba(0, 0, 0, 0.3));\n",
              "      fill: #FFFFFF;\n",
              "    }\n",
              "  </style>\n",
              "\n",
              "      <script>\n",
              "        const buttonEl =\n",
              "          document.querySelector('#df-bb1f01b1-ddc6-4e01-b6b2-c8f605062e67 button.colab-df-convert');\n",
              "        buttonEl.style.display =\n",
              "          google.colab.kernel.accessAllowed ? 'block' : 'none';\n",
              "\n",
              "        async function convertToInteractive(key) {\n",
              "          const element = document.querySelector('#df-bb1f01b1-ddc6-4e01-b6b2-c8f605062e67');\n",
              "          const dataTable =\n",
              "            await google.colab.kernel.invokeFunction('convertToInteractive',\n",
              "                                                     [key], {});\n",
              "          if (!dataTable) return;\n",
              "\n",
              "          const docLinkHtml = 'Like what you see? Visit the ' +\n",
              "            '<a target=\"_blank\" href=https://colab.research.google.com/notebooks/data_table.ipynb>data table notebook</a>'\n",
              "            + ' to learn more about interactive tables.';\n",
              "          element.innerHTML = '';\n",
              "          dataTable['output_type'] = 'display_data';\n",
              "          await google.colab.output.renderOutput(dataTable, element);\n",
              "          const docLink = document.createElement('div');\n",
              "          docLink.innerHTML = docLinkHtml;\n",
              "          element.appendChild(docLink);\n",
              "        }\n",
              "      </script>\n",
              "    </div>\n",
              "  </div>\n",
              "  "
            ]
          },
          "metadata": {},
          "execution_count": 23
        }
      ]
    },
    {
      "cell_type": "code",
      "source": [
        "for value in df_categorical:\n",
        "  df= pd.get_dummies(df,columns=[value])"
      ],
      "metadata": {
        "id": "dG-XANaXu2V7"
      },
      "execution_count": null,
      "outputs": []
    },
    {
      "cell_type": "code",
      "source": [
        "df"
      ],
      "metadata": {
        "colab": {
          "base_uri": "https://localhost:8080/",
          "height": 505
        },
        "id": "3JldGwV_wF3i",
        "outputId": "921c8136-c8e3-4664-d3d8-944fd28e4bc7"
      },
      "execution_count": null,
      "outputs": [
        {
          "output_type": "execute_result",
          "data": {
            "text/plain": [
              "       has_children  toCoupon_GEQ5min  toCoupon_GEQ15min  toCoupon_GEQ25min  \\\n",
              "0                 1                 1                  0                  0   \n",
              "1                 1                 1                  0                  0   \n",
              "2                 1                 1                  1                  0   \n",
              "3                 1                 1                  1                  0   \n",
              "4                 1                 1                  1                  0   \n",
              "...             ...               ...                ...                ...   \n",
              "12679             0                 1                  0                  0   \n",
              "12680             0                 1                  0                  0   \n",
              "12681             0                 1                  0                  0   \n",
              "12682             0                 1                  1                  1   \n",
              "12683             0                 1                  0                  0   \n",
              "\n",
              "       direction_same  direction_opp  Y  destination_Home  \\\n",
              "0                   0              1  1                 0   \n",
              "1                   0              1  0                 0   \n",
              "2                   0              1  1                 0   \n",
              "3                   0              1  0                 0   \n",
              "4                   0              1  0                 0   \n",
              "...               ...            ... ..               ...   \n",
              "12679               1              0  1                 1   \n",
              "12680               0              1  1                 0   \n",
              "12681               1              0  0                 0   \n",
              "12682               0              1  0                 0   \n",
              "12683               1              0  0                 0   \n",
              "\n",
              "       destination_No Urgent Place  destination_Work  ...  \\\n",
              "0                                1                 0  ...   \n",
              "1                                1                 0  ...   \n",
              "2                                1                 0  ...   \n",
              "3                                1                 0  ...   \n",
              "4                                1                 0  ...   \n",
              "...                            ...               ...  ...   \n",
              "12679                            0                 0  ...   \n",
              "12680                            0                 1  ...   \n",
              "12681                            0                 1  ...   \n",
              "12682                            0                 1  ...   \n",
              "12683                            0                 1  ...   \n",
              "\n",
              "       RestaurantLessThan20_1~3  RestaurantLessThan20_4~8  \\\n",
              "0                             0                         1   \n",
              "1                             0                         1   \n",
              "2                             0                         1   \n",
              "3                             0                         1   \n",
              "4                             0                         1   \n",
              "...                         ...                       ...   \n",
              "12679                         0                         1   \n",
              "12680                         0                         1   \n",
              "12681                         0                         1   \n",
              "12682                         0                         1   \n",
              "12683                         0                         1   \n",
              "\n",
              "       RestaurantLessThan20_gt8  RestaurantLessThan20_less1  \\\n",
              "0                             0                           0   \n",
              "1                             0                           0   \n",
              "2                             0                           0   \n",
              "3                             0                           0   \n",
              "4                             0                           0   \n",
              "...                         ...                         ...   \n",
              "12679                         0                           0   \n",
              "12680                         0                           0   \n",
              "12681                         0                           0   \n",
              "12682                         0                           0   \n",
              "12683                         0                           0   \n",
              "\n",
              "       RestaurantLessThan20_never  Restaurant20To50_1~3  Restaurant20To50_4~8  \\\n",
              "0                               0                     1                     0   \n",
              "1                               0                     1                     0   \n",
              "2                               0                     1                     0   \n",
              "3                               0                     1                     0   \n",
              "4                               0                     1                     0   \n",
              "...                           ...                   ...                   ...   \n",
              "12679                           0                     1                     0   \n",
              "12680                           0                     1                     0   \n",
              "12681                           0                     1                     0   \n",
              "12682                           0                     1                     0   \n",
              "12683                           0                     1                     0   \n",
              "\n",
              "       Restaurant20To50_gt8  Restaurant20To50_less1  Restaurant20To50_never  \n",
              "0                         0                       0                       0  \n",
              "1                         0                       0                       0  \n",
              "2                         0                       0                       0  \n",
              "3                         0                       0                       0  \n",
              "4                         0                       0                       0  \n",
              "...                     ...                     ...                     ...  \n",
              "12679                     0                       0                       0  \n",
              "12680                     0                       0                       0  \n",
              "12681                     0                       0                       0  \n",
              "12682                     0                       0                       0  \n",
              "12683                     0                       0                       0  \n",
              "\n",
              "[12684 rows x 112 columns]"
            ],
            "text/html": [
              "\n",
              "  <div id=\"df-1a561be0-18a3-4075-9d24-b3dc9367c98b\">\n",
              "    <div class=\"colab-df-container\">\n",
              "      <div>\n",
              "<style scoped>\n",
              "    .dataframe tbody tr th:only-of-type {\n",
              "        vertical-align: middle;\n",
              "    }\n",
              "\n",
              "    .dataframe tbody tr th {\n",
              "        vertical-align: top;\n",
              "    }\n",
              "\n",
              "    .dataframe thead th {\n",
              "        text-align: right;\n",
              "    }\n",
              "</style>\n",
              "<table border=\"1\" class=\"dataframe\">\n",
              "  <thead>\n",
              "    <tr style=\"text-align: right;\">\n",
              "      <th></th>\n",
              "      <th>has_children</th>\n",
              "      <th>toCoupon_GEQ5min</th>\n",
              "      <th>toCoupon_GEQ15min</th>\n",
              "      <th>toCoupon_GEQ25min</th>\n",
              "      <th>direction_same</th>\n",
              "      <th>direction_opp</th>\n",
              "      <th>Y</th>\n",
              "      <th>destination_Home</th>\n",
              "      <th>destination_No Urgent Place</th>\n",
              "      <th>destination_Work</th>\n",
              "      <th>...</th>\n",
              "      <th>RestaurantLessThan20_1~3</th>\n",
              "      <th>RestaurantLessThan20_4~8</th>\n",
              "      <th>RestaurantLessThan20_gt8</th>\n",
              "      <th>RestaurantLessThan20_less1</th>\n",
              "      <th>RestaurantLessThan20_never</th>\n",
              "      <th>Restaurant20To50_1~3</th>\n",
              "      <th>Restaurant20To50_4~8</th>\n",
              "      <th>Restaurant20To50_gt8</th>\n",
              "      <th>Restaurant20To50_less1</th>\n",
              "      <th>Restaurant20To50_never</th>\n",
              "    </tr>\n",
              "  </thead>\n",
              "  <tbody>\n",
              "    <tr>\n",
              "      <th>0</th>\n",
              "      <td>1</td>\n",
              "      <td>1</td>\n",
              "      <td>0</td>\n",
              "      <td>0</td>\n",
              "      <td>0</td>\n",
              "      <td>1</td>\n",
              "      <td>1</td>\n",
              "      <td>0</td>\n",
              "      <td>1</td>\n",
              "      <td>0</td>\n",
              "      <td>...</td>\n",
              "      <td>0</td>\n",
              "      <td>1</td>\n",
              "      <td>0</td>\n",
              "      <td>0</td>\n",
              "      <td>0</td>\n",
              "      <td>1</td>\n",
              "      <td>0</td>\n",
              "      <td>0</td>\n",
              "      <td>0</td>\n",
              "      <td>0</td>\n",
              "    </tr>\n",
              "    <tr>\n",
              "      <th>1</th>\n",
              "      <td>1</td>\n",
              "      <td>1</td>\n",
              "      <td>0</td>\n",
              "      <td>0</td>\n",
              "      <td>0</td>\n",
              "      <td>1</td>\n",
              "      <td>0</td>\n",
              "      <td>0</td>\n",
              "      <td>1</td>\n",
              "      <td>0</td>\n",
              "      <td>...</td>\n",
              "      <td>0</td>\n",
              "      <td>1</td>\n",
              "      <td>0</td>\n",
              "      <td>0</td>\n",
              "      <td>0</td>\n",
              "      <td>1</td>\n",
              "      <td>0</td>\n",
              "      <td>0</td>\n",
              "      <td>0</td>\n",
              "      <td>0</td>\n",
              "    </tr>\n",
              "    <tr>\n",
              "      <th>2</th>\n",
              "      <td>1</td>\n",
              "      <td>1</td>\n",
              "      <td>1</td>\n",
              "      <td>0</td>\n",
              "      <td>0</td>\n",
              "      <td>1</td>\n",
              "      <td>1</td>\n",
              "      <td>0</td>\n",
              "      <td>1</td>\n",
              "      <td>0</td>\n",
              "      <td>...</td>\n",
              "      <td>0</td>\n",
              "      <td>1</td>\n",
              "      <td>0</td>\n",
              "      <td>0</td>\n",
              "      <td>0</td>\n",
              "      <td>1</td>\n",
              "      <td>0</td>\n",
              "      <td>0</td>\n",
              "      <td>0</td>\n",
              "      <td>0</td>\n",
              "    </tr>\n",
              "    <tr>\n",
              "      <th>3</th>\n",
              "      <td>1</td>\n",
              "      <td>1</td>\n",
              "      <td>1</td>\n",
              "      <td>0</td>\n",
              "      <td>0</td>\n",
              "      <td>1</td>\n",
              "      <td>0</td>\n",
              "      <td>0</td>\n",
              "      <td>1</td>\n",
              "      <td>0</td>\n",
              "      <td>...</td>\n",
              "      <td>0</td>\n",
              "      <td>1</td>\n",
              "      <td>0</td>\n",
              "      <td>0</td>\n",
              "      <td>0</td>\n",
              "      <td>1</td>\n",
              "      <td>0</td>\n",
              "      <td>0</td>\n",
              "      <td>0</td>\n",
              "      <td>0</td>\n",
              "    </tr>\n",
              "    <tr>\n",
              "      <th>4</th>\n",
              "      <td>1</td>\n",
              "      <td>1</td>\n",
              "      <td>1</td>\n",
              "      <td>0</td>\n",
              "      <td>0</td>\n",
              "      <td>1</td>\n",
              "      <td>0</td>\n",
              "      <td>0</td>\n",
              "      <td>1</td>\n",
              "      <td>0</td>\n",
              "      <td>...</td>\n",
              "      <td>0</td>\n",
              "      <td>1</td>\n",
              "      <td>0</td>\n",
              "      <td>0</td>\n",
              "      <td>0</td>\n",
              "      <td>1</td>\n",
              "      <td>0</td>\n",
              "      <td>0</td>\n",
              "      <td>0</td>\n",
              "      <td>0</td>\n",
              "    </tr>\n",
              "    <tr>\n",
              "      <th>...</th>\n",
              "      <td>...</td>\n",
              "      <td>...</td>\n",
              "      <td>...</td>\n",
              "      <td>...</td>\n",
              "      <td>...</td>\n",
              "      <td>...</td>\n",
              "      <td>...</td>\n",
              "      <td>...</td>\n",
              "      <td>...</td>\n",
              "      <td>...</td>\n",
              "      <td>...</td>\n",
              "      <td>...</td>\n",
              "      <td>...</td>\n",
              "      <td>...</td>\n",
              "      <td>...</td>\n",
              "      <td>...</td>\n",
              "      <td>...</td>\n",
              "      <td>...</td>\n",
              "      <td>...</td>\n",
              "      <td>...</td>\n",
              "      <td>...</td>\n",
              "    </tr>\n",
              "    <tr>\n",
              "      <th>12679</th>\n",
              "      <td>0</td>\n",
              "      <td>1</td>\n",
              "      <td>0</td>\n",
              "      <td>0</td>\n",
              "      <td>1</td>\n",
              "      <td>0</td>\n",
              "      <td>1</td>\n",
              "      <td>1</td>\n",
              "      <td>0</td>\n",
              "      <td>0</td>\n",
              "      <td>...</td>\n",
              "      <td>0</td>\n",
              "      <td>1</td>\n",
              "      <td>0</td>\n",
              "      <td>0</td>\n",
              "      <td>0</td>\n",
              "      <td>1</td>\n",
              "      <td>0</td>\n",
              "      <td>0</td>\n",
              "      <td>0</td>\n",
              "      <td>0</td>\n",
              "    </tr>\n",
              "    <tr>\n",
              "      <th>12680</th>\n",
              "      <td>0</td>\n",
              "      <td>1</td>\n",
              "      <td>0</td>\n",
              "      <td>0</td>\n",
              "      <td>0</td>\n",
              "      <td>1</td>\n",
              "      <td>1</td>\n",
              "      <td>0</td>\n",
              "      <td>0</td>\n",
              "      <td>1</td>\n",
              "      <td>...</td>\n",
              "      <td>0</td>\n",
              "      <td>1</td>\n",
              "      <td>0</td>\n",
              "      <td>0</td>\n",
              "      <td>0</td>\n",
              "      <td>1</td>\n",
              "      <td>0</td>\n",
              "      <td>0</td>\n",
              "      <td>0</td>\n",
              "      <td>0</td>\n",
              "    </tr>\n",
              "    <tr>\n",
              "      <th>12681</th>\n",
              "      <td>0</td>\n",
              "      <td>1</td>\n",
              "      <td>0</td>\n",
              "      <td>0</td>\n",
              "      <td>1</td>\n",
              "      <td>0</td>\n",
              "      <td>0</td>\n",
              "      <td>0</td>\n",
              "      <td>0</td>\n",
              "      <td>1</td>\n",
              "      <td>...</td>\n",
              "      <td>0</td>\n",
              "      <td>1</td>\n",
              "      <td>0</td>\n",
              "      <td>0</td>\n",
              "      <td>0</td>\n",
              "      <td>1</td>\n",
              "      <td>0</td>\n",
              "      <td>0</td>\n",
              "      <td>0</td>\n",
              "      <td>0</td>\n",
              "    </tr>\n",
              "    <tr>\n",
              "      <th>12682</th>\n",
              "      <td>0</td>\n",
              "      <td>1</td>\n",
              "      <td>1</td>\n",
              "      <td>1</td>\n",
              "      <td>0</td>\n",
              "      <td>1</td>\n",
              "      <td>0</td>\n",
              "      <td>0</td>\n",
              "      <td>0</td>\n",
              "      <td>1</td>\n",
              "      <td>...</td>\n",
              "      <td>0</td>\n",
              "      <td>1</td>\n",
              "      <td>0</td>\n",
              "      <td>0</td>\n",
              "      <td>0</td>\n",
              "      <td>1</td>\n",
              "      <td>0</td>\n",
              "      <td>0</td>\n",
              "      <td>0</td>\n",
              "      <td>0</td>\n",
              "    </tr>\n",
              "    <tr>\n",
              "      <th>12683</th>\n",
              "      <td>0</td>\n",
              "      <td>1</td>\n",
              "      <td>0</td>\n",
              "      <td>0</td>\n",
              "      <td>1</td>\n",
              "      <td>0</td>\n",
              "      <td>0</td>\n",
              "      <td>0</td>\n",
              "      <td>0</td>\n",
              "      <td>1</td>\n",
              "      <td>...</td>\n",
              "      <td>0</td>\n",
              "      <td>1</td>\n",
              "      <td>0</td>\n",
              "      <td>0</td>\n",
              "      <td>0</td>\n",
              "      <td>1</td>\n",
              "      <td>0</td>\n",
              "      <td>0</td>\n",
              "      <td>0</td>\n",
              "      <td>0</td>\n",
              "    </tr>\n",
              "  </tbody>\n",
              "</table>\n",
              "<p>12684 rows × 112 columns</p>\n",
              "</div>\n",
              "      <button class=\"colab-df-convert\" onclick=\"convertToInteractive('df-1a561be0-18a3-4075-9d24-b3dc9367c98b')\"\n",
              "              title=\"Convert this dataframe to an interactive table.\"\n",
              "              style=\"display:none;\">\n",
              "        \n",
              "  <svg xmlns=\"http://www.w3.org/2000/svg\" height=\"24px\"viewBox=\"0 0 24 24\"\n",
              "       width=\"24px\">\n",
              "    <path d=\"M0 0h24v24H0V0z\" fill=\"none\"/>\n",
              "    <path d=\"M18.56 5.44l.94 2.06.94-2.06 2.06-.94-2.06-.94-.94-2.06-.94 2.06-2.06.94zm-11 1L8.5 8.5l.94-2.06 2.06-.94-2.06-.94L8.5 2.5l-.94 2.06-2.06.94zm10 10l.94 2.06.94-2.06 2.06-.94-2.06-.94-.94-2.06-.94 2.06-2.06.94z\"/><path d=\"M17.41 7.96l-1.37-1.37c-.4-.4-.92-.59-1.43-.59-.52 0-1.04.2-1.43.59L10.3 9.45l-7.72 7.72c-.78.78-.78 2.05 0 2.83L4 21.41c.39.39.9.59 1.41.59.51 0 1.02-.2 1.41-.59l7.78-7.78 2.81-2.81c.8-.78.8-2.07 0-2.86zM5.41 20L4 18.59l7.72-7.72 1.47 1.35L5.41 20z\"/>\n",
              "  </svg>\n",
              "      </button>\n",
              "      \n",
              "  <style>\n",
              "    .colab-df-container {\n",
              "      display:flex;\n",
              "      flex-wrap:wrap;\n",
              "      gap: 12px;\n",
              "    }\n",
              "\n",
              "    .colab-df-convert {\n",
              "      background-color: #E8F0FE;\n",
              "      border: none;\n",
              "      border-radius: 50%;\n",
              "      cursor: pointer;\n",
              "      display: none;\n",
              "      fill: #1967D2;\n",
              "      height: 32px;\n",
              "      padding: 0 0 0 0;\n",
              "      width: 32px;\n",
              "    }\n",
              "\n",
              "    .colab-df-convert:hover {\n",
              "      background-color: #E2EBFA;\n",
              "      box-shadow: 0px 1px 2px rgba(60, 64, 67, 0.3), 0px 1px 3px 1px rgba(60, 64, 67, 0.15);\n",
              "      fill: #174EA6;\n",
              "    }\n",
              "\n",
              "    [theme=dark] .colab-df-convert {\n",
              "      background-color: #3B4455;\n",
              "      fill: #D2E3FC;\n",
              "    }\n",
              "\n",
              "    [theme=dark] .colab-df-convert:hover {\n",
              "      background-color: #434B5C;\n",
              "      box-shadow: 0px 1px 3px 1px rgba(0, 0, 0, 0.15);\n",
              "      filter: drop-shadow(0px 1px 2px rgba(0, 0, 0, 0.3));\n",
              "      fill: #FFFFFF;\n",
              "    }\n",
              "  </style>\n",
              "\n",
              "      <script>\n",
              "        const buttonEl =\n",
              "          document.querySelector('#df-1a561be0-18a3-4075-9d24-b3dc9367c98b button.colab-df-convert');\n",
              "        buttonEl.style.display =\n",
              "          google.colab.kernel.accessAllowed ? 'block' : 'none';\n",
              "\n",
              "        async function convertToInteractive(key) {\n",
              "          const element = document.querySelector('#df-1a561be0-18a3-4075-9d24-b3dc9367c98b');\n",
              "          const dataTable =\n",
              "            await google.colab.kernel.invokeFunction('convertToInteractive',\n",
              "                                                     [key], {});\n",
              "          if (!dataTable) return;\n",
              "\n",
              "          const docLinkHtml = 'Like what you see? Visit the ' +\n",
              "            '<a target=\"_blank\" href=https://colab.research.google.com/notebooks/data_table.ipynb>data table notebook</a>'\n",
              "            + ' to learn more about interactive tables.';\n",
              "          element.innerHTML = '';\n",
              "          dataTable['output_type'] = 'display_data';\n",
              "          await google.colab.output.renderOutput(dataTable, element);\n",
              "          const docLink = document.createElement('div');\n",
              "          docLink.innerHTML = docLinkHtml;\n",
              "          element.appendChild(docLink);\n",
              "        }\n",
              "      </script>\n",
              "    </div>\n",
              "  </div>\n",
              "  "
            ]
          },
          "metadata": {},
          "execution_count": 25
        }
      ]
    },
    {
      "cell_type": "code",
      "source": [
        "df.shape"
      ],
      "metadata": {
        "colab": {
          "base_uri": "https://localhost:8080/"
        },
        "id": "B_m1_eFxwjj4",
        "outputId": "f09a9f24-5e3a-4b05-8104-5494b5704cd2"
      },
      "execution_count": null,
      "outputs": [
        {
          "output_type": "execute_result",
          "data": {
            "text/plain": [
              "(12684, 112)"
            ]
          },
          "metadata": {},
          "execution_count": 26
        }
      ]
    },
    {
      "cell_type": "markdown",
      "source": [
        "## **Dropping Duplicate Values**"
      ],
      "metadata": {
        "id": "Sm0Ik2Mh6Qrp"
      }
    },
    {
      "cell_type": "markdown",
      "source": [
        "We can see that 'toCoupon_GEQ5min' gets only one value. So we don't need that. "
      ],
      "metadata": {
        "id": "OqVnFk8HAAsp"
      }
    },
    {
      "cell_type": "markdown",
      "source": [
        "## direction_opp has opposite values from direction_same"
      ],
      "metadata": {
        "id": "w3z8HbnnSIYh"
      }
    },
    {
      "cell_type": "code",
      "source": [
        "df.describe()"
      ],
      "metadata": {
        "colab": {
          "base_uri": "https://localhost:8080/",
          "height": 411
        },
        "id": "19x9yS3hpKGu",
        "outputId": "f1b8985f-cb80-4c0b-9ef6-313de9edf687"
      },
      "execution_count": null,
      "outputs": [
        {
          "output_type": "execute_result",
          "data": {
            "text/plain": [
              "       has_children  toCoupon_GEQ15min  toCoupon_GEQ25min  direction_same  \\\n",
              "count  12610.000000       12610.000000       12610.000000    12610.000000   \n",
              "mean       0.414512           0.559794           0.116019        0.215543   \n",
              "std        0.492657           0.496432           0.320260        0.411215   \n",
              "min        0.000000           0.000000           0.000000        0.000000   \n",
              "25%        0.000000           0.000000           0.000000        0.000000   \n",
              "50%        0.000000           1.000000           0.000000        0.000000   \n",
              "75%        1.000000           1.000000           0.000000        0.000000   \n",
              "max        1.000000           1.000000           1.000000        1.000000   \n",
              "\n",
              "                  Y  destination_Home  destination_No Urgent Place  \\\n",
              "count  12610.000000      12610.000000                 12610.000000   \n",
              "mean       0.567565          0.256146                     0.496907   \n",
              "std        0.495434          0.436521                     0.500010   \n",
              "min        0.000000          0.000000                     0.000000   \n",
              "25%        0.000000          0.000000                     0.000000   \n",
              "50%        1.000000          0.000000                     0.000000   \n",
              "75%        1.000000          1.000000                     1.000000   \n",
              "max        1.000000          1.000000                     1.000000   \n",
              "\n",
              "       destination_Work  passanger_Alone  passanger_Friend(s)  ...  \\\n",
              "count      12610.000000     12610.000000         12610.000000  ...   \n",
              "mean           0.246947         0.574782             0.261063  ...   \n",
              "std            0.431253         0.494396             0.439231  ...   \n",
              "min            0.000000         0.000000             0.000000  ...   \n",
              "25%            0.000000         0.000000             0.000000  ...   \n",
              "50%            0.000000         1.000000             0.000000  ...   \n",
              "75%            0.000000         1.000000             1.000000  ...   \n",
              "max            1.000000         1.000000             1.000000  ...   \n",
              "\n",
              "       RestaurantLessThan20_1~3  RestaurantLessThan20_4~8  \\\n",
              "count              12610.000000              12610.000000   \n",
              "mean                   0.434972                  0.281761   \n",
              "std                    0.495773                  0.449875   \n",
              "min                    0.000000                  0.000000   \n",
              "25%                    0.000000                  0.000000   \n",
              "50%                    0.000000                  0.000000   \n",
              "75%                    1.000000                  1.000000   \n",
              "max                    1.000000                  1.000000   \n",
              "\n",
              "       RestaurantLessThan20_gt8  RestaurantLessThan20_less1  \\\n",
              "count              12610.000000                12610.000000   \n",
              "mean                   0.101665                    0.164235   \n",
              "std                    0.302220                    0.370503   \n",
              "min                    0.000000                    0.000000   \n",
              "25%                    0.000000                    0.000000   \n",
              "50%                    0.000000                    0.000000   \n",
              "75%                    0.000000                    0.000000   \n",
              "max                    1.000000                    1.000000   \n",
              "\n",
              "       RestaurantLessThan20_never  Restaurant20To50_1~3  Restaurant20To50_4~8  \\\n",
              "count                12610.000000          12610.000000          12610.000000   \n",
              "mean                     0.017367              0.259001              0.057732   \n",
              "std                      0.130640              0.438103              0.233245   \n",
              "min                      0.000000              0.000000              0.000000   \n",
              "25%                      0.000000              0.000000              0.000000   \n",
              "50%                      0.000000              0.000000              0.000000   \n",
              "75%                      0.000000              1.000000              0.000000   \n",
              "max                      1.000000              1.000000              1.000000   \n",
              "\n",
              "       Restaurant20To50_gt8  Restaurant20To50_less1  Restaurant20To50_never  \n",
              "count          12610.000000            12610.000000            12610.000000  \n",
              "mean               0.020936                0.494052                0.168279  \n",
              "std                0.143175                0.499984                0.374129  \n",
              "min                0.000000                0.000000                0.000000  \n",
              "25%                0.000000                0.000000                0.000000  \n",
              "50%                0.000000                0.000000                0.000000  \n",
              "75%                0.000000                1.000000                0.000000  \n",
              "max                1.000000                1.000000                1.000000  \n",
              "\n",
              "[8 rows x 110 columns]"
            ],
            "text/html": [
              "\n",
              "  <div id=\"df-694d8cff-768e-4984-aa78-b420694e13bb\">\n",
              "    <div class=\"colab-df-container\">\n",
              "      <div>\n",
              "<style scoped>\n",
              "    .dataframe tbody tr th:only-of-type {\n",
              "        vertical-align: middle;\n",
              "    }\n",
              "\n",
              "    .dataframe tbody tr th {\n",
              "        vertical-align: top;\n",
              "    }\n",
              "\n",
              "    .dataframe thead th {\n",
              "        text-align: right;\n",
              "    }\n",
              "</style>\n",
              "<table border=\"1\" class=\"dataframe\">\n",
              "  <thead>\n",
              "    <tr style=\"text-align: right;\">\n",
              "      <th></th>\n",
              "      <th>has_children</th>\n",
              "      <th>toCoupon_GEQ15min</th>\n",
              "      <th>toCoupon_GEQ25min</th>\n",
              "      <th>direction_same</th>\n",
              "      <th>Y</th>\n",
              "      <th>destination_Home</th>\n",
              "      <th>destination_No Urgent Place</th>\n",
              "      <th>destination_Work</th>\n",
              "      <th>passanger_Alone</th>\n",
              "      <th>passanger_Friend(s)</th>\n",
              "      <th>...</th>\n",
              "      <th>RestaurantLessThan20_1~3</th>\n",
              "      <th>RestaurantLessThan20_4~8</th>\n",
              "      <th>RestaurantLessThan20_gt8</th>\n",
              "      <th>RestaurantLessThan20_less1</th>\n",
              "      <th>RestaurantLessThan20_never</th>\n",
              "      <th>Restaurant20To50_1~3</th>\n",
              "      <th>Restaurant20To50_4~8</th>\n",
              "      <th>Restaurant20To50_gt8</th>\n",
              "      <th>Restaurant20To50_less1</th>\n",
              "      <th>Restaurant20To50_never</th>\n",
              "    </tr>\n",
              "  </thead>\n",
              "  <tbody>\n",
              "    <tr>\n",
              "      <th>count</th>\n",
              "      <td>12610.000000</td>\n",
              "      <td>12610.000000</td>\n",
              "      <td>12610.000000</td>\n",
              "      <td>12610.000000</td>\n",
              "      <td>12610.000000</td>\n",
              "      <td>12610.000000</td>\n",
              "      <td>12610.000000</td>\n",
              "      <td>12610.000000</td>\n",
              "      <td>12610.000000</td>\n",
              "      <td>12610.000000</td>\n",
              "      <td>...</td>\n",
              "      <td>12610.000000</td>\n",
              "      <td>12610.000000</td>\n",
              "      <td>12610.000000</td>\n",
              "      <td>12610.000000</td>\n",
              "      <td>12610.000000</td>\n",
              "      <td>12610.000000</td>\n",
              "      <td>12610.000000</td>\n",
              "      <td>12610.000000</td>\n",
              "      <td>12610.000000</td>\n",
              "      <td>12610.000000</td>\n",
              "    </tr>\n",
              "    <tr>\n",
              "      <th>mean</th>\n",
              "      <td>0.414512</td>\n",
              "      <td>0.559794</td>\n",
              "      <td>0.116019</td>\n",
              "      <td>0.215543</td>\n",
              "      <td>0.567565</td>\n",
              "      <td>0.256146</td>\n",
              "      <td>0.496907</td>\n",
              "      <td>0.246947</td>\n",
              "      <td>0.574782</td>\n",
              "      <td>0.261063</td>\n",
              "      <td>...</td>\n",
              "      <td>0.434972</td>\n",
              "      <td>0.281761</td>\n",
              "      <td>0.101665</td>\n",
              "      <td>0.164235</td>\n",
              "      <td>0.017367</td>\n",
              "      <td>0.259001</td>\n",
              "      <td>0.057732</td>\n",
              "      <td>0.020936</td>\n",
              "      <td>0.494052</td>\n",
              "      <td>0.168279</td>\n",
              "    </tr>\n",
              "    <tr>\n",
              "      <th>std</th>\n",
              "      <td>0.492657</td>\n",
              "      <td>0.496432</td>\n",
              "      <td>0.320260</td>\n",
              "      <td>0.411215</td>\n",
              "      <td>0.495434</td>\n",
              "      <td>0.436521</td>\n",
              "      <td>0.500010</td>\n",
              "      <td>0.431253</td>\n",
              "      <td>0.494396</td>\n",
              "      <td>0.439231</td>\n",
              "      <td>...</td>\n",
              "      <td>0.495773</td>\n",
              "      <td>0.449875</td>\n",
              "      <td>0.302220</td>\n",
              "      <td>0.370503</td>\n",
              "      <td>0.130640</td>\n",
              "      <td>0.438103</td>\n",
              "      <td>0.233245</td>\n",
              "      <td>0.143175</td>\n",
              "      <td>0.499984</td>\n",
              "      <td>0.374129</td>\n",
              "    </tr>\n",
              "    <tr>\n",
              "      <th>min</th>\n",
              "      <td>0.000000</td>\n",
              "      <td>0.000000</td>\n",
              "      <td>0.000000</td>\n",
              "      <td>0.000000</td>\n",
              "      <td>0.000000</td>\n",
              "      <td>0.000000</td>\n",
              "      <td>0.000000</td>\n",
              "      <td>0.000000</td>\n",
              "      <td>0.000000</td>\n",
              "      <td>0.000000</td>\n",
              "      <td>...</td>\n",
              "      <td>0.000000</td>\n",
              "      <td>0.000000</td>\n",
              "      <td>0.000000</td>\n",
              "      <td>0.000000</td>\n",
              "      <td>0.000000</td>\n",
              "      <td>0.000000</td>\n",
              "      <td>0.000000</td>\n",
              "      <td>0.000000</td>\n",
              "      <td>0.000000</td>\n",
              "      <td>0.000000</td>\n",
              "    </tr>\n",
              "    <tr>\n",
              "      <th>25%</th>\n",
              "      <td>0.000000</td>\n",
              "      <td>0.000000</td>\n",
              "      <td>0.000000</td>\n",
              "      <td>0.000000</td>\n",
              "      <td>0.000000</td>\n",
              "      <td>0.000000</td>\n",
              "      <td>0.000000</td>\n",
              "      <td>0.000000</td>\n",
              "      <td>0.000000</td>\n",
              "      <td>0.000000</td>\n",
              "      <td>...</td>\n",
              "      <td>0.000000</td>\n",
              "      <td>0.000000</td>\n",
              "      <td>0.000000</td>\n",
              "      <td>0.000000</td>\n",
              "      <td>0.000000</td>\n",
              "      <td>0.000000</td>\n",
              "      <td>0.000000</td>\n",
              "      <td>0.000000</td>\n",
              "      <td>0.000000</td>\n",
              "      <td>0.000000</td>\n",
              "    </tr>\n",
              "    <tr>\n",
              "      <th>50%</th>\n",
              "      <td>0.000000</td>\n",
              "      <td>1.000000</td>\n",
              "      <td>0.000000</td>\n",
              "      <td>0.000000</td>\n",
              "      <td>1.000000</td>\n",
              "      <td>0.000000</td>\n",
              "      <td>0.000000</td>\n",
              "      <td>0.000000</td>\n",
              "      <td>1.000000</td>\n",
              "      <td>0.000000</td>\n",
              "      <td>...</td>\n",
              "      <td>0.000000</td>\n",
              "      <td>0.000000</td>\n",
              "      <td>0.000000</td>\n",
              "      <td>0.000000</td>\n",
              "      <td>0.000000</td>\n",
              "      <td>0.000000</td>\n",
              "      <td>0.000000</td>\n",
              "      <td>0.000000</td>\n",
              "      <td>0.000000</td>\n",
              "      <td>0.000000</td>\n",
              "    </tr>\n",
              "    <tr>\n",
              "      <th>75%</th>\n",
              "      <td>1.000000</td>\n",
              "      <td>1.000000</td>\n",
              "      <td>0.000000</td>\n",
              "      <td>0.000000</td>\n",
              "      <td>1.000000</td>\n",
              "      <td>1.000000</td>\n",
              "      <td>1.000000</td>\n",
              "      <td>0.000000</td>\n",
              "      <td>1.000000</td>\n",
              "      <td>1.000000</td>\n",
              "      <td>...</td>\n",
              "      <td>1.000000</td>\n",
              "      <td>1.000000</td>\n",
              "      <td>0.000000</td>\n",
              "      <td>0.000000</td>\n",
              "      <td>0.000000</td>\n",
              "      <td>1.000000</td>\n",
              "      <td>0.000000</td>\n",
              "      <td>0.000000</td>\n",
              "      <td>1.000000</td>\n",
              "      <td>0.000000</td>\n",
              "    </tr>\n",
              "    <tr>\n",
              "      <th>max</th>\n",
              "      <td>1.000000</td>\n",
              "      <td>1.000000</td>\n",
              "      <td>1.000000</td>\n",
              "      <td>1.000000</td>\n",
              "      <td>1.000000</td>\n",
              "      <td>1.000000</td>\n",
              "      <td>1.000000</td>\n",
              "      <td>1.000000</td>\n",
              "      <td>1.000000</td>\n",
              "      <td>1.000000</td>\n",
              "      <td>...</td>\n",
              "      <td>1.000000</td>\n",
              "      <td>1.000000</td>\n",
              "      <td>1.000000</td>\n",
              "      <td>1.000000</td>\n",
              "      <td>1.000000</td>\n",
              "      <td>1.000000</td>\n",
              "      <td>1.000000</td>\n",
              "      <td>1.000000</td>\n",
              "      <td>1.000000</td>\n",
              "      <td>1.000000</td>\n",
              "    </tr>\n",
              "  </tbody>\n",
              "</table>\n",
              "<p>8 rows × 110 columns</p>\n",
              "</div>\n",
              "      <button class=\"colab-df-convert\" onclick=\"convertToInteractive('df-694d8cff-768e-4984-aa78-b420694e13bb')\"\n",
              "              title=\"Convert this dataframe to an interactive table.\"\n",
              "              style=\"display:none;\">\n",
              "        \n",
              "  <svg xmlns=\"http://www.w3.org/2000/svg\" height=\"24px\"viewBox=\"0 0 24 24\"\n",
              "       width=\"24px\">\n",
              "    <path d=\"M0 0h24v24H0V0z\" fill=\"none\"/>\n",
              "    <path d=\"M18.56 5.44l.94 2.06.94-2.06 2.06-.94-2.06-.94-.94-2.06-.94 2.06-2.06.94zm-11 1L8.5 8.5l.94-2.06 2.06-.94-2.06-.94L8.5 2.5l-.94 2.06-2.06.94zm10 10l.94 2.06.94-2.06 2.06-.94-2.06-.94-.94-2.06-.94 2.06-2.06.94z\"/><path d=\"M17.41 7.96l-1.37-1.37c-.4-.4-.92-.59-1.43-.59-.52 0-1.04.2-1.43.59L10.3 9.45l-7.72 7.72c-.78.78-.78 2.05 0 2.83L4 21.41c.39.39.9.59 1.41.59.51 0 1.02-.2 1.41-.59l7.78-7.78 2.81-2.81c.8-.78.8-2.07 0-2.86zM5.41 20L4 18.59l7.72-7.72 1.47 1.35L5.41 20z\"/>\n",
              "  </svg>\n",
              "      </button>\n",
              "      \n",
              "  <style>\n",
              "    .colab-df-container {\n",
              "      display:flex;\n",
              "      flex-wrap:wrap;\n",
              "      gap: 12px;\n",
              "    }\n",
              "\n",
              "    .colab-df-convert {\n",
              "      background-color: #E8F0FE;\n",
              "      border: none;\n",
              "      border-radius: 50%;\n",
              "      cursor: pointer;\n",
              "      display: none;\n",
              "      fill: #1967D2;\n",
              "      height: 32px;\n",
              "      padding: 0 0 0 0;\n",
              "      width: 32px;\n",
              "    }\n",
              "\n",
              "    .colab-df-convert:hover {\n",
              "      background-color: #E2EBFA;\n",
              "      box-shadow: 0px 1px 2px rgba(60, 64, 67, 0.3), 0px 1px 3px 1px rgba(60, 64, 67, 0.15);\n",
              "      fill: #174EA6;\n",
              "    }\n",
              "\n",
              "    [theme=dark] .colab-df-convert {\n",
              "      background-color: #3B4455;\n",
              "      fill: #D2E3FC;\n",
              "    }\n",
              "\n",
              "    [theme=dark] .colab-df-convert:hover {\n",
              "      background-color: #434B5C;\n",
              "      box-shadow: 0px 1px 3px 1px rgba(0, 0, 0, 0.15);\n",
              "      filter: drop-shadow(0px 1px 2px rgba(0, 0, 0, 0.3));\n",
              "      fill: #FFFFFF;\n",
              "    }\n",
              "  </style>\n",
              "\n",
              "      <script>\n",
              "        const buttonEl =\n",
              "          document.querySelector('#df-694d8cff-768e-4984-aa78-b420694e13bb button.colab-df-convert');\n",
              "        buttonEl.style.display =\n",
              "          google.colab.kernel.accessAllowed ? 'block' : 'none';\n",
              "\n",
              "        async function convertToInteractive(key) {\n",
              "          const element = document.querySelector('#df-694d8cff-768e-4984-aa78-b420694e13bb');\n",
              "          const dataTable =\n",
              "            await google.colab.kernel.invokeFunction('convertToInteractive',\n",
              "                                                     [key], {});\n",
              "          if (!dataTable) return;\n",
              "\n",
              "          const docLinkHtml = 'Like what you see? Visit the ' +\n",
              "            '<a target=\"_blank\" href=https://colab.research.google.com/notebooks/data_table.ipynb>data table notebook</a>'\n",
              "            + ' to learn more about interactive tables.';\n",
              "          element.innerHTML = '';\n",
              "          dataTable['output_type'] = 'display_data';\n",
              "          await google.colab.output.renderOutput(dataTable, element);\n",
              "          const docLink = document.createElement('div');\n",
              "          docLink.innerHTML = docLinkHtml;\n",
              "          element.appendChild(docLink);\n",
              "        }\n",
              "      </script>\n",
              "    </div>\n",
              "  </div>\n",
              "  "
            ]
          },
          "metadata": {},
          "execution_count": 31
        }
      ]
    },
    {
      "cell_type": "code",
      "source": [
        "df.dtypes"
      ],
      "metadata": {
        "colab": {
          "base_uri": "https://localhost:8080/"
        },
        "id": "08YyS7Gt9oES",
        "outputId": "a46bcc4d-eab9-4965-d8cd-8d14d6276dde"
      },
      "execution_count": null,
      "outputs": [
        {
          "output_type": "execute_result",
          "data": {
            "text/plain": [
              "has_children              int64\n",
              "toCoupon_GEQ15min         int64\n",
              "toCoupon_GEQ25min         int64\n",
              "direction_same            int64\n",
              "Y                         int64\n",
              "                          ...  \n",
              "Restaurant20To50_1~3      uint8\n",
              "Restaurant20To50_4~8      uint8\n",
              "Restaurant20To50_gt8      uint8\n",
              "Restaurant20To50_less1    uint8\n",
              "Restaurant20To50_never    uint8\n",
              "Length: 110, dtype: object"
            ]
          },
          "metadata": {},
          "execution_count": 33
        }
      ]
    },
    {
      "cell_type": "code",
      "source": [
        "cluster_df = df.copy()"
      ],
      "metadata": {
        "id": "bbn9StlyZ7aq"
      },
      "execution_count": null,
      "outputs": []
    },
    {
      "cell_type": "markdown",
      "source": [
        "#**Classification (Logistic Regression)**"
      ],
      "metadata": {
        "id": "nx7UgKpzAE69"
      }
    },
    {
      "cell_type": "code",
      "source": [
        "X = df.drop('Y', axis=1)"
      ],
      "metadata": {
        "id": "SqKS9jMw2nHr"
      },
      "execution_count": null,
      "outputs": []
    },
    {
      "cell_type": "code",
      "source": [
        "y = df['Y']"
      ],
      "metadata": {
        "id": "gXbXTFhu2nA5"
      },
      "execution_count": null,
      "outputs": []
    },
    {
      "cell_type": "code",
      "source": [
        "X_train, X_test, y_train, y_test = train_test_split(X, y, train_size=0.7, random_state=42)"
      ],
      "metadata": {
        "id": "diC1mwQ12BlD"
      },
      "execution_count": null,
      "outputs": []
    },
    {
      "cell_type": "code",
      "source": [
        "lr = linear_model.LogisticRegression()\n",
        "lr_mod = lr.fit(X_train, y_train)"
      ],
      "metadata": {
        "id": "VJanwV7a2x0J"
      },
      "execution_count": null,
      "outputs": []
    },
    {
      "cell_type": "code",
      "source": [
        "#Predict the response for test dataset\n",
        "y_pred_Lr = lr_mod.predict(X_test)\n",
        "\n",
        "log_accuracy = accuracy_score(y_test, y_pred_Lr)\n",
        "\n",
        "print(f'Accuracy: {log_accuracy:.3f}')"
      ],
      "metadata": {
        "id": "oeEzKRXJNSNW",
        "outputId": "13eaeb45-cb05-4fa2-e493-b35bc5d5c0ba",
        "colab": {
          "base_uri": "https://localhost:8080/"
        }
      },
      "execution_count": null,
      "outputs": [
        {
          "output_type": "stream",
          "name": "stdout",
          "text": [
            "Accuracy: 0.691\n"
          ]
        }
      ]
    },
    {
      "cell_type": "markdown",
      "source": [
        "# **Classification (KNN Algorithm)**"
      ],
      "metadata": {
        "id": "y0VoqxW6AO5o"
      }
    },
    {
      "cell_type": "markdown",
      "source": [
        "Με scale μας βγήκε 0.03 λιγότερο."
      ],
      "metadata": {
        "id": "hc3Q9siBjDaP"
      }
    },
    {
      "cell_type": "code",
      "source": [
        "# from sklearn.preprocessing import StandardScaler\n",
        "# sc = StandardScaler()\n",
        "# X_train = sc.fit_transform(X_train)\n",
        "# X_test = sc.transform(X_test)"
      ],
      "metadata": {
        "id": "1HrLeazAeAzi"
      },
      "execution_count": null,
      "outputs": []
    },
    {
      "cell_type": "code",
      "source": [
        "classifier = KNeighborsClassifier(n_neighbors = 30, metric = 'minkowski', p = 2)\n",
        "classifier.fit(X_train, y_train)"
      ],
      "metadata": {
        "colab": {
          "base_uri": "https://localhost:8080/"
        },
        "id": "_u8NxxG4cAhJ",
        "outputId": "8d15bf32-588a-4518-f6e1-5829b8332e07"
      },
      "execution_count": null,
      "outputs": [
        {
          "output_type": "execute_result",
          "data": {
            "text/plain": [
              "KNeighborsClassifier(n_neighbors=30)"
            ]
          },
          "metadata": {},
          "execution_count": 57
        }
      ]
    },
    {
      "cell_type": "code",
      "source": [
        "y_pred = classifier.predict(X_test)"
      ],
      "metadata": {
        "id": "KfpLIVA6csy9"
      },
      "execution_count": null,
      "outputs": []
    },
    {
      "cell_type": "code",
      "source": [
        "knn_accuracy = accuracy_score(y_test, y_pred)\n",
        "print(f'Accuracy: {knn_accuracy:.3f}')"
      ],
      "metadata": {
        "colab": {
          "base_uri": "https://localhost:8080/"
        },
        "id": "A7-Yvx1niMB-",
        "outputId": "21634ac2-1083-4d82-b05f-1d655f1667e0"
      },
      "execution_count": null,
      "outputs": [
        {
          "output_type": "stream",
          "name": "stdout",
          "text": [
            "Accuracy: 0.712\n"
          ]
        }
      ]
    },
    {
      "cell_type": "markdown",
      "source": [
        "# **SVM Algorithm**\n",
        "\n",
        "Αργεί πάρα πολύ η εκπαίδευση του."
      ],
      "metadata": {
        "id": "DHJaAz7jY38x"
      }
    },
    {
      "cell_type": "code",
      "source": [
        "SVM = SVC(kernel=\"rbf\", random_state=None, probability=True, cache_size=200, gamma=0.1)\n",
        "SVM.fit(X_train, y_train)"
      ],
      "metadata": {
        "colab": {
          "base_uri": "https://localhost:8080/"
        },
        "id": "xEvTR8YRaApd",
        "outputId": "f7a1afe6-adda-4202-8fa4-22dc6a738621"
      },
      "execution_count": null,
      "outputs": [
        {
          "output_type": "execute_result",
          "data": {
            "text/plain": [
              "SVC(gamma=0.1, probability=True)"
            ]
          },
          "metadata": {},
          "execution_count": 61
        }
      ]
    },
    {
      "cell_type": "code",
      "source": [
        "y_pred_SVM = SVM.predict(X_test)\n",
        "SVM_accuracy = accuracy_score(y_test, y_pred_SVM)\n",
        "\n",
        "print(f'Accuracy: {SVM_accuracy:.3f}')"
      ],
      "metadata": {
        "colab": {
          "base_uri": "https://localhost:8080/"
        },
        "id": "DyOJU53MnqKk",
        "outputId": "1295b28c-ac14-41d1-baf9-002bf895c6d6"
      },
      "execution_count": null,
      "outputs": [
        {
          "output_type": "stream",
          "name": "stdout",
          "text": [
            "Accuracy: 0.750\n"
          ]
        }
      ]
    },
    {
      "cell_type": "markdown",
      "source": [
        "# **Decision Tree**"
      ],
      "metadata": {
        "id": "_8y12fGGoLSK"
      }
    },
    {
      "cell_type": "code",
      "source": [
        "DTC = DecisionTreeClassifier()\n",
        "DTC.fit(X_train, y_train)\n",
        "\n",
        "#Predict the response for test dataset\n",
        "y_pred_DTC = DTC.predict(X_test)\n",
        "\n",
        "DTC_accuracy = accuracy_score(y_test, y_pred_DTC)\n",
        "\n",
        "print(f'Accuracy: {DTC_accuracy:.3f}')"
      ],
      "metadata": {
        "id": "yd6MYQcraAgu",
        "colab": {
          "base_uri": "https://localhost:8080/"
        },
        "outputId": "c13352e2-84e8-4906-980f-0351994eddb1"
      },
      "execution_count": null,
      "outputs": [
        {
          "output_type": "stream",
          "name": "stdout",
          "text": [
            "Accuracy: 0.680\n"
          ]
        }
      ]
    },
    {
      "cell_type": "markdown",
      "source": [
        "# **Random Forest**"
      ],
      "metadata": {
        "id": "1gdETDjatc-E"
      }
    },
    {
      "cell_type": "code",
      "source": [
        "randForest =  RandomForestClassifier()\n",
        "randForest.fit(X_train, y_train)\n",
        "\n",
        "importances = randForest.feature_importances_\n",
        "\n",
        "# sort the feature importances\n",
        "indices = np.argsort(importances)[::-1]\n",
        "\n",
        "# select the top 5 features\n",
        "selected_features = indices[:5]\n",
        "\n",
        "#Predict the response for test dataset\n",
        "y_pred_randForest = randForest.predict(X_test)\n",
        "\n",
        "rnf_accuracy = accuracy_score(y_test, y_pred_randForest)\n",
        "\n",
        "print(f'Accuracy: {rnf_accuracy:.3f}')"
      ],
      "metadata": {
        "colab": {
          "base_uri": "https://localhost:8080/"
        },
        "id": "Ew7LlOQNLzAt",
        "outputId": "28977ebb-b49e-4b1d-d94f-436b646522fe"
      },
      "execution_count": null,
      "outputs": [
        {
          "output_type": "stream",
          "name": "stdout",
          "text": [
            "Accuracy: 0.750\n"
          ]
        }
      ]
    },
    {
      "cell_type": "code",
      "source": [
        "selected_features = selected_features.tolist()"
      ],
      "metadata": {
        "id": "WrBHeLyPuDv4"
      },
      "execution_count": null,
      "outputs": []
    },
    {
      "cell_type": "code",
      "source": [
        "print(selected_features)"
      ],
      "metadata": {
        "id": "WvcHSqnjnrS-",
        "outputId": "b2d30275-0692-42ab-baf0-6ace1020bbf1",
        "colab": {
          "base_uri": "https://localhost:8080/"
        }
      },
      "execution_count": null,
      "outputs": [
        {
          "output_type": "stream",
          "name": "stdout",
          "text": [
            "[23, 26, 24, 93, 22]\n"
          ]
        }
      ]
    },
    {
      "cell_type": "code",
      "source": [
        "df_new = df.iloc[:, selected_features]"
      ],
      "metadata": {
        "id": "YTxoezaloYTF"
      },
      "execution_count": null,
      "outputs": []
    },
    {
      "cell_type": "code",
      "source": [
        "df_new = pd.concat([df_new, df['Y']], axis=1)"
      ],
      "metadata": {
        "id": "O-PozCr6yBHR"
      },
      "execution_count": null,
      "outputs": []
    },
    {
      "cell_type": "code",
      "source": [
        "df_new"
      ],
      "metadata": {
        "id": "Emam9Nlqru7K",
        "outputId": "ca31472c-dc27-40a2-80e1-d8b394dd3564",
        "colab": {
          "base_uri": "https://localhost:8080/",
          "height": 424
        }
      },
      "execution_count": null,
      "outputs": [
        {
          "output_type": "execute_result",
          "data": {
            "text/plain": [
              "       coupon_Bar  coupon_Restaurant(20-50)  coupon_Carry out & Take away  \\\n",
              "0               0                         0                             0   \n",
              "1               0                         0                             0   \n",
              "2               0                         0                             1   \n",
              "3               0                         0                             0   \n",
              "4               0                         0                             0   \n",
              "...           ...                       ...                           ...   \n",
              "12679           0                         0                             1   \n",
              "12680           0                         0                             1   \n",
              "12681           0                         0                             0   \n",
              "12682           1                         0                             0   \n",
              "12683           0                         1                             0   \n",
              "\n",
              "       CoffeeHouse_less1  time_7AM  Y  \n",
              "0                      0         0  1  \n",
              "1                      0         0  0  \n",
              "2                      0         0  1  \n",
              "3                      0         0  0  \n",
              "4                      0         0  0  \n",
              "...                  ...       ... ..  \n",
              "12679                  0         0  1  \n",
              "12680                  0         1  1  \n",
              "12681                  0         1  0  \n",
              "12682                  0         1  0  \n",
              "12683                  0         1  0  \n",
              "\n",
              "[12610 rows x 6 columns]"
            ],
            "text/html": [
              "\n",
              "  <div id=\"df-294fc0b5-29fb-4ed3-8ad8-db8ef16c85dc\">\n",
              "    <div class=\"colab-df-container\">\n",
              "      <div>\n",
              "<style scoped>\n",
              "    .dataframe tbody tr th:only-of-type {\n",
              "        vertical-align: middle;\n",
              "    }\n",
              "\n",
              "    .dataframe tbody tr th {\n",
              "        vertical-align: top;\n",
              "    }\n",
              "\n",
              "    .dataframe thead th {\n",
              "        text-align: right;\n",
              "    }\n",
              "</style>\n",
              "<table border=\"1\" class=\"dataframe\">\n",
              "  <thead>\n",
              "    <tr style=\"text-align: right;\">\n",
              "      <th></th>\n",
              "      <th>coupon_Bar</th>\n",
              "      <th>coupon_Restaurant(20-50)</th>\n",
              "      <th>coupon_Carry out &amp; Take away</th>\n",
              "      <th>CoffeeHouse_less1</th>\n",
              "      <th>time_7AM</th>\n",
              "      <th>Y</th>\n",
              "    </tr>\n",
              "  </thead>\n",
              "  <tbody>\n",
              "    <tr>\n",
              "      <th>0</th>\n",
              "      <td>0</td>\n",
              "      <td>0</td>\n",
              "      <td>0</td>\n",
              "      <td>0</td>\n",
              "      <td>0</td>\n",
              "      <td>1</td>\n",
              "    </tr>\n",
              "    <tr>\n",
              "      <th>1</th>\n",
              "      <td>0</td>\n",
              "      <td>0</td>\n",
              "      <td>0</td>\n",
              "      <td>0</td>\n",
              "      <td>0</td>\n",
              "      <td>0</td>\n",
              "    </tr>\n",
              "    <tr>\n",
              "      <th>2</th>\n",
              "      <td>0</td>\n",
              "      <td>0</td>\n",
              "      <td>1</td>\n",
              "      <td>0</td>\n",
              "      <td>0</td>\n",
              "      <td>1</td>\n",
              "    </tr>\n",
              "    <tr>\n",
              "      <th>3</th>\n",
              "      <td>0</td>\n",
              "      <td>0</td>\n",
              "      <td>0</td>\n",
              "      <td>0</td>\n",
              "      <td>0</td>\n",
              "      <td>0</td>\n",
              "    </tr>\n",
              "    <tr>\n",
              "      <th>4</th>\n",
              "      <td>0</td>\n",
              "      <td>0</td>\n",
              "      <td>0</td>\n",
              "      <td>0</td>\n",
              "      <td>0</td>\n",
              "      <td>0</td>\n",
              "    </tr>\n",
              "    <tr>\n",
              "      <th>...</th>\n",
              "      <td>...</td>\n",
              "      <td>...</td>\n",
              "      <td>...</td>\n",
              "      <td>...</td>\n",
              "      <td>...</td>\n",
              "      <td>...</td>\n",
              "    </tr>\n",
              "    <tr>\n",
              "      <th>12679</th>\n",
              "      <td>0</td>\n",
              "      <td>0</td>\n",
              "      <td>1</td>\n",
              "      <td>0</td>\n",
              "      <td>0</td>\n",
              "      <td>1</td>\n",
              "    </tr>\n",
              "    <tr>\n",
              "      <th>12680</th>\n",
              "      <td>0</td>\n",
              "      <td>0</td>\n",
              "      <td>1</td>\n",
              "      <td>0</td>\n",
              "      <td>1</td>\n",
              "      <td>1</td>\n",
              "    </tr>\n",
              "    <tr>\n",
              "      <th>12681</th>\n",
              "      <td>0</td>\n",
              "      <td>0</td>\n",
              "      <td>0</td>\n",
              "      <td>0</td>\n",
              "      <td>1</td>\n",
              "      <td>0</td>\n",
              "    </tr>\n",
              "    <tr>\n",
              "      <th>12682</th>\n",
              "      <td>1</td>\n",
              "      <td>0</td>\n",
              "      <td>0</td>\n",
              "      <td>0</td>\n",
              "      <td>1</td>\n",
              "      <td>0</td>\n",
              "    </tr>\n",
              "    <tr>\n",
              "      <th>12683</th>\n",
              "      <td>0</td>\n",
              "      <td>1</td>\n",
              "      <td>0</td>\n",
              "      <td>0</td>\n",
              "      <td>1</td>\n",
              "      <td>0</td>\n",
              "    </tr>\n",
              "  </tbody>\n",
              "</table>\n",
              "<p>12610 rows × 6 columns</p>\n",
              "</div>\n",
              "      <button class=\"colab-df-convert\" onclick=\"convertToInteractive('df-294fc0b5-29fb-4ed3-8ad8-db8ef16c85dc')\"\n",
              "              title=\"Convert this dataframe to an interactive table.\"\n",
              "              style=\"display:none;\">\n",
              "        \n",
              "  <svg xmlns=\"http://www.w3.org/2000/svg\" height=\"24px\"viewBox=\"0 0 24 24\"\n",
              "       width=\"24px\">\n",
              "    <path d=\"M0 0h24v24H0V0z\" fill=\"none\"/>\n",
              "    <path d=\"M18.56 5.44l.94 2.06.94-2.06 2.06-.94-2.06-.94-.94-2.06-.94 2.06-2.06.94zm-11 1L8.5 8.5l.94-2.06 2.06-.94-2.06-.94L8.5 2.5l-.94 2.06-2.06.94zm10 10l.94 2.06.94-2.06 2.06-.94-2.06-.94-.94-2.06-.94 2.06-2.06.94z\"/><path d=\"M17.41 7.96l-1.37-1.37c-.4-.4-.92-.59-1.43-.59-.52 0-1.04.2-1.43.59L10.3 9.45l-7.72 7.72c-.78.78-.78 2.05 0 2.83L4 21.41c.39.39.9.59 1.41.59.51 0 1.02-.2 1.41-.59l7.78-7.78 2.81-2.81c.8-.78.8-2.07 0-2.86zM5.41 20L4 18.59l7.72-7.72 1.47 1.35L5.41 20z\"/>\n",
              "  </svg>\n",
              "      </button>\n",
              "      \n",
              "  <style>\n",
              "    .colab-df-container {\n",
              "      display:flex;\n",
              "      flex-wrap:wrap;\n",
              "      gap: 12px;\n",
              "    }\n",
              "\n",
              "    .colab-df-convert {\n",
              "      background-color: #E8F0FE;\n",
              "      border: none;\n",
              "      border-radius: 50%;\n",
              "      cursor: pointer;\n",
              "      display: none;\n",
              "      fill: #1967D2;\n",
              "      height: 32px;\n",
              "      padding: 0 0 0 0;\n",
              "      width: 32px;\n",
              "    }\n",
              "\n",
              "    .colab-df-convert:hover {\n",
              "      background-color: #E2EBFA;\n",
              "      box-shadow: 0px 1px 2px rgba(60, 64, 67, 0.3), 0px 1px 3px 1px rgba(60, 64, 67, 0.15);\n",
              "      fill: #174EA6;\n",
              "    }\n",
              "\n",
              "    [theme=dark] .colab-df-convert {\n",
              "      background-color: #3B4455;\n",
              "      fill: #D2E3FC;\n",
              "    }\n",
              "\n",
              "    [theme=dark] .colab-df-convert:hover {\n",
              "      background-color: #434B5C;\n",
              "      box-shadow: 0px 1px 3px 1px rgba(0, 0, 0, 0.15);\n",
              "      filter: drop-shadow(0px 1px 2px rgba(0, 0, 0, 0.3));\n",
              "      fill: #FFFFFF;\n",
              "    }\n",
              "  </style>\n",
              "\n",
              "      <script>\n",
              "        const buttonEl =\n",
              "          document.querySelector('#df-294fc0b5-29fb-4ed3-8ad8-db8ef16c85dc button.colab-df-convert');\n",
              "        buttonEl.style.display =\n",
              "          google.colab.kernel.accessAllowed ? 'block' : 'none';\n",
              "\n",
              "        async function convertToInteractive(key) {\n",
              "          const element = document.querySelector('#df-294fc0b5-29fb-4ed3-8ad8-db8ef16c85dc');\n",
              "          const dataTable =\n",
              "            await google.colab.kernel.invokeFunction('convertToInteractive',\n",
              "                                                     [key], {});\n",
              "          if (!dataTable) return;\n",
              "\n",
              "          const docLinkHtml = 'Like what you see? Visit the ' +\n",
              "            '<a target=\"_blank\" href=https://colab.research.google.com/notebooks/data_table.ipynb>data table notebook</a>'\n",
              "            + ' to learn more about interactive tables.';\n",
              "          element.innerHTML = '';\n",
              "          dataTable['output_type'] = 'display_data';\n",
              "          await google.colab.output.renderOutput(dataTable, element);\n",
              "          const docLink = document.createElement('div');\n",
              "          docLink.innerHTML = docLinkHtml;\n",
              "          element.appendChild(docLink);\n",
              "        }\n",
              "      </script>\n",
              "    </div>\n",
              "  </div>\n",
              "  "
            ]
          },
          "metadata": {},
          "execution_count": 221
        }
      ]
    },
    {
      "cell_type": "code",
      "source": [
        "newX = df_new.drop('Y', axis=1)\n",
        "newy = df_new['Y']\n",
        "newX_train, newX_test, newy_train, newy_test = train_test_split(newX, newy, train_size=0.7, random_state=42)"
      ],
      "metadata": {
        "id": "7DgIos7Qr1jY"
      },
      "execution_count": null,
      "outputs": []
    },
    {
      "cell_type": "code",
      "source": [
        "randForest =  RandomForestClassifier()\n",
        "randForest.fit(newX_train, newy_train)\n",
        "\n",
        "#Predict the response for test dataset\n",
        "newy_pred_randForest = randForest.predict(newX_test)\n",
        "\n",
        "new_rnf_accuracy = accuracy_score(newy_test, newy_pred_randForest)\n",
        "\n",
        "print(f'Accuracy: {new_rnf_accuracy:.3f}')"
      ],
      "metadata": {
        "id": "dAh0IQ-ZsNt7",
        "outputId": "8e4e4aec-e17a-4935-da6b-22cf7c2e04eb",
        "colab": {
          "base_uri": "https://localhost:8080/"
        }
      },
      "execution_count": null,
      "outputs": [
        {
          "output_type": "stream",
          "name": "stdout",
          "text": [
            "Accuracy: 0.609\n"
          ]
        }
      ]
    },
    {
      "cell_type": "markdown",
      "source": [
        "# **Naive Bayes**"
      ],
      "metadata": {
        "id": "wUwtMqUQtQ8l"
      }
    },
    {
      "cell_type": "code",
      "source": [
        "bayes =  GaussianNB()\n",
        "bayes.fit(X_train, y_train)\n",
        "\n",
        "#Predict the response for test dataset\n",
        "y_pred_bayes = bayes.predict(X_test)\n",
        "\n",
        "bayes_accuracy = accuracy_score(y_test, y_pred_bayes)\n",
        "\n",
        "print(f'Accuracy: {bayes_accuracy:.3f}')\n"
      ],
      "metadata": {
        "colab": {
          "base_uri": "https://localhost:8080/"
        },
        "id": "GqxddDDa-fad",
        "outputId": "0d47d38e-f01c-44cc-ab2f-e73f0fca8012"
      },
      "execution_count": null,
      "outputs": [
        {
          "output_type": "stream",
          "name": "stdout",
          "text": [
            "Accuracy: 0.637\n"
          ]
        }
      ]
    },
    {
      "cell_type": "code",
      "source": [
        "def NeuralN(X_train, X_test, y_train, y_test):\n",
        "\n",
        "  model = keras.Sequential([\n",
        "      layers.Input(shape=(X_train.shape[1],), name='input'),\n",
        "      layers.Dense(100, activation='relu'),\n",
        "      layers.Dense(100, activation='relu'),\n",
        "      layers.Dense(100, activation='relu'),\n",
        "      layers.Dense(100, activation='relu'),\n",
        "      layers.Dense(3, activation='softmax', name='output')      \n",
        "  ])\n",
        "\n",
        "  model.compile(\n",
        "    loss='sparse_categorical_crossentropy',\n",
        "    optimizer=keras.optimizers.Adam(learning_rate=0.001),\n",
        "    metrics=['accuracy']\n",
        "  )\n",
        "  model.summary()\n",
        "  history = model.fit(X_train, y_train, epochs=30, batch_size = 128)\n",
        "  accuracy = model.evaluate(X_test, y_test)\n",
        "\n",
        "  y_test_c = tf.keras.utils.to_categorical(y_test)\n",
        "\n",
        "  y_pred = model.predict(X_test)\n",
        "  pred_idx = np.argmax(y_pred, axis=1)\n",
        "  true_idx = np.argmax(y_test_c, axis=1)\n",
        "  tf_confmatrix = tf.math.confusion_matrix(true_idx, pred_idx)\n",
        "\n",
        "  return accuracy, tf_confmatrix"
      ],
      "metadata": {
        "id": "MyatAsANfCT6"
      },
      "execution_count": null,
      "outputs": []
    },
    {
      "cell_type": "code",
      "source": [
        "nn_accuracy, tf_confmatrix = NeuralN(X_train, X_test, y_train, y_test)"
      ],
      "metadata": {
        "id": "AMGQyl50hOdV",
        "outputId": "5d0ac96c-5058-4f4d-9cda-08cbeba4d38c",
        "colab": {
          "base_uri": "https://localhost:8080/"
        }
      },
      "execution_count": null,
      "outputs": [
        {
          "output_type": "stream",
          "name": "stdout",
          "text": [
            "Model: \"sequential_1\"\n",
            "_________________________________________________________________\n",
            " Layer (type)                Output Shape              Param #   \n",
            "=================================================================\n",
            " dense_4 (Dense)             (None, 100)               11000     \n",
            "                                                                 \n",
            " dense_5 (Dense)             (None, 100)               10100     \n",
            "                                                                 \n",
            " dense_6 (Dense)             (None, 100)               10100     \n",
            "                                                                 \n",
            " dense_7 (Dense)             (None, 100)               10100     \n",
            "                                                                 \n",
            " output (Dense)              (None, 3)                 303       \n",
            "                                                                 \n",
            "=================================================================\n",
            "Total params: 41,603\n",
            "Trainable params: 41,603\n",
            "Non-trainable params: 0\n",
            "_________________________________________________________________\n",
            "Epoch 1/30\n",
            "69/69 [==============================] - 1s 4ms/step - loss: 0.6792 - accuracy: 0.6230\n",
            "Epoch 2/30\n",
            "69/69 [==============================] - 0s 5ms/step - loss: 0.5823 - accuracy: 0.6941\n",
            "Epoch 3/30\n",
            "69/69 [==============================] - 0s 5ms/step - loss: 0.5531 - accuracy: 0.7221\n",
            "Epoch 4/30\n",
            "69/69 [==============================] - 0s 4ms/step - loss: 0.5217 - accuracy: 0.7436\n",
            "Epoch 5/30\n",
            "69/69 [==============================] - 0s 5ms/step - loss: 0.4877 - accuracy: 0.7709\n",
            "Epoch 6/30\n",
            "69/69 [==============================] - 0s 4ms/step - loss: 0.4471 - accuracy: 0.7900\n",
            "Epoch 7/30\n",
            "69/69 [==============================] - 0s 4ms/step - loss: 0.4208 - accuracy: 0.8083\n",
            "Epoch 8/30\n",
            "69/69 [==============================] - 0s 4ms/step - loss: 0.3876 - accuracy: 0.8288\n",
            "Epoch 9/30\n",
            "69/69 [==============================] - 0s 5ms/step - loss: 0.3601 - accuracy: 0.8411\n",
            "Epoch 10/30\n",
            "69/69 [==============================] - 0s 4ms/step - loss: 0.3348 - accuracy: 0.8567\n",
            "Epoch 11/30\n",
            "69/69 [==============================] - 0s 4ms/step - loss: 0.3058 - accuracy: 0.8695\n",
            "Epoch 12/30\n",
            "69/69 [==============================] - 0s 5ms/step - loss: 0.2778 - accuracy: 0.8864\n",
            "Epoch 13/30\n",
            "69/69 [==============================] - 0s 4ms/step - loss: 0.2558 - accuracy: 0.8963\n",
            "Epoch 14/30\n",
            "69/69 [==============================] - 0s 4ms/step - loss: 0.2284 - accuracy: 0.9072\n",
            "Epoch 15/30\n",
            "69/69 [==============================] - 0s 4ms/step - loss: 0.2037 - accuracy: 0.9233\n",
            "Epoch 16/30\n",
            "69/69 [==============================] - 0s 4ms/step - loss: 0.1784 - accuracy: 0.9303\n",
            "Epoch 17/30\n",
            "69/69 [==============================] - 0s 4ms/step - loss: 0.1521 - accuracy: 0.9438\n",
            "Epoch 18/30\n",
            "69/69 [==============================] - 0s 4ms/step - loss: 0.1522 - accuracy: 0.9396\n",
            "Epoch 19/30\n",
            "69/69 [==============================] - 0s 5ms/step - loss: 0.1229 - accuracy: 0.9532\n",
            "Epoch 20/30\n",
            "69/69 [==============================] - 0s 4ms/step - loss: 0.1319 - accuracy: 0.9471\n",
            "Epoch 21/30\n",
            "69/69 [==============================] - 0s 4ms/step - loss: 0.0893 - accuracy: 0.9690\n",
            "Epoch 22/30\n",
            "69/69 [==============================] - 0s 5ms/step - loss: 0.0754 - accuracy: 0.9728\n",
            "Epoch 23/30\n",
            "69/69 [==============================] - 0s 4ms/step - loss: 0.0570 - accuracy: 0.9813\n",
            "Epoch 24/30\n",
            "69/69 [==============================] - 0s 4ms/step - loss: 0.0565 - accuracy: 0.9816\n",
            "Epoch 25/30\n",
            "69/69 [==============================] - 0s 5ms/step - loss: 0.0534 - accuracy: 0.9827\n",
            "Epoch 26/30\n",
            "69/69 [==============================] - 0s 4ms/step - loss: 0.0761 - accuracy: 0.9737\n",
            "Epoch 27/30\n",
            "69/69 [==============================] - 0s 4ms/step - loss: 0.0649 - accuracy: 0.9748\n",
            "Epoch 28/30\n",
            "69/69 [==============================] - 0s 4ms/step - loss: 0.0585 - accuracy: 0.9796\n",
            "Epoch 29/30\n",
            "69/69 [==============================] - 0s 5ms/step - loss: 0.0663 - accuracy: 0.9750\n",
            "Epoch 30/30\n",
            "69/69 [==============================] - 0s 4ms/step - loss: 0.0465 - accuracy: 0.9837\n",
            "119/119 [==============================] - 0s 2ms/step - loss: 1.5138 - accuracy: 0.7322\n",
            "119/119 [==============================] - 0s 2ms/step\n"
          ]
        }
      ]
    },
    {
      "cell_type": "code",
      "source": [
        "print(f'Accuracy: {nn_accuracy[1]:.3f}')"
      ],
      "metadata": {
        "id": "DcOZ3w2OfjNJ",
        "outputId": "059abf31-a504-42bc-e413-02c937580e45",
        "colab": {
          "base_uri": "https://localhost:8080/"
        }
      },
      "execution_count": null,
      "outputs": [
        {
          "output_type": "stream",
          "name": "stdout",
          "text": [
            "Accuracy: 0.732\n"
          ]
        }
      ]
    },
    {
      "cell_type": "code",
      "source": [
        "def heat_confmatrix (confmatrix):\n",
        "  \n",
        "  labels = ['Accept', 'NotAccept']\n",
        "\n",
        "  # Δίνουμε τα labels στον πίνακα\n",
        "  conf_matr_plt = pd.DataFrame(confmatrix, index = labels, columns = labels)\n",
        "  \n",
        "  plt.subplots(figsize=(7, 5))\n",
        "  \n",
        "  ax = sns.heatmap(conf_matr_plt, cmap='viridis', annot=True, annot_kws={'size':20}, fmt=\"d\")\n",
        "\n",
        "  ax.xaxis.tick_top()\n",
        "  ax.set_title(\"Confusion Matrix\\n\")\n",
        "  plt.ylabel('True')\n",
        "  plt.xlabel('Predicted')\n",
        "  plt.show()"
      ],
      "metadata": {
        "id": "SgDXv_B4iKy0"
      },
      "execution_count": null,
      "outputs": []
    },
    {
      "cell_type": "code",
      "source": [
        "tf_confmatrix"
      ],
      "metadata": {
        "id": "aBQoH3pbiWQe",
        "outputId": "928ca7e3-9163-4fbf-8a76-faf4b06be7a0",
        "colab": {
          "base_uri": "https://localhost:8080/"
        }
      },
      "execution_count": null,
      "outputs": [
        {
          "output_type": "execute_result",
          "data": {
            "text/plain": [
              "<tf.Tensor: shape=(2, 2), dtype=int32, numpy=\n",
              "array([[1122,  532],\n",
              "       [ 481, 1648]], dtype=int32)>"
            ]
          },
          "metadata": {},
          "execution_count": 75
        }
      ]
    },
    {
      "cell_type": "code",
      "source": [
        "labels = ['Logistic Regression', 'KNN', 'SVM', 'Decision Tree',\n",
        "          'Random Forest', 'Naive Bayes', 'Neural Network']\n",
        "\n",
        "data = [[log_accuracy, knn_accuracy, SVM_accuracy, DTC_accuracy, rnf_accuracy, bayes_accuracy, nn_accuracy[1]]]\n",
        "\n",
        "data = np.array(data)\n",
        "data = np.round(data, 3)\n",
        "fig, ax = plt.subplots()\n",
        "table = ax.table(cellText=data, colLabels=labels, loc='center')\n",
        "table.set_fontsize(60)\n",
        "table.scale(5,6)\n",
        "ax.axis('off')\n",
        "ax.grid(False)\n",
        "\n",
        "plt.show()"
      ],
      "metadata": {
        "id": "MHLSGJo_gMrH",
        "outputId": "55ae2f10-d9b8-41f2-c878-c40aab56934d",
        "colab": {
          "base_uri": "https://localhost:8080/",
          "height": 248
        }
      },
      "execution_count": null,
      "outputs": [
        {
          "output_type": "display_data",
          "data": {
            "text/plain": [
              "<Figure size 432x288 with 1 Axes>"
            ],
            "image/png": "[encoded data removed]"
          },
          "metadata": {
            "needs_background": "light"
          }
        }
      ]
    },
    {
      "cell_type": "markdown",
      "source": [
        "# 2) Επιλογή 5 γνωρισμάτων.\n",
        "Αρχικά σκεφτήκαμε να δούμε τα γνωρίσματα τα οποία βγάζουν περισσότερο νοήμα σε εμας για να αποτελέσουν κριτήριο επιλογής κουπονιού. Ελέγξαμε το sec_df.groupby(\"\")[\"Y\"].mean() του κάθε γνωρίσματος για να δούμε πόσο διαφοροποιούνται οι μέσοι όροι των τιμών τους. Επειδή όμως με αυτό τον τρόπο ελέγχουμε μονομερώς το κάθε γνώρισμα αν παίρνει ή όχι το κουπόνι χωρίς να ελέγχουμε τα υπόλοιπα γνωρίσματα αποφασίσαμε να επιλέξουμε 5 γνωρίσματα σύμφωνα με κάποια δικά μας κριτήρια και να δούμε ποιος συνδιασμός επιτυγχάνει το μεγαλύτερο αποτέλεσμα."
      ],
      "metadata": {
        "id": "O8G0r48Xvo6P"
      }
    },
    {
      "cell_type": "code",
      "source": [
        "sec_df.info()"
      ],
      "metadata": {
        "id": "dYi5YIp3v3wP",
        "outputId": "4ba3125a-3117-4c6d-ff30-5bf10d29264a",
        "colab": {
          "base_uri": "https://localhost:8080/"
        }
      },
      "execution_count": null,
      "outputs": [
        {
          "output_type": "stream",
          "name": "stdout",
          "text": [
            "<class 'pandas.core.frame.DataFrame'>\n",
            "RangeIndex: 12684 entries, 0 to 12683\n",
            "Data columns (total 23 columns):\n",
            " #   Column                Non-Null Count  Dtype \n",
            "---  ------                --------------  ----- \n",
            " 0   destination           12684 non-null  object\n",
            " 1   passanger             12684 non-null  object\n",
            " 2   weather               12684 non-null  object\n",
            " 3   temperature           12684 non-null  int64 \n",
            " 4   time                  12684 non-null  object\n",
            " 5   coupon                12684 non-null  object\n",
            " 6   expiration            12684 non-null  object\n",
            " 7   gender                12684 non-null  object\n",
            " 8   age                   12684 non-null  object\n",
            " 9   maritalStatus         12684 non-null  object\n",
            " 10  has_children          12684 non-null  int64 \n",
            " 11  education             12684 non-null  object\n",
            " 12  occupation            12684 non-null  object\n",
            " 13  income                12684 non-null  object\n",
            " 14  Bar                   12577 non-null  object\n",
            " 15  CoffeeHouse           12467 non-null  object\n",
            " 16  CarryAway             12533 non-null  object\n",
            " 17  RestaurantLessThan20  12554 non-null  object\n",
            " 18  Restaurant20To50      12495 non-null  object\n",
            " 19  toCoupon_GEQ15min     12684 non-null  int64 \n",
            " 20  toCoupon_GEQ25min     12684 non-null  int64 \n",
            " 21  direction_same        12684 non-null  int64 \n",
            " 22  Y                     12684 non-null  int64 \n",
            "dtypes: int64(6), object(17)\n",
            "memory usage: 2.2+ MB\n"
          ]
        }
      ]
    },
    {
      "cell_type": "code",
      "source": [
        "sec_df.drop(columns=['toCoupon_GEQ5min', 'car', 'direction_opp'], inplace=True)"
      ],
      "metadata": {
        "id": "Jyc-5irTkD8U"
      },
      "execution_count": null,
      "outputs": []
    },
    {
      "cell_type": "code",
      "source": [
        "imputer = SimpleImputer(missing_values=np.nan, strategy='most_frequent')\n",
        "sec_df['Bar'] = imputer.fit_transform(sec_df['Bar'].values.reshape(-1,1))[:,0]\n",
        "\n",
        "imputer = SimpleImputer(missing_values=np.nan, strategy='most_frequent')\n",
        "sec_df['CoffeeHouse'] = imputer.fit_transform(sec_df['CoffeeHouse'].values.reshape(-1,1))[:,0]\n",
        "\n",
        "imputer = SimpleImputer(missing_values=np.nan, strategy='most_frequent')\n",
        "sec_df['CarryAway'] = imputer.fit_transform(sec_df['CarryAway'].values.reshape(-1,1))[:,0]\n",
        "\n",
        "imputer = SimpleImputer(missing_values=np.nan, strategy='most_frequent')\n",
        "sec_df['RestaurantLessThan20'] = imputer.fit_transform(sec_df['RestaurantLessThan20'].values.reshape(-1,1))[:,0]\n",
        "\n",
        "imputer = SimpleImputer(missing_values=np.nan, strategy='most_frequent')\n",
        "sec_df['Restaurant20To50'] = imputer.fit_transform(sec_df['Restaurant20To50'].values.reshape(-1,1))[:,0]"
      ],
      "metadata": {
        "id": "vZWFyLhclnPp"
      },
      "execution_count": null,
      "outputs": []
    },
    {
      "cell_type": "code",
      "source": [
        "sec_df.isnull().sum()"
      ],
      "metadata": {
        "id": "hPJZAD1xmFCD",
        "outputId": "59f46d3f-0d43-4937-cbbd-9ee68b1849fa",
        "colab": {
          "base_uri": "https://localhost:8080/"
        }
      },
      "execution_count": null,
      "outputs": [
        {
          "output_type": "execute_result",
          "data": {
            "text/plain": [
              "destination             0\n",
              "passanger               0\n",
              "weather                 0\n",
              "temperature             0\n",
              "time                    0\n",
              "coupon                  0\n",
              "expiration              0\n",
              "gender                  0\n",
              "age                     0\n",
              "maritalStatus           0\n",
              "has_children            0\n",
              "education               0\n",
              "occupation              0\n",
              "income                  0\n",
              "Bar                     0\n",
              "CoffeeHouse             0\n",
              "CarryAway               0\n",
              "RestaurantLessThan20    0\n",
              "Restaurant20To50        0\n",
              "toCoupon_GEQ15min       0\n",
              "toCoupon_GEQ25min       0\n",
              "direction_same          0\n",
              "Y                       0\n",
              "dtype: int64"
            ]
          },
          "metadata": {},
          "execution_count": 96
        }
      ]
    },
    {
      "cell_type": "code",
      "source": [
        "secX = sec_df.drop('Y', axis=1)\n",
        "secy = sec_df['Y']\n",
        "secX_train, secX_test, secy_train, secy_test = train_test_split(secX, secy, train_size=0.7, random_state=42)"
      ],
      "metadata": {
        "id": "PuPQSNgaleo0"
      },
      "execution_count": null,
      "outputs": []
    },
    {
      "cell_type": "code",
      "source": [
        "df_corr = sec_df.corr()"
      ],
      "metadata": {
        "id": "QoTEyOY7EBFj"
      },
      "execution_count": null,
      "outputs": []
    },
    {
      "cell_type": "code",
      "source": [
        "sec_df['toCoupon_GEQ5min'].value_counts()"
      ],
      "metadata": {
        "id": "3bo0vMErFo4M",
        "outputId": "567f0575-4c32-483d-bf75-1f59e1b8b16f",
        "colab": {
          "base_uri": "https://localhost:8080/"
        }
      },
      "execution_count": null,
      "outputs": [
        {
          "output_type": "execute_result",
          "data": {
            "text/plain": [
              "1    12684\n",
              "Name: toCoupon_GEQ5min, dtype: int64"
            ]
          },
          "metadata": {},
          "execution_count": 69
        }
      ]
    },
    {
      "cell_type": "code",
      "source": [
        "df_corr['Y']"
      ],
      "metadata": {
        "id": "SfaE_VOsEGp4",
        "outputId": "79122d41-5c01-4849-9c43-5d4bb2a26f58",
        "colab": {
          "base_uri": "https://localhost:8080/"
        }
      },
      "execution_count": null,
      "outputs": [
        {
          "output_type": "execute_result",
          "data": {
            "text/plain": [
              "temperature          0.061240\n",
              "has_children        -0.045557\n",
              "toCoupon_GEQ5min          NaN\n",
              "toCoupon_GEQ15min   -0.081602\n",
              "toCoupon_GEQ25min   -0.103633\n",
              "direction_same       0.014570\n",
              "direction_opp       -0.014570\n",
              "Y                    1.000000\n",
              "Name: Y, dtype: float64"
            ]
          },
          "metadata": {},
          "execution_count": 70
        }
      ]
    },
    {
      "cell_type": "code",
      "source": [
        "sec_df.groupby(\"has_children\")[\"Y\"].mean()"
      ],
      "metadata": {
        "id": "15Iz1219zNxR",
        "outputId": "c2ec5164-0c8d-41f0-e787-3ad9daf42b54",
        "colab": {
          "base_uri": "https://localhost:8080/"
        }
      },
      "execution_count": null,
      "outputs": [
        {
          "output_type": "execute_result",
          "data": {
            "text/plain": [
              "has_children\n",
              "0    0.587404\n",
              "1    0.541595\n",
              "Name: Y, dtype: float64"
            ]
          },
          "metadata": {},
          "execution_count": 71
        }
      ]
    },
    {
      "cell_type": "code",
      "source": [
        "sec_df[\"has_children\"].value_counts()"
      ],
      "metadata": {
        "id": "bWtdKi16z4b8",
        "outputId": "ba431fab-4749-4f65-8043-d465e76b8a4c",
        "colab": {
          "base_uri": "https://localhost:8080/"
        }
      },
      "execution_count": null,
      "outputs": [
        {
          "output_type": "execute_result",
          "data": {
            "text/plain": [
              "0    7431\n",
              "1    5253\n",
              "Name: has_children, dtype: int64"
            ]
          },
          "metadata": {},
          "execution_count": 72
        }
      ]
    },
    {
      "cell_type": "code",
      "source": [
        "sec_df = sec_df[[\"destination\", \"expiration\", \"education\", \"income\", \"toCoupon_GEQ25min\", \"Y\"]]"
      ],
      "metadata": {
        "id": "22IDXOIGMyWt"
      },
      "execution_count": null,
      "outputs": []
    },
    {
      "cell_type": "code",
      "source": [
        "sec_df.info()"
      ],
      "metadata": {
        "id": "ICvSPrbNBsuD",
        "outputId": "5fadd45d-509b-478e-a865-97a356695058",
        "colab": {
          "base_uri": "https://localhost:8080/"
        }
      },
      "execution_count": null,
      "outputs": [
        {
          "output_type": "stream",
          "name": "stdout",
          "text": [
            "<class 'pandas.core.frame.DataFrame'>\n",
            "RangeIndex: 12684 entries, 0 to 12683\n",
            "Data columns (total 6 columns):\n",
            " #   Column             Non-Null Count  Dtype \n",
            "---  ------             --------------  ----- \n",
            " 0   destination        12684 non-null  object\n",
            " 1   expiration         12684 non-null  object\n",
            " 2   education          12684 non-null  object\n",
            " 3   income             12684 non-null  object\n",
            " 4   toCoupon_GEQ25min  12684 non-null  int64 \n",
            " 5   Y                  12684 non-null  int64 \n",
            "dtypes: int64(2), object(4)\n",
            "memory usage: 594.7+ KB\n"
          ]
        }
      ]
    },
    {
      "cell_type": "code",
      "source": [
        "sec_df.isnull().sum()"
      ],
      "metadata": {
        "id": "JuaIk-IDC9sK",
        "outputId": "89fd7721-776e-46b9-e7dc-19bbf1c318c8",
        "colab": {
          "base_uri": "https://localhost:8080/"
        }
      },
      "execution_count": null,
      "outputs": [
        {
          "output_type": "execute_result",
          "data": {
            "text/plain": [
              "destination          0\n",
              "expiration           0\n",
              "education            0\n",
              "income               0\n",
              "toCoupon_GEQ25min    0\n",
              "Y                    0\n",
              "dtype: int64"
            ]
          },
          "metadata": {},
          "execution_count": 75
        }
      ]
    },
    {
      "cell_type": "markdown",
      "source": [
        "No need to impute values for these 5 categories"
      ],
      "metadata": {
        "id": "Y4EtT-TFDEvQ"
      }
    },
    {
      "cell_type": "markdown",
      "source": [
        "# One-hot Encoding"
      ],
      "metadata": {
        "id": "UC6tlFwQDOQ6"
      }
    },
    {
      "cell_type": "code",
      "source": [
        "sec_df.dtypes"
      ],
      "metadata": {
        "id": "krzT5qu9DLQB",
        "outputId": "233bd5b1-f15b-44dd-d726-684c1dcc3abd",
        "colab": {
          "base_uri": "https://localhost:8080/"
        }
      },
      "execution_count": null,
      "outputs": [
        {
          "output_type": "execute_result",
          "data": {
            "text/plain": [
              "destination          object\n",
              "expiration           object\n",
              "education            object\n",
              "income               object\n",
              "toCoupon_GEQ25min     int64\n",
              "Y                     int64\n",
              "dtype: object"
            ]
          },
          "metadata": {},
          "execution_count": 76
        }
      ]
    },
    {
      "cell_type": "code",
      "source": [
        "sec_df.columns"
      ],
      "metadata": {
        "id": "AlX88Uj4Eawi",
        "outputId": "b5d9b4f4-7dd7-49d4-b23a-d8d0cecc413c",
        "colab": {
          "base_uri": "https://localhost:8080/"
        }
      },
      "execution_count": null,
      "outputs": [
        {
          "output_type": "execute_result",
          "data": {
            "text/plain": [
              "Index(['destination', 'expiration', 'education', 'income', 'toCoupon_GEQ25min',\n",
              "       'Y'],\n",
              "      dtype='object')"
            ]
          },
          "metadata": {},
          "execution_count": 77
        }
      ]
    },
    {
      "cell_type": "code",
      "source": [
        "secdf_categorical=sec_df.select_dtypes(exclude='number')\n",
        "secdf_categorical"
      ],
      "metadata": {
        "id": "oHj0cQAgEpZx",
        "outputId": "6cda787c-87c1-4fb4-94c5-1863fbbc63c4",
        "colab": {
          "base_uri": "https://localhost:8080/",
          "height": 424
        }
      },
      "execution_count": null,
      "outputs": [
        {
          "output_type": "execute_result",
          "data": {
            "text/plain": [
              "           destination expiration                 education           income\n",
              "0      No Urgent Place         1d  Some college - no degree  $37500 - $49999\n",
              "1      No Urgent Place         2h  Some college - no degree  $37500 - $49999\n",
              "2      No Urgent Place         2h  Some college - no degree  $37500 - $49999\n",
              "3      No Urgent Place         2h  Some college - no degree  $37500 - $49999\n",
              "4      No Urgent Place         1d  Some college - no degree  $37500 - $49999\n",
              "...                ...        ...                       ...              ...\n",
              "12679             Home         1d          Bachelors degree  $75000 - $87499\n",
              "12680             Work         1d          Bachelors degree  $75000 - $87499\n",
              "12681             Work         1d          Bachelors degree  $75000 - $87499\n",
              "12682             Work         1d          Bachelors degree  $75000 - $87499\n",
              "12683             Work         2h          Bachelors degree  $75000 - $87499\n",
              "\n",
              "[12684 rows x 4 columns]"
            ],
            "text/html": [
              "\n",
              "  <div id=\"df-176c4c93-05bc-49c0-b1a3-7c228201d32b\">\n",
              "    <div class=\"colab-df-container\">\n",
              "      <div>\n",
              "<style scoped>\n",
              "    .dataframe tbody tr th:only-of-type {\n",
              "        vertical-align: middle;\n",
              "    }\n",
              "\n",
              "    .dataframe tbody tr th {\n",
              "        vertical-align: top;\n",
              "    }\n",
              "\n",
              "    .dataframe thead th {\n",
              "        text-align: right;\n",
              "    }\n",
              "</style>\n",
              "<table border=\"1\" class=\"dataframe\">\n",
              "  <thead>\n",
              "    <tr style=\"text-align: right;\">\n",
              "      <th></th>\n",
              "      <th>destination</th>\n",
              "      <th>expiration</th>\n",
              "      <th>education</th>\n",
              "      <th>income</th>\n",
              "    </tr>\n",
              "  </thead>\n",
              "  <tbody>\n",
              "    <tr>\n",
              "      <th>0</th>\n",
              "      <td>No Urgent Place</td>\n",
              "      <td>1d</td>\n",
              "      <td>Some college - no degree</td>\n",
              "      <td>$37500 - $49999</td>\n",
              "    </tr>\n",
              "    <tr>\n",
              "      <th>1</th>\n",
              "      <td>No Urgent Place</td>\n",
              "      <td>2h</td>\n",
              "      <td>Some college - no degree</td>\n",
              "      <td>$37500 - $49999</td>\n",
              "    </tr>\n",
              "    <tr>\n",
              "      <th>2</th>\n",
              "      <td>No Urgent Place</td>\n",
              "      <td>2h</td>\n",
              "      <td>Some college - no degree</td>\n",
              "      <td>$37500 - $49999</td>\n",
              "    </tr>\n",
              "    <tr>\n",
              "      <th>3</th>\n",
              "      <td>No Urgent Place</td>\n",
              "      <td>2h</td>\n",
              "      <td>Some college - no degree</td>\n",
              "      <td>$37500 - $49999</td>\n",
              "    </tr>\n",
              "    <tr>\n",
              "      <th>4</th>\n",
              "      <td>No Urgent Place</td>\n",
              "      <td>1d</td>\n",
              "      <td>Some college - no degree</td>\n",
              "      <td>$37500 - $49999</td>\n",
              "    </tr>\n",
              "    <tr>\n",
              "      <th>...</th>\n",
              "      <td>...</td>\n",
              "      <td>...</td>\n",
              "      <td>...</td>\n",
              "      <td>...</td>\n",
              "    </tr>\n",
              "    <tr>\n",
              "      <th>12679</th>\n",
              "      <td>Home</td>\n",
              "      <td>1d</td>\n",
              "      <td>Bachelors degree</td>\n",
              "      <td>$75000 - $87499</td>\n",
              "    </tr>\n",
              "    <tr>\n",
              "      <th>12680</th>\n",
              "      <td>Work</td>\n",
              "      <td>1d</td>\n",
              "      <td>Bachelors degree</td>\n",
              "      <td>$75000 - $87499</td>\n",
              "    </tr>\n",
              "    <tr>\n",
              "      <th>12681</th>\n",
              "      <td>Work</td>\n",
              "      <td>1d</td>\n",
              "      <td>Bachelors degree</td>\n",
              "      <td>$75000 - $87499</td>\n",
              "    </tr>\n",
              "    <tr>\n",
              "      <th>12682</th>\n",
              "      <td>Work</td>\n",
              "      <td>1d</td>\n",
              "      <td>Bachelors degree</td>\n",
              "      <td>$75000 - $87499</td>\n",
              "    </tr>\n",
              "    <tr>\n",
              "      <th>12683</th>\n",
              "      <td>Work</td>\n",
              "      <td>2h</td>\n",
              "      <td>Bachelors degree</td>\n",
              "      <td>$75000 - $87499</td>\n",
              "    </tr>\n",
              "  </tbody>\n",
              "</table>\n",
              "<p>12684 rows × 4 columns</p>\n",
              "</div>\n",
              "      <button class=\"colab-df-convert\" onclick=\"convertToInteractive('df-176c4c93-05bc-49c0-b1a3-7c228201d32b')\"\n",
              "              title=\"Convert this dataframe to an interactive table.\"\n",
              "              style=\"display:none;\">\n",
              "        \n",
              "  <svg xmlns=\"http://www.w3.org/2000/svg\" height=\"24px\"viewBox=\"0 0 24 24\"\n",
              "       width=\"24px\">\n",
              "    <path d=\"M0 0h24v24H0V0z\" fill=\"none\"/>\n",
              "    <path d=\"M18.56 5.44l.94 2.06.94-2.06 2.06-.94-2.06-.94-.94-2.06-.94 2.06-2.06.94zm-11 1L8.5 8.5l.94-2.06 2.06-.94-2.06-.94L8.5 2.5l-.94 2.06-2.06.94zm10 10l.94 2.06.94-2.06 2.06-.94-2.06-.94-.94-2.06-.94 2.06-2.06.94z\"/><path d=\"M17.41 7.96l-1.37-1.37c-.4-.4-.92-.59-1.43-.59-.52 0-1.04.2-1.43.59L10.3 9.45l-7.72 7.72c-.78.78-.78 2.05 0 2.83L4 21.41c.39.39.9.59 1.41.59.51 0 1.02-.2 1.41-.59l7.78-7.78 2.81-2.81c.8-.78.8-2.07 0-2.86zM5.41 20L4 18.59l7.72-7.72 1.47 1.35L5.41 20z\"/>\n",
              "  </svg>\n",
              "      </button>\n",
              "      \n",
              "  <style>\n",
              "    .colab-df-container {\n",
              "      display:flex;\n",
              "      flex-wrap:wrap;\n",
              "      gap: 12px;\n",
              "    }\n",
              "\n",
              "    .colab-df-convert {\n",
              "      background-color: #E8F0FE;\n",
              "      border: none;\n",
              "      border-radius: 50%;\n",
              "      cursor: pointer;\n",
              "      display: none;\n",
              "      fill: #1967D2;\n",
              "      height: 32px;\n",
              "      padding: 0 0 0 0;\n",
              "      width: 32px;\n",
              "    }\n",
              "\n",
              "    .colab-df-convert:hover {\n",
              "      background-color: #E2EBFA;\n",
              "      box-shadow: 0px 1px 2px rgba(60, 64, 67, 0.3), 0px 1px 3px 1px rgba(60, 64, 67, 0.15);\n",
              "      fill: #174EA6;\n",
              "    }\n",
              "\n",
              "    [theme=dark] .colab-df-convert {\n",
              "      background-color: #3B4455;\n",
              "      fill: #D2E3FC;\n",
              "    }\n",
              "\n",
              "    [theme=dark] .colab-df-convert:hover {\n",
              "      background-color: #434B5C;\n",
              "      box-shadow: 0px 1px 3px 1px rgba(0, 0, 0, 0.15);\n",
              "      filter: drop-shadow(0px 1px 2px rgba(0, 0, 0, 0.3));\n",
              "      fill: #FFFFFF;\n",
              "    }\n",
              "  </style>\n",
              "\n",
              "      <script>\n",
              "        const buttonEl =\n",
              "          document.querySelector('#df-176c4c93-05bc-49c0-b1a3-7c228201d32b button.colab-df-convert');\n",
              "        buttonEl.style.display =\n",
              "          google.colab.kernel.accessAllowed ? 'block' : 'none';\n",
              "\n",
              "        async function convertToInteractive(key) {\n",
              "          const element = document.querySelector('#df-176c4c93-05bc-49c0-b1a3-7c228201d32b');\n",
              "          const dataTable =\n",
              "            await google.colab.kernel.invokeFunction('convertToInteractive',\n",
              "                                                     [key], {});\n",
              "          if (!dataTable) return;\n",
              "\n",
              "          const docLinkHtml = 'Like what you see? Visit the ' +\n",
              "            '<a target=\"_blank\" href=https://colab.research.google.com/notebooks/data_table.ipynb>data table notebook</a>'\n",
              "            + ' to learn more about interactive tables.';\n",
              "          element.innerHTML = '';\n",
              "          dataTable['output_type'] = 'display_data';\n",
              "          await google.colab.output.renderOutput(dataTable, element);\n",
              "          const docLink = document.createElement('div');\n",
              "          docLink.innerHTML = docLinkHtml;\n",
              "          element.appendChild(docLink);\n",
              "        }\n",
              "      </script>\n",
              "    </div>\n",
              "  </div>\n",
              "  "
            ]
          },
          "metadata": {},
          "execution_count": 78
        }
      ]
    },
    {
      "cell_type": "code",
      "source": [
        "for value in secdf_categorical:\n",
        "  sec_df= pd.get_dummies(sec_df,columns=[value])"
      ],
      "metadata": {
        "id": "x1hkhFHAFIJF"
      },
      "execution_count": null,
      "outputs": []
    },
    {
      "cell_type": "code",
      "source": [
        "sec_df"
      ],
      "metadata": {
        "id": "6ovtvb37FOgp",
        "outputId": "be278e65-e2de-432e-a848-3a76b197a483",
        "colab": {
          "base_uri": "https://localhost:8080/",
          "height": 522
        }
      },
      "execution_count": null,
      "outputs": [
        {
          "output_type": "execute_result",
          "data": {
            "text/plain": [
              "       toCoupon_GEQ25min  Y  destination_Home  destination_No Urgent Place  \\\n",
              "0                      0  1                 0                            1   \n",
              "1                      0  0                 0                            1   \n",
              "2                      0  1                 0                            1   \n",
              "3                      0  0                 0                            1   \n",
              "4                      0  0                 0                            1   \n",
              "...                  ... ..               ...                          ...   \n",
              "12679                  0  1                 1                            0   \n",
              "12680                  0  1                 0                            0   \n",
              "12681                  0  0                 0                            0   \n",
              "12682                  1  0                 0                            0   \n",
              "12683                  0  0                 0                            0   \n",
              "\n",
              "       destination_Work  expiration_1d  expiration_2h  \\\n",
              "0                     0              1              0   \n",
              "1                     0              0              1   \n",
              "2                     0              0              1   \n",
              "3                     0              0              1   \n",
              "4                     0              1              0   \n",
              "...                 ...            ...            ...   \n",
              "12679                 0              1              0   \n",
              "12680                 1              1              0   \n",
              "12681                 1              1              0   \n",
              "12682                 1              1              0   \n",
              "12683                 1              0              1   \n",
              "\n",
              "       education_Associates degree  education_Bachelors degree  \\\n",
              "0                                0                           0   \n",
              "1                                0                           0   \n",
              "2                                0                           0   \n",
              "3                                0                           0   \n",
              "4                                0                           0   \n",
              "...                            ...                         ...   \n",
              "12679                            0                           1   \n",
              "12680                            0                           1   \n",
              "12681                            0                           1   \n",
              "12682                            0                           1   \n",
              "12683                            0                           1   \n",
              "\n",
              "       education_Graduate degree (Masters or Doctorate)  ...  \\\n",
              "0                                                     0  ...   \n",
              "1                                                     0  ...   \n",
              "2                                                     0  ...   \n",
              "3                                                     0  ...   \n",
              "4                                                     0  ...   \n",
              "...                                                 ...  ...   \n",
              "12679                                                 0  ...   \n",
              "12680                                                 0  ...   \n",
              "12681                                                 0  ...   \n",
              "12682                                                 0  ...   \n",
              "12683                                                 0  ...   \n",
              "\n",
              "       education_Some college - no degree  income_$100000 or More  \\\n",
              "0                                       1                       0   \n",
              "1                                       1                       0   \n",
              "2                                       1                       0   \n",
              "3                                       1                       0   \n",
              "4                                       1                       0   \n",
              "...                                   ...                     ...   \n",
              "12679                                   0                       0   \n",
              "12680                                   0                       0   \n",
              "12681                                   0                       0   \n",
              "12682                                   0                       0   \n",
              "12683                                   0                       0   \n",
              "\n",
              "       income_$12500 - $24999  income_$25000 - $37499  income_$37500 - $49999  \\\n",
              "0                           0                       0                       1   \n",
              "1                           0                       0                       1   \n",
              "2                           0                       0                       1   \n",
              "3                           0                       0                       1   \n",
              "4                           0                       0                       1   \n",
              "...                       ...                     ...                     ...   \n",
              "12679                       0                       0                       0   \n",
              "12680                       0                       0                       0   \n",
              "12681                       0                       0                       0   \n",
              "12682                       0                       0                       0   \n",
              "12683                       0                       0                       0   \n",
              "\n",
              "       income_$50000 - $62499  income_$62500 - $74999  income_$75000 - $87499  \\\n",
              "0                           0                       0                       0   \n",
              "1                           0                       0                       0   \n",
              "2                           0                       0                       0   \n",
              "3                           0                       0                       0   \n",
              "4                           0                       0                       0   \n",
              "...                       ...                     ...                     ...   \n",
              "12679                       0                       0                       1   \n",
              "12680                       0                       0                       1   \n",
              "12681                       0                       0                       1   \n",
              "12682                       0                       0                       1   \n",
              "12683                       0                       0                       1   \n",
              "\n",
              "       income_$87500 - $99999  income_Less than $12500  \n",
              "0                           0                        0  \n",
              "1                           0                        0  \n",
              "2                           0                        0  \n",
              "3                           0                        0  \n",
              "4                           0                        0  \n",
              "...                       ...                      ...  \n",
              "12679                       0                        0  \n",
              "12680                       0                        0  \n",
              "12681                       0                        0  \n",
              "12682                       0                        0  \n",
              "12683                       0                        0  \n",
              "\n",
              "[12684 rows x 22 columns]"
            ],
            "text/html": [
              "\n",
              "  <div id=\"df-de55b4bf-55a7-4fe5-b9e9-7d2975e516fd\">\n",
              "    <div class=\"colab-df-container\">\n",
              "      <div>\n",
              "<style scoped>\n",
              "    .dataframe tbody tr th:only-of-type {\n",
              "        vertical-align: middle;\n",
              "    }\n",
              "\n",
              "    .dataframe tbody tr th {\n",
              "        vertical-align: top;\n",
              "    }\n",
              "\n",
              "    .dataframe thead th {\n",
              "        text-align: right;\n",
              "    }\n",
              "</style>\n",
              "<table border=\"1\" class=\"dataframe\">\n",
              "  <thead>\n",
              "    <tr style=\"text-align: right;\">\n",
              "      <th></th>\n",
              "      <th>toCoupon_GEQ25min</th>\n",
              "      <th>Y</th>\n",
              "      <th>destination_Home</th>\n",
              "      <th>destination_No Urgent Place</th>\n",
              "      <th>destination_Work</th>\n",
              "      <th>expiration_1d</th>\n",
              "      <th>expiration_2h</th>\n",
              "      <th>education_Associates degree</th>\n",
              "      <th>education_Bachelors degree</th>\n",
              "      <th>education_Graduate degree (Masters or Doctorate)</th>\n",
              "      <th>...</th>\n",
              "      <th>education_Some college - no degree</th>\n",
              "      <th>income_$100000 or More</th>\n",
              "      <th>income_$12500 - $24999</th>\n",
              "      <th>income_$25000 - $37499</th>\n",
              "      <th>income_$37500 - $49999</th>\n",
              "      <th>income_$50000 - $62499</th>\n",
              "      <th>income_$62500 - $74999</th>\n",
              "      <th>income_$75000 - $87499</th>\n",
              "      <th>income_$87500 - $99999</th>\n",
              "      <th>income_Less than $12500</th>\n",
              "    </tr>\n",
              "  </thead>\n",
              "  <tbody>\n",
              "    <tr>\n",
              "      <th>0</th>\n",
              "      <td>0</td>\n",
              "      <td>1</td>\n",
              "      <td>0</td>\n",
              "      <td>1</td>\n",
              "      <td>0</td>\n",
              "      <td>1</td>\n",
              "      <td>0</td>\n",
              "      <td>0</td>\n",
              "      <td>0</td>\n",
              "      <td>0</td>\n",
              "      <td>...</td>\n",
              "      <td>1</td>\n",
              "      <td>0</td>\n",
              "      <td>0</td>\n",
              "      <td>0</td>\n",
              "      <td>1</td>\n",
              "      <td>0</td>\n",
              "      <td>0</td>\n",
              "      <td>0</td>\n",
              "      <td>0</td>\n",
              "      <td>0</td>\n",
              "    </tr>\n",
              "    <tr>\n",
              "      <th>1</th>\n",
              "      <td>0</td>\n",
              "      <td>0</td>\n",
              "      <td>0</td>\n",
              "      <td>1</td>\n",
              "      <td>0</td>\n",
              "      <td>0</td>\n",
              "      <td>1</td>\n",
              "      <td>0</td>\n",
              "      <td>0</td>\n",
              "      <td>0</td>\n",
              "      <td>...</td>\n",
              "      <td>1</td>\n",
              "      <td>0</td>\n",
              "      <td>0</td>\n",
              "      <td>0</td>\n",
              "      <td>1</td>\n",
              "      <td>0</td>\n",
              "      <td>0</td>\n",
              "      <td>0</td>\n",
              "      <td>0</td>\n",
              "      <td>0</td>\n",
              "    </tr>\n",
              "    <tr>\n",
              "      <th>2</th>\n",
              "      <td>0</td>\n",
              "      <td>1</td>\n",
              "      <td>0</td>\n",
              "      <td>1</td>\n",
              "      <td>0</td>\n",
              "      <td>0</td>\n",
              "      <td>1</td>\n",
              "      <td>0</td>\n",
              "      <td>0</td>\n",
              "      <td>0</td>\n",
              "      <td>...</td>\n",
              "      <td>1</td>\n",
              "      <td>0</td>\n",
              "      <td>0</td>\n",
              "      <td>0</td>\n",
              "      <td>1</td>\n",
              "      <td>0</td>\n",
              "      <td>0</td>\n",
              "      <td>0</td>\n",
              "      <td>0</td>\n",
              "      <td>0</td>\n",
              "    </tr>\n",
              "    <tr>\n",
              "      <th>3</th>\n",
              "      <td>0</td>\n",
              "      <td>0</td>\n",
              "      <td>0</td>\n",
              "      <td>1</td>\n",
              "      <td>0</td>\n",
              "      <td>0</td>\n",
              "      <td>1</td>\n",
              "      <td>0</td>\n",
              "      <td>0</td>\n",
              "      <td>0</td>\n",
              "      <td>...</td>\n",
              "      <td>1</td>\n",
              "      <td>0</td>\n",
              "      <td>0</td>\n",
              "      <td>0</td>\n",
              "      <td>1</td>\n",
              "      <td>0</td>\n",
              "      <td>0</td>\n",
              "      <td>0</td>\n",
              "      <td>0</td>\n",
              "      <td>0</td>\n",
              "    </tr>\n",
              "    <tr>\n",
              "      <th>4</th>\n",
              "      <td>0</td>\n",
              "      <td>0</td>\n",
              "      <td>0</td>\n",
              "      <td>1</td>\n",
              "      <td>0</td>\n",
              "      <td>1</td>\n",
              "      <td>0</td>\n",
              "      <td>0</td>\n",
              "      <td>0</td>\n",
              "      <td>0</td>\n",
              "      <td>...</td>\n",
              "      <td>1</td>\n",
              "      <td>0</td>\n",
              "      <td>0</td>\n",
              "      <td>0</td>\n",
              "      <td>1</td>\n",
              "      <td>0</td>\n",
              "      <td>0</td>\n",
              "      <td>0</td>\n",
              "      <td>0</td>\n",
              "      <td>0</td>\n",
              "    </tr>\n",
              "    <tr>\n",
              "      <th>...</th>\n",
              "      <td>...</td>\n",
              "      <td>...</td>\n",
              "      <td>...</td>\n",
              "      <td>...</td>\n",
              "      <td>...</td>\n",
              "      <td>...</td>\n",
              "      <td>...</td>\n",
              "      <td>...</td>\n",
              "      <td>...</td>\n",
              "      <td>...</td>\n",
              "      <td>...</td>\n",
              "      <td>...</td>\n",
              "      <td>...</td>\n",
              "      <td>...</td>\n",
              "      <td>...</td>\n",
              "      <td>...</td>\n",
              "      <td>...</td>\n",
              "      <td>...</td>\n",
              "      <td>...</td>\n",
              "      <td>...</td>\n",
              "      <td>...</td>\n",
              "    </tr>\n",
              "    <tr>\n",
              "      <th>12679</th>\n",
              "      <td>0</td>\n",
              "      <td>1</td>\n",
              "      <td>1</td>\n",
              "      <td>0</td>\n",
              "      <td>0</td>\n",
              "      <td>1</td>\n",
              "      <td>0</td>\n",
              "      <td>0</td>\n",
              "      <td>1</td>\n",
              "      <td>0</td>\n",
              "      <td>...</td>\n",
              "      <td>0</td>\n",
              "      <td>0</td>\n",
              "      <td>0</td>\n",
              "      <td>0</td>\n",
              "      <td>0</td>\n",
              "      <td>0</td>\n",
              "      <td>0</td>\n",
              "      <td>1</td>\n",
              "      <td>0</td>\n",
              "      <td>0</td>\n",
              "    </tr>\n",
              "    <tr>\n",
              "      <th>12680</th>\n",
              "      <td>0</td>\n",
              "      <td>1</td>\n",
              "      <td>0</td>\n",
              "      <td>0</td>\n",
              "      <td>1</td>\n",
              "      <td>1</td>\n",
              "      <td>0</td>\n",
              "      <td>0</td>\n",
              "      <td>1</td>\n",
              "      <td>0</td>\n",
              "      <td>...</td>\n",
              "      <td>0</td>\n",
              "      <td>0</td>\n",
              "      <td>0</td>\n",
              "      <td>0</td>\n",
              "      <td>0</td>\n",
              "      <td>0</td>\n",
              "      <td>0</td>\n",
              "      <td>1</td>\n",
              "      <td>0</td>\n",
              "      <td>0</td>\n",
              "    </tr>\n",
              "    <tr>\n",
              "      <th>12681</th>\n",
              "      <td>0</td>\n",
              "      <td>0</td>\n",
              "      <td>0</td>\n",
              "      <td>0</td>\n",
              "      <td>1</td>\n",
              "      <td>1</td>\n",
              "      <td>0</td>\n",
              "      <td>0</td>\n",
              "      <td>1</td>\n",
              "      <td>0</td>\n",
              "      <td>...</td>\n",
              "      <td>0</td>\n",
              "      <td>0</td>\n",
              "      <td>0</td>\n",
              "      <td>0</td>\n",
              "      <td>0</td>\n",
              "      <td>0</td>\n",
              "      <td>0</td>\n",
              "      <td>1</td>\n",
              "      <td>0</td>\n",
              "      <td>0</td>\n",
              "    </tr>\n",
              "    <tr>\n",
              "      <th>12682</th>\n",
              "      <td>1</td>\n",
              "      <td>0</td>\n",
              "      <td>0</td>\n",
              "      <td>0</td>\n",
              "      <td>1</td>\n",
              "      <td>1</td>\n",
              "      <td>0</td>\n",
              "      <td>0</td>\n",
              "      <td>1</td>\n",
              "      <td>0</td>\n",
              "      <td>...</td>\n",
              "      <td>0</td>\n",
              "      <td>0</td>\n",
              "      <td>0</td>\n",
              "      <td>0</td>\n",
              "      <td>0</td>\n",
              "      <td>0</td>\n",
              "      <td>0</td>\n",
              "      <td>1</td>\n",
              "      <td>0</td>\n",
              "      <td>0</td>\n",
              "    </tr>\n",
              "    <tr>\n",
              "      <th>12683</th>\n",
              "      <td>0</td>\n",
              "      <td>0</td>\n",
              "      <td>0</td>\n",
              "      <td>0</td>\n",
              "      <td>1</td>\n",
              "      <td>0</td>\n",
              "      <td>1</td>\n",
              "      <td>0</td>\n",
              "      <td>1</td>\n",
              "      <td>0</td>\n",
              "      <td>...</td>\n",
              "      <td>0</td>\n",
              "      <td>0</td>\n",
              "      <td>0</td>\n",
              "      <td>0</td>\n",
              "      <td>0</td>\n",
              "      <td>0</td>\n",
              "      <td>0</td>\n",
              "      <td>1</td>\n",
              "      <td>0</td>\n",
              "      <td>0</td>\n",
              "    </tr>\n",
              "  </tbody>\n",
              "</table>\n",
              "<p>12684 rows × 22 columns</p>\n",
              "</div>\n",
              "      <button class=\"colab-df-convert\" onclick=\"convertToInteractive('df-de55b4bf-55a7-4fe5-b9e9-7d2975e516fd')\"\n",
              "              title=\"Convert this dataframe to an interactive table.\"\n",
              "              style=\"display:none;\">\n",
              "        \n",
              "  <svg xmlns=\"http://www.w3.org/2000/svg\" height=\"24px\"viewBox=\"0 0 24 24\"\n",
              "       width=\"24px\">\n",
              "    <path d=\"M0 0h24v24H0V0z\" fill=\"none\"/>\n",
              "    <path d=\"M18.56 5.44l.94 2.06.94-2.06 2.06-.94-2.06-.94-.94-2.06-.94 2.06-2.06.94zm-11 1L8.5 8.5l.94-2.06 2.06-.94-2.06-.94L8.5 2.5l-.94 2.06-2.06.94zm10 10l.94 2.06.94-2.06 2.06-.94-2.06-.94-.94-2.06-.94 2.06-2.06.94z\"/><path d=\"M17.41 7.96l-1.37-1.37c-.4-.4-.92-.59-1.43-.59-.52 0-1.04.2-1.43.59L10.3 9.45l-7.72 7.72c-.78.78-.78 2.05 0 2.83L4 21.41c.39.39.9.59 1.41.59.51 0 1.02-.2 1.41-.59l7.78-7.78 2.81-2.81c.8-.78.8-2.07 0-2.86zM5.41 20L4 18.59l7.72-7.72 1.47 1.35L5.41 20z\"/>\n",
              "  </svg>\n",
              "      </button>\n",
              "      \n",
              "  <style>\n",
              "    .colab-df-container {\n",
              "      display:flex;\n",
              "      flex-wrap:wrap;\n",
              "      gap: 12px;\n",
              "    }\n",
              "\n",
              "    .colab-df-convert {\n",
              "      background-color: #E8F0FE;\n",
              "      border: none;\n",
              "      border-radius: 50%;\n",
              "      cursor: pointer;\n",
              "      display: none;\n",
              "      fill: #1967D2;\n",
              "      height: 32px;\n",
              "      padding: 0 0 0 0;\n",
              "      width: 32px;\n",
              "    }\n",
              "\n",
              "    .colab-df-convert:hover {\n",
              "      background-color: #E2EBFA;\n",
              "      box-shadow: 0px 1px 2px rgba(60, 64, 67, 0.3), 0px 1px 3px 1px rgba(60, 64, 67, 0.15);\n",
              "      fill: #174EA6;\n",
              "    }\n",
              "\n",
              "    [theme=dark] .colab-df-convert {\n",
              "      background-color: #3B4455;\n",
              "      fill: #D2E3FC;\n",
              "    }\n",
              "\n",
              "    [theme=dark] .colab-df-convert:hover {\n",
              "      background-color: #434B5C;\n",
              "      box-shadow: 0px 1px 3px 1px rgba(0, 0, 0, 0.15);\n",
              "      filter: drop-shadow(0px 1px 2px rgba(0, 0, 0, 0.3));\n",
              "      fill: #FFFFFF;\n",
              "    }\n",
              "  </style>\n",
              "\n",
              "      <script>\n",
              "        const buttonEl =\n",
              "          document.querySelector('#df-de55b4bf-55a7-4fe5-b9e9-7d2975e516fd button.colab-df-convert');\n",
              "        buttonEl.style.display =\n",
              "          google.colab.kernel.accessAllowed ? 'block' : 'none';\n",
              "\n",
              "        async function convertToInteractive(key) {\n",
              "          const element = document.querySelector('#df-de55b4bf-55a7-4fe5-b9e9-7d2975e516fd');\n",
              "          const dataTable =\n",
              "            await google.colab.kernel.invokeFunction('convertToInteractive',\n",
              "                                                     [key], {});\n",
              "          if (!dataTable) return;\n",
              "\n",
              "          const docLinkHtml = 'Like what you see? Visit the ' +\n",
              "            '<a target=\"_blank\" href=https://colab.research.google.com/notebooks/data_table.ipynb>data table notebook</a>'\n",
              "            + ' to learn more about interactive tables.';\n",
              "          element.innerHTML = '';\n",
              "          dataTable['output_type'] = 'display_data';\n",
              "          await google.colab.output.renderOutput(dataTable, element);\n",
              "          const docLink = document.createElement('div');\n",
              "          docLink.innerHTML = docLinkHtml;\n",
              "          element.appendChild(docLink);\n",
              "        }\n",
              "      </script>\n",
              "    </div>\n",
              "  </div>\n",
              "  "
            ]
          },
          "metadata": {},
          "execution_count": 80
        }
      ]
    },
    {
      "cell_type": "code",
      "source": [
        "sec_df.shape"
      ],
      "metadata": {
        "id": "rx1W1GYjFSVU",
        "outputId": "c1c841cc-35bb-49b2-f4bf-97d9e3bdd028",
        "colab": {
          "base_uri": "https://localhost:8080/"
        }
      },
      "execution_count": null,
      "outputs": [
        {
          "output_type": "execute_result",
          "data": {
            "text/plain": [
              "(12684, 22)"
            ]
          },
          "metadata": {},
          "execution_count": 81
        }
      ]
    },
    {
      "cell_type": "code",
      "source": [
        "sec_df.select_dtypes('int64').nunique()"
      ],
      "metadata": {
        "id": "iBwc0NSnFUpx",
        "outputId": "372deeed-b5ea-41ce-ccd3-68e49e5417f5",
        "colab": {
          "base_uri": "https://localhost:8080/"
        }
      },
      "execution_count": null,
      "outputs": [
        {
          "output_type": "execute_result",
          "data": {
            "text/plain": [
              "toCoupon_GEQ25min    2\n",
              "Y                    2\n",
              "dtype: int64"
            ]
          },
          "metadata": {},
          "execution_count": 82
        }
      ]
    },
    {
      "cell_type": "markdown",
      "source": [
        "# Split dataset"
      ],
      "metadata": {
        "id": "OgjqG5z6GMnr"
      }
    },
    {
      "cell_type": "code",
      "source": [
        "sec_X = sec_df.drop('Y', axis=1)"
      ],
      "metadata": {
        "id": "K8ZtdYLeFlk9"
      },
      "execution_count": null,
      "outputs": []
    },
    {
      "cell_type": "code",
      "source": [
        "sec_y = sec_df['Y']"
      ],
      "metadata": {
        "id": "b1RtSt2FFsYB"
      },
      "execution_count": null,
      "outputs": []
    },
    {
      "cell_type": "code",
      "source": [
        "SX_train, SX_test, Sy_train, Sy_test = train_test_split(sec_X, sec_y, train_size=0.7, random_state=42)"
      ],
      "metadata": {
        "id": "Fqr41Ji2F1sb"
      },
      "execution_count": null,
      "outputs": []
    },
    {
      "cell_type": "markdown",
      "source": [
        "# Random Forest\n",
        "best algorithm"
      ],
      "metadata": {
        "id": "3BEn908oGGuN"
      }
    },
    {
      "cell_type": "code",
      "source": [
        "from sklearn.ensemble import RandomForestClassifier\n",
        "\n",
        "randForest = RandomForestClassifier()\n",
        "\n",
        "randForest.fit(SX_train, Sy_train)\n",
        "Saccuracy = randForest.score(SX_test, Sy_test)\n",
        "print(f'Accuracy: {Saccuracy:.2f}')  "
      ],
      "metadata": {
        "id": "c90Us3l5GEf9",
        "outputId": "6ecebb2a-4696-4b4f-caae-a4a582717b9f",
        "colab": {
          "base_uri": "https://localhost:8080/"
        }
      },
      "execution_count": null,
      "outputs": [
        {
          "output_type": "stream",
          "name": "stdout",
          "text": [
            "Accuracy: 0.62\n"
          ]
        }
      ]
    },
    {
      "cell_type": "markdown",
      "source": [
        "# Clustering"
      ],
      "metadata": {
        "id": "C_LkQUkOfl1Z"
      }
    },
    {
      "cell_type": "code",
      "source": [
        "cluster_df.head()"
      ],
      "metadata": {
        "id": "cCAPSrZwGW3b",
        "outputId": "b58e15a4-e543-47b3-b4f0-198e4ce47a9a",
        "colab": {
          "base_uri": "https://localhost:8080/",
          "height": 386
        }
      },
      "execution_count": null,
      "outputs": [
        {
          "output_type": "execute_result",
          "data": {
            "text/plain": [
              "       destination  passanger weather  temperature  time  \\\n",
              "0  No Urgent Place      Alone   Sunny           55   2PM   \n",
              "1  No Urgent Place  Friend(s)   Sunny           80  10AM   \n",
              "2  No Urgent Place  Friend(s)   Sunny           80  10AM   \n",
              "3  No Urgent Place  Friend(s)   Sunny           80   2PM   \n",
              "4  No Urgent Place  Friend(s)   Sunny           80   2PM   \n",
              "\n",
              "                  coupon expiration  gender age      maritalStatus  ...  \\\n",
              "0        Restaurant(<20)         1d  Female  21  Unmarried partner  ...   \n",
              "1           Coffee House         2h  Female  21  Unmarried partner  ...   \n",
              "2  Carry out & Take away         2h  Female  21  Unmarried partner  ...   \n",
              "3           Coffee House         2h  Female  21  Unmarried partner  ...   \n",
              "4           Coffee House         1d  Female  21  Unmarried partner  ...   \n",
              "\n",
              "   CoffeeHouse CarryAway RestaurantLessThan20 Restaurant20To50  \\\n",
              "0        never       1~3                  4~8              1~3   \n",
              "1        never       1~3                  4~8              1~3   \n",
              "2        never       1~3                  4~8              1~3   \n",
              "3        never       1~3                  4~8              1~3   \n",
              "4        never       1~3                  4~8              1~3   \n",
              "\n",
              "  toCoupon_GEQ5min toCoupon_GEQ15min toCoupon_GEQ25min direction_same  \\\n",
              "0                1                 0                 0              0   \n",
              "1                1                 0                 0              0   \n",
              "2                1                 1                 0              0   \n",
              "3                1                 1                 0              0   \n",
              "4                1                 1                 0              0   \n",
              "\n",
              "  direction_opp  Y  \n",
              "0             1  1  \n",
              "1             1  0  \n",
              "2             1  1  \n",
              "3             1  0  \n",
              "4             1  0  \n",
              "\n",
              "[5 rows x 25 columns]"
            ],
            "text/html": [
              "\n",
              "  <div id=\"df-a78afe55-a4da-4015-8846-65597b3743a7\">\n",
              "    <div class=\"colab-df-container\">\n",
              "      <div>\n",
              "<style scoped>\n",
              "    .dataframe tbody tr th:only-of-type {\n",
              "        vertical-align: middle;\n",
              "    }\n",
              "\n",
              "    .dataframe tbody tr th {\n",
              "        vertical-align: top;\n",
              "    }\n",
              "\n",
              "    .dataframe thead th {\n",
              "        text-align: right;\n",
              "    }\n",
              "</style>\n",
              "<table border=\"1\" class=\"dataframe\">\n",
              "  <thead>\n",
              "    <tr style=\"text-align: right;\">\n",
              "      <th></th>\n",
              "      <th>destination</th>\n",
              "      <th>passanger</th>\n",
              "      <th>weather</th>\n",
              "      <th>temperature</th>\n",
              "      <th>time</th>\n",
              "      <th>coupon</th>\n",
              "      <th>expiration</th>\n",
              "      <th>gender</th>\n",
              "      <th>age</th>\n",
              "      <th>maritalStatus</th>\n",
              "      <th>...</th>\n",
              "      <th>CoffeeHouse</th>\n",
              "      <th>CarryAway</th>\n",
              "      <th>RestaurantLessThan20</th>\n",
              "      <th>Restaurant20To50</th>\n",
              "      <th>toCoupon_GEQ5min</th>\n",
              "      <th>toCoupon_GEQ15min</th>\n",
              "      <th>toCoupon_GEQ25min</th>\n",
              "      <th>direction_same</th>\n",
              "      <th>direction_opp</th>\n",
              "      <th>Y</th>\n",
              "    </tr>\n",
              "  </thead>\n",
              "  <tbody>\n",
              "    <tr>\n",
              "      <th>0</th>\n",
              "      <td>No Urgent Place</td>\n",
              "      <td>Alone</td>\n",
              "      <td>Sunny</td>\n",
              "      <td>55</td>\n",
              "      <td>2PM</td>\n",
              "      <td>Restaurant(&lt;20)</td>\n",
              "      <td>1d</td>\n",
              "      <td>Female</td>\n",
              "      <td>21</td>\n",
              "      <td>Unmarried partner</td>\n",
              "      <td>...</td>\n",
              "      <td>never</td>\n",
              "      <td>1~3</td>\n",
              "      <td>4~8</td>\n",
              "      <td>1~3</td>\n",
              "      <td>1</td>\n",
              "      <td>0</td>\n",
              "      <td>0</td>\n",
              "      <td>0</td>\n",
              "      <td>1</td>\n",
              "      <td>1</td>\n",
              "    </tr>\n",
              "    <tr>\n",
              "      <th>1</th>\n",
              "      <td>No Urgent Place</td>\n",
              "      <td>Friend(s)</td>\n",
              "      <td>Sunny</td>\n",
              "      <td>80</td>\n",
              "      <td>10AM</td>\n",
              "      <td>Coffee House</td>\n",
              "      <td>2h</td>\n",
              "      <td>Female</td>\n",
              "      <td>21</td>\n",
              "      <td>Unmarried partner</td>\n",
              "      <td>...</td>\n",
              "      <td>never</td>\n",
              "      <td>1~3</td>\n",
              "      <td>4~8</td>\n",
              "      <td>1~3</td>\n",
              "      <td>1</td>\n",
              "      <td>0</td>\n",
              "      <td>0</td>\n",
              "      <td>0</td>\n",
              "      <td>1</td>\n",
              "      <td>0</td>\n",
              "    </tr>\n",
              "    <tr>\n",
              "      <th>2</th>\n",
              "      <td>No Urgent Place</td>\n",
              "      <td>Friend(s)</td>\n",
              "      <td>Sunny</td>\n",
              "      <td>80</td>\n",
              "      <td>10AM</td>\n",
              "      <td>Carry out &amp; Take away</td>\n",
              "      <td>2h</td>\n",
              "      <td>Female</td>\n",
              "      <td>21</td>\n",
              "      <td>Unmarried partner</td>\n",
              "      <td>...</td>\n",
              "      <td>never</td>\n",
              "      <td>1~3</td>\n",
              "      <td>4~8</td>\n",
              "      <td>1~3</td>\n",
              "      <td>1</td>\n",
              "      <td>1</td>\n",
              "      <td>0</td>\n",
              "      <td>0</td>\n",
              "      <td>1</td>\n",
              "      <td>1</td>\n",
              "    </tr>\n",
              "    <tr>\n",
              "      <th>3</th>\n",
              "      <td>No Urgent Place</td>\n",
              "      <td>Friend(s)</td>\n",
              "      <td>Sunny</td>\n",
              "      <td>80</td>\n",
              "      <td>2PM</td>\n",
              "      <td>Coffee House</td>\n",
              "      <td>2h</td>\n",
              "      <td>Female</td>\n",
              "      <td>21</td>\n",
              "      <td>Unmarried partner</td>\n",
              "      <td>...</td>\n",
              "      <td>never</td>\n",
              "      <td>1~3</td>\n",
              "      <td>4~8</td>\n",
              "      <td>1~3</td>\n",
              "      <td>1</td>\n",
              "      <td>1</td>\n",
              "      <td>0</td>\n",
              "      <td>0</td>\n",
              "      <td>1</td>\n",
              "      <td>0</td>\n",
              "    </tr>\n",
              "    <tr>\n",
              "      <th>4</th>\n",
              "      <td>No Urgent Place</td>\n",
              "      <td>Friend(s)</td>\n",
              "      <td>Sunny</td>\n",
              "      <td>80</td>\n",
              "      <td>2PM</td>\n",
              "      <td>Coffee House</td>\n",
              "      <td>1d</td>\n",
              "      <td>Female</td>\n",
              "      <td>21</td>\n",
              "      <td>Unmarried partner</td>\n",
              "      <td>...</td>\n",
              "      <td>never</td>\n",
              "      <td>1~3</td>\n",
              "      <td>4~8</td>\n",
              "      <td>1~3</td>\n",
              "      <td>1</td>\n",
              "      <td>1</td>\n",
              "      <td>0</td>\n",
              "      <td>0</td>\n",
              "      <td>1</td>\n",
              "      <td>0</td>\n",
              "    </tr>\n",
              "  </tbody>\n",
              "</table>\n",
              "<p>5 rows × 25 columns</p>\n",
              "</div>\n",
              "      <button class=\"colab-df-convert\" onclick=\"convertToInteractive('df-a78afe55-a4da-4015-8846-65597b3743a7')\"\n",
              "              title=\"Convert this dataframe to an interactive table.\"\n",
              "              style=\"display:none;\">\n",
              "        \n",
              "  <svg xmlns=\"http://www.w3.org/2000/svg\" height=\"24px\"viewBox=\"0 0 24 24\"\n",
              "       width=\"24px\">\n",
              "    <path d=\"M0 0h24v24H0V0z\" fill=\"none\"/>\n",
              "    <path d=\"M18.56 5.44l.94 2.06.94-2.06 2.06-.94-2.06-.94-.94-2.06-.94 2.06-2.06.94zm-11 1L8.5 8.5l.94-2.06 2.06-.94-2.06-.94L8.5 2.5l-.94 2.06-2.06.94zm10 10l.94 2.06.94-2.06 2.06-.94-2.06-.94-.94-2.06-.94 2.06-2.06.94z\"/><path d=\"M17.41 7.96l-1.37-1.37c-.4-.4-.92-.59-1.43-.59-.52 0-1.04.2-1.43.59L10.3 9.45l-7.72 7.72c-.78.78-.78 2.05 0 2.83L4 21.41c.39.39.9.59 1.41.59.51 0 1.02-.2 1.41-.59l7.78-7.78 2.81-2.81c.8-.78.8-2.07 0-2.86zM5.41 20L4 18.59l7.72-7.72 1.47 1.35L5.41 20z\"/>\n",
              "  </svg>\n",
              "      </button>\n",
              "      \n",
              "  <style>\n",
              "    .colab-df-container {\n",
              "      display:flex;\n",
              "      flex-wrap:wrap;\n",
              "      gap: 12px;\n",
              "    }\n",
              "\n",
              "    .colab-df-convert {\n",
              "      background-color: #E8F0FE;\n",
              "      border: none;\n",
              "      border-radius: 50%;\n",
              "      cursor: pointer;\n",
              "      display: none;\n",
              "      fill: #1967D2;\n",
              "      height: 32px;\n",
              "      padding: 0 0 0 0;\n",
              "      width: 32px;\n",
              "    }\n",
              "\n",
              "    .colab-df-convert:hover {\n",
              "      background-color: #E2EBFA;\n",
              "      box-shadow: 0px 1px 2px rgba(60, 64, 67, 0.3), 0px 1px 3px 1px rgba(60, 64, 67, 0.15);\n",
              "      fill: #174EA6;\n",
              "    }\n",
              "\n",
              "    [theme=dark] .colab-df-convert {\n",
              "      background-color: #3B4455;\n",
              "      fill: #D2E3FC;\n",
              "    }\n",
              "\n",
              "    [theme=dark] .colab-df-convert:hover {\n",
              "      background-color: #434B5C;\n",
              "      box-shadow: 0px 1px 3px 1px rgba(0, 0, 0, 0.15);\n",
              "      filter: drop-shadow(0px 1px 2px rgba(0, 0, 0, 0.3));\n",
              "      fill: #FFFFFF;\n",
              "    }\n",
              "  </style>\n",
              "\n",
              "      <script>\n",
              "        const buttonEl =\n",
              "          document.querySelector('#df-a78afe55-a4da-4015-8846-65597b3743a7 button.colab-df-convert');\n",
              "        buttonEl.style.display =\n",
              "          google.colab.kernel.accessAllowed ? 'block' : 'none';\n",
              "\n",
              "        async function convertToInteractive(key) {\n",
              "          const element = document.querySelector('#df-a78afe55-a4da-4015-8846-65597b3743a7');\n",
              "          const dataTable =\n",
              "            await google.colab.kernel.invokeFunction('convertToInteractive',\n",
              "                                                     [key], {});\n",
              "          if (!dataTable) return;\n",
              "\n",
              "          const docLinkHtml = 'Like what you see? Visit the ' +\n",
              "            '<a target=\"_blank\" href=https://colab.research.google.com/notebooks/data_table.ipynb>data table notebook</a>'\n",
              "            + ' to learn more about interactive tables.';\n",
              "          element.innerHTML = '';\n",
              "          dataTable['output_type'] = 'display_data';\n",
              "          await google.colab.output.renderOutput(dataTable, element);\n",
              "          const docLink = document.createElement('div');\n",
              "          docLink.innerHTML = docLinkHtml;\n",
              "          element.appendChild(docLink);\n",
              "        }\n",
              "      </script>\n",
              "    </div>\n",
              "  </div>\n",
              "  "
            ]
          },
          "metadata": {},
          "execution_count": 22
        }
      ]
    },
    {
      "cell_type": "code",
      "source": [
        "cluster_df.isnull().sum()"
      ],
      "metadata": {
        "id": "z0Df5jJhJaxH",
        "outputId": "f3a657ec-53ae-4465-d261-81845f343962",
        "colab": {
          "base_uri": "https://localhost:8080/"
        }
      },
      "execution_count": null,
      "outputs": [
        {
          "output_type": "execute_result",
          "data": {
            "text/plain": [
              "destination             0\n",
              "passanger               0\n",
              "weather                 0\n",
              "temperature             0\n",
              "time                    0\n",
              "coupon                  0\n",
              "expiration              0\n",
              "gender                  0\n",
              "age                     0\n",
              "maritalStatus           0\n",
              "has_children            0\n",
              "education               0\n",
              "occupation              0\n",
              "income                  0\n",
              "Bar                     0\n",
              "CoffeeHouse             0\n",
              "CarryAway               0\n",
              "RestaurantLessThan20    0\n",
              "Restaurant20To50        0\n",
              "toCoupon_GEQ5min        0\n",
              "toCoupon_GEQ15min       0\n",
              "toCoupon_GEQ25min       0\n",
              "direction_same          0\n",
              "direction_opp           0\n",
              "Y                       0\n",
              "dtype: int64"
            ]
          },
          "metadata": {},
          "execution_count": 43
        }
      ]
    },
    {
      "cell_type": "code",
      "source": [
        "cluster_df.drop_duplicates(inplace=True)"
      ],
      "metadata": {
        "id": "BpgrLhd4J0FY"
      },
      "execution_count": null,
      "outputs": []
    },
    {
      "cell_type": "code",
      "source": [
        "cluster_df.info()"
      ],
      "metadata": {
        "id": "mOneainBhwt-",
        "outputId": "8508ffd2-1921-40cc-ef9f-ca359b69e48b",
        "colab": {
          "base_uri": "https://localhost:8080/"
        }
      },
      "execution_count": null,
      "outputs": [
        {
          "output_type": "stream",
          "name": "stdout",
          "text": [
            "<class 'pandas.core.frame.DataFrame'>\n",
            "Int64Index: 12610 entries, 0 to 12683\n",
            "Data columns (total 25 columns):\n",
            " #   Column                Non-Null Count  Dtype \n",
            "---  ------                --------------  ----- \n",
            " 0   destination           12610 non-null  object\n",
            " 1   passanger             12610 non-null  object\n",
            " 2   weather               12610 non-null  object\n",
            " 3   temperature           12610 non-null  int64 \n",
            " 4   time                  12610 non-null  object\n",
            " 5   coupon                12610 non-null  object\n",
            " 6   expiration            12610 non-null  object\n",
            " 7   gender                12610 non-null  object\n",
            " 8   age                   12610 non-null  object\n",
            " 9   maritalStatus         12610 non-null  object\n",
            " 10  has_children          12610 non-null  int64 \n",
            " 11  education             12610 non-null  object\n",
            " 12  occupation            12610 non-null  object\n",
            " 13  income                12610 non-null  object\n",
            " 14  Bar                   12610 non-null  object\n",
            " 15  CoffeeHouse           12610 non-null  object\n",
            " 16  CarryAway             12610 non-null  object\n",
            " 17  RestaurantLessThan20  12610 non-null  object\n",
            " 18  Restaurant20To50      12610 non-null  object\n",
            " 19  toCoupon_GEQ5min      12610 non-null  int64 \n",
            " 20  toCoupon_GEQ15min     12610 non-null  int64 \n",
            " 21  toCoupon_GEQ25min     12610 non-null  int64 \n",
            " 22  direction_same        12610 non-null  int64 \n",
            " 23  direction_opp         12610 non-null  int64 \n",
            " 24  Y                     12610 non-null  int64 \n",
            "dtypes: int64(8), object(17)\n",
            "memory usage: 2.5+ MB\n"
          ]
        }
      ]
    },
    {
      "cell_type": "markdown",
      "source": [
        "## One-hot Encoding in cluster_df"
      ],
      "metadata": {
        "id": "K14kqUVQlrVW"
      }
    },
    {
      "cell_type": "code",
      "source": [
        "cluster_df.dtypes"
      ],
      "metadata": {
        "id": "xcGSgYPFlHhh",
        "outputId": "03df8fea-ba04-4a69-e4e0-391124f722fe",
        "colab": {
          "base_uri": "https://localhost:8080/"
        }
      },
      "execution_count": null,
      "outputs": [
        {
          "output_type": "execute_result",
          "data": {
            "text/plain": [
              "destination             object\n",
              "passanger               object\n",
              "weather                 object\n",
              "temperature              int64\n",
              "time                    object\n",
              "coupon                  object\n",
              "expiration              object\n",
              "gender                  object\n",
              "age                     object\n",
              "maritalStatus           object\n",
              "has_children             int64\n",
              "education               object\n",
              "occupation              object\n",
              "income                  object\n",
              "Bar                     object\n",
              "CoffeeHouse             object\n",
              "CarryAway               object\n",
              "RestaurantLessThan20    object\n",
              "Restaurant20To50        object\n",
              "toCoupon_GEQ5min         int64\n",
              "toCoupon_GEQ15min        int64\n",
              "toCoupon_GEQ25min        int64\n",
              "direction_same           int64\n",
              "direction_opp            int64\n",
              "Y                        int64\n",
              "dtype: object"
            ]
          },
          "metadata": {},
          "execution_count": 46
        }
      ]
    },
    {
      "cell_type": "code",
      "source": [
        "cluster_df.columns"
      ],
      "metadata": {
        "id": "LpAVbeYZlRKR",
        "outputId": "2f22f8b2-dbf3-47f7-c8e4-b5cecfa8c689",
        "colab": {
          "base_uri": "https://localhost:8080/"
        }
      },
      "execution_count": null,
      "outputs": [
        {
          "output_type": "execute_result",
          "data": {
            "text/plain": [
              "Index(['destination', 'passanger', 'weather', 'temperature', 'time', 'coupon',\n",
              "       'expiration', 'gender', 'age', 'maritalStatus', 'has_children',\n",
              "       'education', 'occupation', 'income', 'Bar', 'CoffeeHouse', 'CarryAway',\n",
              "       'RestaurantLessThan20', 'Restaurant20To50', 'toCoupon_GEQ5min',\n",
              "       'toCoupon_GEQ15min', 'toCoupon_GEQ25min', 'direction_same',\n",
              "       'direction_opp', 'Y'],\n",
              "      dtype='object')"
            ]
          },
          "metadata": {},
          "execution_count": 47
        }
      ]
    },
    {
      "cell_type": "code",
      "source": [
        "cluster_categorical = cluster_df.select_dtypes(exclude='number')\n",
        "cluster_categorical"
      ],
      "metadata": {
        "id": "7UYoW_m8lZzu",
        "outputId": "8240891b-56ff-46fd-f5aa-ba164ded174b",
        "colab": {
          "base_uri": "https://localhost:8080/",
          "height": 641
        }
      },
      "execution_count": null,
      "outputs": [
        {
          "output_type": "execute_result",
          "data": {
            "text/plain": [
              "           destination  passanger weather  time                 coupon  \\\n",
              "0      No Urgent Place      Alone   Sunny   2PM        Restaurant(<20)   \n",
              "1      No Urgent Place  Friend(s)   Sunny  10AM           Coffee House   \n",
              "2      No Urgent Place  Friend(s)   Sunny  10AM  Carry out & Take away   \n",
              "3      No Urgent Place  Friend(s)   Sunny   2PM           Coffee House   \n",
              "4      No Urgent Place  Friend(s)   Sunny   2PM           Coffee House   \n",
              "...                ...        ...     ...   ...                    ...   \n",
              "12679             Home    Partner   Rainy   6PM  Carry out & Take away   \n",
              "12680             Work      Alone   Rainy   7AM  Carry out & Take away   \n",
              "12681             Work      Alone   Snowy   7AM           Coffee House   \n",
              "12682             Work      Alone   Snowy   7AM                    Bar   \n",
              "12683             Work      Alone   Sunny   7AM      Restaurant(20-50)   \n",
              "\n",
              "      expiration  gender age      maritalStatus                 education  \\\n",
              "0             1d  Female  21  Unmarried partner  Some college - no degree   \n",
              "1             2h  Female  21  Unmarried partner  Some college - no degree   \n",
              "2             2h  Female  21  Unmarried partner  Some college - no degree   \n",
              "3             2h  Female  21  Unmarried partner  Some college - no degree   \n",
              "4             1d  Female  21  Unmarried partner  Some college - no degree   \n",
              "...          ...     ...  ..                ...                       ...   \n",
              "12679         1d    Male  26             Single          Bachelors degree   \n",
              "12680         1d    Male  26             Single          Bachelors degree   \n",
              "12681         1d    Male  26             Single          Bachelors degree   \n",
              "12682         1d    Male  26             Single          Bachelors degree   \n",
              "12683         2h    Male  26             Single          Bachelors degree   \n",
              "\n",
              "            occupation           income    Bar CoffeeHouse CarryAway  \\\n",
              "0           Unemployed  $37500 - $49999  never       never       1~3   \n",
              "1           Unemployed  $37500 - $49999  never       never       1~3   \n",
              "2           Unemployed  $37500 - $49999  never       never       1~3   \n",
              "3           Unemployed  $37500 - $49999  never       never       1~3   \n",
              "4           Unemployed  $37500 - $49999  never       never       1~3   \n",
              "...                ...              ...    ...         ...       ...   \n",
              "12679  Sales & Related  $75000 - $87499  never       never       1~3   \n",
              "12680  Sales & Related  $75000 - $87499  never       never       1~3   \n",
              "12681  Sales & Related  $75000 - $87499  never       never       1~3   \n",
              "12682  Sales & Related  $75000 - $87499  never       never       1~3   \n",
              "12683  Sales & Related  $75000 - $87499  never       never       1~3   \n",
              "\n",
              "      RestaurantLessThan20 Restaurant20To50  \n",
              "0                      4~8              1~3  \n",
              "1                      4~8              1~3  \n",
              "2                      4~8              1~3  \n",
              "3                      4~8              1~3  \n",
              "4                      4~8              1~3  \n",
              "...                    ...              ...  \n",
              "12679                  4~8              1~3  \n",
              "12680                  4~8              1~3  \n",
              "12681                  4~8              1~3  \n",
              "12682                  4~8              1~3  \n",
              "12683                  4~8              1~3  \n",
              "\n",
              "[12610 rows x 17 columns]"
            ],
            "text/html": [
              "\n",
              "  <div id=\"df-46be1b80-4880-4f32-8b21-359c9b812840\">\n",
              "    <div class=\"colab-df-container\">\n",
              "      <div>\n",
              "<style scoped>\n",
              "    .dataframe tbody tr th:only-of-type {\n",
              "        vertical-align: middle;\n",
              "    }\n",
              "\n",
              "    .dataframe tbody tr th {\n",
              "        vertical-align: top;\n",
              "    }\n",
              "\n",
              "    .dataframe thead th {\n",
              "        text-align: right;\n",
              "    }\n",
              "</style>\n",
              "<table border=\"1\" class=\"dataframe\">\n",
              "  <thead>\n",
              "    <tr style=\"text-align: right;\">\n",
              "      <th></th>\n",
              "      <th>destination</th>\n",
              "      <th>passanger</th>\n",
              "      <th>weather</th>\n",
              "      <th>time</th>\n",
              "      <th>coupon</th>\n",
              "      <th>expiration</th>\n",
              "      <th>gender</th>\n",
              "      <th>age</th>\n",
              "      <th>maritalStatus</th>\n",
              "      <th>education</th>\n",
              "      <th>occupation</th>\n",
              "      <th>income</th>\n",
              "      <th>Bar</th>\n",
              "      <th>CoffeeHouse</th>\n",
              "      <th>CarryAway</th>\n",
              "      <th>RestaurantLessThan20</th>\n",
              "      <th>Restaurant20To50</th>\n",
              "    </tr>\n",
              "  </thead>\n",
              "  <tbody>\n",
              "    <tr>\n",
              "      <th>0</th>\n",
              "      <td>No Urgent Place</td>\n",
              "      <td>Alone</td>\n",
              "      <td>Sunny</td>\n",
              "      <td>2PM</td>\n",
              "      <td>Restaurant(&lt;20)</td>\n",
              "      <td>1d</td>\n",
              "      <td>Female</td>\n",
              "      <td>21</td>\n",
              "      <td>Unmarried partner</td>\n",
              "      <td>Some college - no degree</td>\n",
              "      <td>Unemployed</td>\n",
              "      <td>$37500 - $49999</td>\n",
              "      <td>never</td>\n",
              "      <td>never</td>\n",
              "      <td>1~3</td>\n",
              "      <td>4~8</td>\n",
              "      <td>1~3</td>\n",
              "    </tr>\n",
              "    <tr>\n",
              "      <th>1</th>\n",
              "      <td>No Urgent Place</td>\n",
              "      <td>Friend(s)</td>\n",
              "      <td>Sunny</td>\n",
              "      <td>10AM</td>\n",
              "      <td>Coffee House</td>\n",
              "      <td>2h</td>\n",
              "      <td>Female</td>\n",
              "      <td>21</td>\n",
              "      <td>Unmarried partner</td>\n",
              "      <td>Some college - no degree</td>\n",
              "      <td>Unemployed</td>\n",
              "      <td>$37500 - $49999</td>\n",
              "      <td>never</td>\n",
              "      <td>never</td>\n",
              "      <td>1~3</td>\n",
              "      <td>4~8</td>\n",
              "      <td>1~3</td>\n",
              "    </tr>\n",
              "    <tr>\n",
              "      <th>2</th>\n",
              "      <td>No Urgent Place</td>\n",
              "      <td>Friend(s)</td>\n",
              "      <td>Sunny</td>\n",
              "      <td>10AM</td>\n",
              "      <td>Carry out &amp; Take away</td>\n",
              "      <td>2h</td>\n",
              "      <td>Female</td>\n",
              "      <td>21</td>\n",
              "      <td>Unmarried partner</td>\n",
              "      <td>Some college - no degree</td>\n",
              "      <td>Unemployed</td>\n",
              "      <td>$37500 - $49999</td>\n",
              "      <td>never</td>\n",
              "      <td>never</td>\n",
              "      <td>1~3</td>\n",
              "      <td>4~8</td>\n",
              "      <td>1~3</td>\n",
              "    </tr>\n",
              "    <tr>\n",
              "      <th>3</th>\n",
              "      <td>No Urgent Place</td>\n",
              "      <td>Friend(s)</td>\n",
              "      <td>Sunny</td>\n",
              "      <td>2PM</td>\n",
              "      <td>Coffee House</td>\n",
              "      <td>2h</td>\n",
              "      <td>Female</td>\n",
              "      <td>21</td>\n",
              "      <td>Unmarried partner</td>\n",
              "      <td>Some college - no degree</td>\n",
              "      <td>Unemployed</td>\n",
              "      <td>$37500 - $49999</td>\n",
              "      <td>never</td>\n",
              "      <td>never</td>\n",
              "      <td>1~3</td>\n",
              "      <td>4~8</td>\n",
              "      <td>1~3</td>\n",
              "    </tr>\n",
              "    <tr>\n",
              "      <th>4</th>\n",
              "      <td>No Urgent Place</td>\n",
              "      <td>Friend(s)</td>\n",
              "      <td>Sunny</td>\n",
              "      <td>2PM</td>\n",
              "      <td>Coffee House</td>\n",
              "      <td>1d</td>\n",
              "      <td>Female</td>\n",
              "      <td>21</td>\n",
              "      <td>Unmarried partner</td>\n",
              "      <td>Some college - no degree</td>\n",
              "      <td>Unemployed</td>\n",
              "      <td>$37500 - $49999</td>\n",
              "      <td>never</td>\n",
              "      <td>never</td>\n",
              "      <td>1~3</td>\n",
              "      <td>4~8</td>\n",
              "      <td>1~3</td>\n",
              "    </tr>\n",
              "    <tr>\n",
              "      <th>...</th>\n",
              "      <td>...</td>\n",
              "      <td>...</td>\n",
              "      <td>...</td>\n",
              "      <td>...</td>\n",
              "      <td>...</td>\n",
              "      <td>...</td>\n",
              "      <td>...</td>\n",
              "      <td>...</td>\n",
              "      <td>...</td>\n",
              "      <td>...</td>\n",
              "      <td>...</td>\n",
              "      <td>...</td>\n",
              "      <td>...</td>\n",
              "      <td>...</td>\n",
              "      <td>...</td>\n",
              "      <td>...</td>\n",
              "      <td>...</td>\n",
              "    </tr>\n",
              "    <tr>\n",
              "      <th>12679</th>\n",
              "      <td>Home</td>\n",
              "      <td>Partner</td>\n",
              "      <td>Rainy</td>\n",
              "      <td>6PM</td>\n",
              "      <td>Carry out &amp; Take away</td>\n",
              "      <td>1d</td>\n",
              "      <td>Male</td>\n",
              "      <td>26</td>\n",
              "      <td>Single</td>\n",
              "      <td>Bachelors degree</td>\n",
              "      <td>Sales &amp; Related</td>\n",
              "      <td>$75000 - $87499</td>\n",
              "      <td>never</td>\n",
              "      <td>never</td>\n",
              "      <td>1~3</td>\n",
              "      <td>4~8</td>\n",
              "      <td>1~3</td>\n",
              "    </tr>\n",
              "    <tr>\n",
              "      <th>12680</th>\n",
              "      <td>Work</td>\n",
              "      <td>Alone</td>\n",
              "      <td>Rainy</td>\n",
              "      <td>7AM</td>\n",
              "      <td>Carry out &amp; Take away</td>\n",
              "      <td>1d</td>\n",
              "      <td>Male</td>\n",
              "      <td>26</td>\n",
              "      <td>Single</td>\n",
              "      <td>Bachelors degree</td>\n",
              "      <td>Sales &amp; Related</td>\n",
              "      <td>$75000 - $87499</td>\n",
              "      <td>never</td>\n",
              "      <td>never</td>\n",
              "      <td>1~3</td>\n",
              "      <td>4~8</td>\n",
              "      <td>1~3</td>\n",
              "    </tr>\n",
              "    <tr>\n",
              "      <th>12681</th>\n",
              "      <td>Work</td>\n",
              "      <td>Alone</td>\n",
              "      <td>Snowy</td>\n",
              "      <td>7AM</td>\n",
              "      <td>Coffee House</td>\n",
              "      <td>1d</td>\n",
              "      <td>Male</td>\n",
              "      <td>26</td>\n",
              "      <td>Single</td>\n",
              "      <td>Bachelors degree</td>\n",
              "      <td>Sales &amp; Related</td>\n",
              "      <td>$75000 - $87499</td>\n",
              "      <td>never</td>\n",
              "      <td>never</td>\n",
              "      <td>1~3</td>\n",
              "      <td>4~8</td>\n",
              "      <td>1~3</td>\n",
              "    </tr>\n",
              "    <tr>\n",
              "      <th>12682</th>\n",
              "      <td>Work</td>\n",
              "      <td>Alone</td>\n",
              "      <td>Snowy</td>\n",
              "      <td>7AM</td>\n",
              "      <td>Bar</td>\n",
              "      <td>1d</td>\n",
              "      <td>Male</td>\n",
              "      <td>26</td>\n",
              "      <td>Single</td>\n",
              "      <td>Bachelors degree</td>\n",
              "      <td>Sales &amp; Related</td>\n",
              "      <td>$75000 - $87499</td>\n",
              "      <td>never</td>\n",
              "      <td>never</td>\n",
              "      <td>1~3</td>\n",
              "      <td>4~8</td>\n",
              "      <td>1~3</td>\n",
              "    </tr>\n",
              "    <tr>\n",
              "      <th>12683</th>\n",
              "      <td>Work</td>\n",
              "      <td>Alone</td>\n",
              "      <td>Sunny</td>\n",
              "      <td>7AM</td>\n",
              "      <td>Restaurant(20-50)</td>\n",
              "      <td>2h</td>\n",
              "      <td>Male</td>\n",
              "      <td>26</td>\n",
              "      <td>Single</td>\n",
              "      <td>Bachelors degree</td>\n",
              "      <td>Sales &amp; Related</td>\n",
              "      <td>$75000 - $87499</td>\n",
              "      <td>never</td>\n",
              "      <td>never</td>\n",
              "      <td>1~3</td>\n",
              "      <td>4~8</td>\n",
              "      <td>1~3</td>\n",
              "    </tr>\n",
              "  </tbody>\n",
              "</table>\n",
              "<p>12610 rows × 17 columns</p>\n",
              "</div>\n",
              "      <button class=\"colab-df-convert\" onclick=\"convertToInteractive('df-46be1b80-4880-4f32-8b21-359c9b812840')\"\n",
              "              title=\"Convert this dataframe to an interactive table.\"\n",
              "              style=\"display:none;\">\n",
              "        \n",
              "  <svg xmlns=\"http://www.w3.org/2000/svg\" height=\"24px\"viewBox=\"0 0 24 24\"\n",
              "       width=\"24px\">\n",
              "    <path d=\"M0 0h24v24H0V0z\" fill=\"none\"/>\n",
              "    <path d=\"M18.56 5.44l.94 2.06.94-2.06 2.06-.94-2.06-.94-.94-2.06-.94 2.06-2.06.94zm-11 1L8.5 8.5l.94-2.06 2.06-.94-2.06-.94L8.5 2.5l-.94 2.06-2.06.94zm10 10l.94 2.06.94-2.06 2.06-.94-2.06-.94-.94-2.06-.94 2.06-2.06.94z\"/><path d=\"M17.41 7.96l-1.37-1.37c-.4-.4-.92-.59-1.43-.59-.52 0-1.04.2-1.43.59L10.3 9.45l-7.72 7.72c-.78.78-.78 2.05 0 2.83L4 21.41c.39.39.9.59 1.41.59.51 0 1.02-.2 1.41-.59l7.78-7.78 2.81-2.81c.8-.78.8-2.07 0-2.86zM5.41 20L4 18.59l7.72-7.72 1.47 1.35L5.41 20z\"/>\n",
              "  </svg>\n",
              "      </button>\n",
              "      \n",
              "  <style>\n",
              "    .colab-df-container {\n",
              "      display:flex;\n",
              "      flex-wrap:wrap;\n",
              "      gap: 12px;\n",
              "    }\n",
              "\n",
              "    .colab-df-convert {\n",
              "      background-color: #E8F0FE;\n",
              "      border: none;\n",
              "      border-radius: 50%;\n",
              "      cursor: pointer;\n",
              "      display: none;\n",
              "      fill: #1967D2;\n",
              "      height: 32px;\n",
              "      padding: 0 0 0 0;\n",
              "      width: 32px;\n",
              "    }\n",
              "\n",
              "    .colab-df-convert:hover {\n",
              "      background-color: #E2EBFA;\n",
              "      box-shadow: 0px 1px 2px rgba(60, 64, 67, 0.3), 0px 1px 3px 1px rgba(60, 64, 67, 0.15);\n",
              "      fill: #174EA6;\n",
              "    }\n",
              "\n",
              "    [theme=dark] .colab-df-convert {\n",
              "      background-color: #3B4455;\n",
              "      fill: #D2E3FC;\n",
              "    }\n",
              "\n",
              "    [theme=dark] .colab-df-convert:hover {\n",
              "      background-color: #434B5C;\n",
              "      box-shadow: 0px 1px 3px 1px rgba(0, 0, 0, 0.15);\n",
              "      filter: drop-shadow(0px 1px 2px rgba(0, 0, 0, 0.3));\n",
              "      fill: #FFFFFF;\n",
              "    }\n",
              "  </style>\n",
              "\n",
              "      <script>\n",
              "        const buttonEl =\n",
              "          document.querySelector('#df-46be1b80-4880-4f32-8b21-359c9b812840 button.colab-df-convert');\n",
              "        buttonEl.style.display =\n",
              "          google.colab.kernel.accessAllowed ? 'block' : 'none';\n",
              "\n",
              "        async function convertToInteractive(key) {\n",
              "          const element = document.querySelector('#df-46be1b80-4880-4f32-8b21-359c9b812840');\n",
              "          const dataTable =\n",
              "            await google.colab.kernel.invokeFunction('convertToInteractive',\n",
              "                                                     [key], {});\n",
              "          if (!dataTable) return;\n",
              "\n",
              "          const docLinkHtml = 'Like what you see? Visit the ' +\n",
              "            '<a target=\"_blank\" href=https://colab.research.google.com/notebooks/data_table.ipynb>data table notebook</a>'\n",
              "            + ' to learn more about interactive tables.';\n",
              "          element.innerHTML = '';\n",
              "          dataTable['output_type'] = 'display_data';\n",
              "          await google.colab.output.renderOutput(dataTable, element);\n",
              "          const docLink = document.createElement('div');\n",
              "          docLink.innerHTML = docLinkHtml;\n",
              "          element.appendChild(docLink);\n",
              "        }\n",
              "      </script>\n",
              "    </div>\n",
              "  </div>\n",
              "  "
            ]
          },
          "metadata": {},
          "execution_count": 48
        }
      ]
    },
    {
      "cell_type": "code",
      "source": [
        "for value in cluster_categorical:\n",
        "  cluster_df= pd.get_dummies(cluster_df,columns=[value])"
      ],
      "metadata": {
        "id": "HR7pZfsOl3_R"
      },
      "execution_count": null,
      "outputs": []
    },
    {
      "cell_type": "code",
      "source": [
        "cluster_df"
      ],
      "metadata": {
        "id": "xZJaSTs7mFYC",
        "outputId": "bdd005af-6117-4ccc-8139-526664d989d0",
        "colab": {
          "base_uri": "https://localhost:8080/",
          "height": 505
        }
      },
      "execution_count": null,
      "outputs": [
        {
          "output_type": "execute_result",
          "data": {
            "text/plain": [
              "       temperature  has_children  toCoupon_GEQ5min  toCoupon_GEQ15min  \\\n",
              "0               55             1                 1                  0   \n",
              "1               80             1                 1                  0   \n",
              "2               80             1                 1                  1   \n",
              "3               80             1                 1                  1   \n",
              "4               80             1                 1                  1   \n",
              "...            ...           ...               ...                ...   \n",
              "12679           55             0                 1                  0   \n",
              "12680           55             0                 1                  0   \n",
              "12681           30             0                 1                  0   \n",
              "12682           30             0                 1                  1   \n",
              "12683           80             0                 1                  0   \n",
              "\n",
              "       toCoupon_GEQ25min  direction_same  direction_opp  Y  destination_Home  \\\n",
              "0                      0               0              1  1                 0   \n",
              "1                      0               0              1  0                 0   \n",
              "2                      0               0              1  1                 0   \n",
              "3                      0               0              1  0                 0   \n",
              "4                      0               0              1  0                 0   \n",
              "...                  ...             ...            ... ..               ...   \n",
              "12679                  0               1              0  1                 1   \n",
              "12680                  0               0              1  1                 0   \n",
              "12681                  0               1              0  0                 0   \n",
              "12682                  1               0              1  0                 0   \n",
              "12683                  0               1              0  0                 0   \n",
              "\n",
              "       destination_No Urgent Place  ...  RestaurantLessThan20_1~3  \\\n",
              "0                                1  ...                         0   \n",
              "1                                1  ...                         0   \n",
              "2                                1  ...                         0   \n",
              "3                                1  ...                         0   \n",
              "4                                1  ...                         0   \n",
              "...                            ...  ...                       ...   \n",
              "12679                            0  ...                         0   \n",
              "12680                            0  ...                         0   \n",
              "12681                            0  ...                         0   \n",
              "12682                            0  ...                         0   \n",
              "12683                            0  ...                         0   \n",
              "\n",
              "       RestaurantLessThan20_4~8  RestaurantLessThan20_gt8  \\\n",
              "0                             1                         0   \n",
              "1                             1                         0   \n",
              "2                             1                         0   \n",
              "3                             1                         0   \n",
              "4                             1                         0   \n",
              "...                         ...                       ...   \n",
              "12679                         1                         0   \n",
              "12680                         1                         0   \n",
              "12681                         1                         0   \n",
              "12682                         1                         0   \n",
              "12683                         1                         0   \n",
              "\n",
              "       RestaurantLessThan20_less1  RestaurantLessThan20_never  \\\n",
              "0                               0                           0   \n",
              "1                               0                           0   \n",
              "2                               0                           0   \n",
              "3                               0                           0   \n",
              "4                               0                           0   \n",
              "...                           ...                         ...   \n",
              "12679                           0                           0   \n",
              "12680                           0                           0   \n",
              "12681                           0                           0   \n",
              "12682                           0                           0   \n",
              "12683                           0                           0   \n",
              "\n",
              "       Restaurant20To50_1~3  Restaurant20To50_4~8  Restaurant20To50_gt8  \\\n",
              "0                         1                     0                     0   \n",
              "1                         1                     0                     0   \n",
              "2                         1                     0                     0   \n",
              "3                         1                     0                     0   \n",
              "4                         1                     0                     0   \n",
              "...                     ...                   ...                   ...   \n",
              "12679                     1                     0                     0   \n",
              "12680                     1                     0                     0   \n",
              "12681                     1                     0                     0   \n",
              "12682                     1                     0                     0   \n",
              "12683                     1                     0                     0   \n",
              "\n",
              "       Restaurant20To50_less1  Restaurant20To50_never  \n",
              "0                           0                       0  \n",
              "1                           0                       0  \n",
              "2                           0                       0  \n",
              "3                           0                       0  \n",
              "4                           0                       0  \n",
              "...                       ...                     ...  \n",
              "12679                       0                       0  \n",
              "12680                       0                       0  \n",
              "12681                       0                       0  \n",
              "12682                       0                       0  \n",
              "12683                       0                       0  \n",
              "\n",
              "[12610 rows x 110 columns]"
            ],
            "text/html": [
              "\n",
              "  <div id=\"df-5ee1e168-a39c-4ff9-9318-2ba2b91914cb\">\n",
              "    <div class=\"colab-df-container\">\n",
              "      <div>\n",
              "<style scoped>\n",
              "    .dataframe tbody tr th:only-of-type {\n",
              "        vertical-align: middle;\n",
              "    }\n",
              "\n",
              "    .dataframe tbody tr th {\n",
              "        vertical-align: top;\n",
              "    }\n",
              "\n",
              "    .dataframe thead th {\n",
              "        text-align: right;\n",
              "    }\n",
              "</style>\n",
              "<table border=\"1\" class=\"dataframe\">\n",
              "  <thead>\n",
              "    <tr style=\"text-align: right;\">\n",
              "      <th></th>\n",
              "      <th>temperature</th>\n",
              "      <th>has_children</th>\n",
              "      <th>toCoupon_GEQ5min</th>\n",
              "      <th>toCoupon_GEQ15min</th>\n",
              "      <th>toCoupon_GEQ25min</th>\n",
              "      <th>direction_same</th>\n",
              "      <th>direction_opp</th>\n",
              "      <th>Y</th>\n",
              "      <th>destination_Home</th>\n",
              "      <th>destination_No Urgent Place</th>\n",
              "      <th>...</th>\n",
              "      <th>RestaurantLessThan20_1~3</th>\n",
              "      <th>RestaurantLessThan20_4~8</th>\n",
              "      <th>RestaurantLessThan20_gt8</th>\n",
              "      <th>RestaurantLessThan20_less1</th>\n",
              "      <th>RestaurantLessThan20_never</th>\n",
              "      <th>Restaurant20To50_1~3</th>\n",
              "      <th>Restaurant20To50_4~8</th>\n",
              "      <th>Restaurant20To50_gt8</th>\n",
              "      <th>Restaurant20To50_less1</th>\n",
              "      <th>Restaurant20To50_never</th>\n",
              "    </tr>\n",
              "  </thead>\n",
              "  <tbody>\n",
              "    <tr>\n",
              "      <th>0</th>\n",
              "      <td>55</td>\n",
              "      <td>1</td>\n",
              "      <td>1</td>\n",
              "      <td>0</td>\n",
              "      <td>0</td>\n",
              "      <td>0</td>\n",
              "      <td>1</td>\n",
              "      <td>1</td>\n",
              "      <td>0</td>\n",
              "      <td>1</td>\n",
              "      <td>...</td>\n",
              "      <td>0</td>\n",
              "      <td>1</td>\n",
              "      <td>0</td>\n",
              "      <td>0</td>\n",
              "      <td>0</td>\n",
              "      <td>1</td>\n",
              "      <td>0</td>\n",
              "      <td>0</td>\n",
              "      <td>0</td>\n",
              "      <td>0</td>\n",
              "    </tr>\n",
              "    <tr>\n",
              "      <th>1</th>\n",
              "      <td>80</td>\n",
              "      <td>1</td>\n",
              "      <td>1</td>\n",
              "      <td>0</td>\n",
              "      <td>0</td>\n",
              "      <td>0</td>\n",
              "      <td>1</td>\n",
              "      <td>0</td>\n",
              "      <td>0</td>\n",
              "      <td>1</td>\n",
              "      <td>...</td>\n",
              "      <td>0</td>\n",
              "      <td>1</td>\n",
              "      <td>0</td>\n",
              "      <td>0</td>\n",
              "      <td>0</td>\n",
              "      <td>1</td>\n",
              "      <td>0</td>\n",
              "      <td>0</td>\n",
              "      <td>0</td>\n",
              "      <td>0</td>\n",
              "    </tr>\n",
              "    <tr>\n",
              "      <th>2</th>\n",
              "      <td>80</td>\n",
              "      <td>1</td>\n",
              "      <td>1</td>\n",
              "      <td>1</td>\n",
              "      <td>0</td>\n",
              "      <td>0</td>\n",
              "      <td>1</td>\n",
              "      <td>1</td>\n",
              "      <td>0</td>\n",
              "      <td>1</td>\n",
              "      <td>...</td>\n",
              "      <td>0</td>\n",
              "      <td>1</td>\n",
              "      <td>0</td>\n",
              "      <td>0</td>\n",
              "      <td>0</td>\n",
              "      <td>1</td>\n",
              "      <td>0</td>\n",
              "      <td>0</td>\n",
              "      <td>0</td>\n",
              "      <td>0</td>\n",
              "    </tr>\n",
              "    <tr>\n",
              "      <th>3</th>\n",
              "      <td>80</td>\n",
              "      <td>1</td>\n",
              "      <td>1</td>\n",
              "      <td>1</td>\n",
              "      <td>0</td>\n",
              "      <td>0</td>\n",
              "      <td>1</td>\n",
              "      <td>0</td>\n",
              "      <td>0</td>\n",
              "      <td>1</td>\n",
              "      <td>...</td>\n",
              "      <td>0</td>\n",
              "      <td>1</td>\n",
              "      <td>0</td>\n",
              "      <td>0</td>\n",
              "      <td>0</td>\n",
              "      <td>1</td>\n",
              "      <td>0</td>\n",
              "      <td>0</td>\n",
              "      <td>0</td>\n",
              "      <td>0</td>\n",
              "    </tr>\n",
              "    <tr>\n",
              "      <th>4</th>\n",
              "      <td>80</td>\n",
              "      <td>1</td>\n",
              "      <td>1</td>\n",
              "      <td>1</td>\n",
              "      <td>0</td>\n",
              "      <td>0</td>\n",
              "      <td>1</td>\n",
              "      <td>0</td>\n",
              "      <td>0</td>\n",
              "      <td>1</td>\n",
              "      <td>...</td>\n",
              "      <td>0</td>\n",
              "      <td>1</td>\n",
              "      <td>0</td>\n",
              "      <td>0</td>\n",
              "      <td>0</td>\n",
              "      <td>1</td>\n",
              "      <td>0</td>\n",
              "      <td>0</td>\n",
              "      <td>0</td>\n",
              "      <td>0</td>\n",
              "    </tr>\n",
              "    <tr>\n",
              "      <th>...</th>\n",
              "      <td>...</td>\n",
              "      <td>...</td>\n",
              "      <td>...</td>\n",
              "      <td>...</td>\n",
              "      <td>...</td>\n",
              "      <td>...</td>\n",
              "      <td>...</td>\n",
              "      <td>...</td>\n",
              "      <td>...</td>\n",
              "      <td>...</td>\n",
              "      <td>...</td>\n",
              "      <td>...</td>\n",
              "      <td>...</td>\n",
              "      <td>...</td>\n",
              "      <td>...</td>\n",
              "      <td>...</td>\n",
              "      <td>...</td>\n",
              "      <td>...</td>\n",
              "      <td>...</td>\n",
              "      <td>...</td>\n",
              "      <td>...</td>\n",
              "    </tr>\n",
              "    <tr>\n",
              "      <th>12679</th>\n",
              "      <td>55</td>\n",
              "      <td>0</td>\n",
              "      <td>1</td>\n",
              "      <td>0</td>\n",
              "      <td>0</td>\n",
              "      <td>1</td>\n",
              "      <td>0</td>\n",
              "      <td>1</td>\n",
              "      <td>1</td>\n",
              "      <td>0</td>\n",
              "      <td>...</td>\n",
              "      <td>0</td>\n",
              "      <td>1</td>\n",
              "      <td>0</td>\n",
              "      <td>0</td>\n",
              "      <td>0</td>\n",
              "      <td>1</td>\n",
              "      <td>0</td>\n",
              "      <td>0</td>\n",
              "      <td>0</td>\n",
              "      <td>0</td>\n",
              "    </tr>\n",
              "    <tr>\n",
              "      <th>12680</th>\n",
              "      <td>55</td>\n",
              "      <td>0</td>\n",
              "      <td>1</td>\n",
              "      <td>0</td>\n",
              "      <td>0</td>\n",
              "      <td>0</td>\n",
              "      <td>1</td>\n",
              "      <td>1</td>\n",
              "      <td>0</td>\n",
              "      <td>0</td>\n",
              "      <td>...</td>\n",
              "      <td>0</td>\n",
              "      <td>1</td>\n",
              "      <td>0</td>\n",
              "      <td>0</td>\n",
              "      <td>0</td>\n",
              "      <td>1</td>\n",
              "      <td>0</td>\n",
              "      <td>0</td>\n",
              "      <td>0</td>\n",
              "      <td>0</td>\n",
              "    </tr>\n",
              "    <tr>\n",
              "      <th>12681</th>\n",
              "      <td>30</td>\n",
              "      <td>0</td>\n",
              "      <td>1</td>\n",
              "      <td>0</td>\n",
              "      <td>0</td>\n",
              "      <td>1</td>\n",
              "      <td>0</td>\n",
              "      <td>0</td>\n",
              "      <td>0</td>\n",
              "      <td>0</td>\n",
              "      <td>...</td>\n",
              "      <td>0</td>\n",
              "      <td>1</td>\n",
              "      <td>0</td>\n",
              "      <td>0</td>\n",
              "      <td>0</td>\n",
              "      <td>1</td>\n",
              "      <td>0</td>\n",
              "      <td>0</td>\n",
              "      <td>0</td>\n",
              "      <td>0</td>\n",
              "    </tr>\n",
              "    <tr>\n",
              "      <th>12682</th>\n",
              "      <td>30</td>\n",
              "      <td>0</td>\n",
              "      <td>1</td>\n",
              "      <td>1</td>\n",
              "      <td>1</td>\n",
              "      <td>0</td>\n",
              "      <td>1</td>\n",
              "      <td>0</td>\n",
              "      <td>0</td>\n",
              "      <td>0</td>\n",
              "      <td>...</td>\n",
              "      <td>0</td>\n",
              "      <td>1</td>\n",
              "      <td>0</td>\n",
              "      <td>0</td>\n",
              "      <td>0</td>\n",
              "      <td>1</td>\n",
              "      <td>0</td>\n",
              "      <td>0</td>\n",
              "      <td>0</td>\n",
              "      <td>0</td>\n",
              "    </tr>\n",
              "    <tr>\n",
              "      <th>12683</th>\n",
              "      <td>80</td>\n",
              "      <td>0</td>\n",
              "      <td>1</td>\n",
              "      <td>0</td>\n",
              "      <td>0</td>\n",
              "      <td>1</td>\n",
              "      <td>0</td>\n",
              "      <td>0</td>\n",
              "      <td>0</td>\n",
              "      <td>0</td>\n",
              "      <td>...</td>\n",
              "      <td>0</td>\n",
              "      <td>1</td>\n",
              "      <td>0</td>\n",
              "      <td>0</td>\n",
              "      <td>0</td>\n",
              "      <td>1</td>\n",
              "      <td>0</td>\n",
              "      <td>0</td>\n",
              "      <td>0</td>\n",
              "      <td>0</td>\n",
              "    </tr>\n",
              "  </tbody>\n",
              "</table>\n",
              "<p>12610 rows × 110 columns</p>\n",
              "</div>\n",
              "      <button class=\"colab-df-convert\" onclick=\"convertToInteractive('df-5ee1e168-a39c-4ff9-9318-2ba2b91914cb')\"\n",
              "              title=\"Convert this dataframe to an interactive table.\"\n",
              "              style=\"display:none;\">\n",
              "        \n",
              "  <svg xmlns=\"http://www.w3.org/2000/svg\" height=\"24px\"viewBox=\"0 0 24 24\"\n",
              "       width=\"24px\">\n",
              "    <path d=\"M0 0h24v24H0V0z\" fill=\"none\"/>\n",
              "    <path d=\"M18.56 5.44l.94 2.06.94-2.06 2.06-.94-2.06-.94-.94-2.06-.94 2.06-2.06.94zm-11 1L8.5 8.5l.94-2.06 2.06-.94-2.06-.94L8.5 2.5l-.94 2.06-2.06.94zm10 10l.94 2.06.94-2.06 2.06-.94-2.06-.94-.94-2.06-.94 2.06-2.06.94z\"/><path d=\"M17.41 7.96l-1.37-1.37c-.4-.4-.92-.59-1.43-.59-.52 0-1.04.2-1.43.59L10.3 9.45l-7.72 7.72c-.78.78-.78 2.05 0 2.83L4 21.41c.39.39.9.59 1.41.59.51 0 1.02-.2 1.41-.59l7.78-7.78 2.81-2.81c.8-.78.8-2.07 0-2.86zM5.41 20L4 18.59l7.72-7.72 1.47 1.35L5.41 20z\"/>\n",
              "  </svg>\n",
              "      </button>\n",
              "      \n",
              "  <style>\n",
              "    .colab-df-container {\n",
              "      display:flex;\n",
              "      flex-wrap:wrap;\n",
              "      gap: 12px;\n",
              "    }\n",
              "\n",
              "    .colab-df-convert {\n",
              "      background-color: #E8F0FE;\n",
              "      border: none;\n",
              "      border-radius: 50%;\n",
              "      cursor: pointer;\n",
              "      display: none;\n",
              "      fill: #1967D2;\n",
              "      height: 32px;\n",
              "      padding: 0 0 0 0;\n",
              "      width: 32px;\n",
              "    }\n",
              "\n",
              "    .colab-df-convert:hover {\n",
              "      background-color: #E2EBFA;\n",
              "      box-shadow: 0px 1px 2px rgba(60, 64, 67, 0.3), 0px 1px 3px 1px rgba(60, 64, 67, 0.15);\n",
              "      fill: #174EA6;\n",
              "    }\n",
              "\n",
              "    [theme=dark] .colab-df-convert {\n",
              "      background-color: #3B4455;\n",
              "      fill: #D2E3FC;\n",
              "    }\n",
              "\n",
              "    [theme=dark] .colab-df-convert:hover {\n",
              "      background-color: #434B5C;\n",
              "      box-shadow: 0px 1px 3px 1px rgba(0, 0, 0, 0.15);\n",
              "      filter: drop-shadow(0px 1px 2px rgba(0, 0, 0, 0.3));\n",
              "      fill: #FFFFFF;\n",
              "    }\n",
              "  </style>\n",
              "\n",
              "      <script>\n",
              "        const buttonEl =\n",
              "          document.querySelector('#df-5ee1e168-a39c-4ff9-9318-2ba2b91914cb button.colab-df-convert');\n",
              "        buttonEl.style.display =\n",
              "          google.colab.kernel.accessAllowed ? 'block' : 'none';\n",
              "\n",
              "        async function convertToInteractive(key) {\n",
              "          const element = document.querySelector('#df-5ee1e168-a39c-4ff9-9318-2ba2b91914cb');\n",
              "          const dataTable =\n",
              "            await google.colab.kernel.invokeFunction('convertToInteractive',\n",
              "                                                     [key], {});\n",
              "          if (!dataTable) return;\n",
              "\n",
              "          const docLinkHtml = 'Like what you see? Visit the ' +\n",
              "            '<a target=\"_blank\" href=https://colab.research.google.com/notebooks/data_table.ipynb>data table notebook</a>'\n",
              "            + ' to learn more about interactive tables.';\n",
              "          element.innerHTML = '';\n",
              "          dataTable['output_type'] = 'display_data';\n",
              "          await google.colab.output.renderOutput(dataTable, element);\n",
              "          const docLink = document.createElement('div');\n",
              "          docLink.innerHTML = docLinkHtml;\n",
              "          element.appendChild(docLink);\n",
              "        }\n",
              "      </script>\n",
              "    </div>\n",
              "  </div>\n",
              "  "
            ]
          },
          "metadata": {},
          "execution_count": 50
        }
      ]
    },
    {
      "cell_type": "code",
      "source": [
        "cluster_df.select_dtypes('int64').nunique()"
      ],
      "metadata": {
        "id": "yDgjvSqCmiW1",
        "outputId": "471d38b6-ffa2-493b-95fb-620f94c7ad37",
        "colab": {
          "base_uri": "https://localhost:8080/"
        }
      },
      "execution_count": null,
      "outputs": [
        {
          "output_type": "execute_result",
          "data": {
            "text/plain": [
              "temperature          3\n",
              "has_children         2\n",
              "toCoupon_GEQ5min     1\n",
              "toCoupon_GEQ15min    2\n",
              "toCoupon_GEQ25min    2\n",
              "direction_same       2\n",
              "direction_opp        2\n",
              "Y                    2\n",
              "dtype: int64"
            ]
          },
          "metadata": {},
          "execution_count": 51
        }
      ]
    },
    {
      "cell_type": "code",
      "source": [
        "# cluster_df = cluster_df[[\"temperature\", \"has_children\"]]"
      ],
      "metadata": {
        "id": "vHCmUoxSL9Ep"
      },
      "execution_count": null,
      "outputs": []
    },
    {
      "cell_type": "code",
      "source": [
        "cluster_df.shape"
      ],
      "metadata": {
        "id": "ps0K35LCJ4qu",
        "outputId": "9fab36a1-fb02-4157-e71c-37c9736bd589",
        "colab": {
          "base_uri": "https://localhost:8080/"
        }
      },
      "execution_count": null,
      "outputs": [
        {
          "output_type": "execute_result",
          "data": {
            "text/plain": [
              "(12610, 110)"
            ]
          },
          "metadata": {},
          "execution_count": 52
        }
      ]
    },
    {
      "cell_type": "code",
      "source": [
        "from sklearn.preprocessing import StandardScaler\n",
        "scaler = StandardScaler()\n",
        "scaled_cluster_df = scaler.fit_transform(cluster_df)"
      ],
      "metadata": {
        "id": "SBuiUflANnxq"
      },
      "execution_count": null,
      "outputs": []
    },
    {
      "cell_type": "markdown",
      "source": [
        "In case you have too many columns, you can use feature selection techniques like PCA(Principal component analysis) to reduce dimensionality of the data. You can also specify the number of components you want to keep. It's important to note that, PCA is an unsupervised technique and it will not take into account the labels of the data but it can be used to reduce the dimensionality of the data and make the clustering process more computationally efficient.\n",
        "\n",
        "Also, the results of PCA are sensitive to the scaling of the data so it's recommended to use StandardScaler() before applying PCA and k-means."
      ],
      "metadata": {
        "id": "AwPeQ3wtrVmN"
      }
    },
    {
      "cell_type": "code",
      "source": [
        "from sklearn.decomposition import PCA\n",
        "\n",
        "# Create a PCA object with the desired number of components\n",
        "pca = PCA(n_components=2)\n",
        "\n",
        "# Fit and transform the data using the PCA object\n",
        "cluster_df_pca = pca.fit_transform(scaled_cluster_df)\n"
      ],
      "metadata": {
        "id": "uzcDtReHp8ms"
      },
      "execution_count": null,
      "outputs": []
    },
    {
      "cell_type": "code",
      "source": [
        "from sklearn.cluster import KMeans\n",
        "wcss = []\n",
        "for i in range(1, 11):\n",
        "    kmeans = KMeans(n_clusters = i, init = 'k-means++', random_state = 42)\n",
        "    kmeans.fit(cluster_df_pca)\n",
        "    wcss.append(kmeans.inertia_)\n",
        "plt.plot(range(1, 11), wcss)\n",
        "plt.title('The Elbow Method')\n",
        "plt.xlabel('Number of clusters')\n",
        "plt.ylabel('WCSS')\n",
        "plt.show()"
      ],
      "metadata": {
        "id": "YIeOdCDMGu66",
        "outputId": "f9e93317-0337-4d1c-f650-e72e366a30d7",
        "colab": {
          "base_uri": "https://localhost:8080/",
          "height": 295
        }
      },
      "execution_count": null,
      "outputs": [
        {
          "output_type": "display_data",
          "data": {
            "text/plain": [
              "<Figure size 432x288 with 1 Axes>"
            ],
            "image/png": "[encoded data removed]"
          },
          "metadata": {
            "needs_background": "light"
          }
        }
      ]
    },
    {
      "cell_type": "code",
      "source": [
        "kmeans = KMeans(n_clusters = 4, init = 'k-means++', random_state = 42)\n",
        "y_kmeans = kmeans.fit_predict(cluster_df_pca)"
      ],
      "metadata": {
        "id": "URE0ceVoOFgD"
      },
      "execution_count": null,
      "outputs": []
    },
    {
      "cell_type": "code",
      "source": [
        "plt.scatter(cluster_df_pca[y_kmeans == 0, 0], cluster_df_pca[y_kmeans == 0, 1], s = 100, c = 'red', label = 'Cluster 1')\n",
        "plt.scatter(cluster_df_pca[y_kmeans == 1, 0], cluster_df_pca[y_kmeans == 1, 1], s = 100, c = 'blue', label = 'Cluster 2')\n",
        "plt.scatter(cluster_df_pca[y_kmeans == 2, 0], cluster_df_pca[y_kmeans == 2, 1], s = 100, c = 'green', label = 'Cluster 3')\n",
        "plt.scatter(cluster_df_pca[y_kmeans == 3, 0], cluster_df_pca[y_kmeans == 3, 1], s = 100, c = 'cyan', label = 'Cluster 4')\n",
        "plt.scatter(kmeans.cluster_centers_[:, 0], kmeans.cluster_centers_[:, 1], s = 300, c = 'yellow', label = 'Centroids')\n",
        "plt.title('Clusters of potential customers')\n",
        "plt.xlabel('x-axis')\n",
        "plt.ylabel('y-axis')\n",
        "plt.legend()\n",
        "plt.show()"
      ],
      "metadata": {
        "id": "7fTaJRGjOk9Z",
        "outputId": "2bf66d61-5068-4790-b655-9ef3d5cd4e7a",
        "colab": {
          "base_uri": "https://localhost:8080/",
          "height": 295
        }
      },
      "execution_count": null,
      "outputs": [
        {
          "output_type": "display_data",
          "data": {
            "text/plain": [
              "<Figure size 432x288 with 1 Axes>"
            ],
            "image/png": "[encoded data removed]"
          },
          "metadata": {
            "needs_background": "light"
          }
        }
      ]
    },
    {
      "cell_type": "code",
      "source": [
        "from sklearn.metrics import silhouette_score\n",
        "\n",
        "# Predict the cluster labels for each data point\n",
        "cluster_labels = kmeans.predict(cluster_df_pca)\n",
        "\n",
        "# Compute the silhouette score\n",
        "score = silhouette_score(cluster_df_pca, cluster_labels)\n",
        "\n",
        "# Print the silhouette score\n",
        "print(\"Silhouette score: {:.3f}\".format(score))\n"
      ],
      "metadata": {
        "id": "xb7HjMi9uW9Q",
        "outputId": "0eac4d70-74a2-4607-adcf-ec13623bc6bc",
        "colab": {
          "base_uri": "https://localhost:8080/"
        }
      },
      "execution_count": null,
      "outputs": [
        {
          "output_type": "stream",
          "name": "stdout",
          "text": [
            "Silhouette score: 0.478\n"
          ]
        }
      ]
    }
  ]
}